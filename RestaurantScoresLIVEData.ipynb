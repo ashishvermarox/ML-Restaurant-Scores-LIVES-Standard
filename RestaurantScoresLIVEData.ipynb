{
  "nbformat": 4,
  "nbformat_minor": 0,
  "metadata": {
    "colab": {
      "name": "Copy of RestaurantScoresLIVEData.ipynb",
      "version": "0.3.2",
      "provenance": [],
      "collapsed_sections": [
        "Y7qb34u6JlJk",
        "do94n7q_Ja1l",
        "6wu-sFUwy-Rh",
        "COLidhrfs_9O",
        "23a4yTW3AKtB",
        "Y9Te6fChUaeW",
        "FHDulB3uUhgH",
        "n_ZOtYooUH4B",
        "7gLbBwGDj3IE",
        "T2MDzlPLVTck",
        "VnwgZde8noWj",
        "dauJpx55rPnn"
      ]
    },
    "kernelspec": {
      "name": "python3",
      "display_name": "Python 3"
    },
    "accelerator": "GPU"
  },
  "cells": [
    {
      "cell_type": "markdown",
      "metadata": {
        "id": "UdcTifiWG_DD",
        "colab_type": "text"
      },
      "source": [
        "**Ashish Verma** <br>\n",
        "**University of Ottawa**"
      ]
    },
    {
      "cell_type": "markdown",
      "metadata": {
        "id": "do94n7q_Ja1l",
        "colab_type": "text"
      },
      "source": [
        "## **Loading data in dataframe**"
      ]
    },
    {
      "cell_type": "code",
      "metadata": {
        "id": "XxfPmbPsiXxj",
        "colab_type": "code",
        "colab": {}
      },
      "source": [
        "dataPath = '/content/drive/My Drive/Colab Notebooks/MachineLearning/Data'"
      ],
      "execution_count": 0,
      "outputs": []
    },
    {
      "cell_type": "code",
      "metadata": {
        "id": "3WRrv8w7gFTd",
        "colab_type": "code",
        "colab": {}
      },
      "source": [
        "live_data = dataPath + '/Restaurant_Scores_-_LIVES_Standard.csv'"
      ],
      "execution_count": 0,
      "outputs": []
    },
    {
      "cell_type": "code",
      "metadata": {
        "id": "tl2-Z0SngIUk",
        "colab_type": "code",
        "colab": {}
      },
      "source": [
        "import pandas as pd\n",
        "import numpy as np"
      ],
      "execution_count": 0,
      "outputs": []
    },
    {
      "cell_type": "code",
      "metadata": {
        "id": "Dya0jsIuikAM",
        "colab_type": "code",
        "colab": {}
      },
      "source": [
        "load_data = pd.read_csv(live_data)"
      ],
      "execution_count": 0,
      "outputs": []
    },
    {
      "cell_type": "code",
      "metadata": {
        "id": "-z2rfK6Doeuz",
        "colab_type": "code",
        "outputId": "6da95fa3-f295-4df9-a670-806dd2e2f637",
        "colab": {
          "base_uri": "https://localhost:8080/",
          "height": 213
        }
      },
      "source": [
        "#sample data view\n",
        "load_data.head(3)"
      ],
      "execution_count": 0,
      "outputs": [
        {
          "output_type": "execute_result",
          "data": {
            "text/html": [
              "<div>\n",
              "<style scoped>\n",
              "    .dataframe tbody tr th:only-of-type {\n",
              "        vertical-align: middle;\n",
              "    }\n",
              "\n",
              "    .dataframe tbody tr th {\n",
              "        vertical-align: top;\n",
              "    }\n",
              "\n",
              "    .dataframe thead th {\n",
              "        text-align: right;\n",
              "    }\n",
              "</style>\n",
              "<table border=\"1\" class=\"dataframe\">\n",
              "  <thead>\n",
              "    <tr style=\"text-align: right;\">\n",
              "      <th></th>\n",
              "      <th>business_id</th>\n",
              "      <th>business_name</th>\n",
              "      <th>business_address</th>\n",
              "      <th>business_city</th>\n",
              "      <th>business_state</th>\n",
              "      <th>business_postal_code</th>\n",
              "      <th>business_latitude</th>\n",
              "      <th>business_longitude</th>\n",
              "      <th>business_location</th>\n",
              "      <th>business_phone_number</th>\n",
              "      <th>inspection_id</th>\n",
              "      <th>inspection_date</th>\n",
              "      <th>inspection_score</th>\n",
              "      <th>inspection_type</th>\n",
              "      <th>violation_id</th>\n",
              "      <th>violation_description</th>\n",
              "      <th>risk_category</th>\n",
              "    </tr>\n",
              "  </thead>\n",
              "  <tbody>\n",
              "    <tr>\n",
              "      <th>0</th>\n",
              "      <td>835</td>\n",
              "      <td>Kam Po Kitchen</td>\n",
              "      <td>801 Broadway St</td>\n",
              "      <td>San Francisco</td>\n",
              "      <td>CA</td>\n",
              "      <td>94133</td>\n",
              "      <td>37.797223</td>\n",
              "      <td>-122.410513</td>\n",
              "      <td>(37.797223, -122.410513)</td>\n",
              "      <td>NaN</td>\n",
              "      <td>835_20180917</td>\n",
              "      <td>09/17/2018 12:00:00 AM</td>\n",
              "      <td>88.0</td>\n",
              "      <td>Routine - Unscheduled</td>\n",
              "      <td>835_20180917_103154</td>\n",
              "      <td>Unclean or degraded floors walls or ceilings</td>\n",
              "      <td>Low Risk</td>\n",
              "    </tr>\n",
              "    <tr>\n",
              "      <th>1</th>\n",
              "      <td>1922</td>\n",
              "      <td>All stars Donuts</td>\n",
              "      <td>901 Clement St</td>\n",
              "      <td>San Francisco</td>\n",
              "      <td>CA</td>\n",
              "      <td>94118</td>\n",
              "      <td>37.782694</td>\n",
              "      <td>-122.468969</td>\n",
              "      <td>(37.782694, -122.468969)</td>\n",
              "      <td>NaN</td>\n",
              "      <td>1922_20160225</td>\n",
              "      <td>02/25/2016 12:00:00 AM</td>\n",
              "      <td>86.0</td>\n",
              "      <td>Routine - Unscheduled</td>\n",
              "      <td>1922_20160225_103154</td>\n",
              "      <td>Unclean or degraded floors walls or ceilings</td>\n",
              "      <td>Low Risk</td>\n",
              "    </tr>\n",
              "    <tr>\n",
              "      <th>2</th>\n",
              "      <td>67448</td>\n",
              "      <td>Soo Fong Restaurant</td>\n",
              "      <td>3801 03rd St 370</td>\n",
              "      <td>San Francisco</td>\n",
              "      <td>CA</td>\n",
              "      <td>94124</td>\n",
              "      <td>37.741829</td>\n",
              "      <td>-122.388098</td>\n",
              "      <td>(37.741829, -122.388098)</td>\n",
              "      <td>NaN</td>\n",
              "      <td>67448_20180507</td>\n",
              "      <td>05/07/2018 12:00:00 AM</td>\n",
              "      <td>92.0</td>\n",
              "      <td>Routine - Unscheduled</td>\n",
              "      <td>67448_20180507_103149</td>\n",
              "      <td>Wiping cloths not clean or properly stored or ...</td>\n",
              "      <td>Low Risk</td>\n",
              "    </tr>\n",
              "  </tbody>\n",
              "</table>\n",
              "</div>"
            ],
            "text/plain": [
              "   business_id        business_name  business_address  business_city  \\\n",
              "0          835       Kam Po Kitchen   801 Broadway St  San Francisco   \n",
              "1         1922     All stars Donuts    901 Clement St  San Francisco   \n",
              "2        67448  Soo Fong Restaurant  3801 03rd St 370  San Francisco   \n",
              "\n",
              "  business_state business_postal_code  business_latitude  business_longitude  \\\n",
              "0             CA                94133          37.797223         -122.410513   \n",
              "1             CA                94118          37.782694         -122.468969   \n",
              "2             CA                94124          37.741829         -122.388098   \n",
              "\n",
              "          business_location  business_phone_number   inspection_id  \\\n",
              "0  (37.797223, -122.410513)                    NaN    835_20180917   \n",
              "1  (37.782694, -122.468969)                    NaN   1922_20160225   \n",
              "2  (37.741829, -122.388098)                    NaN  67448_20180507   \n",
              "\n",
              "          inspection_date  inspection_score        inspection_type  \\\n",
              "0  09/17/2018 12:00:00 AM              88.0  Routine - Unscheduled   \n",
              "1  02/25/2016 12:00:00 AM              86.0  Routine - Unscheduled   \n",
              "2  05/07/2018 12:00:00 AM              92.0  Routine - Unscheduled   \n",
              "\n",
              "            violation_id                              violation_description  \\\n",
              "0    835_20180917_103154       Unclean or degraded floors walls or ceilings   \n",
              "1   1922_20160225_103154       Unclean or degraded floors walls or ceilings   \n",
              "2  67448_20180507_103149  Wiping cloths not clean or properly stored or ...   \n",
              "\n",
              "  risk_category  \n",
              "0      Low Risk  \n",
              "1      Low Risk  \n",
              "2      Low Risk  "
            ]
          },
          "metadata": {
            "tags": []
          },
          "execution_count": 9
        }
      ]
    },
    {
      "cell_type": "markdown",
      "metadata": {
        "id": "6wu-sFUwy-Rh",
        "colab_type": "text"
      },
      "source": [
        "## Data Preprocessing"
      ]
    },
    {
      "cell_type": "code",
      "metadata": {
        "id": "bttDh2Tjo0co",
        "colab_type": "code",
        "outputId": "acfb17be-aa36-4e39-bfc4-e84835fb59da",
        "colab": {
          "base_uri": "https://localhost:8080/",
          "height": 323
        }
      },
      "source": [
        "#displaying number of null values\n",
        "load_data.apply(lambda x: sum(x.isnull()))"
      ],
      "execution_count": 0,
      "outputs": [
        {
          "output_type": "execute_result",
          "data": {
            "text/plain": [
              "business_id                  0\n",
              "business_name                0\n",
              "business_address             0\n",
              "business_city                0\n",
              "business_state               0\n",
              "business_postal_code      1255\n",
              "business_latitude        23531\n",
              "business_longitude       23531\n",
              "business_location        23531\n",
              "business_phone_number    36780\n",
              "inspection_id                0\n",
              "inspection_date              0\n",
              "inspection_score         13743\n",
              "inspection_type              0\n",
              "violation_id             12762\n",
              "violation_description    12762\n",
              "risk_category            12762\n",
              "dtype: int64"
            ]
          },
          "metadata": {
            "tags": []
          },
          "execution_count": 10
        }
      ]
    },
    {
      "cell_type": "code",
      "metadata": {
        "id": "58icb_gKuFpf",
        "colab_type": "code",
        "outputId": "28296d2e-4d99-4c3d-d3f9-9b867ed4f53e",
        "colab": {
          "base_uri": "https://localhost:8080/",
          "height": 323
        }
      },
      "source": [
        "#displaying number of unique values\n",
        "load_data.apply(lambda x: len(x.unique()))"
      ],
      "execution_count": 0,
      "outputs": [
        {
          "output_type": "execute_result",
          "data": {
            "text/plain": [
              "business_id               6136\n",
              "business_name             5633\n",
              "business_address          5571\n",
              "business_city                1\n",
              "business_state               1\n",
              "business_postal_code        57\n",
              "business_latitude         2410\n",
              "business_longitude        2445\n",
              "business_location         2500\n",
              "business_phone_number     1706\n",
              "inspection_id            25491\n",
              "inspection_date            834\n",
              "inspection_score            50\n",
              "inspection_type             15\n",
              "violation_id             40512\n",
              "violation_description       68\n",
              "risk_category                4\n",
              "dtype: int64"
            ]
          },
          "metadata": {
            "tags": []
          },
          "execution_count": 11
        }
      ]
    },
    {
      "cell_type": "code",
      "metadata": {
        "id": "l0fP-WRPZNtm",
        "colab_type": "code",
        "outputId": "d7a577db-7b58-4e90-d070-c94738f2f136",
        "colab": {
          "base_uri": "https://localhost:8080/",
          "height": 986
        }
      },
      "source": [
        "load_data.business_postal_code.unique().tolist()"
      ],
      "execution_count": 0,
      "outputs": [
        {
          "output_type": "execute_result",
          "data": {
            "text/plain": [
              "['94133',\n",
              " '94118',\n",
              " '94124',\n",
              " '94109',\n",
              " '94102',\n",
              " '94110',\n",
              " '94103',\n",
              " '94108',\n",
              " nan,\n",
              " '94122',\n",
              " '94112',\n",
              " '94107',\n",
              " '94114',\n",
              " '94134',\n",
              " '94121',\n",
              " '94127',\n",
              " '94111',\n",
              " '94123',\n",
              " '94117',\n",
              " '94115',\n",
              " '94105',\n",
              " '94132',\n",
              " '94104',\n",
              " '94131',\n",
              " '94130',\n",
              " '94116',\n",
              " '94120',\n",
              " '94158',\n",
              " '95133',\n",
              " '941102019',\n",
              " '94143',\n",
              " 'CA',\n",
              " '94301',\n",
              " '94013',\n",
              " '94080',\n",
              " '94901',\n",
              " '941033148',\n",
              " '94101',\n",
              " '94602',\n",
              " '94402',\n",
              " '94621',\n",
              " '95105',\n",
              " '94544',\n",
              " '95122',\n",
              " '95117',\n",
              " 'Ca',\n",
              " '941',\n",
              " '94124-1917',\n",
              " '95109',\n",
              " '64110',\n",
              " '94102-5917',\n",
              " '94188',\n",
              " '00000',\n",
              " '95132',\n",
              " '92672',\n",
              " '94014',\n",
              " '94129']"
            ]
          },
          "metadata": {
            "tags": []
          },
          "execution_count": 12
        }
      ]
    },
    {
      "cell_type": "code",
      "metadata": {
        "id": "5zydbGm5x472",
        "colab_type": "code",
        "colab": {}
      },
      "source": [
        "#replacing typos to null values as postal code is not known\n",
        "replace_ca_value = dict.fromkeys(['CA', 'Ca', '941'], np.nan)\n",
        "load_data = load_data.replace(replace_ca_value)"
      ],
      "execution_count": 0,
      "outputs": []
    },
    {
      "cell_type": "code",
      "metadata": {
        "id": "lo-ctYKTv0lw",
        "colab_type": "code",
        "colab": {}
      },
      "source": [
        "#making postal code in symmetry with 5 digits only\n",
        "load_data.business_postal_code = load_data.business_postal_code.str[:5]"
      ],
      "execution_count": 0,
      "outputs": []
    },
    {
      "cell_type": "code",
      "metadata": {
        "id": "KC2Si24Czfq7",
        "colab_type": "code",
        "colab": {}
      },
      "source": [
        "#correcting mistyped data\n",
        "load_data = load_data.replace(['64110'], '94110')"
      ],
      "execution_count": 0,
      "outputs": []
    },
    {
      "cell_type": "code",
      "metadata": {
        "id": "UyUpaPnCjoNH",
        "colab_type": "code",
        "colab": {}
      },
      "source": [
        "#dropping unwanted columns\n",
        "dropped_data = load_data.drop('business_name', 1)\n",
        "dropped_data = dropped_data.drop('business_city', 1)\n",
        "dropped_data = dropped_data.drop('business_state', 1)\n",
        "dropped_data = dropped_data.drop('business_location', 1)\n",
        "dropped_data = dropped_data.drop('business_phone_number', 1)\n",
        "dropped_data = dropped_data.drop('business_address', 1)\n",
        "dropped_data = dropped_data.drop('inspection_id', 1)"
      ],
      "execution_count": 0,
      "outputs": []
    },
    {
      "cell_type": "code",
      "metadata": {
        "id": "2baS7YOEnHob",
        "colab_type": "code",
        "colab": {}
      },
      "source": [
        "#changing date to day month and year column\n",
        "refined_data = dropped_data\n",
        "refined_data['inspection_date'] = dropped_data['inspection_date'].str.rstrip(' 12:00:00 AM')\n",
        "refined_data['year'] = pd.DatetimeIndex(refined_data['inspection_date']).year\n",
        "refined_data['month'] = pd.DatetimeIndex(refined_data['inspection_date']).month\n",
        "refined_data['day'] = pd.DatetimeIndex(refined_data['inspection_date']).day\n",
        "refined_data = refined_data.drop('inspection_date', 1)"
      ],
      "execution_count": 0,
      "outputs": []
    },
    {
      "cell_type": "code",
      "metadata": {
        "id": "d1LluZWOpFSg",
        "colab_type": "code",
        "colab": {}
      },
      "source": [
        "#extracting unique violation id as violation id is of the form business_id+date+unique_violation_id\n",
        "refined_data['violation_id'] = refined_data.violation_id.str.split('_').str[2]"
      ],
      "execution_count": 0,
      "outputs": []
    },
    {
      "cell_type": "code",
      "metadata": {
        "id": "n5uV7MqKIM9C",
        "colab_type": "code",
        "outputId": "2187ebfb-4951-420f-9091-0f97d9c34f68",
        "colab": {
          "base_uri": "https://localhost:8080/",
          "height": 297
        }
      },
      "source": [
        "refined_data.describe()"
      ],
      "execution_count": 0,
      "outputs": [
        {
          "output_type": "execute_result",
          "data": {
            "text/html": [
              "<div>\n",
              "<style scoped>\n",
              "    .dataframe tbody tr th:only-of-type {\n",
              "        vertical-align: middle;\n",
              "    }\n",
              "\n",
              "    .dataframe tbody tr th {\n",
              "        vertical-align: top;\n",
              "    }\n",
              "\n",
              "    .dataframe thead th {\n",
              "        text-align: right;\n",
              "    }\n",
              "</style>\n",
              "<table border=\"1\" class=\"dataframe\">\n",
              "  <thead>\n",
              "    <tr style=\"text-align: right;\">\n",
              "      <th></th>\n",
              "      <th>business_id</th>\n",
              "      <th>business_latitude</th>\n",
              "      <th>business_longitude</th>\n",
              "      <th>inspection_score</th>\n",
              "      <th>year</th>\n",
              "      <th>month</th>\n",
              "      <th>day</th>\n",
              "    </tr>\n",
              "  </thead>\n",
              "  <tbody>\n",
              "    <tr>\n",
              "      <th>count</th>\n",
              "      <td>53325.000000</td>\n",
              "      <td>29794.000000</td>\n",
              "      <td>29794.000000</td>\n",
              "      <td>39582.000000</td>\n",
              "      <td>53325.000000</td>\n",
              "      <td>53325.000000</td>\n",
              "      <td>53325.000000</td>\n",
              "    </tr>\n",
              "    <tr>\n",
              "      <th>mean</th>\n",
              "      <td>51158.715799</td>\n",
              "      <td>37.746433</td>\n",
              "      <td>-122.345575</td>\n",
              "      <td>85.921985</td>\n",
              "      <td>2017.121219</td>\n",
              "      <td>6.411721</td>\n",
              "      <td>15.806920</td>\n",
              "    </tr>\n",
              "    <tr>\n",
              "      <th>std</th>\n",
              "      <td>35638.446558</td>\n",
              "      <td>0.978611</td>\n",
              "      <td>3.171088</td>\n",
              "      <td>8.729233</td>\n",
              "      <td>0.902310</td>\n",
              "      <td>3.417177</td>\n",
              "      <td>8.891937</td>\n",
              "    </tr>\n",
              "    <tr>\n",
              "      <th>min</th>\n",
              "      <td>19.000000</td>\n",
              "      <td>0.000000</td>\n",
              "      <td>-122.510896</td>\n",
              "      <td>45.000000</td>\n",
              "      <td>2016.000000</td>\n",
              "      <td>1.000000</td>\n",
              "      <td>1.000000</td>\n",
              "    </tr>\n",
              "    <tr>\n",
              "      <th>25%</th>\n",
              "      <td>5872.000000</td>\n",
              "      <td>37.755282</td>\n",
              "      <td>-122.437710</td>\n",
              "      <td>81.000000</td>\n",
              "      <td>2016.000000</td>\n",
              "      <td>3.000000</td>\n",
              "      <td>8.000000</td>\n",
              "    </tr>\n",
              "    <tr>\n",
              "      <th>50%</th>\n",
              "      <td>66517.000000</td>\n",
              "      <td>37.780421</td>\n",
              "      <td>-122.419491</td>\n",
              "      <td>87.000000</td>\n",
              "      <td>2017.000000</td>\n",
              "      <td>6.000000</td>\n",
              "      <td>16.000000</td>\n",
              "    </tr>\n",
              "    <tr>\n",
              "      <th>75%</th>\n",
              "      <td>82806.000000</td>\n",
              "      <td>37.789457</td>\n",
              "      <td>-122.407828</td>\n",
              "      <td>92.000000</td>\n",
              "      <td>2018.000000</td>\n",
              "      <td>9.000000</td>\n",
              "      <td>24.000000</td>\n",
              "    </tr>\n",
              "    <tr>\n",
              "      <th>max</th>\n",
              "      <td>99535.000000</td>\n",
              "      <td>37.824494</td>\n",
              "      <td>0.000000</td>\n",
              "      <td>100.000000</td>\n",
              "      <td>2019.000000</td>\n",
              "      <td>12.000000</td>\n",
              "      <td>31.000000</td>\n",
              "    </tr>\n",
              "  </tbody>\n",
              "</table>\n",
              "</div>"
            ],
            "text/plain": [
              "        business_id  business_latitude  business_longitude  inspection_score  \\\n",
              "count  53325.000000       29794.000000        29794.000000      39582.000000   \n",
              "mean   51158.715799          37.746433         -122.345575         85.921985   \n",
              "std    35638.446558           0.978611            3.171088          8.729233   \n",
              "min       19.000000           0.000000         -122.510896         45.000000   \n",
              "25%     5872.000000          37.755282         -122.437710         81.000000   \n",
              "50%    66517.000000          37.780421         -122.419491         87.000000   \n",
              "75%    82806.000000          37.789457         -122.407828         92.000000   \n",
              "max    99535.000000          37.824494            0.000000        100.000000   \n",
              "\n",
              "               year         month           day  \n",
              "count  53325.000000  53325.000000  53325.000000  \n",
              "mean    2017.121219      6.411721     15.806920  \n",
              "std        0.902310      3.417177      8.891937  \n",
              "min     2016.000000      1.000000      1.000000  \n",
              "25%     2016.000000      3.000000      8.000000  \n",
              "50%     2017.000000      6.000000     16.000000  \n",
              "75%     2018.000000      9.000000     24.000000  \n",
              "max     2019.000000     12.000000     31.000000  "
            ]
          },
          "metadata": {
            "tags": []
          },
          "execution_count": 19
        }
      ]
    },
    {
      "cell_type": "code",
      "metadata": {
        "id": "wZ92lJNVXFRs",
        "colab_type": "code",
        "colab": {}
      },
      "source": [
        "##removing rows where min business_postal_code and business_latitude is set to 0\n",
        "refined_data = refined_data[refined_data.business_postal_code != 0]\n",
        "refined_data = refined_data[refined_data.business_latitude != 0]"
      ],
      "execution_count": 0,
      "outputs": []
    },
    {
      "cell_type": "code",
      "metadata": {
        "id": "fNSMHYgQp2aN",
        "colab_type": "code",
        "outputId": "8397b36e-3e82-4df2-e0ee-a48b7aff22e6",
        "colab": {
          "base_uri": "https://localhost:8080/",
          "height": 272
        }
      },
      "source": [
        "refined_data.inspection_type.unique().tolist()"
      ],
      "execution_count": 0,
      "outputs": [
        {
          "output_type": "execute_result",
          "data": {
            "text/plain": [
              "['Routine - Unscheduled',\n",
              " 'Reinspection/Followup',\n",
              " 'Complaint',\n",
              " 'New Construction',\n",
              " 'Structural Inspection',\n",
              " 'New Ownership',\n",
              " 'Non-inspection site visit',\n",
              " 'Complaint Reinspection/Followup',\n",
              " 'Routine - Scheduled',\n",
              " 'New Ownership - Followup',\n",
              " 'Foodborne Illness Investigation',\n",
              " 'Special Event',\n",
              " 'Multi-agency Investigation',\n",
              " 'Administrative or Document Review',\n",
              " 'Community Health Assessment']"
            ]
          },
          "metadata": {
            "tags": []
          },
          "execution_count": 21
        }
      ]
    },
    {
      "cell_type": "code",
      "metadata": {
        "id": "NMrxbP9lqmbc",
        "colab_type": "code",
        "colab": {}
      },
      "source": [
        "#dropping rows where inspection_type is null\n",
        "refined_data=refined_data.dropna(subset=['inspection_type'])"
      ],
      "execution_count": 0,
      "outputs": []
    },
    {
      "cell_type": "code",
      "metadata": {
        "id": "1iulEPzRZ1pb",
        "colab_type": "code",
        "colab": {}
      },
      "source": [
        "#converting inspection_type to four categories 'Routine', 'Complaint', 'New', 'Investigation'\n",
        "\n",
        "inspection_type_routine = dict.fromkeys(['Routine - Unscheduled', 'Reinspection/Followup', 'Routine - Scheduled'], 'Routine')\n",
        "inspection_type_new = dict.fromkeys(['New Construction', 'New Ownership', 'New Ownership - Followup'], 'New')\n",
        "inspection_type_investigation = dict.fromkeys(['Structural Inspection', 'Non-inspection site visit', 'Foodborne Illness Investigation', 'Special Event', 'Multi-agency Investigation', 'Administrative or Document Review', 'Community Health Assessment'], 'Investigation')\n",
        "inspection_type_complaint = dict.fromkeys(['Complaint', 'Complaint Reinspection/Followup'], 'Complaint')\n"
      ],
      "execution_count": 0,
      "outputs": []
    },
    {
      "cell_type": "code",
      "metadata": {
        "id": "Zu6Jyq1EberV",
        "colab_type": "code",
        "colab": {}
      },
      "source": [
        "refined_data = refined_data.replace(inspection_type_routine)\n",
        "refined_data = refined_data.replace(inspection_type_new)\n",
        "refined_data = refined_data.replace(inspection_type_investigation)\n",
        "refined_data = refined_data.replace(inspection_type_complaint)"
      ],
      "execution_count": 0,
      "outputs": []
    },
    {
      "cell_type": "code",
      "metadata": {
        "id": "qkPDshVMvLL_",
        "colab_type": "code",
        "colab": {}
      },
      "source": [
        "refined_data['inspection_type'] = refined_data['inspection_type'].replace({'Routine':1, 'Complaint':2, 'New':3, 'Investigation':4})"
      ],
      "execution_count": 0,
      "outputs": []
    },
    {
      "cell_type": "code",
      "metadata": {
        "id": "EYM5iq3rwowf",
        "colab_type": "code",
        "outputId": "9999b31d-d624-4bf9-f857-170d56996191",
        "colab": {
          "base_uri": "https://localhost:8080/",
          "height": 85
        }
      },
      "source": [
        "print(refined_data['risk_category'].value_counts())"
      ],
      "execution_count": 0,
      "outputs": [
        {
          "output_type": "stream",
          "text": [
            "Low Risk         19826\n",
            "Moderate Risk    14931\n",
            "High Risk         5795\n",
            "Name: risk_category, dtype: int64\n"
          ],
          "name": "stdout"
        }
      ]
    },
    {
      "cell_type": "code",
      "metadata": {
        "id": "aPov5n2DxLph",
        "colab_type": "code",
        "colab": {}
      },
      "source": [
        "refined_data['risk_category'] = refined_data['risk_category'].replace({'Low Risk':1, 'Moderate Risk':2, 'High Risk':3})"
      ],
      "execution_count": 0,
      "outputs": []
    },
    {
      "cell_type": "code",
      "metadata": {
        "id": "epE6r-NFq77-",
        "colab_type": "code",
        "outputId": "e8a711ab-dd91-45b0-b6f3-830a75284da1",
        "colab": {
          "base_uri": "https://localhost:8080/",
          "height": 34
        }
      },
      "source": [
        "refined_data.inspection_type.unique().tolist()"
      ],
      "execution_count": 0,
      "outputs": [
        {
          "output_type": "execute_result",
          "data": {
            "text/plain": [
              "[1, 2, 3, 4]"
            ]
          },
          "metadata": {
            "tags": []
          },
          "execution_count": 28
        }
      ]
    },
    {
      "cell_type": "code",
      "metadata": {
        "id": "t0L_IlR5Dsa5",
        "colab_type": "code",
        "outputId": "c2575b14-e0a5-4fcc-b892-ef98abb35f4e",
        "colab": {
          "base_uri": "https://localhost:8080/",
          "height": 1173
        }
      },
      "source": [
        "refined_data.violation_description.unique().tolist()"
      ],
      "execution_count": 0,
      "outputs": [
        {
          "output_type": "execute_result",
          "data": {
            "text/plain": [
              "['Unclean or degraded floors walls or ceilings',\n",
              " 'Wiping cloths not clean or properly stored or inadequate sanitizer',\n",
              " 'Moderate risk vermin infestation',\n",
              " 'Inadequate and inaccessible handwashing facilities',\n",
              " 'Food safety certificate or food handler card not available',\n",
              " 'Moderate risk food holding temperature',\n",
              " 'Improper cooling methods',\n",
              " 'Sewage or wastewater contamination',\n",
              " nan,\n",
              " 'Unclean or unsanitary food contact surfaces',\n",
              " 'Unapproved or unmaintained equipment or utensils',\n",
              " 'High risk food holding temperature',\n",
              " 'Unclean nonfood contact surfaces',\n",
              " 'Inadequately cleaned or sanitized food contact surfaces',\n",
              " 'No thermometers or uncalibrated thermometers',\n",
              " 'Inadequate food safety knowledge or lack of certified food safety manager',\n",
              " 'Improper thawing methods',\n",
              " 'Improper storage of equipment utensils or linens',\n",
              " 'Foods not protected from contamination',\n",
              " 'Improper food storage',\n",
              " 'Unclean hands or improper use of gloves',\n",
              " 'High risk vermin infestation',\n",
              " 'Inadequate or unsanitary refuse containers or area or no garbage service',\n",
              " 'Non service animal',\n",
              " 'Improper storage use or identification of toxic substances',\n",
              " 'Permit license or inspection report not posted',\n",
              " 'Low risk vermin infestation',\n",
              " 'Inadequate ventilation or lighting',\n",
              " 'Insufficient hot water or running water',\n",
              " 'Contaminated or adulterated food',\n",
              " 'Unsanitary employee garments hair or nails',\n",
              " 'Improper or defective plumbing',\n",
              " 'No hot water or running water',\n",
              " 'Inadequate warewashing facilities or equipment',\n",
              " 'Inadequate sewage or wastewater disposal',\n",
              " 'Improper food labeling or menu misrepresentation',\n",
              " 'Employee eating or smoking',\n",
              " 'Improper reheating of food',\n",
              " 'Noncompliance with HAACP plan or variance',\n",
              " 'No plan review or Building Permit',\n",
              " 'Other low risk violation',\n",
              " 'Inadequate dressing rooms or improper storage of personal items',\n",
              " 'Noncompliance with shell fish tags or display',\n",
              " 'Unapproved food source',\n",
              " 'Worker safety hazards',\n",
              " 'Unapproved  living quarters in food facility',\n",
              " 'Inadequate HACCP plan record keeping',\n",
              " 'Mobile food facility not operating with an approved commissary',\n",
              " 'No person in charge of food facility',\n",
              " 'Unclean unmaintained or improperly constructed toilet facilities',\n",
              " 'Consumer advisory not provided for raw or undercooked foods',\n",
              " 'Inadequate procedures or records for time as a public health control',\n",
              " 'Other moderate risk violation',\n",
              " 'Unpermitted food facility',\n",
              " 'Food in poor condition',\n",
              " 'Other high risk violation',\n",
              " 'Unauthorized or unsafe use of time as a public health control measure',\n",
              " 'Improper cooking time or temperatures',\n",
              " 'Reservice of previously served foods',\n",
              " 'Mobile food facility HCD insignia unavailable',\n",
              " 'Improperly washed fruits and vegetables',\n",
              " 'Discharge from employee nose mouth or eye',\n",
              " 'Noncompliance with Gulf Coast oyster regulation',\n",
              " 'Improperly displayed mobile food permit or signage',\n",
              " 'Unreported or unrestricted ill employee with communicable disease',\n",
              " 'Noncompliance with Cottage Food Operation',\n",
              " 'Mobile food facility with unapproved operating conditions',\n",
              " 'Mobile food facility stored in unapproved location']"
            ]
          },
          "metadata": {
            "tags": []
          },
          "execution_count": 29
        }
      ]
    },
    {
      "cell_type": "code",
      "metadata": {
        "id": "zKVarisi-Myb",
        "colab_type": "code",
        "colab": {}
      },
      "source": [
        "#converting violation type to 4 categories 'Hygiene','Legal','Noncompliance', 'Lack_Infrastructure'\n",
        "violation_hygiene = dict.fromkeys(['Unclean or degraded floors walls or ceilings', 'Wiping cloths not clean or properly stored or inadequate sanitizer', 'Moderate risk vermin infestation', 'Unclean nonfood contact surfaces', 'Foods not protected from contamination', 'Unclean hands or improper use of gloves', 'High risk vermin infestation', 'Inadequately cleaned or sanitized food contact surfaces', 'Low risk vermin infestation', 'Unclean or unsanitary food contact surfaces', 'Employee eating or smoking', 'Contaminated or adulterated food', 'Unsanitary employee garments hair or nails', 'Other low risk violation', 'Unclean unmaintained or improperly constructed toilet facilities', 'Other moderate risk violation', 'Sewage or wastewater contamination', 'Food in poor condition', 'Other high risk violation', 'Reservice of previously served foods', 'Discharge from employee nose mouth or eye', 'Improperly washed fruits and vegetables'], 'Hygiene')\n",
        "violation_lack_infra = dict.fromkeys(['Inadequate and inaccessible handwashing facilities', 'Inadequate or unsanitary refuse containers or area or no garbage service', 'No thermometers or uncalibrated thermometers', 'Improper or defective plumbing', 'No hot water or running water', 'Inadequate ventilation or lighting', 'Inadequate warewashing facilities or equipment', 'Inadequate sewage or wastewater disposal', 'Insufficient hot water or running water'],'Lack_Infrastructure')\n",
        "violation_legal = dict.fromkeys(['Food safety certificate or food handler card not available', 'Unapproved or unmaintained equipment or utensils', 'Permit license or inspection report not posted', 'No plan review or Building Permit', 'Unapproved  living quarters in food facility', 'Unpermitted food facility', 'Unapproved food source', 'Mobile food facility stored in unapproved location', 'Mobile food facility not operating with an approved commissary'],'Legal')\n",
        "violation_noncompliance = dict.fromkeys(['High risk food holding temperature', 'Inadequate food safety knowledge or lack of certified food safety manager', 'Improper storage of equipment utensils or linens', 'Improper food storage', 'Improper thawing methods', 'Moderate risk food holding temperature', 'Improper cooling methods', 'Improper storage use or identification of toxic substances', 'Improper food labeling or menu misrepresentation', 'Non service animal', 'Noncompliance with shell fish tags or display', 'Noncompliance with HAACP plan or variance', 'Inadequate HACCP plan record keeping', 'Inadequate dressing rooms or improper storage of personal items', 'Improper reheating of food', 'Inadequate procedures or records for time as a public health control', 'Worker safety hazards', 'No person in charge of food facility', 'Improper cooking time or temperatures', 'Unauthorized or unsafe use of time as a public health control measure', 'Consumer advisory not provided for raw or undercooked foods', 'Noncompliance with Gulf Coast oyster regulation', 'Noncompliance with Cottage Food Operation'],'Noncompliance')"
      ],
      "execution_count": 0,
      "outputs": []
    },
    {
      "cell_type": "code",
      "metadata": {
        "id": "hLLwsbUGCqJz",
        "colab_type": "code",
        "colab": {}
      },
      "source": [
        "refined_data = refined_data.replace(violation_hygiene)\n",
        "refined_data = refined_data.replace(violation_lack_infra)\n",
        "refined_data = refined_data.replace(violation_legal)\n",
        "refined_data = refined_data.replace(violation_noncompliance)"
      ],
      "execution_count": 0,
      "outputs": []
    },
    {
      "cell_type": "code",
      "metadata": {
        "id": "sIkawIaDwE-9",
        "colab_type": "code",
        "colab": {}
      },
      "source": [
        "refined_data['violation_description'] = refined_data['violation_description'].replace({'Hygiene':1, 'Legal':2, 'Noncompliance':3, 'Lack_Infrastructure':4})"
      ],
      "execution_count": 0,
      "outputs": []
    },
    {
      "cell_type": "code",
      "metadata": {
        "id": "kqzftljKEFHR",
        "colab_type": "code",
        "colab": {}
      },
      "source": [
        "# refined_data = refined_data.sort_values(by=['year', 'month', 'day'], ascending=True)"
      ],
      "execution_count": 0,
      "outputs": []
    },
    {
      "cell_type": "code",
      "metadata": {
        "colab_type": "code",
        "id": "sTzP94RBgzsv",
        "colab": {}
      },
      "source": [
        "refined_data=refined_data.dropna(subset=['business_latitude','violation_description','business_postal_code','inspection_score'])"
      ],
      "execution_count": 0,
      "outputs": []
    },
    {
      "cell_type": "code",
      "metadata": {
        "id": "7HHoUPhnxiHg",
        "colab_type": "code",
        "colab": {}
      },
      "source": [
        "#removing inspection type as it has only 1 unique value\n",
        "refined_data = refined_data.drop('inspection_type', 1)"
      ],
      "execution_count": 0,
      "outputs": []
    },
    {
      "cell_type": "code",
      "metadata": {
        "id": "YpgBpMhozbP4",
        "colab_type": "code",
        "colab": {}
      },
      "source": [
        "#refined_data = pd.get_dummies(refined_data, columns=['violation_description','risk_category'])"
      ],
      "execution_count": 0,
      "outputs": []
    },
    {
      "cell_type": "code",
      "metadata": {
        "id": "kSzOvS3Pb1Ui",
        "colab_type": "code",
        "colab": {}
      },
      "source": [
        "#changing data type of postal code to float\n",
        "refined_data.business_postal_code = refined_data.business_postal_code.astype('float64')\n",
        "#changing data type of violation_id to float\n",
        "refined_data.violation_id = refined_data.violation_id.astype('float64')\n",
        "#changing data type of violation_description to float\n",
        "refined_data.violation_description = refined_data.violation_description.astype('float64')"
      ],
      "execution_count": 0,
      "outputs": []
    },
    {
      "cell_type": "code",
      "metadata": {
        "id": "h_mPRH6-4ADB",
        "colab_type": "code",
        "colab": {}
      },
      "source": [
        "# categorical_columns = [x for x in refined_data.dtypes.index]\n",
        "# for col in categorical_columns:\n",
        "#    print(refined_data[col].value_counts())"
      ],
      "execution_count": 0,
      "outputs": []
    },
    {
      "cell_type": "code",
      "metadata": {
        "id": "8tTjfRIRxOWi",
        "colab_type": "code",
        "outputId": "eb96a584-a8d6-4b5a-c2c8-bd4de82b5751",
        "colab": {
          "base_uri": "https://localhost:8080/",
          "height": 221
        }
      },
      "source": [
        "refined_data.apply(lambda x: len(x.unique()))"
      ],
      "execution_count": 0,
      "outputs": [
        {
          "output_type": "execute_result",
          "data": {
            "text/plain": [
              "business_id              2720\n",
              "business_postal_code       32\n",
              "business_latitude        2290\n",
              "business_longitude       2322\n",
              "inspection_score           45\n",
              "violation_id               63\n",
              "violation_description       4\n",
              "risk_category               3\n",
              "year                        4\n",
              "month                      12\n",
              "day                        31\n",
              "dtype: int64"
            ]
          },
          "metadata": {
            "tags": []
          },
          "execution_count": 39
        }
      ]
    },
    {
      "cell_type": "code",
      "metadata": {
        "id": "OJO9IJ_YgzNd",
        "colab_type": "code",
        "outputId": "9555e7bf-99b7-4069-c3d2-b144b9ef22ee",
        "colab": {
          "base_uri": "https://localhost:8080/",
          "height": 221
        }
      },
      "source": [
        "refined_data.apply(lambda x: sum(x.isnull()))"
      ],
      "execution_count": 0,
      "outputs": [
        {
          "output_type": "execute_result",
          "data": {
            "text/plain": [
              "business_id              0\n",
              "business_postal_code     0\n",
              "business_latitude        0\n",
              "business_longitude       0\n",
              "inspection_score         0\n",
              "violation_id             0\n",
              "violation_description    0\n",
              "risk_category            0\n",
              "year                     0\n",
              "month                    0\n",
              "day                      0\n",
              "dtype: int64"
            ]
          },
          "metadata": {
            "tags": []
          },
          "execution_count": 40
        }
      ]
    },
    {
      "cell_type": "code",
      "metadata": {
        "id": "JXWo3jLehL2f",
        "colab_type": "code",
        "outputId": "deed0ff2-8bf0-408a-e980-53a5063f571a",
        "colab": {
          "base_uri": "https://localhost:8080/",
          "height": 306
        }
      },
      "source": [
        "print(refined_data.info())"
      ],
      "execution_count": 0,
      "outputs": [
        {
          "output_type": "stream",
          "text": [
            "<class 'pandas.core.frame.DataFrame'>\n",
            "Int64Index: 22273 entries, 0 to 53324\n",
            "Data columns (total 11 columns):\n",
            "business_id              22273 non-null int64\n",
            "business_postal_code     22273 non-null float64\n",
            "business_latitude        22273 non-null float64\n",
            "business_longitude       22273 non-null float64\n",
            "inspection_score         22273 non-null float64\n",
            "violation_id             22273 non-null float64\n",
            "violation_description    22273 non-null float64\n",
            "risk_category            22273 non-null float64\n",
            "year                     22273 non-null int64\n",
            "month                    22273 non-null int64\n",
            "day                      22273 non-null int64\n",
            "dtypes: float64(7), int64(4)\n",
            "memory usage: 2.0 MB\n",
            "None\n"
          ],
          "name": "stdout"
        }
      ]
    },
    {
      "cell_type": "code",
      "metadata": {
        "id": "C3F5im3_ekDf",
        "colab_type": "code",
        "outputId": "ddc63715-0701-4b00-d03f-0c9386c94d5d",
        "colab": {
          "base_uri": "https://localhost:8080/",
          "height": 317
        }
      },
      "source": [
        "refined_data.describe()"
      ],
      "execution_count": 0,
      "outputs": [
        {
          "output_type": "execute_result",
          "data": {
            "text/html": [
              "<div>\n",
              "<style scoped>\n",
              "    .dataframe tbody tr th:only-of-type {\n",
              "        vertical-align: middle;\n",
              "    }\n",
              "\n",
              "    .dataframe tbody tr th {\n",
              "        vertical-align: top;\n",
              "    }\n",
              "\n",
              "    .dataframe thead th {\n",
              "        text-align: right;\n",
              "    }\n",
              "</style>\n",
              "<table border=\"1\" class=\"dataframe\">\n",
              "  <thead>\n",
              "    <tr style=\"text-align: right;\">\n",
              "      <th></th>\n",
              "      <th>business_id</th>\n",
              "      <th>business_postal_code</th>\n",
              "      <th>business_latitude</th>\n",
              "      <th>business_longitude</th>\n",
              "      <th>inspection_score</th>\n",
              "      <th>violation_id</th>\n",
              "      <th>violation_description</th>\n",
              "      <th>risk_category</th>\n",
              "      <th>year</th>\n",
              "      <th>month</th>\n",
              "      <th>day</th>\n",
              "    </tr>\n",
              "  </thead>\n",
              "  <tbody>\n",
              "    <tr>\n",
              "      <th>count</th>\n",
              "      <td>22273.000000</td>\n",
              "      <td>22273.000000</td>\n",
              "      <td>22273.000000</td>\n",
              "      <td>22273.000000</td>\n",
              "      <td>22273.000000</td>\n",
              "      <td>22273.000000</td>\n",
              "      <td>22273.000000</td>\n",
              "      <td>22273.000000</td>\n",
              "      <td>22273.000000</td>\n",
              "      <td>22273.000000</td>\n",
              "      <td>22273.000000</td>\n",
              "    </tr>\n",
              "    <tr>\n",
              "      <th>mean</th>\n",
              "      <td>26152.193822</td>\n",
              "      <td>94114.302564</td>\n",
              "      <td>37.772089</td>\n",
              "      <td>-122.427739</td>\n",
              "      <td>85.039779</td>\n",
              "      <td>103134.169488</td>\n",
              "      <td>2.076460</td>\n",
              "      <td>1.643604</td>\n",
              "      <td>2017.020563</td>\n",
              "      <td>6.377228</td>\n",
              "      <td>15.676873</td>\n",
              "    </tr>\n",
              "    <tr>\n",
              "      <th>std</th>\n",
              "      <td>26972.064148</td>\n",
              "      <td>22.685573</td>\n",
              "      <td>0.024107</td>\n",
              "      <td>0.027515</td>\n",
              "      <td>8.380779</td>\n",
              "      <td>16.806375</td>\n",
              "      <td>1.129993</td>\n",
              "      <td>0.711378</td>\n",
              "      <td>0.907706</td>\n",
              "      <td>3.382419</td>\n",
              "      <td>8.885495</td>\n",
              "    </tr>\n",
              "    <tr>\n",
              "      <th>min</th>\n",
              "      <td>19.000000</td>\n",
              "      <td>92672.000000</td>\n",
              "      <td>37.681741</td>\n",
              "      <td>-122.510896</td>\n",
              "      <td>51.000000</td>\n",
              "      <td>103102.000000</td>\n",
              "      <td>1.000000</td>\n",
              "      <td>1.000000</td>\n",
              "      <td>2016.000000</td>\n",
              "      <td>1.000000</td>\n",
              "      <td>1.000000</td>\n",
              "    </tr>\n",
              "    <tr>\n",
              "      <th>25%</th>\n",
              "      <td>2885.000000</td>\n",
              "      <td>94108.000000</td>\n",
              "      <td>37.755098</td>\n",
              "      <td>-122.437747</td>\n",
              "      <td>80.000000</td>\n",
              "      <td>103120.000000</td>\n",
              "      <td>1.000000</td>\n",
              "      <td>1.000000</td>\n",
              "      <td>2016.000000</td>\n",
              "      <td>3.000000</td>\n",
              "      <td>8.000000</td>\n",
              "    </tr>\n",
              "    <tr>\n",
              "      <th>50%</th>\n",
              "      <td>7761.000000</td>\n",
              "      <td>94111.000000</td>\n",
              "      <td>37.780975</td>\n",
              "      <td>-122.419355</td>\n",
              "      <td>87.000000</td>\n",
              "      <td>103133.000000</td>\n",
              "      <td>2.000000</td>\n",
              "      <td>2.000000</td>\n",
              "      <td>2017.000000</td>\n",
              "      <td>6.000000</td>\n",
              "      <td>15.000000</td>\n",
              "    </tr>\n",
              "    <tr>\n",
              "      <th>75%</th>\n",
              "      <td>60210.000000</td>\n",
              "      <td>94122.000000</td>\n",
              "      <td>37.790102</td>\n",
              "      <td>-122.407764</td>\n",
              "      <td>92.000000</td>\n",
              "      <td>103149.000000</td>\n",
              "      <td>3.000000</td>\n",
              "      <td>2.000000</td>\n",
              "      <td>2018.000000</td>\n",
              "      <td>9.000000</td>\n",
              "      <td>24.000000</td>\n",
              "    </tr>\n",
              "    <tr>\n",
              "      <th>max</th>\n",
              "      <td>71915.000000</td>\n",
              "      <td>95105.000000</td>\n",
              "      <td>37.824494</td>\n",
              "      <td>-122.371798</td>\n",
              "      <td>100.000000</td>\n",
              "      <td>103178.000000</td>\n",
              "      <td>4.000000</td>\n",
              "      <td>3.000000</td>\n",
              "      <td>2019.000000</td>\n",
              "      <td>12.000000</td>\n",
              "      <td>31.000000</td>\n",
              "    </tr>\n",
              "  </tbody>\n",
              "</table>\n",
              "</div>"
            ],
            "text/plain": [
              "        business_id  business_postal_code  business_latitude  \\\n",
              "count  22273.000000          22273.000000       22273.000000   \n",
              "mean   26152.193822          94114.302564          37.772089   \n",
              "std    26972.064148             22.685573           0.024107   \n",
              "min       19.000000          92672.000000          37.681741   \n",
              "25%     2885.000000          94108.000000          37.755098   \n",
              "50%     7761.000000          94111.000000          37.780975   \n",
              "75%    60210.000000          94122.000000          37.790102   \n",
              "max    71915.000000          95105.000000          37.824494   \n",
              "\n",
              "       business_longitude  inspection_score   violation_id  \\\n",
              "count        22273.000000      22273.000000   22273.000000   \n",
              "mean          -122.427739         85.039779  103134.169488   \n",
              "std              0.027515          8.380779      16.806375   \n",
              "min           -122.510896         51.000000  103102.000000   \n",
              "25%           -122.437747         80.000000  103120.000000   \n",
              "50%           -122.419355         87.000000  103133.000000   \n",
              "75%           -122.407764         92.000000  103149.000000   \n",
              "max           -122.371798        100.000000  103178.000000   \n",
              "\n",
              "       violation_description  risk_category          year         month  \\\n",
              "count           22273.000000   22273.000000  22273.000000  22273.000000   \n",
              "mean                2.076460       1.643604   2017.020563      6.377228   \n",
              "std                 1.129993       0.711378      0.907706      3.382419   \n",
              "min                 1.000000       1.000000   2016.000000      1.000000   \n",
              "25%                 1.000000       1.000000   2016.000000      3.000000   \n",
              "50%                 2.000000       2.000000   2017.000000      6.000000   \n",
              "75%                 3.000000       2.000000   2018.000000      9.000000   \n",
              "max                 4.000000       3.000000   2019.000000     12.000000   \n",
              "\n",
              "                day  \n",
              "count  22273.000000  \n",
              "mean      15.676873  \n",
              "std        8.885495  \n",
              "min        1.000000  \n",
              "25%        8.000000  \n",
              "50%       15.000000  \n",
              "75%       24.000000  \n",
              "max       31.000000  "
            ]
          },
          "metadata": {
            "tags": []
          },
          "execution_count": 42
        }
      ]
    },
    {
      "cell_type": "code",
      "metadata": {
        "id": "aGy3opP33f0v",
        "colab_type": "code",
        "outputId": "c8d8711f-194e-46f4-b629-4327a44030cb",
        "colab": {
          "base_uri": "https://localhost:8080/",
          "height": 162
        }
      },
      "source": [
        "refined_data.head(3)"
      ],
      "execution_count": 0,
      "outputs": [
        {
          "output_type": "execute_result",
          "data": {
            "text/html": [
              "<div>\n",
              "<style scoped>\n",
              "    .dataframe tbody tr th:only-of-type {\n",
              "        vertical-align: middle;\n",
              "    }\n",
              "\n",
              "    .dataframe tbody tr th {\n",
              "        vertical-align: top;\n",
              "    }\n",
              "\n",
              "    .dataframe thead th {\n",
              "        text-align: right;\n",
              "    }\n",
              "</style>\n",
              "<table border=\"1\" class=\"dataframe\">\n",
              "  <thead>\n",
              "    <tr style=\"text-align: right;\">\n",
              "      <th></th>\n",
              "      <th>business_id</th>\n",
              "      <th>business_postal_code</th>\n",
              "      <th>business_latitude</th>\n",
              "      <th>business_longitude</th>\n",
              "      <th>inspection_score</th>\n",
              "      <th>violation_id</th>\n",
              "      <th>violation_description</th>\n",
              "      <th>risk_category</th>\n",
              "      <th>year</th>\n",
              "      <th>month</th>\n",
              "      <th>day</th>\n",
              "    </tr>\n",
              "  </thead>\n",
              "  <tbody>\n",
              "    <tr>\n",
              "      <th>0</th>\n",
              "      <td>835</td>\n",
              "      <td>94133.0</td>\n",
              "      <td>37.797223</td>\n",
              "      <td>-122.410513</td>\n",
              "      <td>88.0</td>\n",
              "      <td>103154.0</td>\n",
              "      <td>1.0</td>\n",
              "      <td>1.0</td>\n",
              "      <td>2018</td>\n",
              "      <td>9</td>\n",
              "      <td>17</td>\n",
              "    </tr>\n",
              "    <tr>\n",
              "      <th>1</th>\n",
              "      <td>1922</td>\n",
              "      <td>94118.0</td>\n",
              "      <td>37.782694</td>\n",
              "      <td>-122.468969</td>\n",
              "      <td>86.0</td>\n",
              "      <td>103154.0</td>\n",
              "      <td>1.0</td>\n",
              "      <td>1.0</td>\n",
              "      <td>2016</td>\n",
              "      <td>2</td>\n",
              "      <td>25</td>\n",
              "    </tr>\n",
              "    <tr>\n",
              "      <th>2</th>\n",
              "      <td>67448</td>\n",
              "      <td>94124.0</td>\n",
              "      <td>37.741829</td>\n",
              "      <td>-122.388098</td>\n",
              "      <td>92.0</td>\n",
              "      <td>103149.0</td>\n",
              "      <td>1.0</td>\n",
              "      <td>1.0</td>\n",
              "      <td>2018</td>\n",
              "      <td>5</td>\n",
              "      <td>7</td>\n",
              "    </tr>\n",
              "  </tbody>\n",
              "</table>\n",
              "</div>"
            ],
            "text/plain": [
              "   business_id  business_postal_code  business_latitude  business_longitude  \\\n",
              "0          835               94133.0          37.797223         -122.410513   \n",
              "1         1922               94118.0          37.782694         -122.468969   \n",
              "2        67448               94124.0          37.741829         -122.388098   \n",
              "\n",
              "   inspection_score  violation_id  violation_description  risk_category  year  \\\n",
              "0              88.0      103154.0                    1.0            1.0  2018   \n",
              "1              86.0      103154.0                    1.0            1.0  2016   \n",
              "2              92.0      103149.0                    1.0            1.0  2018   \n",
              "\n",
              "   month  day  \n",
              "0      9   17  \n",
              "1      2   25  \n",
              "2      5    7  "
            ]
          },
          "metadata": {
            "tags": []
          },
          "execution_count": 43
        }
      ]
    },
    {
      "cell_type": "code",
      "metadata": {
        "id": "Hlb7i97rgSxG",
        "colab_type": "code",
        "outputId": "dcbb44a5-3776-4260-936c-9ce1f569d17f",
        "colab": {
          "base_uri": "https://localhost:8080/",
          "height": 344
        }
      },
      "source": [
        "import matplotlib.pyplot as plt\n",
        "import seaborn as sns\n",
        "\n",
        "refined_data['business_postal_code'].value_counts().plot(kind='bar')\n",
        "plt.title('number of postal code')\n",
        "plt.xlabel('postal code')\n",
        "plt.ylabel('count')\n",
        "sns.despine"
      ],
      "execution_count": 0,
      "outputs": [
        {
          "output_type": "execute_result",
          "data": {
            "text/plain": [
              "<function seaborn.utils.despine>"
            ]
          },
          "metadata": {
            "tags": []
          },
          "execution_count": 44
        },
        {
          "output_type": "display_data",
          "data": {
            "image/png": "[encoded data removed]",
            "text/plain": [
              "<Figure size 432x288 with 1 Axes>"
            ]
          },
          "metadata": {
            "tags": []
          }
        }
      ]
    },
    {
      "cell_type": "code",
      "metadata": {
        "id": "eUhdeFIBh4Or",
        "colab_type": "code",
        "outputId": "7790f522-390a-4dc4-dc5f-9926cae6335a",
        "colab": {
          "base_uri": "https://localhost:8080/",
          "height": 350
        }
      },
      "source": [
        "import matplotlib.pyplot as plt\n",
        "import seaborn as sns\n",
        "\n",
        "refined_data['violation_id'].value_counts().plot(kind='bar')\n",
        "plt.title('number of violation id')\n",
        "plt.xlabel('violation id')\n",
        "plt.ylabel('count')\n",
        "sns.despine"
      ],
      "execution_count": 0,
      "outputs": [
        {
          "output_type": "execute_result",
          "data": {
            "text/plain": [
              "<function seaborn.utils.despine>"
            ]
          },
          "metadata": {
            "tags": []
          },
          "execution_count": 45
        },
        {
          "output_type": "display_data",
          "data": {
            "image/png": "[encoded data removed]",
            "text/plain": [
              "<Figure size 432x288 with 1 Axes>"
            ]
          },
          "metadata": {
            "tags": []
          }
        }
      ]
    },
    {
      "cell_type": "code",
      "metadata": {
        "id": "4Oe9B0GNiGXm",
        "colab_type": "code",
        "outputId": "ffd4f89e-29ba-40f6-bbd1-037f2742d650",
        "colab": {
          "base_uri": "https://localhost:8080/",
          "height": 817
        }
      },
      "source": [
        "plt.figure(figsize=(10,10))\n",
        "sns.jointplot(x=refined_data.business_latitude.values, y=refined_data.business_longitude.values, size=10)\n",
        "plt.xlabel('Longitude', fontsize=12)\n",
        "plt.ylabel('Latitude', fontsize=12)\n",
        "plt.show()\n",
        "sns.despine"
      ],
      "execution_count": 0,
      "outputs": [
        {
          "output_type": "stream",
          "text": [
            "/usr/local/lib/python3.6/dist-packages/seaborn/axisgrid.py:2262: UserWarning: The `size` paramter has been renamed to `height`; please update your code.\n",
            "  warnings.warn(msg, UserWarning)\n"
          ],
          "name": "stderr"
        },
        {
          "output_type": "display_data",
          "data": {
            "text/plain": [
              "<Figure size 720x720 with 0 Axes>"
            ]
          },
          "metadata": {
            "tags": []
          }
        },
        {
          "output_type": "display_data",
          "data": {
            "image/png": "[encoded data removed]",
            "text/plain": [
              "<Figure size 720x720 with 3 Axes>"
            ]
          },
          "metadata": {
            "tags": []
          }
        },
        {
          "output_type": "execute_result",
          "data": {
            "text/plain": [
              "<function seaborn.utils.despine>"
            ]
          },
          "metadata": {
            "tags": []
          },
          "execution_count": 46
        }
      ]
    },
    {
      "cell_type": "code",
      "metadata": {
        "colab_type": "code",
        "outputId": "7b1734d2-770e-4737-9a4d-948072cc094d",
        "id": "whj_XMNU34FY",
        "colab": {
          "base_uri": "https://localhost:8080/",
          "height": 298
        }
      },
      "source": [
        "plt.scatter(refined_data.inspection_score, refined_data.business_longitude)\n",
        "plt.title('inspection score vs Longitude')"
      ],
      "execution_count": 0,
      "outputs": [
        {
          "output_type": "execute_result",
          "data": {
            "text/plain": [
              "Text(0.5, 1.0, 'inspection score vs Longitude')"
            ]
          },
          "metadata": {
            "tags": []
          },
          "execution_count": 47
        },
        {
          "output_type": "display_data",
          "data": {
            "image/png": "[encoded data removed]",
            "text/plain": [
              "<Figure size 432x288 with 1 Axes>"
            ]
          },
          "metadata": {
            "tags": []
          }
        }
      ]
    },
    {
      "cell_type": "code",
      "metadata": {
        "id": "tMR0rGt5kyqD",
        "colab_type": "code",
        "outputId": "e1ddf9d3-94e3-409b-8bb2-e728ea587534",
        "colab": {
          "base_uri": "https://localhost:8080/",
          "height": 298
        }
      },
      "source": [
        "plt.scatter(refined_data.inspection_score, refined_data.business_latitude)\n",
        "plt.title('inspection score vs Latitude')"
      ],
      "execution_count": 0,
      "outputs": [
        {
          "output_type": "execute_result",
          "data": {
            "text/plain": [
              "Text(0.5, 1.0, 'inspection score vs Latitude')"
            ]
          },
          "metadata": {
            "tags": []
          },
          "execution_count": 48
        },
        {
          "output_type": "display_data",
          "data": {
            "image/png": "[encoded data removed]",
            "text/plain": [
              "<Figure size 432x288 with 1 Axes>"
            ]
          },
          "metadata": {
            "tags": []
          }
        }
      ]
    },
    {
      "cell_type": "code",
      "metadata": {
        "id": "8SA_AqXvlChL",
        "colab_type": "code",
        "outputId": "3011b8f4-0aca-4ba0-ce88-c5fd77edc9df",
        "colab": {
          "base_uri": "https://localhost:8080/",
          "height": 298
        }
      },
      "source": [
        "plt.scatter(refined_data.business_postal_code, refined_data.inspection_score)\n",
        "plt.title('inspection score vs postal code')"
      ],
      "execution_count": 0,
      "outputs": [
        {
          "output_type": "execute_result",
          "data": {
            "text/plain": [
              "Text(0.5, 1.0, 'inspection score vs postal code')"
            ]
          },
          "metadata": {
            "tags": []
          },
          "execution_count": 49
        },
        {
          "output_type": "display_data",
          "data": {
            "image/png": "[encoded data removed]",
            "text/plain": [
              "<Figure size 432x288 with 1 Axes>"
            ]
          },
          "metadata": {
            "tags": []
          }
        }
      ]
    },
    {
      "cell_type": "code",
      "metadata": {
        "id": "GO1HJzxXoiiB",
        "colab_type": "code",
        "outputId": "178eec0c-2a97-4fc0-af39-b2f618377069",
        "colab": {
          "base_uri": "https://localhost:8080/",
          "height": 298
        }
      },
      "source": [
        "plt.scatter(refined_data.inspection_score, refined_data.business_id)\n",
        "plt.title('Business ID vs inspection score')"
      ],
      "execution_count": 0,
      "outputs": [
        {
          "output_type": "execute_result",
          "data": {
            "text/plain": [
              "Text(0.5, 1.0, 'Business ID vs inspection score')"
            ]
          },
          "metadata": {
            "tags": []
          },
          "execution_count": 50
        },
        {
          "output_type": "display_data",
          "data": {
            "image/png": "[encoded data removed]",
            "text/plain": [
              "<Figure size 432x288 with 1 Axes>"
            ]
          },
          "metadata": {
            "tags": []
          }
        }
      ]
    },
    {
      "cell_type": "markdown",
      "metadata": {
        "id": "COLidhrfs_9O",
        "colab_type": "text"
      },
      "source": [
        "##Predict label and Training data"
      ]
    },
    {
      "cell_type": "code",
      "metadata": {
        "id": "6Vn8weYgs7E8",
        "colab_type": "code",
        "colab": {}
      },
      "source": [
        "predict_label = refined_data['risk_category']\n",
        "train_data = refined_data.drop('risk_category',1)"
      ],
      "execution_count": 0,
      "outputs": []
    },
    {
      "cell_type": "markdown",
      "metadata": {
        "id": "Bqb7lDJysaZY",
        "colab_type": "text"
      },
      "source": [
        "Feature Importance"
      ]
    },
    {
      "cell_type": "code",
      "metadata": {
        "id": "Ngo4DjZFsdof",
        "colab_type": "code",
        "outputId": "520961ea-76f9-4337-d4f8-64fc5c52c317",
        "colab": {
          "base_uri": "https://localhost:8080/",
          "height": 357
        }
      },
      "source": [
        "from sklearn.ensemble import ExtraTreesClassifier\n",
        "import matplotlib.pyplot as plt\n",
        "featmodel = ExtraTreesClassifier()\n",
        "featmodel.fit(train_data,predict_label)\n",
        "print(featmodel.feature_importances_) #use inbuilt class feature_importances of tree based classifiers\n",
        "#plot graph of feature importances for better visualization\n",
        "feat_importances = pd.Series(featmodel.feature_importances_, index=train_data.columns)\n",
        "feat_importances.nlargest(10).plot(kind='barh')\n",
        "plt.show()"
      ],
      "execution_count": 0,
      "outputs": [
        {
          "output_type": "stream",
          "text": [
            "/usr/local/lib/python3.6/dist-packages/sklearn/ensemble/forest.py:246: FutureWarning: The default value of n_estimators will change from 10 in version 0.20 to 100 in 0.22.\n",
            "  \"10 in version 0.20 to 100 in 0.22.\", FutureWarning)\n"
          ],
          "name": "stderr"
        },
        {
          "output_type": "stream",
          "text": [
            "[0.00620509 0.00519236 0.0078958  0.00712524 0.01733275 0.8699744\n",
            " 0.07115463 0.0038397  0.00549431 0.00578571]\n"
          ],
          "name": "stdout"
        },
        {
          "output_type": "display_data",
          "data": {
            "image/png": "[encoded data removed]",
            "text/plain": [
              "<Figure size 432x288 with 1 Axes>"
            ]
          },
          "metadata": {
            "tags": []
          }
        }
      ]
    },
    {
      "cell_type": "code",
      "metadata": {
        "id": "hkYLlOWEzzfr",
        "colab_type": "code",
        "colab": {}
      },
      "source": [
        "train_data = train_data.drop(['business_postal_code','year','month'],axis=1)"
      ],
      "execution_count": 0,
      "outputs": []
    },
    {
      "cell_type": "markdown",
      "metadata": {
        "id": "23a4yTW3AKtB",
        "colab_type": "text"
      },
      "source": [
        "##Creating train and test split"
      ]
    },
    {
      "cell_type": "code",
      "metadata": {
        "id": "nnp7OZJjTkE1",
        "colab_type": "code",
        "colab": {}
      },
      "source": [
        "#data is shuffled by default before splitting\n",
        "from sklearn.model_selection import train_test_split\n",
        "\n",
        "#predict_label = refined_data['inspection_score']\n",
        "\n",
        "#train_data = refined_data.drop(['business_postal_code', 'inspection_score', 'business_id'],axis=1)\n",
        "#train_data = refined_data[['business_latitude', 'business_longitude'], axis=1]\n",
        "x_train , x_test , y_train , y_test = train_test_split(train_data , predict_label , test_size = 0.20, random_state=1)"
      ],
      "execution_count": 0,
      "outputs": []
    },
    {
      "cell_type": "markdown",
      "metadata": {
        "id": "XpjG-vwvAHQ2",
        "colab_type": "text"
      },
      "source": [
        "*Writing data to file*"
      ]
    },
    {
      "cell_type": "code",
      "metadata": {
        "id": "UeoqYovtTo0s",
        "colab_type": "code",
        "colab": {}
      },
      "source": [
        "x_train.to_csv(\"x_train_modified.csv\",index=False)\n",
        "y_train.to_csv(\"y_train_modified.csv\",index=False)\n",
        "x_test.to_csv(\"x_test_modified.csv\",index=False)\n",
        "y_test.to_csv(\"y_test_modified.csv\",index=False)"
      ],
      "execution_count": 0,
      "outputs": []
    },
    {
      "cell_type": "markdown",
      "metadata": {
        "id": "-NDp8lnIAAqS",
        "colab_type": "text"
      },
      "source": [
        "*Loading data into dataframe from file to continue execution from here each time*"
      ]
    },
    {
      "cell_type": "code",
      "metadata": {
        "id": "Aq77xBLB9r0n",
        "colab_type": "code",
        "colab": {}
      },
      "source": [
        "# import pandas as pd\n",
        "# import numpy as np\n",
        "# x_train = pd.read_csv('x_train_modified.csv')\n",
        "# y_train = pd.read_csv('y_train_modified.csv')\n",
        "# x_test = pd.read_csv('x_test_modified.csv')\n",
        "# y_test = pd.read_csv('y_test_modified.csv')"
      ],
      "execution_count": 0,
      "outputs": []
    },
    {
      "cell_type": "markdown",
      "metadata": {
        "id": "Y9Te6fChUaeW",
        "colab_type": "text"
      },
      "source": [
        "## **Helper Methods**"
      ]
    },
    {
      "cell_type": "code",
      "metadata": {
        "id": "I8GOe4ITA5bN",
        "colab_type": "code",
        "colab": {}
      },
      "source": [
        "from sklearn.metrics import accuracy_score, f1_score, precision_score, recall_score\n",
        "\n",
        "def displayMetrics(model, y_true, y_pred):\n",
        "  \n",
        "  #Accuracy Score\n",
        "  print('Accuracy: ', accuracy_score(y_true, y_pred))\n",
        "  \n",
        "  #Precision Score\n",
        "  print('Precision Score: ', precision_score(y_true, y_pred, average=None)) \n",
        "  \n",
        "  #Recall Score\n",
        "  print('Recall: ', recall_score(y_true, y_pred, average=None))\n",
        "  \n",
        "  #F1 Score\n",
        "  print('F1 Score: ', f1_score(y_true, y_pred, average=None))\n",
        "  "
      ],
      "execution_count": 0,
      "outputs": []
    },
    {
      "cell_type": "code",
      "metadata": {
        "id": "nQcsfawTCSQC",
        "colab_type": "code",
        "colab": {}
      },
      "source": [
        "from sklearn.metrics import precision_recall_curve, average_precision_score\n",
        "\n",
        "def plotRecallPrecision(model, testX, testy):\n",
        "  # predict probabilities\n",
        "  probs = model.predict_proba(testX)\n",
        "  # keep probabilities for the positive outcome only\n",
        "  probs = probs[:, 1]\n",
        "  # predict class values\n",
        "  yhat = model.predict(testX)\n",
        "  # calculate precision-recall curve\n",
        "  precision, recall, thresholds = precision_recall_curve(testy, probs)\n",
        "  # calculate F1 score\n",
        "  f1 = f1_score(testy, yhat)\n",
        "  # calculate precision-recall AUC\n",
        "  auc = auc(recall, precision)\n",
        "  # calculate average precision score\n",
        "  ap = average_precision_score(testy, probs)\n",
        "  print('f1=%.3f auc=%.3f ap=%.3f' % (f1, auc, ap))\n",
        "  # plot no skill\n",
        "  plt.plot([0, 1], [0.5, 0.5], linestyle='--')\n",
        "  # plot the precision-recall curve for the model\n",
        "  plt.plot(recall, precision, marker='.')\n",
        "  # show the plot\n",
        "  plt.xlabel('Recall', fontsize=12)\n",
        "  plt.ylabel('Precision', fontsize=12)\n",
        "  plt.title('Precision-Recall Curve', fontsize=12)\n",
        "  plt.show()"
      ],
      "execution_count": 0,
      "outputs": []
    },
    {
      "cell_type": "code",
      "metadata": {
        "id": "pqDCSyFbfOx6",
        "colab_type": "code",
        "colab": {}
      },
      "source": [
        "from sklearn.metrics import precision_recall_curve, average_precision_score\n",
        "\n",
        "def plotRecallPrecisionSVM(model, testX, testy):\n",
        "  # predict probabilities\n",
        "  probs = model.decision_function(testX)\n",
        "  # keep probabilities for the positive outcome only\n",
        "  probs = probs[:, 1]\n",
        "  # predict class values\n",
        "  yhat = model.predict(testX)\n",
        "  # calculate precision-recall curve\n",
        "  precision, recall, thresholds = precision_recall_curve(testy, probs)\n",
        "  # calculate F1 score\n",
        "  f1 = f1_score(testy, yhat)\n",
        "  # calculate precision-recall AUC\n",
        "  auc = auc(recall, precision)\n",
        "  # calculate average precision score\n",
        "  ap = average_precision_score(testy, probs)\n",
        "  print('f1=%.3f auc=%.3f ap=%.3f' % (f1, auc, ap))\n",
        "  # plot no skill\n",
        "  plt.plot([0, 1], [0.5, 0.5], linestyle='--')\n",
        "  # plot the precision-recall curve for the model\n",
        "  plt.plot(recall, precision, marker='.')\n",
        "  # show the plot\n",
        "  plt.xlabel('Recall', fontsize=12)\n",
        "  plt.ylabel('Precision', fontsize=12)\n",
        "  plt.title('Precision-Recall Curve', fontsize=12)\n",
        "  plt.show()"
      ],
      "execution_count": 0,
      "outputs": []
    },
    {
      "cell_type": "code",
      "metadata": {
        "id": "BU6ew20dHj3v",
        "colab_type": "code",
        "colab": {}
      },
      "source": [
        "from sklearn.metrics import mean_squared_error, r2_score\n",
        "def printLinearModels(model, x_train, x_test, y_train, y_test):\n",
        "  \n",
        "  y_predicted = model.predict(x_test)\n",
        "  rmse = mean_squared_error(y_test, y_predicted)\n",
        "  r2 = r2_score(y_test, y_predicted)\n",
        "  \n",
        "  # printing values\n",
        "#   print('Slope:' ,model.coef_)\n",
        "#   print('Intercept:', model.intercept_)\n",
        "  print('Root mean squared error: ', rmse)\n",
        "  print('R2 score: ', r2)"
      ],
      "execution_count": 0,
      "outputs": []
    },
    {
      "cell_type": "code",
      "metadata": {
        "id": "Qo3SKybcJ506",
        "colab_type": "code",
        "colab": {}
      },
      "source": [
        "from sklearn.metrics import confusion_matrix\n",
        "import seaborn as sn\n",
        "def plotConfusionMatrix(y_true, y_pred):\n",
        "  print(pd.crosstab(y_true, y_pred, rownames=['Actual'], colnames=['Predicted']))\n",
        "#   print(confusion_matrix(y_true, y_pred))\n",
        "#   sn.set(font_scale=1.4)#for label size\n",
        "#   sn.heatmap(df_cm, annot=True,annot_kws={\"size\": 16})# font size"
      ],
      "execution_count": 0,
      "outputs": []
    },
    {
      "cell_type": "code",
      "metadata": {
        "id": "GeLoXHzgxpUE",
        "colab_type": "code",
        "colab": {}
      },
      "source": [
        "from sklearn import model_selection\n",
        "# prepare configuration for cross validation test harness\n",
        "seed = 7\n",
        "scoring = 'accuracy'\n",
        "\n",
        "def modelComparison(models, x_train, y_train):\n",
        "  results = []\n",
        "  names = []\n",
        "  for model in models:\n",
        "    kfold = model_selection.KFold(n_splits=10, random_state=seed)\n",
        "    cv_results = model_selection.cross_val_score(model, x_train, y_train, cv=kfold)\n",
        "    results.append(cv_results)\n",
        "    #names.append(name)\n",
        "    msg = \"%s: %f (%f)\" % (name, cv_results.mean(), cv_results.std())\n",
        "    print(msg)\n",
        "  # boxplot algorithm comparison\n",
        "  fig = plt.figure()\n",
        "  fig.suptitle('Algorithm Comparison')\n",
        "  ax = fig.add_subplot(111)\n",
        "  plt.boxplot(results)\n",
        "  ax.set_xticklabels(names)\n",
        "  plt.show()"
      ],
      "execution_count": 0,
      "outputs": []
    },
    {
      "cell_type": "markdown",
      "metadata": {
        "id": "KczjZzOj6Agk",
        "colab_type": "text"
      },
      "source": [
        "*Cross validation using kfold*"
      ]
    },
    {
      "cell_type": "code",
      "metadata": {
        "id": "I0mA1uVE3WqK",
        "colab_type": "code",
        "colab": {}
      },
      "source": [
        "from sklearn import model_selection\n",
        "from sklearn.model_selection import cross_val_score\n",
        "\n",
        "seed = 7\n",
        "kfold = model_selection.KFold(n_splits=10, random_state=seed)"
      ],
      "execution_count": 0,
      "outputs": []
    },
    {
      "cell_type": "markdown",
      "metadata": {
        "id": "FHDulB3uUhgH",
        "colab_type": "text"
      },
      "source": [
        "## **Linear Models**"
      ]
    },
    {
      "cell_type": "code",
      "metadata": {
        "id": "8YRxcyAD6N4I",
        "colab_type": "code",
        "colab": {}
      },
      "source": [
        "results = []"
      ],
      "execution_count": 0,
      "outputs": []
    },
    {
      "cell_type": "markdown",
      "metadata": {
        "id": "8YfrnMptdpHE",
        "colab_type": "text"
      },
      "source": [
        "Basic LinearRegression - Baseline Model "
      ]
    },
    {
      "cell_type": "code",
      "metadata": {
        "id": "MalQR7j0pfNS",
        "colab_type": "code",
        "outputId": "adfc0ebc-04b4-4f7b-a164-4f0c9a82c3fb",
        "colab": {
          "base_uri": "https://localhost:8080/",
          "height": 51
        }
      },
      "source": [
        "from sklearn.linear_model import LinearRegression\n",
        "reg = LinearRegression()\n",
        "reg.fit(x_train,y_train)\n",
        "printLinearModels(reg, x_train, x_test, y_train, y_test)"
      ],
      "execution_count": 0,
      "outputs": [
        {
          "output_type": "stream",
          "text": [
            "Root mean squared error:  0.05807696859457037\n",
            "R2 score:  0.8822109351979905\n"
          ],
          "name": "stdout"
        }
      ]
    },
    {
      "cell_type": "code",
      "metadata": {
        "id": "vkrULsc-3vKS",
        "colab_type": "code",
        "outputId": "8a05f3f9-f3de-4414-91da-4c21f22c303d",
        "colab": {
          "base_uri": "https://localhost:8080/",
          "height": 34
        }
      },
      "source": [
        "cv_results = model_selection.cross_val_score(reg, x_test, y_test, cv=kfold)\n",
        "# results.append(cv_results)\n",
        "msg = \"%s: %f (%f)\" % ('LinearRegression', cv_results.mean(), cv_results.std())\n",
        "print(msg)"
      ],
      "execution_count": 0,
      "outputs": [
        {
          "output_type": "stream",
          "text": [
            "LinearRegression: 0.881029 (0.015245)\n"
          ],
          "name": "stdout"
        }
      ]
    },
    {
      "cell_type": "markdown",
      "metadata": {
        "id": "uvG-5dC4dvzX",
        "colab_type": "text"
      },
      "source": [
        "LogisticRegression - newton-cg"
      ]
    },
    {
      "cell_type": "code",
      "metadata": {
        "id": "fzBKpXtDcWyD",
        "colab_type": "code",
        "outputId": "050cbdb9-72a1-4044-cafd-7bcfb38cb1e4",
        "colab": {
          "base_uri": "https://localhost:8080/",
          "height": 187
        }
      },
      "source": [
        "from sklearn.linear_model import LogisticRegression\n",
        "logReg = LogisticRegression(solver='newton-cg', multi_class='auto', max_iter=1000)\n",
        "logReg.fit(x_train,y_train)"
      ],
      "execution_count": 0,
      "outputs": [
        {
          "output_type": "stream",
          "text": [
            "/usr/local/lib/python3.6/dist-packages/scipy/optimize/linesearch.py:462: LineSearchWarning: The line search algorithm did not converge\n",
            "  warn('The line search algorithm did not converge', LineSearchWarning)\n",
            "/usr/local/lib/python3.6/dist-packages/scipy/optimize/linesearch.py:313: LineSearchWarning: The line search algorithm did not converge\n",
            "  warn('The line search algorithm did not converge', LineSearchWarning)\n",
            "/usr/local/lib/python3.6/dist-packages/sklearn/utils/optimize.py:195: UserWarning: Line Search failed\n",
            "  warnings.warn('Line Search failed')\n"
          ],
          "name": "stderr"
        },
        {
          "output_type": "execute_result",
          "data": {
            "text/plain": [
              "LogisticRegression(C=1.0, class_weight=None, dual=False, fit_intercept=True,\n",
              "          intercept_scaling=1, max_iter=1000, multi_class='auto',\n",
              "          n_jobs=None, penalty='l2', random_state=None, solver='newton-cg',\n",
              "          tol=0.0001, verbose=0, warm_start=False)"
            ]
          },
          "metadata": {
            "tags": []
          },
          "execution_count": 361
        }
      ]
    },
    {
      "cell_type": "code",
      "metadata": {
        "id": "U2pa2KKxdkk1",
        "colab_type": "code",
        "outputId": "ed25b1aa-f80f-457c-fa81-1a2bb0aa953d",
        "colab": {
          "base_uri": "https://localhost:8080/",
          "height": 85
        }
      },
      "source": [
        "y_pred = logReg.predict(x_test)\n",
        "displayMetrics(logReg, y_test, y_pred)"
      ],
      "execution_count": 0,
      "outputs": [
        {
          "output_type": "stream",
          "text": [
            "Accuracy:  0.6451178451178451\n",
            "Precision Score:  [0.7235023  0.5259901  0.59574468]\n",
            "Recall:  [0.82995595 0.52729529 0.2443281 ]\n",
            "F1 Score:  [0.77308166 0.52664188 0.34653465]\n"
          ],
          "name": "stdout"
        }
      ]
    },
    {
      "cell_type": "code",
      "metadata": {
        "id": "vFkgZshk0pg5",
        "colab_type": "code",
        "outputId": "d67108e0-432b-47f4-99f0-8b0e74b2a3cf",
        "colab": {
          "base_uri": "https://localhost:8080/",
          "height": 153
        }
      },
      "source": [
        "print('\\n Confusion matrix \\n')\n",
        "plotConfusionMatrix(y_test, y_pred)"
      ],
      "execution_count": 0,
      "outputs": [
        {
          "output_type": "stream",
          "text": [
            "\n",
            " Confusion matrix \n",
            "\n",
            "Predicted   1.0  2.0  3.0\n",
            "Actual                   \n",
            "1.0        1884  360   26\n",
            "2.0         693  850   69\n",
            "3.0          27  406  140\n"
          ],
          "name": "stdout"
        }
      ]
    },
    {
      "cell_type": "code",
      "metadata": {
        "id": "-vMh-mkadUEa",
        "colab_type": "code",
        "outputId": "0645ddee-79e9-49e1-8634-27ca57cbc18d",
        "colab": {
          "base_uri": "https://localhost:8080/",
          "height": 1054
        }
      },
      "source": [
        "cv_results = model_selection.cross_val_score(logReg, x_test, y_test, cv=kfold)\n",
        "results.append(cv_results)\n",
        "msg = \"%s: %f (%f)\" % ('LogisticRegression-newton-cg', cv_results.mean(), cv_results.std())\n",
        "print(msg)"
      ],
      "execution_count": 0,
      "outputs": [
        {
          "output_type": "stream",
          "text": [
            "/usr/local/lib/python3.6/dist-packages/scipy/optimize/linesearch.py:462: LineSearchWarning: The line search algorithm did not converge\n",
            "  warn('The line search algorithm did not converge', LineSearchWarning)\n",
            "/usr/local/lib/python3.6/dist-packages/scipy/optimize/linesearch.py:313: LineSearchWarning: The line search algorithm did not converge\n",
            "  warn('The line search algorithm did not converge', LineSearchWarning)\n",
            "/usr/local/lib/python3.6/dist-packages/sklearn/utils/optimize.py:195: UserWarning: Line Search failed\n",
            "  warnings.warn('Line Search failed')\n",
            "/usr/local/lib/python3.6/dist-packages/scipy/optimize/linesearch.py:462: LineSearchWarning: The line search algorithm did not converge\n",
            "  warn('The line search algorithm did not converge', LineSearchWarning)\n",
            "/usr/local/lib/python3.6/dist-packages/scipy/optimize/linesearch.py:313: LineSearchWarning: The line search algorithm did not converge\n",
            "  warn('The line search algorithm did not converge', LineSearchWarning)\n",
            "/usr/local/lib/python3.6/dist-packages/sklearn/utils/optimize.py:195: UserWarning: Line Search failed\n",
            "  warnings.warn('Line Search failed')\n",
            "/usr/local/lib/python3.6/dist-packages/scipy/optimize/linesearch.py:462: LineSearchWarning: The line search algorithm did not converge\n",
            "  warn('The line search algorithm did not converge', LineSearchWarning)\n",
            "/usr/local/lib/python3.6/dist-packages/scipy/optimize/linesearch.py:313: LineSearchWarning: The line search algorithm did not converge\n",
            "  warn('The line search algorithm did not converge', LineSearchWarning)\n",
            "/usr/local/lib/python3.6/dist-packages/sklearn/utils/optimize.py:195: UserWarning: Line Search failed\n",
            "  warnings.warn('Line Search failed')\n",
            "/usr/local/lib/python3.6/dist-packages/scipy/optimize/linesearch.py:462: LineSearchWarning: The line search algorithm did not converge\n",
            "  warn('The line search algorithm did not converge', LineSearchWarning)\n",
            "/usr/local/lib/python3.6/dist-packages/scipy/optimize/linesearch.py:313: LineSearchWarning: The line search algorithm did not converge\n",
            "  warn('The line search algorithm did not converge', LineSearchWarning)\n",
            "/usr/local/lib/python3.6/dist-packages/sklearn/utils/optimize.py:195: UserWarning: Line Search failed\n",
            "  warnings.warn('Line Search failed')\n",
            "/usr/local/lib/python3.6/dist-packages/scipy/optimize/linesearch.py:462: LineSearchWarning: The line search algorithm did not converge\n",
            "  warn('The line search algorithm did not converge', LineSearchWarning)\n",
            "/usr/local/lib/python3.6/dist-packages/scipy/optimize/linesearch.py:313: LineSearchWarning: The line search algorithm did not converge\n",
            "  warn('The line search algorithm did not converge', LineSearchWarning)\n",
            "/usr/local/lib/python3.6/dist-packages/sklearn/utils/optimize.py:195: UserWarning: Line Search failed\n",
            "  warnings.warn('Line Search failed')\n",
            "/usr/local/lib/python3.6/dist-packages/scipy/optimize/linesearch.py:462: LineSearchWarning: The line search algorithm did not converge\n",
            "  warn('The line search algorithm did not converge', LineSearchWarning)\n",
            "/usr/local/lib/python3.6/dist-packages/scipy/optimize/linesearch.py:313: LineSearchWarning: The line search algorithm did not converge\n",
            "  warn('The line search algorithm did not converge', LineSearchWarning)\n",
            "/usr/local/lib/python3.6/dist-packages/sklearn/utils/optimize.py:195: UserWarning: Line Search failed\n",
            "  warnings.warn('Line Search failed')\n",
            "/usr/local/lib/python3.6/dist-packages/scipy/optimize/linesearch.py:462: LineSearchWarning: The line search algorithm did not converge\n",
            "  warn('The line search algorithm did not converge', LineSearchWarning)\n",
            "/usr/local/lib/python3.6/dist-packages/scipy/optimize/linesearch.py:313: LineSearchWarning: The line search algorithm did not converge\n",
            "  warn('The line search algorithm did not converge', LineSearchWarning)\n",
            "/usr/local/lib/python3.6/dist-packages/sklearn/utils/optimize.py:195: UserWarning: Line Search failed\n",
            "  warnings.warn('Line Search failed')\n",
            "/usr/local/lib/python3.6/dist-packages/scipy/optimize/linesearch.py:462: LineSearchWarning: The line search algorithm did not converge\n",
            "  warn('The line search algorithm did not converge', LineSearchWarning)\n",
            "/usr/local/lib/python3.6/dist-packages/scipy/optimize/linesearch.py:313: LineSearchWarning: The line search algorithm did not converge\n",
            "  warn('The line search algorithm did not converge', LineSearchWarning)\n",
            "/usr/local/lib/python3.6/dist-packages/sklearn/utils/optimize.py:195: UserWarning: Line Search failed\n",
            "  warnings.warn('Line Search failed')\n",
            "/usr/local/lib/python3.6/dist-packages/scipy/optimize/linesearch.py:462: LineSearchWarning: The line search algorithm did not converge\n",
            "  warn('The line search algorithm did not converge', LineSearchWarning)\n",
            "/usr/local/lib/python3.6/dist-packages/scipy/optimize/linesearch.py:313: LineSearchWarning: The line search algorithm did not converge\n",
            "  warn('The line search algorithm did not converge', LineSearchWarning)\n",
            "/usr/local/lib/python3.6/dist-packages/sklearn/utils/optimize.py:195: UserWarning: Line Search failed\n",
            "  warnings.warn('Line Search failed')\n",
            "/usr/local/lib/python3.6/dist-packages/scipy/optimize/linesearch.py:462: LineSearchWarning: The line search algorithm did not converge\n",
            "  warn('The line search algorithm did not converge', LineSearchWarning)\n",
            "/usr/local/lib/python3.6/dist-packages/scipy/optimize/linesearch.py:313: LineSearchWarning: The line search algorithm did not converge\n",
            "  warn('The line search algorithm did not converge', LineSearchWarning)\n"
          ],
          "name": "stderr"
        },
        {
          "output_type": "stream",
          "text": [
            "LogisticRegression-newton-cg: 0.652078 (0.061864)\n"
          ],
          "name": "stdout"
        },
        {
          "output_type": "stream",
          "text": [
            "/usr/local/lib/python3.6/dist-packages/sklearn/utils/optimize.py:195: UserWarning: Line Search failed\n",
            "  warnings.warn('Line Search failed')\n"
          ],
          "name": "stderr"
        }
      ]
    },
    {
      "cell_type": "markdown",
      "metadata": {
        "id": "eoyWbKt7d4dK",
        "colab_type": "text"
      },
      "source": [
        "LogisticRegression - saga"
      ]
    },
    {
      "cell_type": "code",
      "metadata": {
        "id": "0J7C1Ia1e9fJ",
        "colab_type": "code",
        "outputId": "00a34a4e-a7b2-47bf-a29d-e102ec1826fb",
        "colab": {
          "base_uri": "https://localhost:8080/",
          "height": 139
        }
      },
      "source": [
        "from sklearn.linear_model import LogisticRegression\n",
        "logRegSaga = LogisticRegression(solver='saga', multi_class='auto', max_iter=1000)\n",
        "logRegSaga.fit(x_train,y_train)"
      ],
      "execution_count": 0,
      "outputs": [
        {
          "output_type": "stream",
          "text": [
            "/usr/local/lib/python3.6/dist-packages/sklearn/linear_model/sag.py:334: ConvergenceWarning: The max_iter was reached which means the coef_ did not converge\n",
            "  \"the coef_ did not converge\", ConvergenceWarning)\n"
          ],
          "name": "stderr"
        },
        {
          "output_type": "execute_result",
          "data": {
            "text/plain": [
              "LogisticRegression(C=1.0, class_weight=None, dual=False, fit_intercept=True,\n",
              "          intercept_scaling=1, max_iter=1000, multi_class='auto',\n",
              "          n_jobs=None, penalty='l2', random_state=None, solver='saga',\n",
              "          tol=0.0001, verbose=0, warm_start=False)"
            ]
          },
          "metadata": {
            "tags": []
          },
          "execution_count": 365
        }
      ]
    },
    {
      "cell_type": "code",
      "metadata": {
        "id": "wcJoWnC3fCtV",
        "colab_type": "code",
        "outputId": "8544103b-8bb7-4047-921d-406fcad95c56",
        "colab": {
          "base_uri": "https://localhost:8080/",
          "height": 173
        }
      },
      "source": [
        "y_pred = logRegSaga.predict(x_test)\n",
        "displayMetrics(logRegSaga, y_test, y_pred)"
      ],
      "execution_count": 0,
      "outputs": [
        {
          "output_type": "stream",
          "text": [
            "Accuracy:  0.5095398428731762\n",
            "Precision Score:  [0.50953984 0.         0.        ]\n",
            "Recall:  [1. 0. 0.]\n",
            "F1 Score:  [0.67509294 0.         0.        ]\n"
          ],
          "name": "stdout"
        },
        {
          "output_type": "stream",
          "text": [
            "/usr/local/lib/python3.6/dist-packages/sklearn/metrics/classification.py:1143: UndefinedMetricWarning: Precision is ill-defined and being set to 0.0 in labels with no predicted samples.\n",
            "  'precision', 'predicted', average, warn_for)\n",
            "/usr/local/lib/python3.6/dist-packages/sklearn/metrics/classification.py:1143: UndefinedMetricWarning: F-score is ill-defined and being set to 0.0 in labels with no predicted samples.\n",
            "  'precision', 'predicted', average, warn_for)\n"
          ],
          "name": "stderr"
        }
      ]
    },
    {
      "cell_type": "code",
      "metadata": {
        "id": "r2s44nld0svG",
        "colab_type": "code",
        "outputId": "5ea09de4-c46e-453a-d417-d2532bcb81ed",
        "colab": {
          "base_uri": "https://localhost:8080/",
          "height": 153
        }
      },
      "source": [
        "print('\\n Confusion matrix \\n')\n",
        "plotConfusionMatrix(y_test, y_pred)"
      ],
      "execution_count": 0,
      "outputs": [
        {
          "output_type": "stream",
          "text": [
            "\n",
            " Confusion matrix \n",
            "\n",
            "Predicted   1.0\n",
            "Actual         \n",
            "1.0        2270\n",
            "2.0        1612\n",
            "3.0         573\n"
          ],
          "name": "stdout"
        }
      ]
    },
    {
      "cell_type": "code",
      "metadata": {
        "id": "leesvDtefFFs",
        "colab_type": "code",
        "outputId": "f36c9f88-fb56-459c-faff-fac368b5fb61",
        "colab": {
          "base_uri": "https://localhost:8080/",
          "height": 394
        }
      },
      "source": [
        "cv_results = model_selection.cross_val_score(logRegSaga, x_test, y_test, cv=kfold)\n",
        "results.append(cv_results)\n",
        "msg = \"%s: %f (%f)\" % ('LogisticRegression-saga', cv_results.mean(), cv_results.std())\n",
        "print(msg)"
      ],
      "execution_count": 0,
      "outputs": [
        {
          "output_type": "stream",
          "text": [
            "/usr/local/lib/python3.6/dist-packages/sklearn/linear_model/sag.py:334: ConvergenceWarning: The max_iter was reached which means the coef_ did not converge\n",
            "  \"the coef_ did not converge\", ConvergenceWarning)\n",
            "/usr/local/lib/python3.6/dist-packages/sklearn/linear_model/sag.py:334: ConvergenceWarning: The max_iter was reached which means the coef_ did not converge\n",
            "  \"the coef_ did not converge\", ConvergenceWarning)\n",
            "/usr/local/lib/python3.6/dist-packages/sklearn/linear_model/sag.py:334: ConvergenceWarning: The max_iter was reached which means the coef_ did not converge\n",
            "  \"the coef_ did not converge\", ConvergenceWarning)\n",
            "/usr/local/lib/python3.6/dist-packages/sklearn/linear_model/sag.py:334: ConvergenceWarning: The max_iter was reached which means the coef_ did not converge\n",
            "  \"the coef_ did not converge\", ConvergenceWarning)\n",
            "/usr/local/lib/python3.6/dist-packages/sklearn/linear_model/sag.py:334: ConvergenceWarning: The max_iter was reached which means the coef_ did not converge\n",
            "  \"the coef_ did not converge\", ConvergenceWarning)\n",
            "/usr/local/lib/python3.6/dist-packages/sklearn/linear_model/sag.py:334: ConvergenceWarning: The max_iter was reached which means the coef_ did not converge\n",
            "  \"the coef_ did not converge\", ConvergenceWarning)\n",
            "/usr/local/lib/python3.6/dist-packages/sklearn/linear_model/sag.py:334: ConvergenceWarning: The max_iter was reached which means the coef_ did not converge\n",
            "  \"the coef_ did not converge\", ConvergenceWarning)\n",
            "/usr/local/lib/python3.6/dist-packages/sklearn/linear_model/sag.py:334: ConvergenceWarning: The max_iter was reached which means the coef_ did not converge\n",
            "  \"the coef_ did not converge\", ConvergenceWarning)\n",
            "/usr/local/lib/python3.6/dist-packages/sklearn/linear_model/sag.py:334: ConvergenceWarning: The max_iter was reached which means the coef_ did not converge\n",
            "  \"the coef_ did not converge\", ConvergenceWarning)\n"
          ],
          "name": "stderr"
        },
        {
          "output_type": "stream",
          "text": [
            "LogisticRegression-saga: 0.509552 (0.028214)\n"
          ],
          "name": "stdout"
        },
        {
          "output_type": "stream",
          "text": [
            "/usr/local/lib/python3.6/dist-packages/sklearn/linear_model/sag.py:334: ConvergenceWarning: The max_iter was reached which means the coef_ did not converge\n",
            "  \"the coef_ did not converge\", ConvergenceWarning)\n"
          ],
          "name": "stderr"
        }
      ]
    },
    {
      "cell_type": "markdown",
      "metadata": {
        "id": "JeCtxi1QfkN5",
        "colab_type": "text"
      },
      "source": [
        "RidgeClassifier"
      ]
    },
    {
      "cell_type": "code",
      "metadata": {
        "id": "-8aOaiTlNg87",
        "colab_type": "code",
        "outputId": "e1e89a96-fd9f-4328-f7b9-d6cc4cc7a831",
        "colab": {
          "base_uri": "https://localhost:8080/",
          "height": 68
        }
      },
      "source": [
        "from sklearn.linear_model import RidgeClassifier\n",
        "ridgeCls = RidgeClassifier()\n",
        "ridgeCls.fit(x_train, y_train)"
      ],
      "execution_count": 0,
      "outputs": [
        {
          "output_type": "execute_result",
          "data": {
            "text/plain": [
              "RidgeClassifier(alpha=1.0, class_weight=None, copy_X=True, fit_intercept=True,\n",
              "        max_iter=None, normalize=False, random_state=None, solver='auto',\n",
              "        tol=0.001)"
            ]
          },
          "metadata": {
            "tags": []
          },
          "execution_count": 65
        }
      ]
    },
    {
      "cell_type": "code",
      "metadata": {
        "id": "rEuYAs5wgEWg",
        "colab_type": "code",
        "outputId": "94c21eda-b223-4121-8f9d-f785413af276",
        "colab": {
          "base_uri": "https://localhost:8080/",
          "height": 85
        }
      },
      "source": [
        "y_pred = ridgeCls.predict(x_test)\n",
        "displayMetrics(ridgeCls, y_test, y_pred)"
      ],
      "execution_count": 0,
      "outputs": [
        {
          "output_type": "stream",
          "text": [
            "Accuracy:  0.7973063973063973\n",
            "Precision Score:  [0.85018727 0.70931604 0.88764045]\n",
            "Recall:  [1.         0.74627792 0.13787086]\n",
            "F1 Score:  [0.91902834 0.72732769 0.23867069]\n"
          ],
          "name": "stdout"
        }
      ]
    },
    {
      "cell_type": "code",
      "metadata": {
        "id": "q4ppacHM0vSe",
        "colab_type": "code",
        "outputId": "1d8c4fc3-515d-49f1-adc3-c2a990137ac8",
        "colab": {
          "base_uri": "https://localhost:8080/",
          "height": 153
        }
      },
      "source": [
        "print('\\n Confusion matrix \\n')\n",
        "plotConfusionMatrix(y_test, y_pred)"
      ],
      "execution_count": 0,
      "outputs": [
        {
          "output_type": "stream",
          "text": [
            "\n",
            " Confusion matrix \n",
            "\n",
            "Predicted   1.0   2.0  3.0\n",
            "Actual                    \n",
            "1.0        2270     0    0\n",
            "2.0         399  1203   10\n",
            "3.0           1   493   79\n"
          ],
          "name": "stdout"
        }
      ]
    },
    {
      "cell_type": "code",
      "metadata": {
        "id": "gIZ1scih5DQn",
        "colab_type": "code",
        "outputId": "92766317-cfeb-42ca-f48c-9d560614da4e",
        "colab": {
          "base_uri": "https://localhost:8080/",
          "height": 34
        }
      },
      "source": [
        "cv_results = model_selection.cross_val_score(ridgeCls, x_test, y_test, cv=kfold)\n",
        "results.append(cv_results)\n",
        "msg = \"%s: %f (%f)\" % ('RidgeClassifier', cv_results.mean(), cv_results.std())\n",
        "print(msg)"
      ],
      "execution_count": 0,
      "outputs": [
        {
          "output_type": "stream",
          "text": [
            "RidgeClassifier: 0.793946 (0.022223)\n"
          ],
          "name": "stdout"
        }
      ]
    },
    {
      "cell_type": "markdown",
      "metadata": {
        "id": "S3AZtR8LgKwH",
        "colab_type": "text"
      },
      "source": [
        "SGDClassifier"
      ]
    },
    {
      "cell_type": "code",
      "metadata": {
        "id": "vcFHeWoFgNdj",
        "colab_type": "code",
        "outputId": "30ee7470-2bb1-499e-93db-f54b7c7e5827",
        "colab": {
          "base_uri": "https://localhost:8080/",
          "height": 173
        }
      },
      "source": [
        "from sklearn.linear_model import SGDClassifier\n",
        "sgdCls = SGDClassifier(max_iter=1000)\n",
        "sgdCls.fit(x_train, y_train)"
      ],
      "execution_count": 0,
      "outputs": [
        {
          "output_type": "stream",
          "text": [
            "/usr/local/lib/python3.6/dist-packages/sklearn/linear_model/stochastic_gradient.py:183: FutureWarning: max_iter and tol parameters have been added in SGDClassifier in 0.19. If max_iter is set but tol is left unset, the default value for tol in 0.19 and 0.20 will be None (which is equivalent to -infinity, so it has no effect) but will change in 0.21 to 1e-3. Specify tol to silence this warning.\n",
            "  FutureWarning)\n"
          ],
          "name": "stderr"
        },
        {
          "output_type": "execute_result",
          "data": {
            "text/plain": [
              "SGDClassifier(alpha=0.0001, average=False, class_weight=None,\n",
              "       early_stopping=False, epsilon=0.1, eta0=0.0, fit_intercept=True,\n",
              "       l1_ratio=0.15, learning_rate='optimal', loss='hinge', max_iter=1000,\n",
              "       n_iter=None, n_iter_no_change=5, n_jobs=None, penalty='l2',\n",
              "       power_t=0.5, random_state=None, shuffle=True, tol=None,\n",
              "       validation_fraction=0.1, verbose=0, warm_start=False)"
            ]
          },
          "metadata": {
            "tags": []
          },
          "execution_count": 373
        }
      ]
    },
    {
      "cell_type": "code",
      "metadata": {
        "id": "jeEM6dUwgit-",
        "colab_type": "code",
        "outputId": "f7f53667-a1a8-4d4e-94e0-6ad73ed46f63",
        "colab": {
          "base_uri": "https://localhost:8080/",
          "height": 173
        }
      },
      "source": [
        "y_pred = sgdCls.predict(x_test)\n",
        "displayMetrics(sgdCls, y_test, y_pred)"
      ],
      "execution_count": 0,
      "outputs": [
        {
          "output_type": "stream",
          "text": [
            "Accuracy:  0.5095398428731762\n",
            "Precision Score:  [0.50953984 0.         0.        ]\n",
            "Recall:  [1. 0. 0.]\n",
            "F1 Score:  [0.67509294 0.         0.        ]\n"
          ],
          "name": "stdout"
        },
        {
          "output_type": "stream",
          "text": [
            "/usr/local/lib/python3.6/dist-packages/sklearn/metrics/classification.py:1143: UndefinedMetricWarning: Precision is ill-defined and being set to 0.0 in labels with no predicted samples.\n",
            "  'precision', 'predicted', average, warn_for)\n",
            "/usr/local/lib/python3.6/dist-packages/sklearn/metrics/classification.py:1143: UndefinedMetricWarning: F-score is ill-defined and being set to 0.0 in labels with no predicted samples.\n",
            "  'precision', 'predicted', average, warn_for)\n"
          ],
          "name": "stderr"
        }
      ]
    },
    {
      "cell_type": "code",
      "metadata": {
        "id": "YAa8NoHY0ySk",
        "colab_type": "code",
        "outputId": "5bd59b26-bd0a-42fc-a3d1-354cc1010104",
        "colab": {
          "base_uri": "https://localhost:8080/",
          "height": 153
        }
      },
      "source": [
        "print('\\n Confusion matrix \\n')\n",
        "plotConfusionMatrix(y_test, y_pred)"
      ],
      "execution_count": 0,
      "outputs": [
        {
          "output_type": "stream",
          "text": [
            "\n",
            " Confusion matrix \n",
            "\n",
            "Predicted   1.0\n",
            "Actual         \n",
            "1.0        2270\n",
            "2.0        1612\n",
            "3.0         573\n"
          ],
          "name": "stdout"
        }
      ]
    },
    {
      "cell_type": "code",
      "metadata": {
        "id": "An6PXXNRgnyI",
        "colab_type": "code",
        "outputId": "2c801ad2-9165-4bef-85e6-bf721b6b98b0",
        "colab": {
          "base_uri": "https://localhost:8080/",
          "height": 394
        }
      },
      "source": [
        "cv_results = model_selection.cross_val_score(sgdCls, x_test, y_test, cv=kfold)\n",
        "results.append(cv_results)\n",
        "msg = \"%s: %f (%f)\" % ('SGDClassifier', cv_results.mean(), cv_results.std())\n",
        "print(msg)"
      ],
      "execution_count": 0,
      "outputs": [
        {
          "output_type": "stream",
          "text": [
            "/usr/local/lib/python3.6/dist-packages/sklearn/linear_model/stochastic_gradient.py:183: FutureWarning: max_iter and tol parameters have been added in SGDClassifier in 0.19. If max_iter is set but tol is left unset, the default value for tol in 0.19 and 0.20 will be None (which is equivalent to -infinity, so it has no effect) but will change in 0.21 to 1e-3. Specify tol to silence this warning.\n",
            "  FutureWarning)\n",
            "/usr/local/lib/python3.6/dist-packages/sklearn/linear_model/stochastic_gradient.py:183: FutureWarning: max_iter and tol parameters have been added in SGDClassifier in 0.19. If max_iter is set but tol is left unset, the default value for tol in 0.19 and 0.20 will be None (which is equivalent to -infinity, so it has no effect) but will change in 0.21 to 1e-3. Specify tol to silence this warning.\n",
            "  FutureWarning)\n",
            "/usr/local/lib/python3.6/dist-packages/sklearn/linear_model/stochastic_gradient.py:183: FutureWarning: max_iter and tol parameters have been added in SGDClassifier in 0.19. If max_iter is set but tol is left unset, the default value for tol in 0.19 and 0.20 will be None (which is equivalent to -infinity, so it has no effect) but will change in 0.21 to 1e-3. Specify tol to silence this warning.\n",
            "  FutureWarning)\n",
            "/usr/local/lib/python3.6/dist-packages/sklearn/linear_model/stochastic_gradient.py:183: FutureWarning: max_iter and tol parameters have been added in SGDClassifier in 0.19. If max_iter is set but tol is left unset, the default value for tol in 0.19 and 0.20 will be None (which is equivalent to -infinity, so it has no effect) but will change in 0.21 to 1e-3. Specify tol to silence this warning.\n",
            "  FutureWarning)\n",
            "/usr/local/lib/python3.6/dist-packages/sklearn/linear_model/stochastic_gradient.py:183: FutureWarning: max_iter and tol parameters have been added in SGDClassifier in 0.19. If max_iter is set but tol is left unset, the default value for tol in 0.19 and 0.20 will be None (which is equivalent to -infinity, so it has no effect) but will change in 0.21 to 1e-3. Specify tol to silence this warning.\n",
            "  FutureWarning)\n",
            "/usr/local/lib/python3.6/dist-packages/sklearn/linear_model/stochastic_gradient.py:183: FutureWarning: max_iter and tol parameters have been added in SGDClassifier in 0.19. If max_iter is set but tol is left unset, the default value for tol in 0.19 and 0.20 will be None (which is equivalent to -infinity, so it has no effect) but will change in 0.21 to 1e-3. Specify tol to silence this warning.\n",
            "  FutureWarning)\n",
            "/usr/local/lib/python3.6/dist-packages/sklearn/linear_model/stochastic_gradient.py:183: FutureWarning: max_iter and tol parameters have been added in SGDClassifier in 0.19. If max_iter is set but tol is left unset, the default value for tol in 0.19 and 0.20 will be None (which is equivalent to -infinity, so it has no effect) but will change in 0.21 to 1e-3. Specify tol to silence this warning.\n",
            "  FutureWarning)\n",
            "/usr/local/lib/python3.6/dist-packages/sklearn/linear_model/stochastic_gradient.py:183: FutureWarning: max_iter and tol parameters have been added in SGDClassifier in 0.19. If max_iter is set but tol is left unset, the default value for tol in 0.19 and 0.20 will be None (which is equivalent to -infinity, so it has no effect) but will change in 0.21 to 1e-3. Specify tol to silence this warning.\n",
            "  FutureWarning)\n",
            "/usr/local/lib/python3.6/dist-packages/sklearn/linear_model/stochastic_gradient.py:183: FutureWarning: max_iter and tol parameters have been added in SGDClassifier in 0.19. If max_iter is set but tol is left unset, the default value for tol in 0.19 and 0.20 will be None (which is equivalent to -infinity, so it has no effect) but will change in 0.21 to 1e-3. Specify tol to silence this warning.\n",
            "  FutureWarning)\n",
            "/usr/local/lib/python3.6/dist-packages/sklearn/linear_model/stochastic_gradient.py:183: FutureWarning: max_iter and tol parameters have been added in SGDClassifier in 0.19. If max_iter is set but tol is left unset, the default value for tol in 0.19 and 0.20 will be None (which is equivalent to -infinity, so it has no effect) but will change in 0.21 to 1e-3. Specify tol to silence this warning.\n",
            "  FutureWarning)\n"
          ],
          "name": "stderr"
        },
        {
          "output_type": "stream",
          "text": [
            "SGDClassifier: 0.331333 (0.146654)\n"
          ],
          "name": "stdout"
        }
      ]
    },
    {
      "cell_type": "markdown",
      "metadata": {
        "id": "NnGQulVCzTbx",
        "colab_type": "text"
      },
      "source": [
        "### Comaprison of linear model"
      ]
    },
    {
      "cell_type": "code",
      "metadata": {
        "id": "PN-LYfRKzdOc",
        "colab_type": "code",
        "outputId": "80c8fd88-de83-4365-d0ad-a7a78de0caaf",
        "colab": {
          "base_uri": "https://localhost:8080/",
          "height": 294
        }
      },
      "source": [
        "names=['LGRN','LGRS','RC','SGD']\n",
        "\n",
        "fig = plt.figure()\n",
        "fig.suptitle('Algorithm Comparison')\n",
        "ax = fig.add_subplot(111)\n",
        "plt.boxplot(results)\n",
        "ax.set_xticklabels(names)\n",
        "plt.show()"
      ],
      "execution_count": 0,
      "outputs": [
        {
          "output_type": "display_data",
          "data": {
            "image/png": "[encoded data removed]",
            "text/plain": [
              "<Figure size 432x288 with 1 Axes>"
            ]
          },
          "metadata": {
            "tags": []
          }
        }
      ]
    },
    {
      "cell_type": "markdown",
      "metadata": {
        "id": "n_ZOtYooUH4B",
        "colab_type": "text"
      },
      "source": [
        "## **Geometric Models**"
      ]
    },
    {
      "cell_type": "code",
      "metadata": {
        "id": "tyP6I6rr6Xcw",
        "colab_type": "code",
        "colab": {}
      },
      "source": [
        "results = []"
      ],
      "execution_count": 0,
      "outputs": []
    },
    {
      "cell_type": "markdown",
      "metadata": {
        "id": "1RfF5pq4Urh9",
        "colab_type": "text"
      },
      "source": [
        "*Support Vector Machines*"
      ]
    },
    {
      "cell_type": "code",
      "metadata": {
        "id": "eUXJ-eGbUGZJ",
        "colab_type": "code",
        "outputId": "566f98de-0668-47a1-814e-aa0b2819c826",
        "colab": {
          "base_uri": "https://localhost:8080/",
          "height": 85
        }
      },
      "source": [
        "from sklearn.svm import SVC\n",
        "svcModel = SVC(gamma='auto', probability=True)\n",
        "svcModel.fit(x_train,y_train)"
      ],
      "execution_count": 0,
      "outputs": [
        {
          "output_type": "execute_result",
          "data": {
            "text/plain": [
              "SVC(C=1.0, cache_size=200, class_weight=None, coef0=0.0,\n",
              "  decision_function_shape='ovr', degree=3, gamma='auto', kernel='rbf',\n",
              "  max_iter=-1, probability=True, random_state=None, shrinking=True,\n",
              "  tol=0.001, verbose=False)"
            ]
          },
          "metadata": {
            "tags": []
          },
          "execution_count": 379
        }
      ]
    },
    {
      "cell_type": "code",
      "metadata": {
        "id": "w5wBVs6WXEpc",
        "colab_type": "code",
        "outputId": "ef1c9ee3-2c79-44d0-f06e-8a040554567a",
        "colab": {
          "base_uri": "https://localhost:8080/",
          "height": 85
        }
      },
      "source": [
        "y_pred = svcModel.predict(x_test)\n",
        "displayMetrics(svcModel, y_test, y_pred)"
      ],
      "execution_count": 0,
      "outputs": [
        {
          "output_type": "stream",
          "text": [
            "Accuracy:  0.5921436588103255\n",
            "Precision Score:  [0.55711127 0.96153846 1.        ]\n",
            "Recall:  [0.99911894 0.21712159 0.03490401]\n",
            "F1 Score:  [0.71534458 0.35425101 0.06745363]\n"
          ],
          "name": "stdout"
        }
      ]
    },
    {
      "cell_type": "code",
      "metadata": {
        "id": "pnnT89m6LXSA",
        "colab_type": "code",
        "outputId": "52417489-eb90-4fcf-fb5f-4b82d626a774",
        "colab": {
          "base_uri": "https://localhost:8080/",
          "height": 153
        }
      },
      "source": [
        "print('\\n Confusion matrix \\n')\n",
        "plotConfusionMatrix(y_test, y_pred)"
      ],
      "execution_count": 0,
      "outputs": [
        {
          "output_type": "stream",
          "text": [
            "\n",
            " Confusion matrix \n",
            "\n",
            "Predicted   1.0  2.0  3.0\n",
            "Actual                   \n",
            "1.0        2268    2    0\n",
            "2.0        1262  350    0\n",
            "3.0         541   12   20\n"
          ],
          "name": "stdout"
        }
      ]
    },
    {
      "cell_type": "code",
      "metadata": {
        "id": "YXbTFpgv6VCB",
        "colab_type": "code",
        "outputId": "6160a30e-4fb9-47f8-829e-3b10b261534f",
        "colab": {
          "base_uri": "https://localhost:8080/",
          "height": 34
        }
      },
      "source": [
        "cv_results = model_selection.cross_val_score(svcModel, x_test, y_test, cv=kfold)\n",
        "results.append(cv_results)\n",
        "msg = \"%s: %f (%f)\" % ('SVC', cv_results.mean(), cv_results.std())\n",
        "print(msg)"
      ],
      "execution_count": 0,
      "outputs": [
        {
          "output_type": "stream",
          "text": [
            "SVC: 0.527731 (0.025099)\n"
          ],
          "name": "stdout"
        }
      ]
    },
    {
      "cell_type": "markdown",
      "metadata": {
        "id": "KPWQXkvrhlnp",
        "colab_type": "text"
      },
      "source": [
        "*KNearestNeighbours using manhattan distance*"
      ]
    },
    {
      "cell_type": "code",
      "metadata": {
        "id": "SZkeKiyIhoeL",
        "colab_type": "code",
        "outputId": "7942655d-ff64-4229-cacd-3fa5ffe10203",
        "colab": {
          "base_uri": "https://localhost:8080/",
          "height": 68
        }
      },
      "source": [
        "from sklearn.neighbors import KNeighborsClassifier\n",
        "#manhattan_distance\n",
        "knnModel = KNeighborsClassifier(p=1, n_neighbors=8)\n",
        "knnModel.fit(x_train,y_train)"
      ],
      "execution_count": 0,
      "outputs": [
        {
          "output_type": "execute_result",
          "data": {
            "text/plain": [
              "KNeighborsClassifier(algorithm='auto', leaf_size=30, metric='minkowski',\n",
              "           metric_params=None, n_jobs=None, n_neighbors=8, p=1,\n",
              "           weights='uniform')"
            ]
          },
          "metadata": {
            "tags": []
          },
          "execution_count": 66
        }
      ]
    },
    {
      "cell_type": "code",
      "metadata": {
        "id": "UO7tRlvliEK9",
        "colab_type": "code",
        "outputId": "ad7f8da9-905f-4c67-ed73-ea7c5c635a24",
        "colab": {
          "base_uri": "https://localhost:8080/",
          "height": 85
        }
      },
      "source": [
        "y_pred = knnModel.predict(x_test)\n",
        "displayMetrics(knnModel, y_test, y_pred)"
      ],
      "execution_count": 0,
      "outputs": [
        {
          "output_type": "stream",
          "text": [
            "Accuracy:  0.8439955106621774\n",
            "Precision Score:  [0.88111605 0.77830189 0.91258741]\n",
            "Recall:  [0.95991189 0.81885856 0.45549738]\n",
            "F1 Score:  [0.91882775 0.7980653  0.60768335]\n"
          ],
          "name": "stdout"
        }
      ]
    },
    {
      "cell_type": "code",
      "metadata": {
        "id": "1UwAJBZFPWcl",
        "colab_type": "code",
        "outputId": "42e2e648-30cb-4451-f786-d8384339805f",
        "colab": {
          "base_uri": "https://localhost:8080/",
          "height": 153
        }
      },
      "source": [
        "print('\\n Confusion matrix \\n')\n",
        "plotConfusionMatrix(y_test, y_pred)"
      ],
      "execution_count": 0,
      "outputs": [
        {
          "output_type": "stream",
          "text": [
            "\n",
            " Confusion matrix \n",
            "\n",
            "Predicted   1.0   2.0  3.0\n",
            "Actual                    \n",
            "1.0        2179    90    1\n",
            "2.0         268  1320   24\n",
            "3.0          26   286  261\n"
          ],
          "name": "stdout"
        }
      ]
    },
    {
      "cell_type": "code",
      "metadata": {
        "id": "n9tMVo4M6tZd",
        "colab_type": "code",
        "outputId": "ffa8797a-2383-4ab6-9521-b6f947f03b63",
        "colab": {
          "base_uri": "https://localhost:8080/",
          "height": 34
        }
      },
      "source": [
        "cv_results = model_selection.cross_val_score(knnModel, x_test, y_test, cv=kfold)\n",
        "results.append(cv_results)\n",
        "msg = \"%s: %f (%f)\" % ('KNN-M', cv_results.mean(), cv_results.std())\n",
        "print(msg)"
      ],
      "execution_count": 0,
      "outputs": [
        {
          "output_type": "stream",
          "text": [
            "KNN-M: 0.703258 (0.034119)\n"
          ],
          "name": "stdout"
        }
      ]
    },
    {
      "cell_type": "markdown",
      "metadata": {
        "id": "naTGLPl_UsXy",
        "colab_type": "text"
      },
      "source": [
        "*KNearestNeighbours using euclidean distance*"
      ]
    },
    {
      "cell_type": "code",
      "metadata": {
        "id": "Pp5-EXCkkCnx",
        "colab_type": "code",
        "outputId": "4de483b6-bc7d-43a2-de8a-c5ba8c546997",
        "colab": {
          "base_uri": "https://localhost:8080/",
          "height": 68
        }
      },
      "source": [
        "#euclidean_distance\n",
        "knnModelE = KNeighborsClassifier(p=2, n_neighbors=8)\n",
        "knnModelE.fit(x_train,y_train)"
      ],
      "execution_count": 0,
      "outputs": [
        {
          "output_type": "execute_result",
          "data": {
            "text/plain": [
              "KNeighborsClassifier(algorithm='auto', leaf_size=30, metric='minkowski',\n",
              "           metric_params=None, n_jobs=None, n_neighbors=8, p=2,\n",
              "           weights='uniform')"
            ]
          },
          "metadata": {
            "tags": []
          },
          "execution_count": 387
        }
      ]
    },
    {
      "cell_type": "code",
      "metadata": {
        "id": "_NjNvffbj2uh",
        "colab_type": "code",
        "outputId": "19779972-7d1b-4573-a277-c8abe09ba62a",
        "colab": {
          "base_uri": "https://localhost:8080/",
          "height": 85
        }
      },
      "source": [
        "y_pred = knnModelE.predict(x_test)\n",
        "displayMetrics(knnModelE, y_test, y_pred)"
      ],
      "execution_count": 0,
      "outputs": [
        {
          "output_type": "stream",
          "text": [
            "Accuracy:  0.8453423120089787\n",
            "Precision Score:  [0.89257893 0.77100115 0.89568345]\n",
            "Recall:  [0.95903084 0.83126551 0.43455497]\n",
            "F1 Score:  [0.92461244 0.8        0.58519389]\n"
          ],
          "name": "stdout"
        }
      ]
    },
    {
      "cell_type": "code",
      "metadata": {
        "id": "pRqCv18lSpuK",
        "colab_type": "code",
        "outputId": "388356b0-74df-4b9d-d4e7-51c6c38b6045",
        "colab": {
          "base_uri": "https://localhost:8080/",
          "height": 153
        }
      },
      "source": [
        "print('\\n Confusion matrix \\n')\n",
        "plotConfusionMatrix(y_test, y_pred)"
      ],
      "execution_count": 0,
      "outputs": [
        {
          "output_type": "stream",
          "text": [
            "\n",
            " Confusion matrix \n",
            "\n",
            "Predicted   1.0   2.0  3.0\n",
            "Actual                    \n",
            "1.0        2177    92    1\n",
            "2.0         244  1340   28\n",
            "3.0          18   306  249\n"
          ],
          "name": "stdout"
        }
      ]
    },
    {
      "cell_type": "code",
      "metadata": {
        "id": "6JWVXQ2J638W",
        "colab_type": "code",
        "outputId": "01eff3a9-b87c-49ec-9002-6b64ef335cff",
        "colab": {
          "base_uri": "https://localhost:8080/",
          "height": 34
        }
      },
      "source": [
        "cv_results = model_selection.cross_val_score(knnModelE, x_test, y_test, cv=kfold)\n",
        "results.append(cv_results)\n",
        "msg = \"%s: %f (%f)\" % ('KNN-E', cv_results.mean(), cv_results.std())\n",
        "print(msg)"
      ],
      "execution_count": 0,
      "outputs": [
        {
          "output_type": "stream",
          "text": [
            "KNN-E: 0.659937 (0.033666)\n"
          ],
          "name": "stdout"
        }
      ]
    },
    {
      "cell_type": "markdown",
      "metadata": {
        "id": "gp3f_k5O7Ihr",
        "colab_type": "text"
      },
      "source": [
        "###Comaprison of geometric model"
      ]
    },
    {
      "cell_type": "code",
      "metadata": {
        "id": "QLIEJhO97Ntg",
        "colab_type": "code",
        "outputId": "deccbd5a-2c6b-4d48-a46c-5b10ab1bdbbd",
        "colab": {
          "base_uri": "https://localhost:8080/",
          "height": 294
        }
      },
      "source": [
        "names=['SVC', 'KNN-M','KNN-E']\n",
        "\n",
        "fig = plt.figure()\n",
        "fig.suptitle('Algorithm Comparison')\n",
        "ax = fig.add_subplot(111)\n",
        "plt.boxplot(results)\n",
        "ax.set_xticklabels(names)\n",
        "plt.show()"
      ],
      "execution_count": 0,
      "outputs": [
        {
          "output_type": "display_data",
          "data": {
            "image/png": "[encoded data removed]",
            "text/plain": [
              "<Figure size 432x288 with 1 Axes>"
            ]
          },
          "metadata": {
            "tags": []
          }
        }
      ]
    },
    {
      "cell_type": "markdown",
      "metadata": {
        "id": "7gLbBwGDj3IE",
        "colab_type": "text"
      },
      "source": [
        "## Probabilistic model"
      ]
    },
    {
      "cell_type": "code",
      "metadata": {
        "id": "aIlOo307VMqX",
        "colab_type": "code",
        "colab": {}
      },
      "source": [
        "results = []"
      ],
      "execution_count": 0,
      "outputs": []
    },
    {
      "cell_type": "code",
      "metadata": {
        "id": "RTn2c8qUkeQE",
        "colab_type": "code",
        "outputId": "9e7a5089-5078-4ab1-ce75-8f4b6113a11c",
        "colab": {
          "base_uri": "https://localhost:8080/",
          "height": 34
        }
      },
      "source": [
        "from sklearn.naive_bayes import GaussianNB\n",
        "gnbModel = GaussianNB()\n",
        "gnbModel.fit(x_train,y_train)"
      ],
      "execution_count": 0,
      "outputs": [
        {
          "output_type": "execute_result",
          "data": {
            "text/plain": [
              "GaussianNB(priors=None, var_smoothing=1e-09)"
            ]
          },
          "metadata": {
            "tags": []
          },
          "execution_count": 393
        }
      ]
    },
    {
      "cell_type": "code",
      "metadata": {
        "id": "IS4_6smglK0l",
        "colab_type": "code",
        "outputId": "00ea73c9-cef0-4358-b874-2082a43f4558",
        "colab": {
          "base_uri": "https://localhost:8080/",
          "height": 85
        }
      },
      "source": [
        "y_pred = gnbModel.predict(x_test)\n",
        "displayMetrics(gnbModel, y_test, y_pred)"
      ],
      "execution_count": 0,
      "outputs": [
        {
          "output_type": "stream",
          "text": [
            "Accuracy:  0.9872053872053872\n",
            "Precision Score:  [0.99955908 0.96642686 1.        ]\n",
            "Recall:  [0.99867841 1.         0.90575916]\n",
            "F1 Score:  [0.99911855 0.98292683 0.95054945]\n"
          ],
          "name": "stdout"
        }
      ]
    },
    {
      "cell_type": "code",
      "metadata": {
        "id": "Qv3HwFqvSrcC",
        "colab_type": "code",
        "outputId": "15b362a1-84bb-402a-c3c4-0e6c3816415d",
        "colab": {
          "base_uri": "https://localhost:8080/",
          "height": 153
        }
      },
      "source": [
        "print('\\n Confusion matrix \\n')\n",
        "plotConfusionMatrix(y_test, y_pred)"
      ],
      "execution_count": 0,
      "outputs": [
        {
          "output_type": "stream",
          "text": [
            "\n",
            " Confusion matrix \n",
            "\n",
            "Predicted   1.0   2.0  3.0\n",
            "Actual                    \n",
            "1.0        2267     3    0\n",
            "2.0           0  1612    0\n",
            "3.0           1    53  519\n"
          ],
          "name": "stdout"
        }
      ]
    },
    {
      "cell_type": "code",
      "metadata": {
        "id": "JlMdOqgt7ByX",
        "colab_type": "code",
        "outputId": "f89982e4-8922-40d4-a369-f6f79e9e9ef2",
        "colab": {
          "base_uri": "https://localhost:8080/",
          "height": 34
        }
      },
      "source": [
        "cv_results = model_selection.cross_val_score(gnbModel, x_test, y_test, cv=kfold)\n",
        "results.append(cv_results)\n",
        "msg = \"%s: %f (%f)\" % ('GNB', cv_results.mean(), cv_results.std())\n",
        "print(msg)"
      ],
      "execution_count": 0,
      "outputs": [
        {
          "output_type": "stream",
          "text": [
            "GNB: 0.989450 (0.003334)\n"
          ],
          "name": "stdout"
        }
      ]
    },
    {
      "cell_type": "markdown",
      "metadata": {
        "id": "T2MDzlPLVTck",
        "colab_type": "text"
      },
      "source": [
        "###Comaprison of Probabilistic model"
      ]
    },
    {
      "cell_type": "code",
      "metadata": {
        "id": "MD6mRr0rVce-",
        "colab_type": "code",
        "outputId": "9abb9d58-fc26-4083-f913-7b83fdafd63d",
        "colab": {
          "base_uri": "https://localhost:8080/",
          "height": 294
        }
      },
      "source": [
        "names=['GNB']\n",
        "\n",
        "fig = plt.figure()\n",
        "fig.suptitle('Algorithm Comparison')\n",
        "ax = fig.add_subplot(111)\n",
        "plt.boxplot(results)\n",
        "ax.set_xticklabels(names)\n",
        "plt.show()"
      ],
      "execution_count": 0,
      "outputs": [
        {
          "output_type": "display_data",
          "data": {
            "image/png": "[encoded data removed]",
            "text/plain": [
              "<Figure size 432x288 with 1 Axes>"
            ]
          },
          "metadata": {
            "tags": []
          }
        }
      ]
    },
    {
      "cell_type": "markdown",
      "metadata": {
        "id": "VnwgZde8noWj",
        "colab_type": "text"
      },
      "source": [
        "## **Tree Based Model**"
      ]
    },
    {
      "cell_type": "code",
      "metadata": {
        "id": "GjqxOaja6bnm",
        "colab_type": "code",
        "colab": {}
      },
      "source": [
        "results = []"
      ],
      "execution_count": 0,
      "outputs": []
    },
    {
      "cell_type": "code",
      "metadata": {
        "id": "Jp7nUqbLnxY-",
        "colab_type": "code",
        "colab": {}
      },
      "source": [
        "from sklearn import tree\n",
        "treeModel = tree.DecisionTreeClassifier(max_depth=8, max_features='auto', min_samples_split = 4)\n",
        "treeModel = treeModel.fit(x_train,y_train)"
      ],
      "execution_count": 0,
      "outputs": []
    },
    {
      "cell_type": "code",
      "metadata": {
        "id": "Lah6fsQdoGbq",
        "colab_type": "code",
        "outputId": "c89f6d1b-55e0-4009-a251-e4a31eaa225d",
        "colab": {
          "base_uri": "https://localhost:8080/",
          "height": 85
        }
      },
      "source": [
        "y_pred = treeModel.predict(x_test)\n",
        "displayMetrics(treeModel, y_test, y_pred)"
      ],
      "execution_count": 0,
      "outputs": [
        {
          "output_type": "stream",
          "text": [
            "Accuracy:  0.8498316498316498\n",
            "Precision Score:  [0.90308191 0.77947598 0.8343949 ]\n",
            "Recall:  [0.98105727 0.88585608 0.22862129]\n",
            "F1 Score:  [0.94045608 0.82926829 0.35890411]\n"
          ],
          "name": "stdout"
        }
      ]
    },
    {
      "cell_type": "code",
      "metadata": {
        "id": "YMqEbd1YStvM",
        "colab_type": "code",
        "outputId": "d013fa7c-57f4-4812-aa75-1001e9eda8bf",
        "colab": {
          "base_uri": "https://localhost:8080/",
          "height": 153
        }
      },
      "source": [
        "print('\\n Confusion matrix \\n')\n",
        "plotConfusionMatrix(y_test, y_pred)"
      ],
      "execution_count": 0,
      "outputs": [
        {
          "output_type": "stream",
          "text": [
            "\n",
            " Confusion matrix \n",
            "\n",
            "Predicted   1.0   2.0  3.0\n",
            "Actual                    \n",
            "1.0        2227    40    3\n",
            "2.0         161  1428   23\n",
            "3.0          78   364  131\n"
          ],
          "name": "stdout"
        }
      ]
    },
    {
      "cell_type": "code",
      "metadata": {
        "id": "Po6DEXc375Qb",
        "colab_type": "code",
        "outputId": "477f927e-bd1f-4aed-90bb-81801f99b910",
        "colab": {
          "base_uri": "https://localhost:8080/",
          "height": 34
        }
      },
      "source": [
        "cv_results = model_selection.cross_val_score(treeModel, x_test, y_test, cv=kfold)\n",
        "results.append(cv_results)\n",
        "msg = \"%s: %f (%f)\" % ('Tree', cv_results.mean(), cv_results.std())\n",
        "print(msg)"
      ],
      "execution_count": 0,
      "outputs": [
        {
          "output_type": "stream",
          "text": [
            "Tree: 0.947462 (0.039678)\n"
          ],
          "name": "stdout"
        }
      ]
    },
    {
      "cell_type": "code",
      "metadata": {
        "id": "EQf7wn6ioXPr",
        "colab_type": "code",
        "outputId": "aa48450d-5ca1-4303-b30a-28fd47922888",
        "colab": {
          "base_uri": "https://localhost:8080/",
          "height": 1189
        }
      },
      "source": [
        "import graphviz\n",
        "dot_data = tree.export_graphviz(treeModel, out_file=None,\n",
        "                               filled=True, rounded=True,\n",
        "                               special_characters=True)\n",
        "graph = graphviz.Source(dot_data)\n",
        "graph\n",
        "#graph.render(\"Restaurant risk indicator\")\n"
      ],
      "execution_count": 0,
      "outputs": [
        {
          "output_type": "execute_result",
          "data": {
            "text/plain": [
              "<graphviz.files.Source at 0x7f25fa3e52b0>"
            ],
            "image/svg+xml": "<?xml version=\"1.0\" encoding=\"UTF-8\" standalone=\"no\"?>\n<!DOCTYPE svg PUBLIC \"-//W3C//DTD SVG 1.1//EN\"\n \"http://www.w3.org/Graphics/SVG/1.1/DTD/svg11.dtd\">\n<!-- Generated by graphviz version 2.40.1 (20161225.0304)\n -->\n<!-- Title: Tree Pages: 1 -->\n<svg width=\"13675pt\" height=\"861pt\"\n viewBox=\"0.00 0.00 13674.50 861.00\" xmlns=\"http://www.w3.org/2000/svg\" xmlns:xlink=\"http://www.w3.org/1999/xlink\">\n<g id=\"graph0\" class=\"graph\" transform=\"scale(1 1) rotate(0) translate(4 857)\">\n<title>Tree</title>\n<polygon fill=\"#ffffff\" stroke=\"transparent\" points=\"-4,4 -4,-857 13670.5,-857 13670.5,4 -4,4\"/>\n<!-- 0 -->\n<g id=\"node1\" class=\"node\">\n<title>0</title>\n<path fill=\"#e58139\" fill-opacity=\"0.196078\" stroke=\"#000000\" d=\"M9459.5,-853C9459.5,-853 9294.5,-853 9294.5,-853 9288.5,-853 9282.5,-847 9282.5,-841 9282.5,-841 9282.5,-801 9282.5,-801 9282.5,-795 9288.5,-789 9294.5,-789 9294.5,-789 9459.5,-789 9459.5,-789 9465.5,-789 9471.5,-795 9471.5,-801 9471.5,-801 9471.5,-841 9471.5,-841 9471.5,-847 9465.5,-853 9459.5,-853\"/>\n<text text-anchor=\"start\" x=\"9346.5\" y=\"-838.8\" font-family=\"Helvetica,sans-Serif\" font-size=\"14.00\" fill=\"#000000\">X</text>\n<text text-anchor=\"start\" x=\"9356.5\" y=\"-838.8\" font-family=\"Helvetica,sans-Serif\" baseline-shift=\"sub\" font-size=\"14.00\" fill=\"#000000\">3</text>\n<text text-anchor=\"start\" x=\"9363.5\" y=\"-838.8\" font-family=\"Helvetica,sans-Serif\" font-size=\"14.00\" fill=\"#000000\"> ≤ 89.5</text>\n<text text-anchor=\"start\" x=\"9339\" y=\"-824.8\" font-family=\"Helvetica,sans-Serif\" font-size=\"14.00\" fill=\"#000000\">gini = 0.603</text>\n<text text-anchor=\"start\" x=\"9321\" y=\"-810.8\" font-family=\"Helvetica,sans-Serif\" font-size=\"14.00\" fill=\"#000000\">samples = 17818</text>\n<text text-anchor=\"start\" x=\"9290.5\" y=\"-796.8\" font-family=\"Helvetica,sans-Serif\" font-size=\"14.00\" fill=\"#000000\">value = [8749, 6561, 2508]</text>\n</g>\n<!-- 1 -->\n<g id=\"node2\" class=\"node\">\n<title>1</title>\n<path fill=\"#e58139\" fill-opacity=\"0.043137\" stroke=\"#000000\" d=\"M8298.5,-753C8298.5,-753 8133.5,-753 8133.5,-753 8127.5,-753 8121.5,-747 8121.5,-741 8121.5,-741 8121.5,-701 8121.5,-701 8121.5,-695 8127.5,-689 8133.5,-689 8133.5,-689 8298.5,-689 8298.5,-689 8304.5,-689 8310.5,-695 8310.5,-701 8310.5,-701 8310.5,-741 8310.5,-741 8310.5,-747 8304.5,-753 8298.5,-753\"/>\n<text text-anchor=\"start\" x=\"8177\" y=\"-738.8\" font-family=\"Helvetica,sans-Serif\" font-size=\"14.00\" fill=\"#000000\">X</text>\n<text text-anchor=\"start\" x=\"8187\" y=\"-738.8\" font-family=\"Helvetica,sans-Serif\" baseline-shift=\"sub\" font-size=\"14.00\" fill=\"#000000\">1</text>\n<text text-anchor=\"start\" x=\"8194\" y=\"-738.8\" font-family=\"Helvetica,sans-Serif\" font-size=\"14.00\" fill=\"#000000\"> ≤ 37.793</text>\n<text text-anchor=\"start\" x=\"8178\" y=\"-724.8\" font-family=\"Helvetica,sans-Serif\" font-size=\"14.00\" fill=\"#000000\">gini = 0.641</text>\n<text text-anchor=\"start\" x=\"8160\" y=\"-710.8\" font-family=\"Helvetica,sans-Serif\" font-size=\"14.00\" fill=\"#000000\">samples = 11226</text>\n<text text-anchor=\"start\" x=\"8129.5\" y=\"-696.8\" font-family=\"Helvetica,sans-Serif\" font-size=\"14.00\" fill=\"#000000\">value = [4620, 4317, 2289]</text>\n</g>\n<!-- 0&#45;&gt;1 -->\n<g id=\"edge1\" class=\"edge\">\n<title>0&#45;&gt;1</title>\n<path fill=\"none\" stroke=\"#000000\" d=\"M9282.4828,-812.859C9067.8791,-794.3746 8545.1161,-749.3476 8320.9222,-730.0372\"/>\n<polygon fill=\"#000000\" stroke=\"#000000\" points=\"8321.0623,-726.5364 8310.7988,-729.1653 8320.4615,-733.5106 8321.0623,-726.5364\"/>\n<text text-anchor=\"middle\" x=\"8326.8943\" y=\"-744.5947\" font-family=\"Helvetica,sans-Serif\" font-size=\"14.00\" fill=\"#000000\">True</text>\n</g>\n<!-- 148 -->\n<g id=\"node149\" class=\"node\">\n<title>148</title>\n<path fill=\"#e58139\" fill-opacity=\"0.435294\" stroke=\"#000000\" d=\"M10155.5,-753C10155.5,-753 9998.5,-753 9998.5,-753 9992.5,-753 9986.5,-747 9986.5,-741 9986.5,-741 9986.5,-701 9986.5,-701 9986.5,-695 9992.5,-689 9998.5,-689 9998.5,-689 10155.5,-689 10155.5,-689 10161.5,-689 10167.5,-695 10167.5,-701 10167.5,-701 10167.5,-741 10167.5,-741 10167.5,-747 10161.5,-753 10155.5,-753\"/>\n<text text-anchor=\"start\" x=\"10032\" y=\"-738.8\" font-family=\"Helvetica,sans-Serif\" font-size=\"14.00\" fill=\"#000000\">X</text>\n<text text-anchor=\"start\" x=\"10042\" y=\"-738.8\" font-family=\"Helvetica,sans-Serif\" baseline-shift=\"sub\" font-size=\"14.00\" fill=\"#000000\">2</text>\n<text text-anchor=\"start\" x=\"10049\" y=\"-738.8\" font-family=\"Helvetica,sans-Serif\" font-size=\"14.00\" fill=\"#000000\"> ≤ &#45;122.405</text>\n<text text-anchor=\"start\" x=\"10039\" y=\"-724.8\" font-family=\"Helvetica,sans-Serif\" font-size=\"14.00\" fill=\"#000000\">gini = 0.491</text>\n<text text-anchor=\"start\" x=\"10025\" y=\"-710.8\" font-family=\"Helvetica,sans-Serif\" font-size=\"14.00\" fill=\"#000000\">samples = 6592</text>\n<text text-anchor=\"start\" x=\"9994.5\" y=\"-696.8\" font-family=\"Helvetica,sans-Serif\" font-size=\"14.00\" fill=\"#000000\">value = [4129, 2244, 219]</text>\n</g>\n<!-- 0&#45;&gt;148 -->\n<g id=\"edge148\" class=\"edge\">\n<title>0&#45;&gt;148</title>\n<path fill=\"none\" stroke=\"#000000\" d=\"M9471.7691,-807.4616C9603.6751,-788.6178 9841.5697,-754.6329 9976.4789,-735.3602\"/>\n<polygon fill=\"#000000\" stroke=\"#000000\" points=\"9977.006,-738.8205 9986.4105,-733.9414 9976.016,-731.8908 9977.006,-738.8205\"/>\n<text text-anchor=\"middle\" x=\"9971.4105\" y=\"-750.2414\" font-family=\"Helvetica,sans-Serif\" font-size=\"14.00\" fill=\"#000000\">False</text>\n</g>\n<!-- 2 -->\n<g id=\"node3\" class=\"node\">\n<title>2</title>\n<path fill=\"#e58139\" fill-opacity=\"0.011765\" stroke=\"#000000\" d=\"M5653.5,-653C5653.5,-653 5488.5,-653 5488.5,-653 5482.5,-653 5476.5,-647 5476.5,-641 5476.5,-641 5476.5,-601 5476.5,-601 5476.5,-595 5482.5,-589 5488.5,-589 5488.5,-589 5653.5,-589 5653.5,-589 5659.5,-589 5665.5,-595 5665.5,-601 5665.5,-601 5665.5,-641 5665.5,-641 5665.5,-647 5659.5,-653 5653.5,-653\"/>\n<text text-anchor=\"start\" x=\"5526\" y=\"-638.8\" font-family=\"Helvetica,sans-Serif\" font-size=\"14.00\" fill=\"#000000\">X</text>\n<text text-anchor=\"start\" x=\"5536\" y=\"-638.8\" font-family=\"Helvetica,sans-Serif\" baseline-shift=\"sub\" font-size=\"14.00\" fill=\"#000000\">2</text>\n<text text-anchor=\"start\" x=\"5543\" y=\"-638.8\" font-family=\"Helvetica,sans-Serif\" font-size=\"14.00\" fill=\"#000000\"> ≤ &#45;122.408</text>\n<text text-anchor=\"start\" x=\"5533\" y=\"-624.8\" font-family=\"Helvetica,sans-Serif\" font-size=\"14.00\" fill=\"#000000\">gini = 0.642</text>\n<text text-anchor=\"start\" x=\"5519\" y=\"-610.8\" font-family=\"Helvetica,sans-Serif\" font-size=\"14.00\" fill=\"#000000\">samples = 9064</text>\n<text text-anchor=\"start\" x=\"5484.5\" y=\"-596.8\" font-family=\"Helvetica,sans-Serif\" font-size=\"14.00\" fill=\"#000000\">value = [3629, 3564, 1871]</text>\n</g>\n<!-- 1&#45;&gt;2 -->\n<g id=\"edge2\" class=\"edge\">\n<title>1&#45;&gt;2</title>\n<path fill=\"none\" stroke=\"#000000\" d=\"M8121.4735,-717.4262C7713.3439,-701.996 6103.6617,-641.1384 5675.8707,-624.9649\"/>\n<polygon fill=\"#000000\" stroke=\"#000000\" points=\"5675.8073,-621.4601 5665.6822,-624.5797 5675.5428,-628.4551 5675.8073,-621.4601\"/>\n</g>\n<!-- 107 -->\n<g id=\"node108\" class=\"node\">\n<title>107</title>\n<path fill=\"#e58139\" fill-opacity=\"0.168627\" stroke=\"#000000\" d=\"M8286,-653C8286,-653 8146,-653 8146,-653 8140,-653 8134,-647 8134,-641 8134,-641 8134,-601 8134,-601 8134,-595 8140,-589 8146,-589 8146,-589 8286,-589 8286,-589 8292,-589 8298,-595 8298,-601 8298,-601 8298,-641 8298,-641 8298,-647 8292,-653 8286,-653\"/>\n<text text-anchor=\"start\" x=\"8189.5\" y=\"-638.8\" font-family=\"Helvetica,sans-Serif\" font-size=\"14.00\" fill=\"#000000\">X</text>\n<text text-anchor=\"start\" x=\"8199.5\" y=\"-638.8\" font-family=\"Helvetica,sans-Serif\" baseline-shift=\"sub\" font-size=\"14.00\" fill=\"#000000\">5</text>\n<text text-anchor=\"start\" x=\"8206.5\" y=\"-638.8\" font-family=\"Helvetica,sans-Serif\" font-size=\"14.00\" fill=\"#000000\"> ≤ 3.5</text>\n<text text-anchor=\"start\" x=\"8178\" y=\"-624.8\" font-family=\"Helvetica,sans-Serif\" font-size=\"14.00\" fill=\"#000000\">gini = 0.631</text>\n<text text-anchor=\"start\" x=\"8164\" y=\"-610.8\" font-family=\"Helvetica,sans-Serif\" font-size=\"14.00\" fill=\"#000000\">samples = 2162</text>\n<text text-anchor=\"start\" x=\"8142\" y=\"-596.8\" font-family=\"Helvetica,sans-Serif\" font-size=\"14.00\" fill=\"#000000\">value = [991, 753, 418]</text>\n</g>\n<!-- 1&#45;&gt;107 -->\n<g id=\"edge107\" class=\"edge\">\n<title>1&#45;&gt;107</title>\n<path fill=\"none\" stroke=\"#000000\" d=\"M8216,-688.8089C8216,-680.6906 8216,-671.8517 8216,-663.3186\"/>\n<polygon fill=\"#000000\" stroke=\"#000000\" points=\"8219.5001,-663.1307 8216,-653.1308 8212.5001,-663.1308 8219.5001,-663.1307\"/>\n</g>\n<!-- 3 -->\n<g id=\"node4\" class=\"node\">\n<title>3</title>\n<path fill=\"#e58139\" fill-opacity=\"0.047059\" stroke=\"#000000\" d=\"M3094.5,-553C3094.5,-553 2929.5,-553 2929.5,-553 2923.5,-553 2917.5,-547 2917.5,-541 2917.5,-541 2917.5,-501 2917.5,-501 2917.5,-495 2923.5,-489 2929.5,-489 2929.5,-489 3094.5,-489 3094.5,-489 3100.5,-489 3106.5,-495 3106.5,-501 3106.5,-501 3106.5,-541 3106.5,-541 3106.5,-547 3100.5,-553 3094.5,-553\"/>\n<text text-anchor=\"start\" x=\"2973\" y=\"-538.8\" font-family=\"Helvetica,sans-Serif\" font-size=\"14.00\" fill=\"#000000\">X</text>\n<text text-anchor=\"start\" x=\"2983\" y=\"-538.8\" font-family=\"Helvetica,sans-Serif\" baseline-shift=\"sub\" font-size=\"14.00\" fill=\"#000000\">1</text>\n<text text-anchor=\"start\" x=\"2990\" y=\"-538.8\" font-family=\"Helvetica,sans-Serif\" font-size=\"14.00\" fill=\"#000000\"> ≤ 37.783</text>\n<text text-anchor=\"start\" x=\"2978.5\" y=\"-524.8\" font-family=\"Helvetica,sans-Serif\" font-size=\"14.00\" fill=\"#000000\">gini = 0.64</text>\n<text text-anchor=\"start\" x=\"2960\" y=\"-510.8\" font-family=\"Helvetica,sans-Serif\" font-size=\"14.00\" fill=\"#000000\">samples = 7009</text>\n<text text-anchor=\"start\" x=\"2925.5\" y=\"-496.8\" font-family=\"Helvetica,sans-Serif\" font-size=\"14.00\" fill=\"#000000\">value = [2901, 2706, 1402]</text>\n</g>\n<!-- 2&#45;&gt;3 -->\n<g id=\"edge3\" class=\"edge\">\n<title>2&#45;&gt;3</title>\n<path fill=\"none\" stroke=\"#000000\" d=\"M5476.1232,-617.2924C5076.8339,-601.6891 3534.3871,-541.4137 3116.7762,-525.0944\"/>\n<polygon fill=\"#000000\" stroke=\"#000000\" points=\"3116.6565,-521.5872 3106.5274,-524.6939 3116.3831,-528.5818 3116.6565,-521.5872\"/>\n</g>\n<!-- 58 -->\n<g id=\"node59\" class=\"node\">\n<title>58</title>\n<path fill=\"#39e581\" fill-opacity=\"0.098039\" stroke=\"#000000\" d=\"M5641,-553C5641,-553 5501,-553 5501,-553 5495,-553 5489,-547 5489,-541 5489,-541 5489,-501 5489,-501 5489,-495 5495,-489 5501,-489 5501,-489 5641,-489 5641,-489 5647,-489 5653,-495 5653,-501 5653,-501 5653,-541 5653,-541 5653,-547 5647,-553 5641,-553\"/>\n<text text-anchor=\"start\" x=\"5540.5\" y=\"-538.8\" font-family=\"Helvetica,sans-Serif\" font-size=\"14.00\" fill=\"#000000\">X</text>\n<text text-anchor=\"start\" x=\"5550.5\" y=\"-538.8\" font-family=\"Helvetica,sans-Serif\" baseline-shift=\"sub\" font-size=\"14.00\" fill=\"#000000\">6</text>\n<text text-anchor=\"start\" x=\"5557.5\" y=\"-538.8\" font-family=\"Helvetica,sans-Serif\" font-size=\"14.00\" fill=\"#000000\"> ≤ 14.5</text>\n<text text-anchor=\"start\" x=\"5533\" y=\"-524.8\" font-family=\"Helvetica,sans-Serif\" font-size=\"14.00\" fill=\"#000000\">gini = 0.648</text>\n<text text-anchor=\"start\" x=\"5519\" y=\"-510.8\" font-family=\"Helvetica,sans-Serif\" font-size=\"14.00\" fill=\"#000000\">samples = 2055</text>\n<text text-anchor=\"start\" x=\"5497\" y=\"-496.8\" font-family=\"Helvetica,sans-Serif\" font-size=\"14.00\" fill=\"#000000\">value = [728, 858, 469]</text>\n</g>\n<!-- 2&#45;&gt;58 -->\n<g id=\"edge58\" class=\"edge\">\n<title>2&#45;&gt;58</title>\n<path fill=\"none\" stroke=\"#000000\" d=\"M5571,-588.8089C5571,-580.6906 5571,-571.8517 5571,-563.3186\"/>\n<polygon fill=\"#000000\" stroke=\"#000000\" points=\"5574.5001,-563.1307 5571,-553.1308 5567.5001,-563.1308 5574.5001,-563.1307\"/>\n</g>\n<!-- 4 -->\n<g id=\"node5\" class=\"node\">\n<title>4</title>\n<path fill=\"#e58139\" fill-opacity=\"0.011765\" stroke=\"#000000\" d=\"M1724.5,-453C1724.5,-453 1559.5,-453 1559.5,-453 1553.5,-453 1547.5,-447 1547.5,-441 1547.5,-441 1547.5,-401 1547.5,-401 1547.5,-395 1553.5,-389 1559.5,-389 1559.5,-389 1724.5,-389 1724.5,-389 1730.5,-389 1736.5,-395 1736.5,-401 1736.5,-401 1736.5,-441 1736.5,-441 1736.5,-447 1730.5,-453 1724.5,-453\"/>\n<text text-anchor=\"start\" x=\"1615.5\" y=\"-438.8\" font-family=\"Helvetica,sans-Serif\" font-size=\"14.00\" fill=\"#000000\">X</text>\n<text text-anchor=\"start\" x=\"1625.5\" y=\"-438.8\" font-family=\"Helvetica,sans-Serif\" baseline-shift=\"sub\" font-size=\"14.00\" fill=\"#000000\">5</text>\n<text text-anchor=\"start\" x=\"1632.5\" y=\"-438.8\" font-family=\"Helvetica,sans-Serif\" font-size=\"14.00\" fill=\"#000000\"> ≤ 2.5</text>\n<text text-anchor=\"start\" x=\"1604\" y=\"-424.8\" font-family=\"Helvetica,sans-Serif\" font-size=\"14.00\" fill=\"#000000\">gini = 0.641</text>\n<text text-anchor=\"start\" x=\"1590\" y=\"-410.8\" font-family=\"Helvetica,sans-Serif\" font-size=\"14.00\" fill=\"#000000\">samples = 5470</text>\n<text text-anchor=\"start\" x=\"1555.5\" y=\"-396.8\" font-family=\"Helvetica,sans-Serif\" font-size=\"14.00\" fill=\"#000000\">value = [2201, 2159, 1110]</text>\n</g>\n<!-- 3&#45;&gt;4 -->\n<g id=\"edge4\" class=\"edge\">\n<title>3&#45;&gt;4</title>\n<path fill=\"none\" stroke=\"#000000\" d=\"M2917.2938,-514.0871C2669.8509,-496.0256 2005.317,-447.5195 1746.8603,-428.654\"/>\n<polygon fill=\"#000000\" stroke=\"#000000\" points=\"1746.9493,-425.1513 1736.721,-427.9139 1746.4396,-432.1327 1746.9493,-425.1513\"/>\n</g>\n<!-- 29 -->\n<g id=\"node30\" class=\"node\">\n<title>29</title>\n<path fill=\"#e58139\" fill-opacity=\"0.152941\" stroke=\"#000000\" d=\"M3082,-453C3082,-453 2942,-453 2942,-453 2936,-453 2930,-447 2930,-441 2930,-441 2930,-401 2930,-401 2930,-395 2936,-389 2942,-389 2942,-389 3082,-389 3082,-389 3088,-389 3094,-395 3094,-401 3094,-401 3094,-441 3094,-441 3094,-447 3088,-453 3082,-453\"/>\n<text text-anchor=\"start\" x=\"2981.5\" y=\"-438.8\" font-family=\"Helvetica,sans-Serif\" font-size=\"14.00\" fill=\"#000000\">X</text>\n<text text-anchor=\"start\" x=\"2991.5\" y=\"-438.8\" font-family=\"Helvetica,sans-Serif\" baseline-shift=\"sub\" font-size=\"14.00\" fill=\"#000000\">3</text>\n<text text-anchor=\"start\" x=\"2998.5\" y=\"-438.8\" font-family=\"Helvetica,sans-Serif\" font-size=\"14.00\" fill=\"#000000\"> ≤ 76.5</text>\n<text text-anchor=\"start\" x=\"2974\" y=\"-424.8\" font-family=\"Helvetica,sans-Serif\" font-size=\"14.00\" fill=\"#000000\">gini = 0.631</text>\n<text text-anchor=\"start\" x=\"2960\" y=\"-410.8\" font-family=\"Helvetica,sans-Serif\" font-size=\"14.00\" fill=\"#000000\">samples = 1539</text>\n<text text-anchor=\"start\" x=\"2938\" y=\"-396.8\" font-family=\"Helvetica,sans-Serif\" font-size=\"14.00\" fill=\"#000000\">value = [700, 547, 292]</text>\n</g>\n<!-- 3&#45;&gt;29 -->\n<g id=\"edge29\" class=\"edge\">\n<title>3&#45;&gt;29</title>\n<path fill=\"none\" stroke=\"#000000\" d=\"M3012,-488.8089C3012,-480.6906 3012,-471.8517 3012,-463.3186\"/>\n<polygon fill=\"#000000\" stroke=\"#000000\" points=\"3015.5001,-463.1307 3012,-453.1308 3008.5001,-463.1308 3015.5001,-463.1307\"/>\n</g>\n<!-- 5 -->\n<g id=\"node6\" class=\"node\">\n<title>5</title>\n<path fill=\"#e58139\" fill-opacity=\"0.262745\" stroke=\"#000000\" d=\"M999.5,-353C999.5,-353 842.5,-353 842.5,-353 836.5,-353 830.5,-347 830.5,-341 830.5,-341 830.5,-301 830.5,-301 830.5,-295 836.5,-289 842.5,-289 842.5,-289 999.5,-289 999.5,-289 1005.5,-289 1011.5,-295 1011.5,-301 1011.5,-301 1011.5,-341 1011.5,-341 1011.5,-347 1005.5,-353 999.5,-353\"/>\n<text text-anchor=\"start\" x=\"876\" y=\"-338.8\" font-family=\"Helvetica,sans-Serif\" font-size=\"14.00\" fill=\"#000000\">X</text>\n<text text-anchor=\"start\" x=\"886\" y=\"-338.8\" font-family=\"Helvetica,sans-Serif\" baseline-shift=\"sub\" font-size=\"14.00\" fill=\"#000000\">2</text>\n<text text-anchor=\"start\" x=\"893\" y=\"-338.8\" font-family=\"Helvetica,sans-Serif\" font-size=\"14.00\" fill=\"#000000\"> ≤ &#45;122.422</text>\n<text text-anchor=\"start\" x=\"883\" y=\"-324.8\" font-family=\"Helvetica,sans-Serif\" font-size=\"14.00\" fill=\"#000000\">gini = 0.616</text>\n<text text-anchor=\"start\" x=\"869\" y=\"-310.8\" font-family=\"Helvetica,sans-Serif\" font-size=\"14.00\" fill=\"#000000\">samples = 3183</text>\n<text text-anchor=\"start\" x=\"838.5\" y=\"-296.8\" font-family=\"Helvetica,sans-Serif\" font-size=\"14.00\" fill=\"#000000\">value = [1588, 1017, 578]</text>\n</g>\n<!-- 4&#45;&gt;5 -->\n<g id=\"edge5\" class=\"edge\">\n<title>4&#45;&gt;5</title>\n<path fill=\"none\" stroke=\"#000000\" d=\"M1547.3714,-407.8754C1411.3277,-389.0066 1161.5406,-354.3621 1022.0285,-335.0123\"/>\n<polygon fill=\"#000000\" stroke=\"#000000\" points=\"1022.1513,-331.4959 1011.7653,-333.5888 1021.1896,-338.4295 1022.1513,-331.4959\"/>\n</g>\n<!-- 20 -->\n<g id=\"node21\" class=\"node\">\n<title>20</title>\n<path fill=\"#39e581\" fill-opacity=\"0.317647\" stroke=\"#000000\" d=\"M1716.5,-353C1716.5,-353 1567.5,-353 1567.5,-353 1561.5,-353 1555.5,-347 1555.5,-341 1555.5,-341 1555.5,-301 1555.5,-301 1555.5,-295 1561.5,-289 1567.5,-289 1567.5,-289 1716.5,-289 1716.5,-289 1722.5,-289 1728.5,-295 1728.5,-301 1728.5,-301 1728.5,-341 1728.5,-341 1728.5,-347 1722.5,-353 1716.5,-353\"/>\n<text text-anchor=\"start\" x=\"1595\" y=\"-338.8\" font-family=\"Helvetica,sans-Serif\" font-size=\"14.00\" fill=\"#000000\">X</text>\n<text text-anchor=\"start\" x=\"1605\" y=\"-338.8\" font-family=\"Helvetica,sans-Serif\" baseline-shift=\"sub\" font-size=\"14.00\" fill=\"#000000\">4</text>\n<text text-anchor=\"start\" x=\"1612\" y=\"-338.8\" font-family=\"Helvetica,sans-Serif\" font-size=\"14.00\" fill=\"#000000\"> ≤ 103133.5</text>\n<text text-anchor=\"start\" x=\"1604\" y=\"-324.8\" font-family=\"Helvetica,sans-Serif\" font-size=\"14.00\" fill=\"#000000\">gini = 0.625</text>\n<text text-anchor=\"start\" x=\"1590\" y=\"-310.8\" font-family=\"Helvetica,sans-Serif\" font-size=\"14.00\" fill=\"#000000\">samples = 2287</text>\n<text text-anchor=\"start\" x=\"1563.5\" y=\"-296.8\" font-family=\"Helvetica,sans-Serif\" font-size=\"14.00\" fill=\"#000000\">value = [613, 1142, 532]</text>\n</g>\n<!-- 4&#45;&gt;20 -->\n<g id=\"edge20\" class=\"edge\">\n<title>4&#45;&gt;20</title>\n<path fill=\"none\" stroke=\"#000000\" d=\"M1642,-388.8089C1642,-380.6906 1642,-371.8517 1642,-363.3186\"/>\n<polygon fill=\"#000000\" stroke=\"#000000\" points=\"1645.5001,-363.1307 1642,-353.1308 1638.5001,-363.1308 1645.5001,-363.1307\"/>\n</g>\n<!-- 6 -->\n<g id=\"node7\" class=\"node\">\n<title>6</title>\n<path fill=\"#e58139\" fill-opacity=\"0.239216\" stroke=\"#000000\" d=\"M543.5,-253C543.5,-253 394.5,-253 394.5,-253 388.5,-253 382.5,-247 382.5,-241 382.5,-241 382.5,-201 382.5,-201 382.5,-195 388.5,-189 394.5,-189 394.5,-189 543.5,-189 543.5,-189 549.5,-189 555.5,-195 555.5,-201 555.5,-201 555.5,-241 555.5,-241 555.5,-247 549.5,-253 543.5,-253\"/>\n<text text-anchor=\"start\" x=\"422\" y=\"-238.8\" font-family=\"Helvetica,sans-Serif\" font-size=\"14.00\" fill=\"#000000\">X</text>\n<text text-anchor=\"start\" x=\"432\" y=\"-238.8\" font-family=\"Helvetica,sans-Serif\" baseline-shift=\"sub\" font-size=\"14.00\" fill=\"#000000\">4</text>\n<text text-anchor=\"start\" x=\"439\" y=\"-238.8\" font-family=\"Helvetica,sans-Serif\" font-size=\"14.00\" fill=\"#000000\"> ≤ 103135.0</text>\n<text text-anchor=\"start\" x=\"431\" y=\"-224.8\" font-family=\"Helvetica,sans-Serif\" font-size=\"14.00\" fill=\"#000000\">gini = 0.628</text>\n<text text-anchor=\"start\" x=\"417\" y=\"-210.8\" font-family=\"Helvetica,sans-Serif\" font-size=\"14.00\" fill=\"#000000\">samples = 2195</text>\n<text text-anchor=\"start\" x=\"390.5\" y=\"-196.8\" font-family=\"Helvetica,sans-Serif\" font-size=\"14.00\" fill=\"#000000\">value = [1053, 692, 450]</text>\n</g>\n<!-- 5&#45;&gt;6 -->\n<g id=\"edge6\" class=\"edge\">\n<title>5&#45;&gt;6</title>\n<path fill=\"none\" stroke=\"#000000\" d=\"M830.3462,-300.9439C753.6087,-283.9665 643.9114,-259.6972 565.5459,-242.3597\"/>\n<polygon fill=\"#000000\" stroke=\"#000000\" points=\"566.1878,-238.9172 555.6678,-240.1743 564.6756,-245.7519 566.1878,-238.9172\"/>\n</g>\n<!-- 13 -->\n<g id=\"node14\" class=\"node\">\n<title>13</title>\n<path fill=\"#e58139\" fill-opacity=\"0.317647\" stroke=\"#000000\" d=\"M991,-253C991,-253 851,-253 851,-253 845,-253 839,-247 839,-241 839,-241 839,-201 839,-201 839,-195 845,-189 851,-189 851,-189 991,-189 991,-189 997,-189 1003,-195 1003,-201 1003,-201 1003,-241 1003,-241 1003,-247 997,-253 991,-253\"/>\n<text text-anchor=\"start\" x=\"882\" y=\"-238.8\" font-family=\"Helvetica,sans-Serif\" font-size=\"14.00\" fill=\"#000000\">X</text>\n<text text-anchor=\"start\" x=\"892\" y=\"-238.8\" font-family=\"Helvetica,sans-Serif\" baseline-shift=\"sub\" font-size=\"14.00\" fill=\"#000000\">1</text>\n<text text-anchor=\"start\" x=\"899\" y=\"-238.8\" font-family=\"Helvetica,sans-Serif\" font-size=\"14.00\" fill=\"#000000\"> ≤ 37.756</text>\n<text text-anchor=\"start\" x=\"883\" y=\"-224.8\" font-family=\"Helvetica,sans-Serif\" font-size=\"14.00\" fill=\"#000000\">gini = 0.582</text>\n<text text-anchor=\"start\" x=\"873\" y=\"-210.8\" font-family=\"Helvetica,sans-Serif\" font-size=\"14.00\" fill=\"#000000\">samples = 988</text>\n<text text-anchor=\"start\" x=\"847\" y=\"-196.8\" font-family=\"Helvetica,sans-Serif\" font-size=\"14.00\" fill=\"#000000\">value = [535, 325, 128]</text>\n</g>\n<!-- 5&#45;&gt;13 -->\n<g id=\"edge13\" class=\"edge\">\n<title>5&#45;&gt;13</title>\n<path fill=\"none\" stroke=\"#000000\" d=\"M921,-288.8089C921,-280.6906 921,-271.8517 921,-263.3186\"/>\n<polygon fill=\"#000000\" stroke=\"#000000\" points=\"924.5001,-263.1307 921,-253.1308 917.5001,-263.1308 924.5001,-263.1307\"/>\n</g>\n<!-- 7 -->\n<g id=\"node8\" class=\"node\">\n<title>7</title>\n<path fill=\"#39e581\" fill-opacity=\"0.349020\" stroke=\"#000000\" d=\"M298,-153C298,-153 174,-153 174,-153 168,-153 162,-147 162,-141 162,-141 162,-101 162,-101 162,-95 168,-89 174,-89 174,-89 298,-89 298,-89 304,-89 310,-95 310,-101 310,-101 310,-141 310,-141 310,-147 304,-153 298,-153\"/>\n<text text-anchor=\"start\" x=\"205.5\" y=\"-138.8\" font-family=\"Helvetica,sans-Serif\" font-size=\"14.00\" fill=\"#000000\">X</text>\n<text text-anchor=\"start\" x=\"215.5\" y=\"-138.8\" font-family=\"Helvetica,sans-Serif\" baseline-shift=\"sub\" font-size=\"14.00\" fill=\"#000000\">3</text>\n<text text-anchor=\"start\" x=\"222.5\" y=\"-138.8\" font-family=\"Helvetica,sans-Serif\" font-size=\"14.00\" fill=\"#000000\"> ≤ 85.5</text>\n<text text-anchor=\"start\" x=\"198\" y=\"-124.8\" font-family=\"Helvetica,sans-Serif\" font-size=\"14.00\" fill=\"#000000\">gini = 0.478</text>\n<text text-anchor=\"start\" x=\"184\" y=\"-110.8\" font-family=\"Helvetica,sans-Serif\" font-size=\"14.00\" fill=\"#000000\">samples = 1140</text>\n<text text-anchor=\"start\" x=\"170\" y=\"-96.8\" font-family=\"Helvetica,sans-Serif\" font-size=\"14.00\" fill=\"#000000\">value = [0, 690, 450]</text>\n</g>\n<!-- 6&#45;&gt;7 -->\n<g id=\"edge7\" class=\"edge\">\n<title>6&#45;&gt;7</title>\n<path fill=\"none\" stroke=\"#000000\" d=\"M394.3159,-188.9467C370.4739,-178.7141 343.9378,-167.3252 319.5106,-156.8414\"/>\n<polygon fill=\"#000000\" stroke=\"#000000\" points=\"320.8317,-153.5997 310.2618,-152.872 318.0709,-160.0323 320.8317,-153.5997\"/>\n</g>\n<!-- 10 -->\n<g id=\"node11\" class=\"node\">\n<title>10</title>\n<path fill=\"#e58139\" stroke=\"#000000\" d=\"M527,-153C527,-153 411,-153 411,-153 405,-153 399,-147 399,-141 399,-141 399,-101 399,-101 399,-95 405,-89 411,-89 411,-89 527,-89 527,-89 533,-89 539,-95 539,-101 539,-101 539,-141 539,-141 539,-147 533,-153 527,-153\"/>\n<text text-anchor=\"start\" x=\"442.5\" y=\"-138.8\" font-family=\"Helvetica,sans-Serif\" font-size=\"14.00\" fill=\"#000000\">X</text>\n<text text-anchor=\"start\" x=\"452.5\" y=\"-138.8\" font-family=\"Helvetica,sans-Serif\" baseline-shift=\"sub\" font-size=\"14.00\" fill=\"#000000\">5</text>\n<text text-anchor=\"start\" x=\"459.5\" y=\"-138.8\" font-family=\"Helvetica,sans-Serif\" font-size=\"14.00\" fill=\"#000000\"> ≤ 1.5</text>\n<text text-anchor=\"start\" x=\"431\" y=\"-124.8\" font-family=\"Helvetica,sans-Serif\" font-size=\"14.00\" fill=\"#000000\">gini = 0.004</text>\n<text text-anchor=\"start\" x=\"417\" y=\"-110.8\" font-family=\"Helvetica,sans-Serif\" font-size=\"14.00\" fill=\"#000000\">samples = 1055</text>\n<text text-anchor=\"start\" x=\"407\" y=\"-96.8\" font-family=\"Helvetica,sans-Serif\" font-size=\"14.00\" fill=\"#000000\">value = [1053, 2, 0]</text>\n</g>\n<!-- 6&#45;&gt;10 -->\n<g id=\"edge10\" class=\"edge\">\n<title>6&#45;&gt;10</title>\n<path fill=\"none\" stroke=\"#000000\" d=\"M469,-188.8089C469,-180.6906 469,-171.8517 469,-163.3186\"/>\n<polygon fill=\"#000000\" stroke=\"#000000\" points=\"472.5001,-163.1307 469,-153.1308 465.5001,-163.1308 472.5001,-163.1307\"/>\n</g>\n<!-- 8 -->\n<g id=\"node9\" class=\"node\">\n<title>8</title>\n<path fill=\"#39e581\" fill-opacity=\"0.164706\" stroke=\"#000000\" d=\"M136,-53C136,-53 12,-53 12,-53 6,-53 0,-47 0,-41 0,-41 0,-12 0,-12 0,-6 6,0 12,0 12,0 136,0 136,0 142,0 148,-6 148,-12 148,-12 148,-41 148,-41 148,-47 142,-53 136,-53\"/>\n<text text-anchor=\"start\" x=\"36\" y=\"-37.8\" font-family=\"Helvetica,sans-Serif\" font-size=\"14.00\" fill=\"#000000\">gini = 0.496</text>\n<text text-anchor=\"start\" x=\"26\" y=\"-22.8\" font-family=\"Helvetica,sans-Serif\" font-size=\"14.00\" fill=\"#000000\">samples = 835</text>\n<text text-anchor=\"start\" x=\"8\" y=\"-7.8\" font-family=\"Helvetica,sans-Serif\" font-size=\"14.00\" fill=\"#000000\">value = [0, 455, 380]</text>\n</g>\n<!-- 7&#45;&gt;8 -->\n<g id=\"edge8\" class=\"edge\">\n<title>7&#45;&gt;8</title>\n<path fill=\"none\" stroke=\"#000000\" d=\"M180.7019,-88.7428C163.764,-78.8624 145.1534,-68.0062 128.2839,-58.1656\"/>\n<polygon fill=\"#000000\" stroke=\"#000000\" points=\"130.0403,-55.1382 119.6389,-53.1227 126.5132,-61.1847 130.0403,-55.1382\"/>\n</g>\n<!-- 9 -->\n<g id=\"node10\" class=\"node\">\n<title>9</title>\n<path fill=\"#39e581\" fill-opacity=\"0.701961\" stroke=\"#000000\" d=\"M294,-53C294,-53 178,-53 178,-53 172,-53 166,-47 166,-41 166,-41 166,-12 166,-12 166,-6 172,0 178,0 178,0 294,0 294,0 300,0 306,-6 306,-12 306,-12 306,-41 306,-41 306,-47 300,-53 294,-53\"/>\n<text text-anchor=\"start\" x=\"198\" y=\"-37.8\" font-family=\"Helvetica,sans-Serif\" font-size=\"14.00\" fill=\"#000000\">gini = 0.354</text>\n<text text-anchor=\"start\" x=\"188\" y=\"-22.8\" font-family=\"Helvetica,sans-Serif\" font-size=\"14.00\" fill=\"#000000\">samples = 305</text>\n<text text-anchor=\"start\" x=\"174\" y=\"-7.8\" font-family=\"Helvetica,sans-Serif\" font-size=\"14.00\" fill=\"#000000\">value = [0, 235, 70]</text>\n</g>\n<!-- 7&#45;&gt;9 -->\n<g id=\"edge9\" class=\"edge\">\n<title>7&#45;&gt;9</title>\n<path fill=\"none\" stroke=\"#000000\" d=\"M236,-88.7428C236,-80.6222 236,-71.8426 236,-63.5093\"/>\n<polygon fill=\"#000000\" stroke=\"#000000\" points=\"239.5001,-63.2758 236,-53.2759 232.5001,-63.2759 239.5001,-63.2758\"/>\n</g>\n<!-- 11 -->\n<g id=\"node12\" class=\"node\">\n<title>11</title>\n<path fill=\"#e58139\" stroke=\"#000000\" d=\"M443.5,-53C443.5,-53 336.5,-53 336.5,-53 330.5,-53 324.5,-47 324.5,-41 324.5,-41 324.5,-12 324.5,-12 324.5,-6 330.5,0 336.5,0 336.5,0 443.5,0 443.5,0 449.5,0 455.5,-6 455.5,-12 455.5,-12 455.5,-41 455.5,-41 455.5,-47 449.5,-53 443.5,-53\"/>\n<text text-anchor=\"start\" x=\"360.5\" y=\"-37.8\" font-family=\"Helvetica,sans-Serif\" font-size=\"14.00\" fill=\"#000000\">gini = 0.0</text>\n<text text-anchor=\"start\" x=\"342\" y=\"-22.8\" font-family=\"Helvetica,sans-Serif\" font-size=\"14.00\" fill=\"#000000\">samples = 679</text>\n<text text-anchor=\"start\" x=\"332.5\" y=\"-7.8\" font-family=\"Helvetica,sans-Serif\" font-size=\"14.00\" fill=\"#000000\">value = [679, 0, 0]</text>\n</g>\n<!-- 10&#45;&gt;11 -->\n<g id=\"edge11\" class=\"edge\">\n<title>10&#45;&gt;11</title>\n<path fill=\"none\" stroke=\"#000000\" d=\"M442.0336,-88.7428C434.5662,-79.8102 426.432,-70.08 418.8612,-61.0238\"/>\n<polygon fill=\"#000000\" stroke=\"#000000\" points=\"421.4832,-58.7033 412.3841,-53.2759 416.1126,-63.193 421.4832,-58.7033\"/>\n</g>\n<!-- 12 -->\n<g id=\"node13\" class=\"node\">\n<title>12</title>\n<path fill=\"#e58139\" fill-opacity=\"0.996078\" stroke=\"#000000\" d=\"M592.5,-53C592.5,-53 485.5,-53 485.5,-53 479.5,-53 473.5,-47 473.5,-41 473.5,-41 473.5,-12 473.5,-12 473.5,-6 479.5,0 485.5,0 485.5,0 592.5,0 592.5,0 598.5,0 604.5,-6 604.5,-12 604.5,-12 604.5,-41 604.5,-41 604.5,-47 598.5,-53 592.5,-53\"/>\n<text text-anchor=\"start\" x=\"501\" y=\"-37.8\" font-family=\"Helvetica,sans-Serif\" font-size=\"14.00\" fill=\"#000000\">gini = 0.011</text>\n<text text-anchor=\"start\" x=\"491\" y=\"-22.8\" font-family=\"Helvetica,sans-Serif\" font-size=\"14.00\" fill=\"#000000\">samples = 376</text>\n<text text-anchor=\"start\" x=\"481.5\" y=\"-7.8\" font-family=\"Helvetica,sans-Serif\" font-size=\"14.00\" fill=\"#000000\">value = [374, 2, 0]</text>\n</g>\n<!-- 10&#45;&gt;12 -->\n<g id=\"edge12\" class=\"edge\">\n<title>10&#45;&gt;12</title>\n<path fill=\"none\" stroke=\"#000000\" d=\"M492.8942,-88.7428C499.3773,-79.9906 506.4275,-70.4728 513.0196,-61.5735\"/>\n<polygon fill=\"#000000\" stroke=\"#000000\" points=\"516.0262,-63.3948 519.166,-53.2759 510.4013,-59.2281 516.0262,-63.3948\"/>\n</g>\n<!-- 14 -->\n<g id=\"node15\" class=\"node\">\n<title>14</title>\n<path fill=\"#e58139\" fill-opacity=\"0.478431\" stroke=\"#000000\" d=\"M900,-153C900,-153 768,-153 768,-153 762,-153 756,-147 756,-141 756,-141 756,-101 756,-101 756,-95 762,-89 768,-89 768,-89 900,-89 900,-89 906,-89 912,-95 912,-101 912,-101 912,-141 912,-141 912,-147 906,-153 900,-153\"/>\n<text text-anchor=\"start\" x=\"787\" y=\"-138.8\" font-family=\"Helvetica,sans-Serif\" font-size=\"14.00\" fill=\"#000000\">X</text>\n<text text-anchor=\"start\" x=\"797\" y=\"-138.8\" font-family=\"Helvetica,sans-Serif\" baseline-shift=\"sub\" font-size=\"14.00\" fill=\"#000000\">4</text>\n<text text-anchor=\"start\" x=\"804\" y=\"-138.8\" font-family=\"Helvetica,sans-Serif\" font-size=\"14.00\" fill=\"#000000\"> ≤ 103135.0</text>\n<text text-anchor=\"start\" x=\"796\" y=\"-124.8\" font-family=\"Helvetica,sans-Serif\" font-size=\"14.00\" fill=\"#000000\">gini = 0.508</text>\n<text text-anchor=\"start\" x=\"786\" y=\"-110.8\" font-family=\"Helvetica,sans-Serif\" font-size=\"14.00\" fill=\"#000000\">samples = 416</text>\n<text text-anchor=\"start\" x=\"764\" y=\"-96.8\" font-family=\"Helvetica,sans-Serif\" font-size=\"14.00\" fill=\"#000000\">value = [263, 123, 30]</text>\n</g>\n<!-- 13&#45;&gt;14 -->\n<g id=\"edge14\" class=\"edge\">\n<title>13&#45;&gt;14</title>\n<path fill=\"none\" stroke=\"#000000\" d=\"M892.9938,-188.8089C885.2323,-179.8877 876.7138,-170.0963 868.6232,-160.7968\"/>\n<polygon fill=\"#000000\" stroke=\"#000000\" points=\"871.158,-158.3779 861.9538,-153.1308 865.8769,-162.9725 871.158,-158.3779\"/>\n</g>\n<!-- 17 -->\n<g id=\"node18\" class=\"node\">\n<title>17</title>\n<path fill=\"#e58139\" fill-opacity=\"0.188235\" stroke=\"#000000\" d=\"M1074,-153C1074,-153 942,-153 942,-153 936,-153 930,-147 930,-141 930,-141 930,-101 930,-101 930,-95 936,-89 942,-89 942,-89 1074,-89 1074,-89 1080,-89 1086,-95 1086,-101 1086,-101 1086,-141 1086,-141 1086,-147 1080,-153 1074,-153\"/>\n<text text-anchor=\"start\" x=\"963\" y=\"-138.8\" font-family=\"Helvetica,sans-Serif\" font-size=\"14.00\" fill=\"#000000\">X</text>\n<text text-anchor=\"start\" x=\"973\" y=\"-138.8\" font-family=\"Helvetica,sans-Serif\" baseline-shift=\"sub\" font-size=\"14.00\" fill=\"#000000\">2</text>\n<text text-anchor=\"start\" x=\"980\" y=\"-138.8\" font-family=\"Helvetica,sans-Serif\" font-size=\"14.00\" fill=\"#000000\"> ≤ &#45;122.421</text>\n<text text-anchor=\"start\" x=\"974.5\" y=\"-124.8\" font-family=\"Helvetica,sans-Serif\" font-size=\"14.00\" fill=\"#000000\">gini = 0.62</text>\n<text text-anchor=\"start\" x=\"960\" y=\"-110.8\" font-family=\"Helvetica,sans-Serif\" font-size=\"14.00\" fill=\"#000000\">samples = 572</text>\n<text text-anchor=\"start\" x=\"938\" y=\"-96.8\" font-family=\"Helvetica,sans-Serif\" font-size=\"14.00\" fill=\"#000000\">value = [272, 202, 98]</text>\n</g>\n<!-- 13&#45;&gt;17 -->\n<g id=\"edge17\" class=\"edge\">\n<title>13&#45;&gt;17</title>\n<path fill=\"none\" stroke=\"#000000\" d=\"M949.0062,-188.8089C956.7677,-179.8877 965.2862,-170.0963 973.3768,-160.7968\"/>\n<polygon fill=\"#000000\" stroke=\"#000000\" points=\"976.1231,-162.9725 980.0462,-153.1308 970.842,-158.3779 976.1231,-162.9725\"/>\n</g>\n<!-- 15 -->\n<g id=\"node16\" class=\"node\">\n<title>15</title>\n<path fill=\"#39e581\" fill-opacity=\"0.756863\" stroke=\"#000000\" d=\"M751,-53C751,-53 635,-53 635,-53 629,-53 623,-47 623,-41 623,-41 623,-12 623,-12 623,-6 629,0 635,0 635,0 751,0 751,0 757,0 763,-6 763,-12 763,-12 763,-41 763,-41 763,-47 757,-53 751,-53\"/>\n<text text-anchor=\"start\" x=\"655\" y=\"-37.8\" font-family=\"Helvetica,sans-Serif\" font-size=\"14.00\" fill=\"#000000\">gini = 0.315</text>\n<text text-anchor=\"start\" x=\"645\" y=\"-22.8\" font-family=\"Helvetica,sans-Serif\" font-size=\"14.00\" fill=\"#000000\">samples = 153</text>\n<text text-anchor=\"start\" x=\"631\" y=\"-7.8\" font-family=\"Helvetica,sans-Serif\" font-size=\"14.00\" fill=\"#000000\">value = [0, 123, 30]</text>\n</g>\n<!-- 14&#45;&gt;15 -->\n<g id=\"edge15\" class=\"edge\">\n<title>14&#45;&gt;15</title>\n<path fill=\"none\" stroke=\"#000000\" d=\"M785.8702,-88.7428C771.5998,-79.1786 755.9652,-68.7001 741.6614,-59.1135\"/>\n<polygon fill=\"#000000\" stroke=\"#000000\" points=\"743.2068,-55.9359 732.9513,-53.2759 739.3096,-61.7507 743.2068,-55.9359\"/>\n</g>\n<!-- 16 -->\n<g id=\"node17\" class=\"node\">\n<title>16</title>\n<path fill=\"#e58139\" stroke=\"#000000\" d=\"M900.5,-53C900.5,-53 793.5,-53 793.5,-53 787.5,-53 781.5,-47 781.5,-41 781.5,-41 781.5,-12 781.5,-12 781.5,-6 787.5,0 793.5,0 793.5,0 900.5,0 900.5,0 906.5,0 912.5,-6 912.5,-12 912.5,-12 912.5,-41 912.5,-41 912.5,-47 906.5,-53 900.5,-53\"/>\n<text text-anchor=\"start\" x=\"817.5\" y=\"-37.8\" font-family=\"Helvetica,sans-Serif\" font-size=\"14.00\" fill=\"#000000\">gini = 0.0</text>\n<text text-anchor=\"start\" x=\"799\" y=\"-22.8\" font-family=\"Helvetica,sans-Serif\" font-size=\"14.00\" fill=\"#000000\">samples = 263</text>\n<text text-anchor=\"start\" x=\"789.5\" y=\"-7.8\" font-family=\"Helvetica,sans-Serif\" font-size=\"14.00\" fill=\"#000000\">value = [263, 0, 0]</text>\n</g>\n<!-- 14&#45;&gt;16 -->\n<g id=\"edge16\" class=\"edge\">\n<title>14&#45;&gt;16</title>\n<path fill=\"none\" stroke=\"#000000\" d=\"M838.4375,-88.7428C839.567,-80.532 840.7893,-71.6474 841.947,-63.2317\"/>\n<polygon fill=\"#000000\" stroke=\"#000000\" points=\"845.421,-63.6596 843.3165,-53.2759 838.4863,-62.7055 845.421,-63.6596\"/>\n</g>\n<!-- 18 -->\n<g id=\"node19\" class=\"node\">\n<title>18</title>\n<path fill=\"#e58139\" fill-opacity=\"0.529412\" stroke=\"#000000\" d=\"M1049.5,-53C1049.5,-53 942.5,-53 942.5,-53 936.5,-53 930.5,-47 930.5,-41 930.5,-41 930.5,-12 930.5,-12 930.5,-6 936.5,0 942.5,0 942.5,0 1049.5,0 1049.5,0 1055.5,0 1061.5,-6 1061.5,-12 1061.5,-12 1061.5,-41 1061.5,-41 1061.5,-47 1055.5,-53 1049.5,-53\"/>\n<text text-anchor=\"start\" x=\"962.5\" y=\"-37.8\" font-family=\"Helvetica,sans-Serif\" font-size=\"14.00\" fill=\"#000000\">gini = 0.47</text>\n<text text-anchor=\"start\" x=\"952\" y=\"-22.8\" font-family=\"Helvetica,sans-Serif\" font-size=\"14.00\" fill=\"#000000\">samples = 45</text>\n<text text-anchor=\"start\" x=\"938.5\" y=\"-7.8\" font-family=\"Helvetica,sans-Serif\" font-size=\"14.00\" fill=\"#000000\">value = [30, 13, 2]</text>\n</g>\n<!-- 17&#45;&gt;18 -->\n<g id=\"edge18\" class=\"edge\">\n<title>17&#45;&gt;18</title>\n<path fill=\"none\" stroke=\"#000000\" d=\"M1003.9038,-88.7428C1002.8612,-80.532 1001.733,-71.6474 1000.6643,-63.2317\"/>\n<polygon fill=\"#000000\" stroke=\"#000000\" points=\"1004.132,-62.7553 999.4001,-53.2759 997.1878,-63.6371 1004.132,-62.7553\"/>\n</g>\n<!-- 19 -->\n<g id=\"node20\" class=\"node\">\n<title>19</title>\n<path fill=\"#e58139\" fill-opacity=\"0.156863\" stroke=\"#000000\" d=\"M1224,-53C1224,-53 1092,-53 1092,-53 1086,-53 1080,-47 1080,-41 1080,-41 1080,-12 1080,-12 1080,-6 1086,0 1092,0 1092,0 1224,0 1224,0 1230,0 1236,-6 1236,-12 1236,-12 1236,-41 1236,-41 1236,-47 1230,-53 1224,-53\"/>\n<text text-anchor=\"start\" x=\"1120\" y=\"-37.8\" font-family=\"Helvetica,sans-Serif\" font-size=\"14.00\" fill=\"#000000\">gini = 0.627</text>\n<text text-anchor=\"start\" x=\"1110\" y=\"-22.8\" font-family=\"Helvetica,sans-Serif\" font-size=\"14.00\" fill=\"#000000\">samples = 527</text>\n<text text-anchor=\"start\" x=\"1088\" y=\"-7.8\" font-family=\"Helvetica,sans-Serif\" font-size=\"14.00\" fill=\"#000000\">value = [242, 189, 96]</text>\n</g>\n<!-- 17&#45;&gt;19 -->\n<g id=\"edge19\" class=\"edge\">\n<title>17&#45;&gt;19</title>\n<path fill=\"none\" stroke=\"#000000\" d=\"M1059.202,-88.7428C1074.5264,-79.0883 1091.3297,-68.5023 1106.6629,-58.8424\"/>\n<polygon fill=\"#000000\" stroke=\"#000000\" points=\"1108.9033,-61.5676 1115.4986,-53.2759 1105.172,-55.645 1108.9033,-61.5676\"/>\n</g>\n<!-- 21 -->\n<g id=\"node22\" class=\"node\">\n<title>21</title>\n<path fill=\"#39e581\" fill-opacity=\"0.533333\" stroke=\"#000000\" d=\"M1627,-253C1627,-253 1495,-253 1495,-253 1489,-253 1483,-247 1483,-241 1483,-241 1483,-201 1483,-201 1483,-195 1489,-189 1495,-189 1495,-189 1627,-189 1627,-189 1633,-189 1639,-195 1639,-201 1639,-201 1639,-241 1639,-241 1639,-247 1633,-253 1627,-253\"/>\n<text text-anchor=\"start\" x=\"1530.5\" y=\"-238.8\" font-family=\"Helvetica,sans-Serif\" font-size=\"14.00\" fill=\"#000000\">X</text>\n<text text-anchor=\"start\" x=\"1540.5\" y=\"-238.8\" font-family=\"Helvetica,sans-Serif\" baseline-shift=\"sub\" font-size=\"14.00\" fill=\"#000000\">3</text>\n<text text-anchor=\"start\" x=\"1547.5\" y=\"-238.8\" font-family=\"Helvetica,sans-Serif\" font-size=\"14.00\" fill=\"#000000\"> ≤ 88.5</text>\n<text text-anchor=\"start\" x=\"1523\" y=\"-224.8\" font-family=\"Helvetica,sans-Serif\" font-size=\"14.00\" fill=\"#000000\">gini = 0.434</text>\n<text text-anchor=\"start\" x=\"1509\" y=\"-210.8\" font-family=\"Helvetica,sans-Serif\" font-size=\"14.00\" fill=\"#000000\">samples = 1674</text>\n<text text-anchor=\"start\" x=\"1491\" y=\"-196.8\" font-family=\"Helvetica,sans-Serif\" font-size=\"14.00\" fill=\"#000000\">value = [0, 1142, 532]</text>\n</g>\n<!-- 20&#45;&gt;21 -->\n<g id=\"edge21\" class=\"edge\">\n<title>20&#45;&gt;21</title>\n<path fill=\"none\" stroke=\"#000000\" d=\"M1615.9252,-288.8089C1608.7713,-279.9769 1600.9266,-270.2921 1593.4615,-261.0759\"/>\n<polygon fill=\"#000000\" stroke=\"#000000\" points=\"1596.0399,-258.6984 1587.0259,-253.1308 1590.6004,-263.1044 1596.0399,-258.6984\"/>\n</g>\n<!-- 28 -->\n<g id=\"node29\" class=\"node\">\n<title>28</title>\n<path fill=\"#e58139\" stroke=\"#000000\" d=\"M1776.5,-247.5C1776.5,-247.5 1669.5,-247.5 1669.5,-247.5 1663.5,-247.5 1657.5,-241.5 1657.5,-235.5 1657.5,-235.5 1657.5,-206.5 1657.5,-206.5 1657.5,-200.5 1663.5,-194.5 1669.5,-194.5 1669.5,-194.5 1776.5,-194.5 1776.5,-194.5 1782.5,-194.5 1788.5,-200.5 1788.5,-206.5 1788.5,-206.5 1788.5,-235.5 1788.5,-235.5 1788.5,-241.5 1782.5,-247.5 1776.5,-247.5\"/>\n<text text-anchor=\"start\" x=\"1693.5\" y=\"-232.3\" font-family=\"Helvetica,sans-Serif\" font-size=\"14.00\" fill=\"#000000\">gini = 0.0</text>\n<text text-anchor=\"start\" x=\"1675\" y=\"-217.3\" font-family=\"Helvetica,sans-Serif\" font-size=\"14.00\" fill=\"#000000\">samples = 613</text>\n<text text-anchor=\"start\" x=\"1665.5\" y=\"-202.3\" font-family=\"Helvetica,sans-Serif\" font-size=\"14.00\" fill=\"#000000\">value = [613, 0, 0]</text>\n</g>\n<!-- 20&#45;&gt;28 -->\n<g id=\"edge28\" class=\"edge\">\n<title>20&#45;&gt;28</title>\n<path fill=\"none\" stroke=\"#000000\" d=\"M1668.0748,-288.8089C1676.6248,-278.2533 1686.1616,-266.4796 1694.8576,-255.7437\"/>\n<polygon fill=\"#000000\" stroke=\"#000000\" points=\"1697.7389,-257.7472 1701.3134,-247.7735 1692.2995,-253.3412 1697.7389,-257.7472\"/>\n</g>\n<!-- 22 -->\n<g id=\"node23\" class=\"node\">\n<title>22</title>\n<path fill=\"#39e581\" fill-opacity=\"0.568627\" stroke=\"#000000\" d=\"M1546,-153C1546,-153 1414,-153 1414,-153 1408,-153 1402,-147 1402,-141 1402,-141 1402,-101 1402,-101 1402,-95 1408,-89 1414,-89 1414,-89 1546,-89 1546,-89 1552,-89 1558,-95 1558,-101 1558,-101 1558,-141 1558,-141 1558,-147 1552,-153 1546,-153\"/>\n<text text-anchor=\"start\" x=\"1449.5\" y=\"-138.8\" font-family=\"Helvetica,sans-Serif\" font-size=\"14.00\" fill=\"#000000\">X</text>\n<text text-anchor=\"start\" x=\"1459.5\" y=\"-138.8\" font-family=\"Helvetica,sans-Serif\" baseline-shift=\"sub\" font-size=\"14.00\" fill=\"#000000\">3</text>\n<text text-anchor=\"start\" x=\"1466.5\" y=\"-138.8\" font-family=\"Helvetica,sans-Serif\" font-size=\"14.00\" fill=\"#000000\"> ≤ 87.5</text>\n<text text-anchor=\"start\" x=\"1442\" y=\"-124.8\" font-family=\"Helvetica,sans-Serif\" font-size=\"14.00\" fill=\"#000000\">gini = 0.421</text>\n<text text-anchor=\"start\" x=\"1428\" y=\"-110.8\" font-family=\"Helvetica,sans-Serif\" font-size=\"14.00\" fill=\"#000000\">samples = 1590</text>\n<text text-anchor=\"start\" x=\"1410\" y=\"-96.8\" font-family=\"Helvetica,sans-Serif\" font-size=\"14.00\" fill=\"#000000\">value = [0, 1111, 479]</text>\n</g>\n<!-- 21&#45;&gt;22 -->\n<g id=\"edge22\" class=\"edge\">\n<title>21&#45;&gt;22</title>\n<path fill=\"none\" stroke=\"#000000\" d=\"M1534.9252,-188.8089C1527.7713,-179.9769 1519.9266,-170.2921 1512.4615,-161.0759\"/>\n<polygon fill=\"#000000\" stroke=\"#000000\" points=\"1515.0399,-158.6984 1506.0259,-153.1308 1509.6004,-163.1044 1515.0399,-158.6984\"/>\n</g>\n<!-- 25 -->\n<g id=\"node26\" class=\"node\">\n<title>25</title>\n<path fill=\"#8139e5\" fill-opacity=\"0.415686\" stroke=\"#000000\" d=\"M1695.5,-153C1695.5,-153 1588.5,-153 1588.5,-153 1582.5,-153 1576.5,-147 1576.5,-141 1576.5,-141 1576.5,-101 1576.5,-101 1576.5,-95 1582.5,-89 1588.5,-89 1588.5,-89 1695.5,-89 1695.5,-89 1701.5,-89 1707.5,-95 1707.5,-101 1707.5,-101 1707.5,-141 1707.5,-141 1707.5,-147 1701.5,-153 1695.5,-153\"/>\n<text text-anchor=\"start\" x=\"1603\" y=\"-138.8\" font-family=\"Helvetica,sans-Serif\" font-size=\"14.00\" fill=\"#000000\">X</text>\n<text text-anchor=\"start\" x=\"1613\" y=\"-138.8\" font-family=\"Helvetica,sans-Serif\" baseline-shift=\"sub\" font-size=\"14.00\" fill=\"#000000\">1</text>\n<text text-anchor=\"start\" x=\"1620\" y=\"-138.8\" font-family=\"Helvetica,sans-Serif\" font-size=\"14.00\" fill=\"#000000\"> ≤ 37.765</text>\n<text text-anchor=\"start\" x=\"1604\" y=\"-124.8\" font-family=\"Helvetica,sans-Serif\" font-size=\"14.00\" fill=\"#000000\">gini = 0.466</text>\n<text text-anchor=\"start\" x=\"1598\" y=\"-110.8\" font-family=\"Helvetica,sans-Serif\" font-size=\"14.00\" fill=\"#000000\">samples = 84</text>\n<text text-anchor=\"start\" x=\"1584.5\" y=\"-96.8\" font-family=\"Helvetica,sans-Serif\" font-size=\"14.00\" fill=\"#000000\">value = [0, 31, 53]</text>\n</g>\n<!-- 21&#45;&gt;25 -->\n<g id=\"edge25\" class=\"edge\">\n<title>21&#45;&gt;25</title>\n<path fill=\"none\" stroke=\"#000000\" d=\"M1587.0748,-188.8089C1594.2287,-179.9769 1602.0734,-170.2921 1609.5385,-161.0759\"/>\n<polygon fill=\"#000000\" stroke=\"#000000\" points=\"1612.3996,-163.1044 1615.9741,-153.1308 1606.9601,-158.6984 1612.3996,-163.1044\"/>\n</g>\n<!-- 23 -->\n<g id=\"node24\" class=\"node\">\n<title>23</title>\n<path fill=\"#39e581\" fill-opacity=\"0.486275\" stroke=\"#000000\" d=\"M1390,-53C1390,-53 1266,-53 1266,-53 1260,-53 1254,-47 1254,-41 1254,-41 1254,-12 1254,-12 1254,-6 1260,0 1266,0 1266,0 1390,0 1390,0 1396,0 1402,-6 1402,-12 1402,-12 1402,-41 1402,-41 1402,-47 1396,-53 1390,-53\"/>\n<text text-anchor=\"start\" x=\"1290\" y=\"-37.8\" font-family=\"Helvetica,sans-Serif\" font-size=\"14.00\" fill=\"#000000\">gini = 0.448</text>\n<text text-anchor=\"start\" x=\"1276\" y=\"-22.8\" font-family=\"Helvetica,sans-Serif\" font-size=\"14.00\" fill=\"#000000\">samples = 1412</text>\n<text text-anchor=\"start\" x=\"1262\" y=\"-7.8\" font-family=\"Helvetica,sans-Serif\" font-size=\"14.00\" fill=\"#000000\">value = [0, 933, 479]</text>\n</g>\n<!-- 22&#45;&gt;23 -->\n<g id=\"edge23\" class=\"edge\">\n<title>22&#45;&gt;23</title>\n<path fill=\"none\" stroke=\"#000000\" d=\"M1428.1154,-88.7428C1412.4414,-78.9981 1395.2408,-68.3043 1379.5864,-58.5718\"/>\n<polygon fill=\"#000000\" stroke=\"#000000\" points=\"1381.4086,-55.5834 1371.0681,-53.2759 1377.7126,-61.5282 1381.4086,-55.5834\"/>\n</g>\n<!-- 24 -->\n<g id=\"node25\" class=\"node\">\n<title>24</title>\n<path fill=\"#39e581\" stroke=\"#000000\" d=\"M1539.5,-53C1539.5,-53 1432.5,-53 1432.5,-53 1426.5,-53 1420.5,-47 1420.5,-41 1420.5,-41 1420.5,-12 1420.5,-12 1420.5,-6 1426.5,0 1432.5,0 1432.5,0 1539.5,0 1539.5,0 1545.5,0 1551.5,-6 1551.5,-12 1551.5,-12 1551.5,-41 1551.5,-41 1551.5,-47 1545.5,-53 1539.5,-53\"/>\n<text text-anchor=\"start\" x=\"1456.5\" y=\"-37.8\" font-family=\"Helvetica,sans-Serif\" font-size=\"14.00\" fill=\"#000000\">gini = 0.0</text>\n<text text-anchor=\"start\" x=\"1438\" y=\"-22.8\" font-family=\"Helvetica,sans-Serif\" font-size=\"14.00\" fill=\"#000000\">samples = 178</text>\n<text text-anchor=\"start\" x=\"1428.5\" y=\"-7.8\" font-family=\"Helvetica,sans-Serif\" font-size=\"14.00\" fill=\"#000000\">value = [0, 178, 0]</text>\n</g>\n<!-- 22&#45;&gt;24 -->\n<g id=\"edge24\" class=\"edge\">\n<title>22&#45;&gt;24</title>\n<path fill=\"none\" stroke=\"#000000\" d=\"M1482.0481,-88.7428C1482.5637,-80.6222 1483.1211,-71.8426 1483.6502,-63.5093\"/>\n<polygon fill=\"#000000\" stroke=\"#000000\" points=\"1487.1592,-63.4776 1484.2999,-53.2759 1480.1732,-63.034 1487.1592,-63.4776\"/>\n</g>\n<!-- 26 -->\n<g id=\"node27\" class=\"node\">\n<title>26</title>\n<path fill=\"#8139e5\" fill-opacity=\"0.650980\" stroke=\"#000000\" d=\"M1688.5,-53C1688.5,-53 1581.5,-53 1581.5,-53 1575.5,-53 1569.5,-47 1569.5,-41 1569.5,-41 1569.5,-12 1569.5,-12 1569.5,-6 1575.5,0 1581.5,0 1581.5,0 1688.5,0 1688.5,0 1694.5,0 1700.5,-6 1700.5,-12 1700.5,-12 1700.5,-41 1700.5,-41 1700.5,-47 1694.5,-53 1688.5,-53\"/>\n<text text-anchor=\"start\" x=\"1597\" y=\"-37.8\" font-family=\"Helvetica,sans-Serif\" font-size=\"14.00\" fill=\"#000000\">gini = 0.384</text>\n<text text-anchor=\"start\" x=\"1591\" y=\"-22.8\" font-family=\"Helvetica,sans-Serif\" font-size=\"14.00\" fill=\"#000000\">samples = 54</text>\n<text text-anchor=\"start\" x=\"1577.5\" y=\"-7.8\" font-family=\"Helvetica,sans-Serif\" font-size=\"14.00\" fill=\"#000000\">value = [0, 14, 40]</text>\n</g>\n<!-- 25&#45;&gt;26 -->\n<g id=\"edge26\" class=\"edge\">\n<title>25&#45;&gt;26</title>\n<path fill=\"none\" stroke=\"#000000\" d=\"M1639.6106,-88.7428C1639.0091,-80.6222 1638.3587,-71.8426 1637.7414,-63.5093\"/>\n<polygon fill=\"#000000\" stroke=\"#000000\" points=\"1641.2126,-62.99 1636.9834,-53.2759 1634.2318,-63.5071 1641.2126,-62.99\"/>\n</g>\n<!-- 27 -->\n<g id=\"node28\" class=\"node\">\n<title>27</title>\n<path fill=\"#39e581\" fill-opacity=\"0.235294\" stroke=\"#000000\" d=\"M1837.5,-53C1837.5,-53 1730.5,-53 1730.5,-53 1724.5,-53 1718.5,-47 1718.5,-41 1718.5,-41 1718.5,-12 1718.5,-12 1718.5,-6 1724.5,0 1730.5,0 1730.5,0 1837.5,0 1837.5,0 1843.5,0 1849.5,-6 1849.5,-12 1849.5,-12 1849.5,-41 1849.5,-41 1849.5,-47 1843.5,-53 1837.5,-53\"/>\n<text text-anchor=\"start\" x=\"1746\" y=\"-37.8\" font-family=\"Helvetica,sans-Serif\" font-size=\"14.00\" fill=\"#000000\">gini = 0.491</text>\n<text text-anchor=\"start\" x=\"1740\" y=\"-22.8\" font-family=\"Helvetica,sans-Serif\" font-size=\"14.00\" fill=\"#000000\">samples = 30</text>\n<text text-anchor=\"start\" x=\"1726.5\" y=\"-7.8\" font-family=\"Helvetica,sans-Serif\" font-size=\"14.00\" fill=\"#000000\">value = [0, 17, 13]</text>\n</g>\n<!-- 25&#45;&gt;27 -->\n<g id=\"edge27\" class=\"edge\">\n<title>25&#45;&gt;27</title>\n<path fill=\"none\" stroke=\"#000000\" d=\"M1690.4712,-88.7428C1704.9784,-79.0883 1720.8855,-68.5023 1735.4009,-58.8424\"/>\n<polygon fill=\"#000000\" stroke=\"#000000\" points=\"1737.3794,-61.7299 1743.7654,-53.2759 1733.5012,-55.9024 1737.3794,-61.7299\"/>\n</g>\n<!-- 30 -->\n<g id=\"node31\" class=\"node\">\n<title>30</title>\n<path fill=\"#e58139\" fill-opacity=\"0.039216\" stroke=\"#000000\" d=\"M2793,-353C2793,-353 2653,-353 2653,-353 2647,-353 2641,-347 2641,-341 2641,-341 2641,-301 2641,-301 2641,-295 2647,-289 2653,-289 2653,-289 2793,-289 2793,-289 2799,-289 2805,-295 2805,-301 2805,-301 2805,-341 2805,-341 2805,-347 2799,-353 2793,-353\"/>\n<text text-anchor=\"start\" x=\"2696.5\" y=\"-338.8\" font-family=\"Helvetica,sans-Serif\" font-size=\"14.00\" fill=\"#000000\">X</text>\n<text text-anchor=\"start\" x=\"2706.5\" y=\"-338.8\" font-family=\"Helvetica,sans-Serif\" baseline-shift=\"sub\" font-size=\"14.00\" fill=\"#000000\">5</text>\n<text text-anchor=\"start\" x=\"2713.5\" y=\"-338.8\" font-family=\"Helvetica,sans-Serif\" font-size=\"14.00\" fill=\"#000000\"> ≤ 3.5</text>\n<text text-anchor=\"start\" x=\"2685\" y=\"-324.8\" font-family=\"Helvetica,sans-Serif\" font-size=\"14.00\" fill=\"#000000\">gini = 0.657</text>\n<text text-anchor=\"start\" x=\"2675\" y=\"-310.8\" font-family=\"Helvetica,sans-Serif\" font-size=\"14.00\" fill=\"#000000\">samples = 413</text>\n<text text-anchor=\"start\" x=\"2649\" y=\"-296.8\" font-family=\"Helvetica,sans-Serif\" font-size=\"14.00\" fill=\"#000000\">value = [159, 149, 105]</text>\n</g>\n<!-- 29&#45;&gt;30 -->\n<g id=\"edge30\" class=\"edge\">\n<title>29&#45;&gt;30</title>\n<path fill=\"none\" stroke=\"#000000\" d=\"M2929.9572,-392.6115C2894.1113,-380.208 2851.9155,-365.6075 2815.0074,-352.8365\"/>\n<polygon fill=\"#000000\" stroke=\"#000000\" points=\"2815.8427,-349.4219 2805.2479,-349.4595 2813.5537,-356.0371 2815.8427,-349.4219\"/>\n</g>\n<!-- 45 -->\n<g id=\"node46\" class=\"node\">\n<title>45</title>\n<path fill=\"#e58139\" fill-opacity=\"0.196078\" stroke=\"#000000\" d=\"M3293,-353C3293,-353 3153,-353 3153,-353 3147,-353 3141,-347 3141,-341 3141,-341 3141,-301 3141,-301 3141,-295 3147,-289 3153,-289 3153,-289 3293,-289 3293,-289 3299,-289 3305,-295 3305,-301 3305,-301 3305,-341 3305,-341 3305,-347 3299,-353 3293,-353\"/>\n<text text-anchor=\"start\" x=\"3178\" y=\"-338.8\" font-family=\"Helvetica,sans-Serif\" font-size=\"14.00\" fill=\"#000000\">X</text>\n<text text-anchor=\"start\" x=\"3188\" y=\"-338.8\" font-family=\"Helvetica,sans-Serif\" baseline-shift=\"sub\" font-size=\"14.00\" fill=\"#000000\">2</text>\n<text text-anchor=\"start\" x=\"3195\" y=\"-338.8\" font-family=\"Helvetica,sans-Serif\" font-size=\"14.00\" fill=\"#000000\"> ≤ &#45;122.421</text>\n<text text-anchor=\"start\" x=\"3185\" y=\"-324.8\" font-family=\"Helvetica,sans-Serif\" font-size=\"14.00\" fill=\"#000000\">gini = 0.617</text>\n<text text-anchor=\"start\" x=\"3171\" y=\"-310.8\" font-family=\"Helvetica,sans-Serif\" font-size=\"14.00\" fill=\"#000000\">samples = 1126</text>\n<text text-anchor=\"start\" x=\"3149\" y=\"-296.8\" font-family=\"Helvetica,sans-Serif\" font-size=\"14.00\" fill=\"#000000\">value = [541, 398, 187]</text>\n</g>\n<!-- 29&#45;&gt;45 -->\n<g id=\"edge45\" class=\"edge\">\n<title>29&#45;&gt;45</title>\n<path fill=\"none\" stroke=\"#000000\" d=\"M3079.6324,-388.9467C3100.8324,-378.8993 3124.3846,-367.7372 3146.1715,-357.4116\"/>\n<polygon fill=\"#000000\" stroke=\"#000000\" points=\"3147.8511,-360.4888 3155.3886,-353.0433 3144.8532,-354.1633 3147.8511,-360.4888\"/>\n</g>\n<!-- 31 -->\n<g id=\"node32\" class=\"node\">\n<title>31</title>\n<path fill=\"#e58139\" fill-opacity=\"0.129412\" stroke=\"#000000\" d=\"M2393,-253C2393,-253 2253,-253 2253,-253 2247,-253 2241,-247 2241,-241 2241,-241 2241,-201 2241,-201 2241,-195 2247,-189 2253,-189 2253,-189 2393,-189 2393,-189 2399,-189 2405,-195 2405,-201 2405,-201 2405,-241 2405,-241 2405,-247 2399,-253 2393,-253\"/>\n<text text-anchor=\"start\" x=\"2284\" y=\"-238.8\" font-family=\"Helvetica,sans-Serif\" font-size=\"14.00\" fill=\"#000000\">X</text>\n<text text-anchor=\"start\" x=\"2294\" y=\"-238.8\" font-family=\"Helvetica,sans-Serif\" baseline-shift=\"sub\" font-size=\"14.00\" fill=\"#000000\">1</text>\n<text text-anchor=\"start\" x=\"2301\" y=\"-238.8\" font-family=\"Helvetica,sans-Serif\" font-size=\"14.00\" fill=\"#000000\"> ≤ 37.792</text>\n<text text-anchor=\"start\" x=\"2285\" y=\"-224.8\" font-family=\"Helvetica,sans-Serif\" font-size=\"14.00\" fill=\"#000000\">gini = 0.661</text>\n<text text-anchor=\"start\" x=\"2275\" y=\"-210.8\" font-family=\"Helvetica,sans-Serif\" font-size=\"14.00\" fill=\"#000000\">samples = 351</text>\n<text text-anchor=\"start\" x=\"2249\" y=\"-196.8\" font-family=\"Helvetica,sans-Serif\" font-size=\"14.00\" fill=\"#000000\">value = [139, 108, 104]</text>\n</g>\n<!-- 30&#45;&gt;31 -->\n<g id=\"edge31\" class=\"edge\">\n<title>30&#45;&gt;31</title>\n<path fill=\"none\" stroke=\"#000000\" d=\"M2640.6047,-300.4012C2574.9927,-283.9982 2483.1904,-261.0476 2415.1489,-244.0372\"/>\n<polygon fill=\"#000000\" stroke=\"#000000\" points=\"2415.8387,-240.602 2405.2883,-241.5721 2414.1409,-247.393 2415.8387,-240.602\"/>\n</g>\n<!-- 38 -->\n<g id=\"node39\" class=\"node\">\n<title>38</title>\n<path fill=\"#39e581\" fill-opacity=\"0.498039\" stroke=\"#000000\" d=\"M2776.5,-253C2776.5,-253 2669.5,-253 2669.5,-253 2663.5,-253 2657.5,-247 2657.5,-241 2657.5,-241 2657.5,-201 2657.5,-201 2657.5,-195 2663.5,-189 2669.5,-189 2669.5,-189 2776.5,-189 2776.5,-189 2782.5,-189 2788.5,-195 2788.5,-201 2788.5,-201 2788.5,-241 2788.5,-241 2788.5,-247 2782.5,-253 2776.5,-253\"/>\n<text text-anchor=\"start\" x=\"2692.5\" y=\"-238.8\" font-family=\"Helvetica,sans-Serif\" font-size=\"14.00\" fill=\"#000000\">X</text>\n<text text-anchor=\"start\" x=\"2702.5\" y=\"-238.8\" font-family=\"Helvetica,sans-Serif\" baseline-shift=\"sub\" font-size=\"14.00\" fill=\"#000000\">6</text>\n<text text-anchor=\"start\" x=\"2709.5\" y=\"-238.8\" font-family=\"Helvetica,sans-Serif\" font-size=\"14.00\" fill=\"#000000\"> ≤ 11.5</text>\n<text text-anchor=\"start\" x=\"2685\" y=\"-224.8\" font-family=\"Helvetica,sans-Serif\" font-size=\"14.00\" fill=\"#000000\">gini = 0.458</text>\n<text text-anchor=\"start\" x=\"2679\" y=\"-210.8\" font-family=\"Helvetica,sans-Serif\" font-size=\"14.00\" fill=\"#000000\">samples = 62</text>\n<text text-anchor=\"start\" x=\"2665.5\" y=\"-196.8\" font-family=\"Helvetica,sans-Serif\" font-size=\"14.00\" fill=\"#000000\">value = [20, 41, 1]</text>\n</g>\n<!-- 30&#45;&gt;38 -->\n<g id=\"edge38\" class=\"edge\">\n<title>30&#45;&gt;38</title>\n<path fill=\"none\" stroke=\"#000000\" d=\"M2723,-288.8089C2723,-280.6906 2723,-271.8517 2723,-263.3186\"/>\n<polygon fill=\"#000000\" stroke=\"#000000\" points=\"2726.5001,-263.1307 2723,-253.1308 2719.5001,-263.1308 2726.5001,-263.1307\"/>\n</g>\n<!-- 32 -->\n<g id=\"node33\" class=\"node\">\n<title>32</title>\n<path fill=\"#e58139\" fill-opacity=\"0.129412\" stroke=\"#000000\" d=\"M2162,-153C2162,-153 2030,-153 2030,-153 2024,-153 2018,-147 2018,-141 2018,-141 2018,-101 2018,-101 2018,-95 2024,-89 2030,-89 2030,-89 2162,-89 2162,-89 2168,-89 2174,-95 2174,-101 2174,-101 2174,-141 2174,-141 2174,-147 2168,-153 2162,-153\"/>\n<text text-anchor=\"start\" x=\"2057\" y=\"-138.8\" font-family=\"Helvetica,sans-Serif\" font-size=\"14.00\" fill=\"#000000\">X</text>\n<text text-anchor=\"start\" x=\"2067\" y=\"-138.8\" font-family=\"Helvetica,sans-Serif\" baseline-shift=\"sub\" font-size=\"14.00\" fill=\"#000000\">1</text>\n<text text-anchor=\"start\" x=\"2074\" y=\"-138.8\" font-family=\"Helvetica,sans-Serif\" font-size=\"14.00\" fill=\"#000000\"> ≤ 37.785</text>\n<text text-anchor=\"start\" x=\"2062.5\" y=\"-124.8\" font-family=\"Helvetica,sans-Serif\" font-size=\"14.00\" fill=\"#000000\">gini = 0.66</text>\n<text text-anchor=\"start\" x=\"2048\" y=\"-110.8\" font-family=\"Helvetica,sans-Serif\" font-size=\"14.00\" fill=\"#000000\">samples = 324</text>\n<text text-anchor=\"start\" x=\"2026\" y=\"-96.8\" font-family=\"Helvetica,sans-Serif\" font-size=\"14.00\" fill=\"#000000\">value = [129, 95, 100]</text>\n</g>\n<!-- 31&#45;&gt;32 -->\n<g id=\"edge32\" class=\"edge\">\n<title>31&#45;&gt;32</title>\n<path fill=\"none\" stroke=\"#000000\" d=\"M2250.2391,-188.9467C2227.2279,-178.8096 2201.6407,-167.5377 2178.027,-157.1352\"/>\n<polygon fill=\"#000000\" stroke=\"#000000\" points=\"2179.3007,-153.8718 2168.7383,-153.0433 2176.4786,-160.2778 2179.3007,-153.8718\"/>\n</g>\n<!-- 35 -->\n<g id=\"node36\" class=\"node\">\n<title>35</title>\n<path fill=\"#39e581\" fill-opacity=\"0.176471\" stroke=\"#000000\" d=\"M2376.5,-153C2376.5,-153 2269.5,-153 2269.5,-153 2263.5,-153 2257.5,-147 2257.5,-141 2257.5,-141 2257.5,-101 2257.5,-101 2257.5,-95 2263.5,-89 2269.5,-89 2269.5,-89 2376.5,-89 2376.5,-89 2382.5,-89 2388.5,-95 2388.5,-101 2388.5,-101 2388.5,-141 2388.5,-141 2388.5,-147 2382.5,-153 2376.5,-153\"/>\n<text text-anchor=\"start\" x=\"2276\" y=\"-138.8\" font-family=\"Helvetica,sans-Serif\" font-size=\"14.00\" fill=\"#000000\">X</text>\n<text text-anchor=\"start\" x=\"2286\" y=\"-138.8\" font-family=\"Helvetica,sans-Serif\" baseline-shift=\"sub\" font-size=\"14.00\" fill=\"#000000\">4</text>\n<text text-anchor=\"start\" x=\"2293\" y=\"-138.8\" font-family=\"Helvetica,sans-Serif\" font-size=\"14.00\" fill=\"#000000\"> ≤ 103135.5</text>\n<text text-anchor=\"start\" x=\"2285\" y=\"-124.8\" font-family=\"Helvetica,sans-Serif\" font-size=\"14.00\" fill=\"#000000\">gini = 0.609</text>\n<text text-anchor=\"start\" x=\"2279\" y=\"-110.8\" font-family=\"Helvetica,sans-Serif\" font-size=\"14.00\" fill=\"#000000\">samples = 27</text>\n<text text-anchor=\"start\" x=\"2265.5\" y=\"-96.8\" font-family=\"Helvetica,sans-Serif\" font-size=\"14.00\" fill=\"#000000\">value = [10, 13, 4]</text>\n</g>\n<!-- 31&#45;&gt;35 -->\n<g id=\"edge35\" class=\"edge\">\n<title>31&#45;&gt;35</title>\n<path fill=\"none\" stroke=\"#000000\" d=\"M2323,-188.8089C2323,-180.6906 2323,-171.8517 2323,-163.3186\"/>\n<polygon fill=\"#000000\" stroke=\"#000000\" points=\"2326.5001,-163.1307 2323,-153.1308 2319.5001,-163.1308 2326.5001,-163.1307\"/>\n</g>\n<!-- 33 -->\n<g id=\"node34\" class=\"node\">\n<title>33</title>\n<path fill=\"#e58139\" fill-opacity=\"0.250980\" stroke=\"#000000\" d=\"M1996,-53C1996,-53 1880,-53 1880,-53 1874,-53 1868,-47 1868,-41 1868,-41 1868,-12 1868,-12 1868,-6 1874,0 1880,0 1880,0 1996,0 1996,0 2002,0 2008,-6 2008,-12 2008,-12 2008,-41 2008,-41 2008,-47 2002,-53 1996,-53\"/>\n<text text-anchor=\"start\" x=\"1900\" y=\"-37.8\" font-family=\"Helvetica,sans-Serif\" font-size=\"14.00\" fill=\"#000000\">gini = 0.638</text>\n<text text-anchor=\"start\" x=\"1890\" y=\"-22.8\" font-family=\"Helvetica,sans-Serif\" font-size=\"14.00\" fill=\"#000000\">samples = 113</text>\n<text text-anchor=\"start\" x=\"1876\" y=\"-7.8\" font-family=\"Helvetica,sans-Serif\" font-size=\"14.00\" fill=\"#000000\">value = [53, 33, 27]</text>\n</g>\n<!-- 32&#45;&gt;33 -->\n<g id=\"edge33\" class=\"edge\">\n<title>32&#45;&gt;33</title>\n<path fill=\"none\" stroke=\"#000000\" d=\"M2042.0673,-88.7428C2025.6992,-78.953 2007.7295,-68.2053 1991.3968,-58.4367\"/>\n<polygon fill=\"#000000\" stroke=\"#000000\" points=\"1992.8907,-55.252 1982.5121,-53.1227 1989.2976,-61.2595 1992.8907,-55.252\"/>\n</g>\n<!-- 34 -->\n<g id=\"node35\" class=\"node\">\n<title>34</title>\n<path fill=\"#e58139\" fill-opacity=\"0.023529\" stroke=\"#000000\" d=\"M2154,-53C2154,-53 2038,-53 2038,-53 2032,-53 2026,-47 2026,-41 2026,-41 2026,-12 2026,-12 2026,-6 2032,0 2038,0 2038,0 2154,0 2154,0 2160,0 2166,-6 2166,-12 2166,-12 2166,-41 2166,-41 2166,-47 2160,-53 2154,-53\"/>\n<text text-anchor=\"start\" x=\"2058\" y=\"-37.8\" font-family=\"Helvetica,sans-Serif\" font-size=\"14.00\" fill=\"#000000\">gini = 0.664</text>\n<text text-anchor=\"start\" x=\"2048\" y=\"-22.8\" font-family=\"Helvetica,sans-Serif\" font-size=\"14.00\" fill=\"#000000\">samples = 211</text>\n<text text-anchor=\"start\" x=\"2034\" y=\"-7.8\" font-family=\"Helvetica,sans-Serif\" font-size=\"14.00\" fill=\"#000000\">value = [76, 62, 73]</text>\n</g>\n<!-- 32&#45;&gt;34 -->\n<g id=\"edge34\" class=\"edge\">\n<title>32&#45;&gt;34</title>\n<path fill=\"none\" stroke=\"#000000\" d=\"M2096,-88.7428C2096,-80.6222 2096,-71.8426 2096,-63.5093\"/>\n<polygon fill=\"#000000\" stroke=\"#000000\" points=\"2099.5001,-63.2758 2096,-53.2759 2092.5001,-63.2759 2099.5001,-63.2758\"/>\n</g>\n<!-- 36 -->\n<g id=\"node37\" class=\"node\">\n<title>36</title>\n<path fill=\"#39e581\" fill-opacity=\"0.694118\" stroke=\"#000000\" d=\"M2295.5,-53C2295.5,-53 2196.5,-53 2196.5,-53 2190.5,-53 2184.5,-47 2184.5,-41 2184.5,-41 2184.5,-12 2184.5,-12 2184.5,-6 2190.5,0 2196.5,0 2196.5,0 2295.5,0 2295.5,0 2301.5,0 2307.5,-6 2307.5,-12 2307.5,-12 2307.5,-41 2307.5,-41 2307.5,-47 2301.5,-53 2295.5,-53\"/>\n<text text-anchor=\"start\" x=\"2212.5\" y=\"-37.8\" font-family=\"Helvetica,sans-Serif\" font-size=\"14.00\" fill=\"#000000\">gini = 0.36</text>\n<text text-anchor=\"start\" x=\"2202\" y=\"-22.8\" font-family=\"Helvetica,sans-Serif\" font-size=\"14.00\" fill=\"#000000\">samples = 17</text>\n<text text-anchor=\"start\" x=\"2192.5\" y=\"-7.8\" font-family=\"Helvetica,sans-Serif\" font-size=\"14.00\" fill=\"#000000\">value = [0, 13, 4]</text>\n</g>\n<!-- 35&#45;&gt;36 -->\n<g id=\"edge36\" class=\"edge\">\n<title>35&#45;&gt;36</title>\n<path fill=\"none\" stroke=\"#000000\" d=\"M2296.7163,-88.7428C2289.5114,-79.9004 2281.6698,-70.2765 2274.3543,-61.2985\"/>\n<polygon fill=\"#000000\" stroke=\"#000000\" points=\"2276.8475,-58.8174 2267.8174,-53.2759 2271.4208,-63.2391 2276.8475,-58.8174\"/>\n</g>\n<!-- 37 -->\n<g id=\"node38\" class=\"node\">\n<title>37</title>\n<path fill=\"#e58139\" stroke=\"#000000\" d=\"M2436.5,-53C2436.5,-53 2337.5,-53 2337.5,-53 2331.5,-53 2325.5,-47 2325.5,-41 2325.5,-41 2325.5,-12 2325.5,-12 2325.5,-6 2331.5,0 2337.5,0 2337.5,0 2436.5,0 2436.5,0 2442.5,0 2448.5,-6 2448.5,-12 2448.5,-12 2448.5,-41 2448.5,-41 2448.5,-47 2442.5,-53 2436.5,-53\"/>\n<text text-anchor=\"start\" x=\"2357.5\" y=\"-37.8\" font-family=\"Helvetica,sans-Serif\" font-size=\"14.00\" fill=\"#000000\">gini = 0.0</text>\n<text text-anchor=\"start\" x=\"2343\" y=\"-22.8\" font-family=\"Helvetica,sans-Serif\" font-size=\"14.00\" fill=\"#000000\">samples = 10</text>\n<text text-anchor=\"start\" x=\"2333.5\" y=\"-7.8\" font-family=\"Helvetica,sans-Serif\" font-size=\"14.00\" fill=\"#000000\">value = [10, 0, 0]</text>\n</g>\n<!-- 35&#45;&gt;37 -->\n<g id=\"edge37\" class=\"edge\">\n<title>35&#45;&gt;37</title>\n<path fill=\"none\" stroke=\"#000000\" d=\"M2344.8462,-88.7428C2350.7735,-79.9906 2357.2195,-70.4728 2363.2465,-61.5735\"/>\n<polygon fill=\"#000000\" stroke=\"#000000\" points=\"2366.1565,-63.5184 2368.8661,-53.2759 2360.3606,-59.5931 2366.1565,-63.5184\"/>\n</g>\n<!-- 39 -->\n<g id=\"node40\" class=\"node\">\n<title>39</title>\n<path fill=\"#39e581\" fill-opacity=\"0.133333\" stroke=\"#000000\" d=\"M2704.5,-153C2704.5,-153 2597.5,-153 2597.5,-153 2591.5,-153 2585.5,-147 2585.5,-141 2585.5,-141 2585.5,-101 2585.5,-101 2585.5,-95 2591.5,-89 2597.5,-89 2597.5,-89 2704.5,-89 2704.5,-89 2710.5,-89 2716.5,-95 2716.5,-101 2716.5,-101 2716.5,-141 2716.5,-141 2716.5,-147 2710.5,-153 2704.5,-153\"/>\n<text text-anchor=\"start\" x=\"2624.5\" y=\"-138.8\" font-family=\"Helvetica,sans-Serif\" font-size=\"14.00\" fill=\"#000000\">X</text>\n<text text-anchor=\"start\" x=\"2634.5\" y=\"-138.8\" font-family=\"Helvetica,sans-Serif\" baseline-shift=\"sub\" font-size=\"14.00\" fill=\"#000000\">6</text>\n<text text-anchor=\"start\" x=\"2641.5\" y=\"-138.8\" font-family=\"Helvetica,sans-Serif\" font-size=\"14.00\" fill=\"#000000\"> ≤ 5.5</text>\n<text text-anchor=\"start\" x=\"2613\" y=\"-124.8\" font-family=\"Helvetica,sans-Serif\" font-size=\"14.00\" fill=\"#000000\">gini = 0.532</text>\n<text text-anchor=\"start\" x=\"2607\" y=\"-110.8\" font-family=\"Helvetica,sans-Serif\" font-size=\"14.00\" fill=\"#000000\">samples = 27</text>\n<text text-anchor=\"start\" x=\"2593.5\" y=\"-96.8\" font-family=\"Helvetica,sans-Serif\" font-size=\"14.00\" fill=\"#000000\">value = [12, 14, 1]</text>\n</g>\n<!-- 38&#45;&gt;39 -->\n<g id=\"edge39\" class=\"edge\">\n<title>38&#45;&gt;39</title>\n<path fill=\"none\" stroke=\"#000000\" d=\"M2699.8224,-188.8089C2693.5276,-180.0661 2686.6311,-170.4876 2680.0558,-161.3553\"/>\n<polygon fill=\"#000000\" stroke=\"#000000\" points=\"2682.8176,-159.201 2674.1341,-153.1308 2677.1369,-163.2912 2682.8176,-159.201\"/>\n</g>\n<!-- 42 -->\n<g id=\"node43\" class=\"node\">\n<title>42</title>\n<path fill=\"#39e581\" fill-opacity=\"0.701961\" stroke=\"#000000\" d=\"M2845.5,-153C2845.5,-153 2746.5,-153 2746.5,-153 2740.5,-153 2734.5,-147 2734.5,-141 2734.5,-141 2734.5,-101 2734.5,-101 2734.5,-95 2740.5,-89 2746.5,-89 2746.5,-89 2845.5,-89 2845.5,-89 2851.5,-89 2857.5,-95 2857.5,-101 2857.5,-101 2857.5,-141 2857.5,-141 2857.5,-147 2851.5,-153 2845.5,-153\"/>\n<text text-anchor=\"start\" x=\"2757\" y=\"-138.8\" font-family=\"Helvetica,sans-Serif\" font-size=\"14.00\" fill=\"#000000\">X</text>\n<text text-anchor=\"start\" x=\"2767\" y=\"-138.8\" font-family=\"Helvetica,sans-Serif\" baseline-shift=\"sub\" font-size=\"14.00\" fill=\"#000000\">0</text>\n<text text-anchor=\"start\" x=\"2774\" y=\"-138.8\" font-family=\"Helvetica,sans-Serif\" font-size=\"14.00\" fill=\"#000000\"> ≤ 3479.5</text>\n<text text-anchor=\"start\" x=\"2758\" y=\"-124.8\" font-family=\"Helvetica,sans-Serif\" font-size=\"14.00\" fill=\"#000000\">gini = 0.353</text>\n<text text-anchor=\"start\" x=\"2752\" y=\"-110.8\" font-family=\"Helvetica,sans-Serif\" font-size=\"14.00\" fill=\"#000000\">samples = 35</text>\n<text text-anchor=\"start\" x=\"2742.5\" y=\"-96.8\" font-family=\"Helvetica,sans-Serif\" font-size=\"14.00\" fill=\"#000000\">value = [8, 27, 0]</text>\n</g>\n<!-- 38&#45;&gt;42 -->\n<g id=\"edge42\" class=\"edge\">\n<title>38&#45;&gt;42</title>\n<path fill=\"none\" stroke=\"#000000\" d=\"M2746.4995,-188.8089C2752.8818,-180.0661 2759.874,-170.4876 2766.5406,-161.3553\"/>\n<polygon fill=\"#000000\" stroke=\"#000000\" points=\"2769.4753,-163.2713 2772.5445,-153.1308 2763.8215,-159.144 2769.4753,-163.2713\"/>\n</g>\n<!-- 40 -->\n<g id=\"node41\" class=\"node\">\n<title>40</title>\n<path fill=\"#39e581\" fill-opacity=\"0.498039\" stroke=\"#000000\" d=\"M2569.5,-53C2569.5,-53 2478.5,-53 2478.5,-53 2472.5,-53 2466.5,-47 2466.5,-41 2466.5,-41 2466.5,-12 2466.5,-12 2466.5,-6 2472.5,0 2478.5,0 2478.5,0 2569.5,0 2569.5,0 2575.5,0 2581.5,-6 2581.5,-12 2581.5,-12 2581.5,-41 2581.5,-41 2581.5,-47 2575.5,-53 2569.5,-53\"/>\n<text text-anchor=\"start\" x=\"2486\" y=\"-37.8\" font-family=\"Helvetica,sans-Serif\" font-size=\"14.00\" fill=\"#000000\">gini = 0.444</text>\n<text text-anchor=\"start\" x=\"2480\" y=\"-22.8\" font-family=\"Helvetica,sans-Serif\" font-size=\"14.00\" fill=\"#000000\">samples = 12</text>\n<text text-anchor=\"start\" x=\"2474.5\" y=\"-7.8\" font-family=\"Helvetica,sans-Serif\" font-size=\"14.00\" fill=\"#000000\">value = [4, 8, 0]</text>\n</g>\n<!-- 39&#45;&gt;40 -->\n<g id=\"edge40\" class=\"edge\">\n<title>39&#45;&gt;40</title>\n<path fill=\"none\" stroke=\"#000000\" d=\"M2607.649,-88.7428C2594.9168,-79.2688 2580.9789,-68.8977 2568.1947,-59.385\"/>\n<polygon fill=\"#000000\" stroke=\"#000000\" points=\"2570.0966,-56.4376 2559.9845,-53.2759 2565.9178,-62.0535 2570.0966,-56.4376\"/>\n</g>\n<!-- 41 -->\n<g id=\"node42\" class=\"node\">\n<title>41</title>\n<path fill=\"#e58139\" fill-opacity=\"0.223529\" stroke=\"#000000\" d=\"M2702.5,-53C2702.5,-53 2611.5,-53 2611.5,-53 2605.5,-53 2599.5,-47 2599.5,-41 2599.5,-41 2599.5,-12 2599.5,-12 2599.5,-6 2605.5,0 2611.5,0 2611.5,0 2702.5,0 2702.5,0 2708.5,0 2714.5,-6 2714.5,-12 2714.5,-12 2714.5,-41 2714.5,-41 2714.5,-47 2708.5,-53 2702.5,-53\"/>\n<text text-anchor=\"start\" x=\"2619\" y=\"-37.8\" font-family=\"Helvetica,sans-Serif\" font-size=\"14.00\" fill=\"#000000\">gini = 0.551</text>\n<text text-anchor=\"start\" x=\"2613\" y=\"-22.8\" font-family=\"Helvetica,sans-Serif\" font-size=\"14.00\" fill=\"#000000\">samples = 15</text>\n<text text-anchor=\"start\" x=\"2607.5\" y=\"-7.8\" font-family=\"Helvetica,sans-Serif\" font-size=\"14.00\" fill=\"#000000\">value = [8, 6, 1]</text>\n</g>\n<!-- 39&#45;&gt;41 -->\n<g id=\"edge41\" class=\"edge\">\n<title>39&#45;&gt;41</title>\n<path fill=\"none\" stroke=\"#000000\" d=\"M2653.0481,-88.7428C2653.5637,-80.6222 2654.1211,-71.8426 2654.6502,-63.5093\"/>\n<polygon fill=\"#000000\" stroke=\"#000000\" points=\"2658.1592,-63.4776 2655.2999,-53.2759 2651.1732,-63.034 2658.1592,-63.4776\"/>\n</g>\n<!-- 43 -->\n<g id=\"node44\" class=\"node\">\n<title>43</title>\n<path fill=\"#39e581\" fill-opacity=\"0.286275\" stroke=\"#000000\" d=\"M2835.5,-53C2835.5,-53 2744.5,-53 2744.5,-53 2738.5,-53 2732.5,-47 2732.5,-41 2732.5,-41 2732.5,-12 2732.5,-12 2732.5,-6 2738.5,0 2744.5,0 2744.5,0 2835.5,0 2835.5,0 2841.5,0 2847.5,-6 2847.5,-12 2847.5,-12 2847.5,-41 2847.5,-41 2847.5,-47 2841.5,-53 2835.5,-53\"/>\n<text text-anchor=\"start\" x=\"2752\" y=\"-37.8\" font-family=\"Helvetica,sans-Serif\" font-size=\"14.00\" fill=\"#000000\">gini = 0.486</text>\n<text text-anchor=\"start\" x=\"2746\" y=\"-22.8\" font-family=\"Helvetica,sans-Serif\" font-size=\"14.00\" fill=\"#000000\">samples = 12</text>\n<text text-anchor=\"start\" x=\"2740.5\" y=\"-7.8\" font-family=\"Helvetica,sans-Serif\" font-size=\"14.00\" fill=\"#000000\">value = [5, 7, 0]</text>\n</g>\n<!-- 42&#45;&gt;43 -->\n<g id=\"edge43\" class=\"edge\">\n<title>42&#45;&gt;43</title>\n<path fill=\"none\" stroke=\"#000000\" d=\"M2793.9519,-88.7428C2793.4363,-80.6222 2792.8789,-71.8426 2792.3498,-63.5093\"/>\n<polygon fill=\"#000000\" stroke=\"#000000\" points=\"2795.8268,-63.034 2791.7001,-53.2759 2788.8408,-63.4776 2795.8268,-63.034\"/>\n</g>\n<!-- 44 -->\n<g id=\"node45\" class=\"node\">\n<title>44</title>\n<path fill=\"#39e581\" fill-opacity=\"0.850980\" stroke=\"#000000\" d=\"M2976.5,-53C2976.5,-53 2877.5,-53 2877.5,-53 2871.5,-53 2865.5,-47 2865.5,-41 2865.5,-41 2865.5,-12 2865.5,-12 2865.5,-6 2871.5,0 2877.5,0 2877.5,0 2976.5,0 2976.5,0 2982.5,0 2988.5,-6 2988.5,-12 2988.5,-12 2988.5,-41 2988.5,-41 2988.5,-47 2982.5,-53 2976.5,-53\"/>\n<text text-anchor=\"start\" x=\"2889\" y=\"-37.8\" font-family=\"Helvetica,sans-Serif\" font-size=\"14.00\" fill=\"#000000\">gini = 0.227</text>\n<text text-anchor=\"start\" x=\"2883\" y=\"-22.8\" font-family=\"Helvetica,sans-Serif\" font-size=\"14.00\" fill=\"#000000\">samples = 23</text>\n<text text-anchor=\"start\" x=\"2873.5\" y=\"-7.8\" font-family=\"Helvetica,sans-Serif\" font-size=\"14.00\" fill=\"#000000\">value = [3, 20, 0]</text>\n</g>\n<!-- 42&#45;&gt;44 -->\n<g id=\"edge44\" class=\"edge\">\n<title>42&#45;&gt;44</title>\n<path fill=\"none\" stroke=\"#000000\" d=\"M2840.7164,-88.7428C2853.8496,-79.2688 2868.2265,-68.8977 2881.4134,-59.385\"/>\n<polygon fill=\"#000000\" stroke=\"#000000\" points=\"2883.8197,-61.9648 2889.8821,-53.2759 2879.7244,-56.2878 2883.8197,-61.9648\"/>\n</g>\n<!-- 46 -->\n<g id=\"node47\" class=\"node\">\n<title>46</title>\n<path fill=\"#39e581\" fill-opacity=\"0.117647\" stroke=\"#000000\" d=\"M3289,-253C3289,-253 3157,-253 3157,-253 3151,-253 3145,-247 3145,-241 3145,-241 3145,-201 3145,-201 3145,-195 3151,-189 3157,-189 3157,-189 3289,-189 3289,-189 3295,-189 3301,-195 3301,-201 3301,-201 3301,-241 3301,-241 3301,-247 3295,-253 3289,-253\"/>\n<text text-anchor=\"start\" x=\"3176\" y=\"-238.8\" font-family=\"Helvetica,sans-Serif\" font-size=\"14.00\" fill=\"#000000\">X</text>\n<text text-anchor=\"start\" x=\"3186\" y=\"-238.8\" font-family=\"Helvetica,sans-Serif\" baseline-shift=\"sub\" font-size=\"14.00\" fill=\"#000000\">4</text>\n<text text-anchor=\"start\" x=\"3193\" y=\"-238.8\" font-family=\"Helvetica,sans-Serif\" font-size=\"14.00\" fill=\"#000000\"> ≤ 103135.5</text>\n<text text-anchor=\"start\" x=\"3185\" y=\"-224.8\" font-family=\"Helvetica,sans-Serif\" font-size=\"14.00\" fill=\"#000000\">gini = 0.648</text>\n<text text-anchor=\"start\" x=\"3175\" y=\"-210.8\" font-family=\"Helvetica,sans-Serif\" font-size=\"14.00\" fill=\"#000000\">samples = 407</text>\n<text text-anchor=\"start\" x=\"3153\" y=\"-196.8\" font-family=\"Helvetica,sans-Serif\" font-size=\"14.00\" fill=\"#000000\">value = [141, 172, 94]</text>\n</g>\n<!-- 45&#45;&gt;46 -->\n<g id=\"edge46\" class=\"edge\">\n<title>45&#45;&gt;46</title>\n<path fill=\"none\" stroke=\"#000000\" d=\"M3223,-288.8089C3223,-280.6906 3223,-271.8517 3223,-263.3186\"/>\n<polygon fill=\"#000000\" stroke=\"#000000\" points=\"3226.5001,-263.1307 3223,-253.1308 3219.5001,-263.1308 3226.5001,-263.1307\"/>\n</g>\n<!-- 51 -->\n<g id=\"node52\" class=\"node\">\n<title>51</title>\n<path fill=\"#e58139\" fill-opacity=\"0.352941\" stroke=\"#000000\" d=\"M3571,-253C3571,-253 3439,-253 3439,-253 3433,-253 3427,-247 3427,-241 3427,-241 3427,-201 3427,-201 3427,-195 3433,-189 3439,-189 3439,-189 3571,-189 3571,-189 3577,-189 3583,-195 3583,-201 3583,-201 3583,-241 3583,-241 3583,-247 3577,-253 3571,-253\"/>\n<text text-anchor=\"start\" x=\"3478.5\" y=\"-238.8\" font-family=\"Helvetica,sans-Serif\" font-size=\"14.00\" fill=\"#000000\">X</text>\n<text text-anchor=\"start\" x=\"3488.5\" y=\"-238.8\" font-family=\"Helvetica,sans-Serif\" baseline-shift=\"sub\" font-size=\"14.00\" fill=\"#000000\">5</text>\n<text text-anchor=\"start\" x=\"3495.5\" y=\"-238.8\" font-family=\"Helvetica,sans-Serif\" font-size=\"14.00\" fill=\"#000000\"> ≤ 2.5</text>\n<text text-anchor=\"start\" x=\"3467\" y=\"-224.8\" font-family=\"Helvetica,sans-Serif\" font-size=\"14.00\" fill=\"#000000\">gini = 0.575</text>\n<text text-anchor=\"start\" x=\"3457\" y=\"-210.8\" font-family=\"Helvetica,sans-Serif\" font-size=\"14.00\" fill=\"#000000\">samples = 719</text>\n<text text-anchor=\"start\" x=\"3435\" y=\"-196.8\" font-family=\"Helvetica,sans-Serif\" font-size=\"14.00\" fill=\"#000000\">value = [400, 226, 93]</text>\n</g>\n<!-- 45&#45;&gt;51 -->\n<g id=\"edge51\" class=\"edge\">\n<title>45&#45;&gt;51</title>\n<path fill=\"none\" stroke=\"#000000\" d=\"M3305.3242,-291.807C3340.5436,-279.3179 3381.7076,-264.7207 3417.48,-252.0354\"/>\n<polygon fill=\"#000000\" stroke=\"#000000\" points=\"3418.6777,-255.3244 3426.9329,-248.6834 3416.3381,-248.7269 3418.6777,-255.3244\"/>\n</g>\n<!-- 47 -->\n<g id=\"node48\" class=\"node\">\n<title>47</title>\n<path fill=\"#39e581\" fill-opacity=\"0.454902\" stroke=\"#000000\" d=\"M3210,-153C3210,-153 3094,-153 3094,-153 3088,-153 3082,-147 3082,-141 3082,-141 3082,-101 3082,-101 3082,-95 3088,-89 3094,-89 3094,-89 3210,-89 3210,-89 3216,-89 3222,-95 3222,-101 3222,-101 3222,-141 3222,-141 3222,-147 3216,-153 3210,-153\"/>\n<text text-anchor=\"start\" x=\"3125.5\" y=\"-138.8\" font-family=\"Helvetica,sans-Serif\" font-size=\"14.00\" fill=\"#000000\">X</text>\n<text text-anchor=\"start\" x=\"3135.5\" y=\"-138.8\" font-family=\"Helvetica,sans-Serif\" baseline-shift=\"sub\" font-size=\"14.00\" fill=\"#000000\">5</text>\n<text text-anchor=\"start\" x=\"3142.5\" y=\"-138.8\" font-family=\"Helvetica,sans-Serif\" font-size=\"14.00\" fill=\"#000000\"> ≤ 3.5</text>\n<text text-anchor=\"start\" x=\"3114\" y=\"-124.8\" font-family=\"Helvetica,sans-Serif\" font-size=\"14.00\" fill=\"#000000\">gini = 0.457</text>\n<text text-anchor=\"start\" x=\"3104\" y=\"-110.8\" font-family=\"Helvetica,sans-Serif\" font-size=\"14.00\" fill=\"#000000\">samples = 266</text>\n<text text-anchor=\"start\" x=\"3090\" y=\"-96.8\" font-family=\"Helvetica,sans-Serif\" font-size=\"14.00\" fill=\"#000000\">value = [0, 172, 94]</text>\n</g>\n<!-- 46&#45;&gt;47 -->\n<g id=\"edge47\" class=\"edge\">\n<title>46&#45;&gt;47</title>\n<path fill=\"none\" stroke=\"#000000\" d=\"M3200.1443,-188.8089C3193.9369,-180.0661 3187.1362,-170.4876 3180.6523,-161.3553\"/>\n<polygon fill=\"#000000\" stroke=\"#000000\" points=\"3183.4559,-159.2584 3174.8128,-153.1308 3177.7483,-163.3108 3183.4559,-159.2584\"/>\n</g>\n<!-- 50 -->\n<g id=\"node51\" class=\"node\">\n<title>50</title>\n<path fill=\"#e58139\" stroke=\"#000000\" d=\"M3359.5,-147.5C3359.5,-147.5 3252.5,-147.5 3252.5,-147.5 3246.5,-147.5 3240.5,-141.5 3240.5,-135.5 3240.5,-135.5 3240.5,-106.5 3240.5,-106.5 3240.5,-100.5 3246.5,-94.5 3252.5,-94.5 3252.5,-94.5 3359.5,-94.5 3359.5,-94.5 3365.5,-94.5 3371.5,-100.5 3371.5,-106.5 3371.5,-106.5 3371.5,-135.5 3371.5,-135.5 3371.5,-141.5 3365.5,-147.5 3359.5,-147.5\"/>\n<text text-anchor=\"start\" x=\"3276.5\" y=\"-132.3\" font-family=\"Helvetica,sans-Serif\" font-size=\"14.00\" fill=\"#000000\">gini = 0.0</text>\n<text text-anchor=\"start\" x=\"3258\" y=\"-117.3\" font-family=\"Helvetica,sans-Serif\" font-size=\"14.00\" fill=\"#000000\">samples = 141</text>\n<text text-anchor=\"start\" x=\"3248.5\" y=\"-102.3\" font-family=\"Helvetica,sans-Serif\" font-size=\"14.00\" fill=\"#000000\">value = [141, 0, 0]</text>\n</g>\n<!-- 46&#45;&gt;50 -->\n<g id=\"edge50\" class=\"edge\">\n<title>46&#45;&gt;50</title>\n<path fill=\"none\" stroke=\"#000000\" d=\"M3249.7186,-188.8089C3258.4798,-178.2533 3268.252,-166.4796 3277.1628,-155.7437\"/>\n<polygon fill=\"#000000\" stroke=\"#000000\" points=\"3280.0844,-157.7037 3283.778,-147.7735 3274.6981,-153.233 3280.0844,-157.7037\"/>\n</g>\n<!-- 48 -->\n<g id=\"node49\" class=\"node\">\n<title>48</title>\n<path fill=\"#39e581\" fill-opacity=\"0.321569\" stroke=\"#000000\" d=\"M3135,-53C3135,-53 3019,-53 3019,-53 3013,-53 3007,-47 3007,-41 3007,-41 3007,-12 3007,-12 3007,-6 3013,0 3019,0 3019,0 3135,0 3135,0 3141,0 3147,-6 3147,-12 3147,-12 3147,-41 3147,-41 3147,-47 3141,-53 3135,-53\"/>\n<text text-anchor=\"start\" x=\"3039\" y=\"-37.8\" font-family=\"Helvetica,sans-Serif\" font-size=\"14.00\" fill=\"#000000\">gini = 0.482</text>\n<text text-anchor=\"start\" x=\"3029\" y=\"-22.8\" font-family=\"Helvetica,sans-Serif\" font-size=\"14.00\" fill=\"#000000\">samples = 220</text>\n<text text-anchor=\"start\" x=\"3015\" y=\"-7.8\" font-family=\"Helvetica,sans-Serif\" font-size=\"14.00\" fill=\"#000000\">value = [0, 131, 89]</text>\n</g>\n<!-- 47&#45;&gt;48 -->\n<g id=\"edge48\" class=\"edge\">\n<title>47&#45;&gt;48</title>\n<path fill=\"none\" stroke=\"#000000\" d=\"M3126.399,-88.7428C3119.3813,-79.9004 3111.7433,-70.2765 3104.6178,-61.2985\"/>\n<polygon fill=\"#000000\" stroke=\"#000000\" points=\"3107.2088,-58.933 3098.2507,-53.2759 3101.7258,-63.2846 3107.2088,-58.933\"/>\n</g>\n<!-- 49 -->\n<g id=\"node50\" class=\"node\">\n<title>49</title>\n<path fill=\"#39e581\" fill-opacity=\"0.878431\" stroke=\"#000000\" d=\"M3276.5,-53C3276.5,-53 3177.5,-53 3177.5,-53 3171.5,-53 3165.5,-47 3165.5,-41 3165.5,-41 3165.5,-12 3165.5,-12 3165.5,-6 3171.5,0 3177.5,0 3177.5,0 3276.5,0 3276.5,0 3282.5,0 3288.5,-6 3288.5,-12 3288.5,-12 3288.5,-41 3288.5,-41 3288.5,-47 3282.5,-53 3276.5,-53\"/>\n<text text-anchor=\"start\" x=\"3189\" y=\"-37.8\" font-family=\"Helvetica,sans-Serif\" font-size=\"14.00\" fill=\"#000000\">gini = 0.194</text>\n<text text-anchor=\"start\" x=\"3183\" y=\"-22.8\" font-family=\"Helvetica,sans-Serif\" font-size=\"14.00\" fill=\"#000000\">samples = 46</text>\n<text text-anchor=\"start\" x=\"3173.5\" y=\"-7.8\" font-family=\"Helvetica,sans-Serif\" font-size=\"14.00\" fill=\"#000000\">value = [0, 41, 5]</text>\n</g>\n<!-- 47&#45;&gt;49 -->\n<g id=\"edge49\" class=\"edge\">\n<title>47&#45;&gt;49</title>\n<path fill=\"none\" stroke=\"#000000\" d=\"M3177.601,-88.7428C3184.6187,-79.9004 3192.2567,-70.2765 3199.3822,-61.2985\"/>\n<polygon fill=\"#000000\" stroke=\"#000000\" points=\"3202.2742,-63.2846 3205.7493,-53.2759 3196.7912,-58.933 3202.2742,-63.2846\"/>\n</g>\n<!-- 52 -->\n<g id=\"node53\" class=\"node\">\n<title>52</title>\n<path fill=\"#e58139\" fill-opacity=\"0.470588\" stroke=\"#000000\" d=\"M3571,-153C3571,-153 3439,-153 3439,-153 3433,-153 3427,-147 3427,-141 3427,-141 3427,-101 3427,-101 3427,-95 3433,-89 3439,-89 3439,-89 3571,-89 3571,-89 3577,-89 3583,-95 3583,-101 3583,-101 3583,-141 3583,-141 3583,-147 3577,-153 3571,-153\"/>\n<text text-anchor=\"start\" x=\"3466\" y=\"-138.8\" font-family=\"Helvetica,sans-Serif\" font-size=\"14.00\" fill=\"#000000\">X</text>\n<text text-anchor=\"start\" x=\"3476\" y=\"-138.8\" font-family=\"Helvetica,sans-Serif\" baseline-shift=\"sub\" font-size=\"14.00\" fill=\"#000000\">0</text>\n<text text-anchor=\"start\" x=\"3483\" y=\"-138.8\" font-family=\"Helvetica,sans-Serif\" font-size=\"14.00\" fill=\"#000000\"> ≤ 3797.0</text>\n<text text-anchor=\"start\" x=\"3467\" y=\"-124.8\" font-family=\"Helvetica,sans-Serif\" font-size=\"14.00\" fill=\"#000000\">gini = 0.535</text>\n<text text-anchor=\"start\" x=\"3457\" y=\"-110.8\" font-family=\"Helvetica,sans-Serif\" font-size=\"14.00\" fill=\"#000000\">samples = 397</text>\n<text text-anchor=\"start\" x=\"3435\" y=\"-96.8\" font-family=\"Helvetica,sans-Serif\" font-size=\"14.00\" fill=\"#000000\">value = [244, 108, 45]</text>\n</g>\n<!-- 51&#45;&gt;52 -->\n<g id=\"edge52\" class=\"edge\">\n<title>51&#45;&gt;52</title>\n<path fill=\"none\" stroke=\"#000000\" d=\"M3505,-188.8089C3505,-180.6906 3505,-171.8517 3505,-163.3186\"/>\n<polygon fill=\"#000000\" stroke=\"#000000\" points=\"3508.5001,-163.1307 3505,-153.1308 3501.5001,-163.1308 3508.5001,-163.1307\"/>\n</g>\n<!-- 55 -->\n<g id=\"node56\" class=\"node\">\n<title>55</title>\n<path fill=\"#e58139\" fill-opacity=\"0.188235\" stroke=\"#000000\" d=\"M3783,-153C3783,-153 3651,-153 3651,-153 3645,-153 3639,-147 3639,-141 3639,-141 3639,-101 3639,-101 3639,-95 3645,-89 3651,-89 3651,-89 3783,-89 3783,-89 3789,-89 3795,-95 3795,-101 3795,-101 3795,-141 3795,-141 3795,-147 3789,-153 3783,-153\"/>\n<text text-anchor=\"start\" x=\"3678\" y=\"-138.8\" font-family=\"Helvetica,sans-Serif\" font-size=\"14.00\" fill=\"#000000\">X</text>\n<text text-anchor=\"start\" x=\"3688\" y=\"-138.8\" font-family=\"Helvetica,sans-Serif\" baseline-shift=\"sub\" font-size=\"14.00\" fill=\"#000000\">1</text>\n<text text-anchor=\"start\" x=\"3695\" y=\"-138.8\" font-family=\"Helvetica,sans-Serif\" font-size=\"14.00\" fill=\"#000000\"> ≤ 37.793</text>\n<text text-anchor=\"start\" x=\"3679\" y=\"-124.8\" font-family=\"Helvetica,sans-Serif\" font-size=\"14.00\" fill=\"#000000\">gini = 0.609</text>\n<text text-anchor=\"start\" x=\"3669\" y=\"-110.8\" font-family=\"Helvetica,sans-Serif\" font-size=\"14.00\" fill=\"#000000\">samples = 322</text>\n<text text-anchor=\"start\" x=\"3647\" y=\"-96.8\" font-family=\"Helvetica,sans-Serif\" font-size=\"14.00\" fill=\"#000000\">value = [156, 118, 48]</text>\n</g>\n<!-- 51&#45;&gt;55 -->\n<g id=\"edge55\" class=\"edge\">\n<title>51&#45;&gt;55</title>\n<path fill=\"none\" stroke=\"#000000\" d=\"M3572.9529,-188.9467C3594.2534,-178.8993 3617.9172,-167.7372 3639.8074,-157.4116\"/>\n<polygon fill=\"#000000\" stroke=\"#000000\" points=\"3641.5171,-160.4751 3649.0682,-153.0433 3638.5307,-154.144 3641.5171,-160.4751\"/>\n</g>\n<!-- 53 -->\n<g id=\"node54\" class=\"node\">\n<title>53</title>\n<path fill=\"#e58139\" fill-opacity=\"0.352941\" stroke=\"#000000\" d=\"M3443,-53C3443,-53 3319,-53 3319,-53 3313,-53 3307,-47 3307,-41 3307,-41 3307,-12 3307,-12 3307,-6 3313,0 3319,0 3319,0 3443,0 3443,0 3449,0 3455,-6 3455,-12 3455,-12 3455,-41 3455,-41 3455,-47 3449,-53 3443,-53\"/>\n<text text-anchor=\"start\" x=\"3347.5\" y=\"-37.8\" font-family=\"Helvetica,sans-Serif\" font-size=\"14.00\" fill=\"#000000\">gini = 0.57</text>\n<text text-anchor=\"start\" x=\"3333\" y=\"-22.8\" font-family=\"Helvetica,sans-Serif\" font-size=\"14.00\" fill=\"#000000\">samples = 182</text>\n<text text-anchor=\"start\" x=\"3315\" y=\"-7.8\" font-family=\"Helvetica,sans-Serif\" font-size=\"14.00\" fill=\"#000000\">value = [102, 58, 22]</text>\n</g>\n<!-- 52&#45;&gt;53 -->\n<g id=\"edge53\" class=\"edge\">\n<title>52&#45;&gt;53</title>\n<path fill=\"none\" stroke=\"#000000\" d=\"M3462.6731,-88.7428C3450.2416,-79.2688 3436.6329,-68.8977 3424.1507,-59.385\"/>\n<polygon fill=\"#000000\" stroke=\"#000000\" points=\"3426.2096,-56.5535 3416.1345,-53.2759 3421.9666,-62.1211 3426.2096,-56.5535\"/>\n</g>\n<!-- 54 -->\n<g id=\"node55\" class=\"node\">\n<title>54</title>\n<path fill=\"#e58139\" fill-opacity=\"0.556863\" stroke=\"#000000\" d=\"M3609,-53C3609,-53 3485,-53 3485,-53 3479,-53 3473,-47 3473,-41 3473,-41 3473,-12 3473,-12 3473,-6 3479,0 3485,0 3485,0 3609,0 3609,0 3615,0 3621,-6 3621,-12 3621,-12 3621,-41 3621,-41 3621,-47 3615,-53 3609,-53\"/>\n<text text-anchor=\"start\" x=\"3509\" y=\"-37.8\" font-family=\"Helvetica,sans-Serif\" font-size=\"14.00\" fill=\"#000000\">gini = 0.498</text>\n<text text-anchor=\"start\" x=\"3499\" y=\"-22.8\" font-family=\"Helvetica,sans-Serif\" font-size=\"14.00\" fill=\"#000000\">samples = 215</text>\n<text text-anchor=\"start\" x=\"3481\" y=\"-7.8\" font-family=\"Helvetica,sans-Serif\" font-size=\"14.00\" fill=\"#000000\">value = [142, 50, 23]</text>\n</g>\n<!-- 52&#45;&gt;54 -->\n<g id=\"edge54\" class=\"edge\">\n<title>52&#45;&gt;54</title>\n<path fill=\"none\" stroke=\"#000000\" d=\"M3519.3365,-88.7428C3523.066,-80.3515 3527.1082,-71.2565 3530.9211,-62.6775\"/>\n<polygon fill=\"#000000\" stroke=\"#000000\" points=\"3534.2365,-63.8355 3535.0996,-53.2759 3527.8398,-60.9925 3534.2365,-63.8355\"/>\n</g>\n<!-- 56 -->\n<g id=\"node57\" class=\"node\">\n<title>56</title>\n<path fill=\"#e58139\" fill-opacity=\"0.188235\" stroke=\"#000000\" d=\"M3783,-53C3783,-53 3651,-53 3651,-53 3645,-53 3639,-47 3639,-41 3639,-41 3639,-12 3639,-12 3639,-6 3645,0 3651,0 3651,0 3783,0 3783,0 3789,0 3795,-6 3795,-12 3795,-12 3795,-41 3795,-41 3795,-47 3789,-53 3783,-53\"/>\n<text text-anchor=\"start\" x=\"3679\" y=\"-37.8\" font-family=\"Helvetica,sans-Serif\" font-size=\"14.00\" fill=\"#000000\">gini = 0.606</text>\n<text text-anchor=\"start\" x=\"3669\" y=\"-22.8\" font-family=\"Helvetica,sans-Serif\" font-size=\"14.00\" fill=\"#000000\">samples = 320</text>\n<text text-anchor=\"start\" x=\"3647\" y=\"-7.8\" font-family=\"Helvetica,sans-Serif\" font-size=\"14.00\" fill=\"#000000\">value = [156, 118, 46]</text>\n</g>\n<!-- 55&#45;&gt;56 -->\n<g id=\"edge56\" class=\"edge\">\n<title>55&#45;&gt;56</title>\n<path fill=\"none\" stroke=\"#000000\" d=\"M3717,-88.7428C3717,-80.6222 3717,-71.8426 3717,-63.5093\"/>\n<polygon fill=\"#000000\" stroke=\"#000000\" points=\"3720.5001,-63.2758 3717,-53.2759 3713.5001,-63.2759 3720.5001,-63.2758\"/>\n</g>\n<!-- 57 -->\n<g id=\"node58\" class=\"node\">\n<title>57</title>\n<path fill=\"#8139e5\" stroke=\"#000000\" d=\"M3916.5,-53C3916.5,-53 3825.5,-53 3825.5,-53 3819.5,-53 3813.5,-47 3813.5,-41 3813.5,-41 3813.5,-12 3813.5,-12 3813.5,-6 3819.5,0 3825.5,0 3825.5,0 3916.5,0 3916.5,0 3922.5,0 3928.5,-6 3928.5,-12 3928.5,-12 3928.5,-41 3928.5,-41 3928.5,-47 3922.5,-53 3916.5,-53\"/>\n<text text-anchor=\"start\" x=\"3841.5\" y=\"-37.8\" font-family=\"Helvetica,sans-Serif\" font-size=\"14.00\" fill=\"#000000\">gini = 0.0</text>\n<text text-anchor=\"start\" x=\"3831.5\" y=\"-22.8\" font-family=\"Helvetica,sans-Serif\" font-size=\"14.00\" fill=\"#000000\">samples = 2</text>\n<text text-anchor=\"start\" x=\"3821.5\" y=\"-7.8\" font-family=\"Helvetica,sans-Serif\" font-size=\"14.00\" fill=\"#000000\">value = [0, 0, 2]</text>\n</g>\n<!-- 55&#45;&gt;57 -->\n<g id=\"edge57\" class=\"edge\">\n<title>55&#45;&gt;57</title>\n<path fill=\"none\" stroke=\"#000000\" d=\"M3769.5673,-88.7428C3785.4475,-78.9981 3802.8744,-68.3043 3818.7348,-58.5718\"/>\n<polygon fill=\"#000000\" stroke=\"#000000\" points=\"3820.6726,-61.4892 3827.3653,-53.2759 3817.0114,-55.5229 3820.6726,-61.4892\"/>\n</g>\n<!-- 59 -->\n<g id=\"node60\" class=\"node\">\n<title>59</title>\n<path fill=\"#39e581\" fill-opacity=\"0.160784\" stroke=\"#000000\" d=\"M5170,-453C5170,-453 5030,-453 5030,-453 5024,-453 5018,-447 5018,-441 5018,-441 5018,-401 5018,-401 5018,-395 5024,-389 5030,-389 5030,-389 5170,-389 5170,-389 5176,-389 5182,-395 5182,-401 5182,-401 5182,-441 5182,-441 5182,-447 5176,-453 5170,-453\"/>\n<text text-anchor=\"start\" x=\"5073.5\" y=\"-438.8\" font-family=\"Helvetica,sans-Serif\" font-size=\"14.00\" fill=\"#000000\">X</text>\n<text text-anchor=\"start\" x=\"5083.5\" y=\"-438.8\" font-family=\"Helvetica,sans-Serif\" baseline-shift=\"sub\" font-size=\"14.00\" fill=\"#000000\">5</text>\n<text text-anchor=\"start\" x=\"5090.5\" y=\"-438.8\" font-family=\"Helvetica,sans-Serif\" font-size=\"14.00\" fill=\"#000000\"> ≤ 3.5</text>\n<text text-anchor=\"start\" x=\"5062\" y=\"-424.8\" font-family=\"Helvetica,sans-Serif\" font-size=\"14.00\" fill=\"#000000\">gini = 0.639</text>\n<text text-anchor=\"start\" x=\"5048\" y=\"-410.8\" font-family=\"Helvetica,sans-Serif\" font-size=\"14.00\" fill=\"#000000\">samples = 1012</text>\n<text text-anchor=\"start\" x=\"5026\" y=\"-396.8\" font-family=\"Helvetica,sans-Serif\" font-size=\"14.00\" fill=\"#000000\">value = [345, 453, 214]</text>\n</g>\n<!-- 58&#45;&gt;59 -->\n<g id=\"edge59\" class=\"edge\">\n<title>58&#45;&gt;59</title>\n<path fill=\"none\" stroke=\"#000000\" d=\"M5488.9581,-503.5813C5406.0979,-485.9889 5278.3448,-458.8651 5192.0711,-440.548\"/>\n<polygon fill=\"#000000\" stroke=\"#000000\" points=\"5192.7949,-437.1237 5182.286,-438.4705 5191.341,-443.9711 5192.7949,-437.1237\"/>\n</g>\n<!-- 86 -->\n<g id=\"node87\" class=\"node\">\n<title>86</title>\n<path fill=\"#39e581\" fill-opacity=\"0.031373\" stroke=\"#000000\" d=\"M6237,-453C6237,-453 6097,-453 6097,-453 6091,-453 6085,-447 6085,-441 6085,-441 6085,-401 6085,-401 6085,-395 6091,-389 6097,-389 6097,-389 6237,-389 6237,-389 6243,-389 6249,-395 6249,-401 6249,-401 6249,-441 6249,-441 6249,-447 6243,-453 6237,-453\"/>\n<text text-anchor=\"start\" x=\"6122\" y=\"-438.8\" font-family=\"Helvetica,sans-Serif\" font-size=\"14.00\" fill=\"#000000\">X</text>\n<text text-anchor=\"start\" x=\"6132\" y=\"-438.8\" font-family=\"Helvetica,sans-Serif\" baseline-shift=\"sub\" font-size=\"14.00\" fill=\"#000000\">2</text>\n<text text-anchor=\"start\" x=\"6139\" y=\"-438.8\" font-family=\"Helvetica,sans-Serif\" font-size=\"14.00\" fill=\"#000000\"> ≤ &#45;122.388</text>\n<text text-anchor=\"start\" x=\"6129\" y=\"-424.8\" font-family=\"Helvetica,sans-Serif\" font-size=\"14.00\" fill=\"#000000\">gini = 0.655</text>\n<text text-anchor=\"start\" x=\"6115\" y=\"-410.8\" font-family=\"Helvetica,sans-Serif\" font-size=\"14.00\" fill=\"#000000\">samples = 1043</text>\n<text text-anchor=\"start\" x=\"6093\" y=\"-396.8\" font-family=\"Helvetica,sans-Serif\" font-size=\"14.00\" fill=\"#000000\">value = [383, 405, 255]</text>\n</g>\n<!-- 58&#45;&gt;86 -->\n<g id=\"edge86\" class=\"edge\">\n<title>58&#45;&gt;86</title>\n<path fill=\"none\" stroke=\"#000000\" d=\"M5653.2455,-507.2004C5763.7085,-488.6664 5959.4196,-455.8289 6074.7656,-436.4756\"/>\n<polygon fill=\"#000000\" stroke=\"#000000\" points=\"6075.3592,-439.925 6084.6422,-434.8184 6074.2009,-433.0215 6075.3592,-439.925\"/>\n</g>\n<!-- 60 -->\n<g id=\"node61\" class=\"node\">\n<title>60</title>\n<path fill=\"#39e581\" fill-opacity=\"0.086275\" stroke=\"#000000\" d=\"M4485,-353C4485,-353 4345,-353 4345,-353 4339,-353 4333,-347 4333,-341 4333,-341 4333,-301 4333,-301 4333,-295 4339,-289 4345,-289 4345,-289 4485,-289 4485,-289 4491,-289 4497,-295 4497,-301 4497,-301 4497,-341 4497,-341 4497,-347 4491,-353 4485,-353\"/>\n<text text-anchor=\"start\" x=\"4388.5\" y=\"-338.8\" font-family=\"Helvetica,sans-Serif\" font-size=\"14.00\" fill=\"#000000\">X</text>\n<text text-anchor=\"start\" x=\"4398.5\" y=\"-338.8\" font-family=\"Helvetica,sans-Serif\" baseline-shift=\"sub\" font-size=\"14.00\" fill=\"#000000\">5</text>\n<text text-anchor=\"start\" x=\"4405.5\" y=\"-338.8\" font-family=\"Helvetica,sans-Serif\" font-size=\"14.00\" fill=\"#000000\"> ≤ 2.5</text>\n<text text-anchor=\"start\" x=\"4377\" y=\"-324.8\" font-family=\"Helvetica,sans-Serif\" font-size=\"14.00\" fill=\"#000000\">gini = 0.654</text>\n<text text-anchor=\"start\" x=\"4367\" y=\"-310.8\" font-family=\"Helvetica,sans-Serif\" font-size=\"14.00\" fill=\"#000000\">samples = 855</text>\n<text text-anchor=\"start\" x=\"4341\" y=\"-296.8\" font-family=\"Helvetica,sans-Serif\" font-size=\"14.00\" fill=\"#000000\">value = [298, 346, 211]</text>\n</g>\n<!-- 59&#45;&gt;60 -->\n<g id=\"edge60\" class=\"edge\">\n<title>59&#45;&gt;60</title>\n<path fill=\"none\" stroke=\"#000000\" d=\"M5017.7135,-408.9874C4889.2658,-390.2359 4641.9294,-354.1284 4507.4872,-334.5018\"/>\n<polygon fill=\"#000000\" stroke=\"#000000\" points=\"4507.6144,-330.9833 4497.2136,-333.002 4506.6031,-337.9099 4507.6144,-330.9833\"/>\n</g>\n<!-- 71 -->\n<g id=\"node72\" class=\"node\">\n<title>71</title>\n<path fill=\"#39e581\" fill-opacity=\"0.545098\" stroke=\"#000000\" d=\"M5158,-353C5158,-353 5042,-353 5042,-353 5036,-353 5030,-347 5030,-341 5030,-341 5030,-301 5030,-301 5030,-295 5036,-289 5042,-289 5042,-289 5158,-289 5158,-289 5164,-289 5170,-295 5170,-301 5170,-301 5170,-341 5170,-341 5170,-347 5164,-353 5158,-353\"/>\n<text text-anchor=\"start\" x=\"5073.5\" y=\"-338.8\" font-family=\"Helvetica,sans-Serif\" font-size=\"14.00\" fill=\"#000000\">X</text>\n<text text-anchor=\"start\" x=\"5083.5\" y=\"-338.8\" font-family=\"Helvetica,sans-Serif\" baseline-shift=\"sub\" font-size=\"14.00\" fill=\"#000000\">6</text>\n<text text-anchor=\"start\" x=\"5090.5\" y=\"-338.8\" font-family=\"Helvetica,sans-Serif\" font-size=\"14.00\" fill=\"#000000\"> ≤ 6.5</text>\n<text text-anchor=\"start\" x=\"5062\" y=\"-324.8\" font-family=\"Helvetica,sans-Serif\" font-size=\"14.00\" fill=\"#000000\">gini = 0.446</text>\n<text text-anchor=\"start\" x=\"5052\" y=\"-310.8\" font-family=\"Helvetica,sans-Serif\" font-size=\"14.00\" fill=\"#000000\">samples = 157</text>\n<text text-anchor=\"start\" x=\"5038\" y=\"-296.8\" font-family=\"Helvetica,sans-Serif\" font-size=\"14.00\" fill=\"#000000\">value = [47, 107, 3]</text>\n</g>\n<!-- 59&#45;&gt;71 -->\n<g id=\"edge71\" class=\"edge\">\n<title>59&#45;&gt;71</title>\n<path fill=\"none\" stroke=\"#000000\" d=\"M5100,-388.8089C5100,-380.6906 5100,-371.8517 5100,-363.3186\"/>\n<polygon fill=\"#000000\" stroke=\"#000000\" points=\"5103.5001,-363.1307 5100,-353.1308 5096.5001,-363.1308 5103.5001,-363.1307\"/>\n</g>\n<!-- 61 -->\n<g id=\"node62\" class=\"node\">\n<title>61</title>\n<path fill=\"#e58139\" fill-opacity=\"0.043137\" stroke=\"#000000\" d=\"M4245,-253C4245,-253 4105,-253 4105,-253 4099,-253 4093,-247 4093,-241 4093,-241 4093,-201 4093,-201 4093,-195 4099,-189 4105,-189 4105,-189 4245,-189 4245,-189 4251,-189 4257,-195 4257,-201 4257,-201 4257,-241 4257,-241 4257,-247 4251,-253 4245,-253\"/>\n<text text-anchor=\"start\" x=\"4128\" y=\"-238.8\" font-family=\"Helvetica,sans-Serif\" font-size=\"14.00\" fill=\"#000000\">X</text>\n<text text-anchor=\"start\" x=\"4138\" y=\"-238.8\" font-family=\"Helvetica,sans-Serif\" baseline-shift=\"sub\" font-size=\"14.00\" fill=\"#000000\">4</text>\n<text text-anchor=\"start\" x=\"4145\" y=\"-238.8\" font-family=\"Helvetica,sans-Serif\" font-size=\"14.00\" fill=\"#000000\"> ≤ 103138.0</text>\n<text text-anchor=\"start\" x=\"4137\" y=\"-224.8\" font-family=\"Helvetica,sans-Serif\" font-size=\"14.00\" fill=\"#000000\">gini = 0.634</text>\n<text text-anchor=\"start\" x=\"4127\" y=\"-210.8\" font-family=\"Helvetica,sans-Serif\" font-size=\"14.00\" fill=\"#000000\">samples = 565</text>\n<text text-anchor=\"start\" x=\"4101\" y=\"-196.8\" font-family=\"Helvetica,sans-Serif\" font-size=\"14.00\" fill=\"#000000\">value = [237, 222, 106]</text>\n</g>\n<!-- 60&#45;&gt;61 -->\n<g id=\"edge61\" class=\"edge\">\n<title>60&#45;&gt;61</title>\n<path fill=\"none\" stroke=\"#000000\" d=\"M4338.0722,-288.9467C4313.6355,-278.7648 4286.4511,-267.438 4261.3933,-256.9972\"/>\n<polygon fill=\"#000000\" stroke=\"#000000\" points=\"4262.4809,-253.6587 4251.9039,-253.0433 4259.7885,-260.1203 4262.4809,-253.6587\"/>\n</g>\n<!-- 66 -->\n<g id=\"node67\" class=\"node\">\n<title>66</title>\n<path fill=\"#39e581\" fill-opacity=\"0.101961\" stroke=\"#000000\" d=\"M4481,-253C4481,-253 4349,-253 4349,-253 4343,-253 4337,-247 4337,-241 4337,-241 4337,-201 4337,-201 4337,-195 4343,-189 4349,-189 4349,-189 4481,-189 4481,-189 4487,-189 4493,-195 4493,-201 4493,-201 4493,-241 4493,-241 4493,-247 4487,-253 4481,-253\"/>\n<text text-anchor=\"start\" x=\"4368\" y=\"-238.8\" font-family=\"Helvetica,sans-Serif\" font-size=\"14.00\" fill=\"#000000\">X</text>\n<text text-anchor=\"start\" x=\"4378\" y=\"-238.8\" font-family=\"Helvetica,sans-Serif\" baseline-shift=\"sub\" font-size=\"14.00\" fill=\"#000000\">4</text>\n<text text-anchor=\"start\" x=\"4385\" y=\"-238.8\" font-family=\"Helvetica,sans-Serif\" font-size=\"14.00\" fill=\"#000000\"> ≤ 103111.5</text>\n<text text-anchor=\"start\" x=\"4377\" y=\"-224.8\" font-family=\"Helvetica,sans-Serif\" font-size=\"14.00\" fill=\"#000000\">gini = 0.642</text>\n<text text-anchor=\"start\" x=\"4367\" y=\"-210.8\" font-family=\"Helvetica,sans-Serif\" font-size=\"14.00\" fill=\"#000000\">samples = 290</text>\n<text text-anchor=\"start\" x=\"4345\" y=\"-196.8\" font-family=\"Helvetica,sans-Serif\" font-size=\"14.00\" fill=\"#000000\">value = [61, 124, 105]</text>\n</g>\n<!-- 60&#45;&gt;66 -->\n<g id=\"edge66\" class=\"edge\">\n<title>60&#45;&gt;66</title>\n<path fill=\"none\" stroke=\"#000000\" d=\"M4415,-288.8089C4415,-280.6906 4415,-271.8517 4415,-263.3186\"/>\n<polygon fill=\"#000000\" stroke=\"#000000\" points=\"4418.5001,-263.1307 4415,-253.1308 4411.5001,-263.1308 4418.5001,-263.1307\"/>\n</g>\n<!-- 62 -->\n<g id=\"node63\" class=\"node\">\n<title>62</title>\n<path fill=\"#39e581\" fill-opacity=\"0.521569\" stroke=\"#000000\" d=\"M4079,-153C4079,-153 3955,-153 3955,-153 3949,-153 3943,-147 3943,-141 3943,-141 3943,-101 3943,-101 3943,-95 3949,-89 3955,-89 3955,-89 4079,-89 4079,-89 4085,-89 4091,-95 4091,-101 4091,-101 4091,-141 4091,-141 4091,-147 4085,-153 4079,-153\"/>\n<text text-anchor=\"start\" x=\"3978\" y=\"-138.8\" font-family=\"Helvetica,sans-Serif\" font-size=\"14.00\" fill=\"#000000\">X</text>\n<text text-anchor=\"start\" x=\"3988\" y=\"-138.8\" font-family=\"Helvetica,sans-Serif\" baseline-shift=\"sub\" font-size=\"14.00\" fill=\"#000000\">1</text>\n<text text-anchor=\"start\" x=\"3995\" y=\"-138.8\" font-family=\"Helvetica,sans-Serif\" font-size=\"14.00\" fill=\"#000000\"> ≤ 37.783</text>\n<text text-anchor=\"start\" x=\"3979\" y=\"-124.8\" font-family=\"Helvetica,sans-Serif\" font-size=\"14.00\" fill=\"#000000\">gini = 0.437</text>\n<text text-anchor=\"start\" x=\"3969\" y=\"-110.8\" font-family=\"Helvetica,sans-Serif\" font-size=\"14.00\" fill=\"#000000\">samples = 328</text>\n<text text-anchor=\"start\" x=\"3951\" y=\"-96.8\" font-family=\"Helvetica,sans-Serif\" font-size=\"14.00\" fill=\"#000000\">value = [0, 222, 106]</text>\n</g>\n<!-- 61&#45;&gt;62 -->\n<g id=\"edge62\" class=\"edge\">\n<title>61&#45;&gt;62</title>\n<path fill=\"none\" stroke=\"#000000\" d=\"M4124.1381,-188.8089C4108.9149,-179.174 4092.0881,-168.5241 4076.3686,-158.575\"/>\n<polygon fill=\"#000000\" stroke=\"#000000\" points=\"4078.0882,-155.5213 4067.7666,-153.1308 4074.3446,-161.4362 4078.0882,-155.5213\"/>\n</g>\n<!-- 65 -->\n<g id=\"node66\" class=\"node\">\n<title>65</title>\n<path fill=\"#e58139\" stroke=\"#000000\" d=\"M4228.5,-147.5C4228.5,-147.5 4121.5,-147.5 4121.5,-147.5 4115.5,-147.5 4109.5,-141.5 4109.5,-135.5 4109.5,-135.5 4109.5,-106.5 4109.5,-106.5 4109.5,-100.5 4115.5,-94.5 4121.5,-94.5 4121.5,-94.5 4228.5,-94.5 4228.5,-94.5 4234.5,-94.5 4240.5,-100.5 4240.5,-106.5 4240.5,-106.5 4240.5,-135.5 4240.5,-135.5 4240.5,-141.5 4234.5,-147.5 4228.5,-147.5\"/>\n<text text-anchor=\"start\" x=\"4145.5\" y=\"-132.3\" font-family=\"Helvetica,sans-Serif\" font-size=\"14.00\" fill=\"#000000\">gini = 0.0</text>\n<text text-anchor=\"start\" x=\"4127\" y=\"-117.3\" font-family=\"Helvetica,sans-Serif\" font-size=\"14.00\" fill=\"#000000\">samples = 237</text>\n<text text-anchor=\"start\" x=\"4117.5\" y=\"-102.3\" font-family=\"Helvetica,sans-Serif\" font-size=\"14.00\" fill=\"#000000\">value = [237, 0, 0]</text>\n</g>\n<!-- 61&#45;&gt;65 -->\n<g id=\"edge65\" class=\"edge\">\n<title>61&#45;&gt;65</title>\n<path fill=\"none\" stroke=\"#000000\" d=\"M4175,-188.8089C4175,-178.9777 4175,-168.0898 4175,-157.9679\"/>\n<polygon fill=\"#000000\" stroke=\"#000000\" points=\"4178.5001,-157.7735 4175,-147.7735 4171.5001,-157.7736 4178.5001,-157.7735\"/>\n</g>\n<!-- 63 -->\n<g id=\"node64\" class=\"node\">\n<title>63</title>\n<path fill=\"#39e581\" fill-opacity=\"0.705882\" stroke=\"#000000\" d=\"M4075,-53C4075,-53 3959,-53 3959,-53 3953,-53 3947,-47 3947,-41 3947,-41 3947,-12 3947,-12 3947,-6 3953,0 3959,0 3959,0 4075,0 4075,0 4081,0 4087,-6 4087,-12 4087,-12 4087,-41 4087,-41 4087,-47 4081,-53 4075,-53\"/>\n<text text-anchor=\"start\" x=\"3979\" y=\"-37.8\" font-family=\"Helvetica,sans-Serif\" font-size=\"14.00\" fill=\"#000000\">gini = 0.352</text>\n<text text-anchor=\"start\" x=\"3969\" y=\"-22.8\" font-family=\"Helvetica,sans-Serif\" font-size=\"14.00\" fill=\"#000000\">samples = 158</text>\n<text text-anchor=\"start\" x=\"3955\" y=\"-7.8\" font-family=\"Helvetica,sans-Serif\" font-size=\"14.00\" fill=\"#000000\">value = [0, 122, 36]</text>\n</g>\n<!-- 62&#45;&gt;63 -->\n<g id=\"edge63\" class=\"edge\">\n<title>62&#45;&gt;63</title>\n<path fill=\"none\" stroke=\"#000000\" d=\"M4017,-88.7428C4017,-80.6222 4017,-71.8426 4017,-63.5093\"/>\n<polygon fill=\"#000000\" stroke=\"#000000\" points=\"4020.5001,-63.2758 4017,-53.2759 4013.5001,-63.2759 4020.5001,-63.2758\"/>\n</g>\n<!-- 64 -->\n<g id=\"node65\" class=\"node\">\n<title>64</title>\n<path fill=\"#39e581\" fill-opacity=\"0.301961\" stroke=\"#000000\" d=\"M4233,-53C4233,-53 4117,-53 4117,-53 4111,-53 4105,-47 4105,-41 4105,-41 4105,-12 4105,-12 4105,-6 4111,0 4117,0 4117,0 4233,0 4233,0 4239,0 4245,-6 4245,-12 4245,-12 4245,-41 4245,-41 4245,-47 4239,-53 4233,-53\"/>\n<text text-anchor=\"start\" x=\"4137\" y=\"-37.8\" font-family=\"Helvetica,sans-Serif\" font-size=\"14.00\" fill=\"#000000\">gini = 0.484</text>\n<text text-anchor=\"start\" x=\"4127\" y=\"-22.8\" font-family=\"Helvetica,sans-Serif\" font-size=\"14.00\" fill=\"#000000\">samples = 170</text>\n<text text-anchor=\"start\" x=\"4113\" y=\"-7.8\" font-family=\"Helvetica,sans-Serif\" font-size=\"14.00\" fill=\"#000000\">value = [0, 100, 70]</text>\n</g>\n<!-- 62&#45;&gt;64 -->\n<g id=\"edge64\" class=\"edge\">\n<title>62&#45;&gt;64</title>\n<path fill=\"none\" stroke=\"#000000\" d=\"M4070.9327,-88.7428C4087.3008,-78.953 4105.2705,-68.2053 4121.6032,-58.4367\"/>\n<polygon fill=\"#000000\" stroke=\"#000000\" points=\"4123.7024,-61.2595 4130.4879,-53.1227 4120.1093,-55.252 4123.7024,-61.2595\"/>\n</g>\n<!-- 67 -->\n<g id=\"node68\" class=\"node\">\n<title>67</title>\n<path fill=\"#8139e5\" stroke=\"#000000\" d=\"M4377.5,-147.5C4377.5,-147.5 4270.5,-147.5 4270.5,-147.5 4264.5,-147.5 4258.5,-141.5 4258.5,-135.5 4258.5,-135.5 4258.5,-106.5 4258.5,-106.5 4258.5,-100.5 4264.5,-94.5 4270.5,-94.5 4270.5,-94.5 4377.5,-94.5 4377.5,-94.5 4383.5,-94.5 4389.5,-100.5 4389.5,-106.5 4389.5,-106.5 4389.5,-135.5 4389.5,-135.5 4389.5,-141.5 4383.5,-147.5 4377.5,-147.5\"/>\n<text text-anchor=\"start\" x=\"4294.5\" y=\"-132.3\" font-family=\"Helvetica,sans-Serif\" font-size=\"14.00\" fill=\"#000000\">gini = 0.0</text>\n<text text-anchor=\"start\" x=\"4276\" y=\"-117.3\" font-family=\"Helvetica,sans-Serif\" font-size=\"14.00\" fill=\"#000000\">samples = 105</text>\n<text text-anchor=\"start\" x=\"4266.5\" y=\"-102.3\" font-family=\"Helvetica,sans-Serif\" font-size=\"14.00\" fill=\"#000000\">value = [0, 0, 105]</text>\n</g>\n<!-- 66&#45;&gt;67 -->\n<g id=\"edge67\" class=\"edge\">\n<title>66&#45;&gt;67</title>\n<path fill=\"none\" stroke=\"#000000\" d=\"M4385.7061,-188.8089C4376.0063,-178.1498 4365.1762,-166.2486 4355.3297,-155.4282\"/>\n<polygon fill=\"#000000\" stroke=\"#000000\" points=\"4357.683,-152.8139 4348.3639,-147.7735 4352.5057,-157.5253 4357.683,-152.8139\"/>\n</g>\n<!-- 68 -->\n<g id=\"node69\" class=\"node\">\n<title>68</title>\n<path fill=\"#39e581\" fill-opacity=\"0.509804\" stroke=\"#000000\" d=\"M4536,-153C4536,-153 4420,-153 4420,-153 4414,-153 4408,-147 4408,-141 4408,-141 4408,-101 4408,-101 4408,-95 4414,-89 4420,-89 4420,-89 4536,-89 4536,-89 4542,-89 4548,-95 4548,-101 4548,-101 4548,-141 4548,-141 4548,-147 4542,-153 4536,-153\"/>\n<text text-anchor=\"start\" x=\"4441\" y=\"-138.8\" font-family=\"Helvetica,sans-Serif\" font-size=\"14.00\" fill=\"#000000\">X</text>\n<text text-anchor=\"start\" x=\"4451\" y=\"-138.8\" font-family=\"Helvetica,sans-Serif\" baseline-shift=\"sub\" font-size=\"14.00\" fill=\"#000000\">2</text>\n<text text-anchor=\"start\" x=\"4458\" y=\"-138.8\" font-family=\"Helvetica,sans-Serif\" font-size=\"14.00\" fill=\"#000000\"> ≤ &#45;122.4</text>\n<text text-anchor=\"start\" x=\"4440\" y=\"-124.8\" font-family=\"Helvetica,sans-Serif\" font-size=\"14.00\" fill=\"#000000\">gini = 0.442</text>\n<text text-anchor=\"start\" x=\"4430\" y=\"-110.8\" font-family=\"Helvetica,sans-Serif\" font-size=\"14.00\" fill=\"#000000\">samples = 185</text>\n<text text-anchor=\"start\" x=\"4416\" y=\"-96.8\" font-family=\"Helvetica,sans-Serif\" font-size=\"14.00\" fill=\"#000000\">value = [61, 124, 0]</text>\n</g>\n<!-- 66&#45;&gt;68 -->\n<g id=\"edge68\" class=\"edge\">\n<title>66&#45;&gt;68</title>\n<path fill=\"none\" stroke=\"#000000\" d=\"M4435.2804,-188.8089C4440.7322,-180.1553 4446.6997,-170.683 4452.3999,-161.635\"/>\n<polygon fill=\"#000000\" stroke=\"#000000\" points=\"4455.3885,-163.4573 4457.7576,-153.1308 4449.4659,-159.726 4455.3885,-163.4573\"/>\n</g>\n<!-- 69 -->\n<g id=\"node70\" class=\"node\">\n<title>69</title>\n<path fill=\"#39e581\" fill-opacity=\"0.360784\" stroke=\"#000000\" d=\"M4382.5,-53C4382.5,-53 4275.5,-53 4275.5,-53 4269.5,-53 4263.5,-47 4263.5,-41 4263.5,-41 4263.5,-12 4263.5,-12 4263.5,-6 4269.5,0 4275.5,0 4275.5,0 4382.5,0 4382.5,0 4388.5,0 4394.5,-6 4394.5,-12 4394.5,-12 4394.5,-41 4394.5,-41 4394.5,-47 4388.5,-53 4382.5,-53\"/>\n<text text-anchor=\"start\" x=\"4291\" y=\"-37.8\" font-family=\"Helvetica,sans-Serif\" font-size=\"14.00\" fill=\"#000000\">gini = 0.476</text>\n<text text-anchor=\"start\" x=\"4281\" y=\"-22.8\" font-family=\"Helvetica,sans-Serif\" font-size=\"14.00\" fill=\"#000000\">samples = 123</text>\n<text text-anchor=\"start\" x=\"4271.5\" y=\"-7.8\" font-family=\"Helvetica,sans-Serif\" font-size=\"14.00\" fill=\"#000000\">value = [48, 75, 0]</text>\n</g>\n<!-- 68&#45;&gt;69 -->\n<g id=\"edge69\" class=\"edge\">\n<title>68&#45;&gt;69</title>\n<path fill=\"none\" stroke=\"#000000\" d=\"M4427.1394,-88.7428C4411.9171,-79.0883 4395.2258,-68.5023 4379.9949,-58.8424\"/>\n<polygon fill=\"#000000\" stroke=\"#000000\" points=\"4381.5374,-55.6761 4371.218,-53.2759 4377.7882,-61.5875 4381.5374,-55.6761\"/>\n</g>\n<!-- 70 -->\n<g id=\"node71\" class=\"node\">\n<title>70</title>\n<path fill=\"#39e581\" fill-opacity=\"0.733333\" stroke=\"#000000\" d=\"M4531.5,-53C4531.5,-53 4424.5,-53 4424.5,-53 4418.5,-53 4412.5,-47 4412.5,-41 4412.5,-41 4412.5,-12 4412.5,-12 4412.5,-6 4418.5,0 4424.5,0 4424.5,0 4531.5,0 4531.5,0 4537.5,0 4543.5,-6 4543.5,-12 4543.5,-12 4543.5,-41 4543.5,-41 4543.5,-47 4537.5,-53 4531.5,-53\"/>\n<text text-anchor=\"start\" x=\"4440\" y=\"-37.8\" font-family=\"Helvetica,sans-Serif\" font-size=\"14.00\" fill=\"#000000\">gini = 0.331</text>\n<text text-anchor=\"start\" x=\"4434\" y=\"-22.8\" font-family=\"Helvetica,sans-Serif\" font-size=\"14.00\" fill=\"#000000\">samples = 62</text>\n<text text-anchor=\"start\" x=\"4420.5\" y=\"-7.8\" font-family=\"Helvetica,sans-Serif\" font-size=\"14.00\" fill=\"#000000\">value = [13, 49, 0]</text>\n</g>\n<!-- 68&#45;&gt;70 -->\n<g id=\"edge70\" class=\"edge\">\n<title>68&#45;&gt;70</title>\n<path fill=\"none\" stroke=\"#000000\" d=\"M4478,-88.7428C4478,-80.6222 4478,-71.8426 4478,-63.5093\"/>\n<polygon fill=\"#000000\" stroke=\"#000000\" points=\"4481.5001,-63.2758 4478,-53.2759 4474.5001,-63.2759 4481.5001,-63.2758\"/>\n</g>\n<!-- 72 -->\n<g id=\"node73\" class=\"node\">\n<title>72</title>\n<path fill=\"#39e581\" fill-opacity=\"0.372549\" stroke=\"#000000\" d=\"M5049.5,-253C5049.5,-253 4942.5,-253 4942.5,-253 4936.5,-253 4930.5,-247 4930.5,-241 4930.5,-241 4930.5,-201 4930.5,-201 4930.5,-195 4936.5,-189 4942.5,-189 4942.5,-189 5049.5,-189 5049.5,-189 5055.5,-189 5061.5,-195 5061.5,-201 5061.5,-201 5061.5,-241 5061.5,-241 5061.5,-247 5055.5,-253 5049.5,-253\"/>\n<text text-anchor=\"start\" x=\"4969.5\" y=\"-238.8\" font-family=\"Helvetica,sans-Serif\" font-size=\"14.00\" fill=\"#000000\">X</text>\n<text text-anchor=\"start\" x=\"4979.5\" y=\"-238.8\" font-family=\"Helvetica,sans-Serif\" baseline-shift=\"sub\" font-size=\"14.00\" fill=\"#000000\">6</text>\n<text text-anchor=\"start\" x=\"4986.5\" y=\"-238.8\" font-family=\"Helvetica,sans-Serif\" font-size=\"14.00\" fill=\"#000000\"> ≤ 1.5</text>\n<text text-anchor=\"start\" x=\"4958\" y=\"-224.8\" font-family=\"Helvetica,sans-Serif\" font-size=\"14.00\" fill=\"#000000\">gini = 0.487</text>\n<text text-anchor=\"start\" x=\"4952\" y=\"-210.8\" font-family=\"Helvetica,sans-Serif\" font-size=\"14.00\" fill=\"#000000\">samples = 69</text>\n<text text-anchor=\"start\" x=\"4938.5\" y=\"-196.8\" font-family=\"Helvetica,sans-Serif\" font-size=\"14.00\" fill=\"#000000\">value = [26, 42, 1]</text>\n</g>\n<!-- 71&#45;&gt;72 -->\n<g id=\"edge72\" class=\"edge\">\n<title>71&#45;&gt;72</title>\n<path fill=\"none\" stroke=\"#000000\" d=\"M5066.5213,-288.8089C5057.0576,-279.7092 5046.6525,-269.7043 5036.809,-260.2394\"/>\n<polygon fill=\"#000000\" stroke=\"#000000\" points=\"5039.0502,-257.539 5029.416,-253.1308 5034.1985,-262.5848 5039.0502,-257.539\"/>\n</g>\n<!-- 79 -->\n<g id=\"node80\" class=\"node\">\n<title>79</title>\n<path fill=\"#39e581\" fill-opacity=\"0.654902\" stroke=\"#000000\" d=\"M5258.5,-253C5258.5,-253 5151.5,-253 5151.5,-253 5145.5,-253 5139.5,-247 5139.5,-241 5139.5,-241 5139.5,-201 5139.5,-201 5139.5,-195 5145.5,-189 5151.5,-189 5151.5,-189 5258.5,-189 5258.5,-189 5264.5,-189 5270.5,-195 5270.5,-201 5270.5,-201 5270.5,-241 5270.5,-241 5270.5,-247 5264.5,-253 5258.5,-253\"/>\n<text text-anchor=\"start\" x=\"5174.5\" y=\"-238.8\" font-family=\"Helvetica,sans-Serif\" font-size=\"14.00\" fill=\"#000000\">X</text>\n<text text-anchor=\"start\" x=\"5184.5\" y=\"-238.8\" font-family=\"Helvetica,sans-Serif\" baseline-shift=\"sub\" font-size=\"14.00\" fill=\"#000000\">3</text>\n<text text-anchor=\"start\" x=\"5191.5\" y=\"-238.8\" font-family=\"Helvetica,sans-Serif\" font-size=\"14.00\" fill=\"#000000\"> ≤ 73.5</text>\n<text text-anchor=\"start\" x=\"5167\" y=\"-224.8\" font-family=\"Helvetica,sans-Serif\" font-size=\"14.00\" fill=\"#000000\">gini = 0.397</text>\n<text text-anchor=\"start\" x=\"5161\" y=\"-210.8\" font-family=\"Helvetica,sans-Serif\" font-size=\"14.00\" fill=\"#000000\">samples = 88</text>\n<text text-anchor=\"start\" x=\"5147.5\" y=\"-196.8\" font-family=\"Helvetica,sans-Serif\" font-size=\"14.00\" fill=\"#000000\">value = [21, 65, 2]</text>\n</g>\n<!-- 71&#45;&gt;79 -->\n<g id=\"edge79\" class=\"edge\">\n<title>71&#45;&gt;79</title>\n<path fill=\"none\" stroke=\"#000000\" d=\"M5133.8006,-288.8089C5143.3553,-279.7092 5153.8605,-269.7043 5163.7986,-260.2394\"/>\n<polygon fill=\"#000000\" stroke=\"#000000\" points=\"5166.4351,-262.5618 5171.2627,-253.1308 5161.6075,-257.4928 5166.4351,-262.5618\"/>\n</g>\n<!-- 73 -->\n<g id=\"node74\" class=\"node\">\n<title>73</title>\n<path fill=\"#39e581\" fill-opacity=\"0.874510\" stroke=\"#000000\" d=\"M4797.5,-153C4797.5,-153 4706.5,-153 4706.5,-153 4700.5,-153 4694.5,-147 4694.5,-141 4694.5,-141 4694.5,-101 4694.5,-101 4694.5,-95 4700.5,-89 4706.5,-89 4706.5,-89 4797.5,-89 4797.5,-89 4803.5,-89 4809.5,-95 4809.5,-101 4809.5,-101 4809.5,-141 4809.5,-141 4809.5,-147 4803.5,-153 4797.5,-153\"/>\n<text text-anchor=\"start\" x=\"4713\" y=\"-138.8\" font-family=\"Helvetica,sans-Serif\" font-size=\"14.00\" fill=\"#000000\">X</text>\n<text text-anchor=\"start\" x=\"4723\" y=\"-138.8\" font-family=\"Helvetica,sans-Serif\" baseline-shift=\"sub\" font-size=\"14.00\" fill=\"#000000\">1</text>\n<text text-anchor=\"start\" x=\"4730\" y=\"-138.8\" font-family=\"Helvetica,sans-Serif\" font-size=\"14.00\" fill=\"#000000\"> ≤ 37.779</text>\n<text text-anchor=\"start\" x=\"4714\" y=\"-124.8\" font-family=\"Helvetica,sans-Serif\" font-size=\"14.00\" fill=\"#000000\">gini = 0.198</text>\n<text text-anchor=\"start\" x=\"4712.5\" y=\"-110.8\" font-family=\"Helvetica,sans-Serif\" font-size=\"14.00\" fill=\"#000000\">samples = 9</text>\n<text text-anchor=\"start\" x=\"4702.5\" y=\"-96.8\" font-family=\"Helvetica,sans-Serif\" font-size=\"14.00\" fill=\"#000000\">value = [1, 8, 0]</text>\n</g>\n<!-- 72&#45;&gt;73 -->\n<g id=\"edge73\" class=\"edge\">\n<title>72&#45;&gt;73</title>\n<path fill=\"none\" stroke=\"#000000\" d=\"M4930.2915,-194.0703C4895.843,-179.9521 4853.7253,-162.6907 4819.077,-148.4906\"/>\n<polygon fill=\"#000000\" stroke=\"#000000\" points=\"4820.0954,-145.1255 4809.515,-144.5717 4817.4408,-151.6026 4820.0954,-145.1255\"/>\n</g>\n<!-- 76 -->\n<g id=\"node77\" class=\"node\">\n<title>76</title>\n<path fill=\"#39e581\" fill-opacity=\"0.258824\" stroke=\"#000000\" d=\"M5049.5,-153C5049.5,-153 4942.5,-153 4942.5,-153 4936.5,-153 4930.5,-147 4930.5,-141 4930.5,-141 4930.5,-101 4930.5,-101 4930.5,-95 4936.5,-89 4942.5,-89 4942.5,-89 5049.5,-89 5049.5,-89 5055.5,-89 5061.5,-95 5061.5,-101 5061.5,-101 5061.5,-141 5061.5,-141 5061.5,-147 5055.5,-153 5049.5,-153\"/>\n<text text-anchor=\"start\" x=\"4949\" y=\"-138.8\" font-family=\"Helvetica,sans-Serif\" font-size=\"14.00\" fill=\"#000000\">X</text>\n<text text-anchor=\"start\" x=\"4959\" y=\"-138.8\" font-family=\"Helvetica,sans-Serif\" baseline-shift=\"sub\" font-size=\"14.00\" fill=\"#000000\">4</text>\n<text text-anchor=\"start\" x=\"4966\" y=\"-138.8\" font-family=\"Helvetica,sans-Serif\" font-size=\"14.00\" fill=\"#000000\"> ≤ 103136.0</text>\n<text text-anchor=\"start\" x=\"4958\" y=\"-124.8\" font-family=\"Helvetica,sans-Serif\" font-size=\"14.00\" fill=\"#000000\">gini = 0.505</text>\n<text text-anchor=\"start\" x=\"4952\" y=\"-110.8\" font-family=\"Helvetica,sans-Serif\" font-size=\"14.00\" fill=\"#000000\">samples = 60</text>\n<text text-anchor=\"start\" x=\"4938.5\" y=\"-96.8\" font-family=\"Helvetica,sans-Serif\" font-size=\"14.00\" fill=\"#000000\">value = [25, 34, 1]</text>\n</g>\n<!-- 72&#45;&gt;76 -->\n<g id=\"edge76\" class=\"edge\">\n<title>72&#45;&gt;76</title>\n<path fill=\"none\" stroke=\"#000000\" d=\"M4996,-188.8089C4996,-180.6906 4996,-171.8517 4996,-163.3186\"/>\n<polygon fill=\"#000000\" stroke=\"#000000\" points=\"4999.5001,-163.1307 4996,-153.1308 4992.5001,-163.1308 4999.5001,-163.1307\"/>\n</g>\n<!-- 74 -->\n<g id=\"node75\" class=\"node\">\n<title>74</title>\n<path fill=\"#39e581\" fill-opacity=\"0.666667\" stroke=\"#000000\" d=\"M4664.5,-53C4664.5,-53 4573.5,-53 4573.5,-53 4567.5,-53 4561.5,-47 4561.5,-41 4561.5,-41 4561.5,-12 4561.5,-12 4561.5,-6 4567.5,0 4573.5,0 4573.5,0 4664.5,0 4664.5,0 4670.5,0 4676.5,-6 4676.5,-12 4676.5,-12 4676.5,-41 4676.5,-41 4676.5,-47 4670.5,-53 4664.5,-53\"/>\n<text text-anchor=\"start\" x=\"4581\" y=\"-37.8\" font-family=\"Helvetica,sans-Serif\" font-size=\"14.00\" fill=\"#000000\">gini = 0.375</text>\n<text text-anchor=\"start\" x=\"4579.5\" y=\"-22.8\" font-family=\"Helvetica,sans-Serif\" font-size=\"14.00\" fill=\"#000000\">samples = 4</text>\n<text text-anchor=\"start\" x=\"4569.5\" y=\"-7.8\" font-family=\"Helvetica,sans-Serif\" font-size=\"14.00\" fill=\"#000000\">value = [1, 3, 0]</text>\n</g>\n<!-- 73&#45;&gt;74 -->\n<g id=\"edge74\" class=\"edge\">\n<title>73&#45;&gt;74</title>\n<path fill=\"none\" stroke=\"#000000\" d=\"M4706.6009,-88.7428C4693.1402,-79.1786 4678.3927,-68.7001 4664.9004,-59.1135\"/>\n<polygon fill=\"#000000\" stroke=\"#000000\" points=\"4666.8636,-56.2148 4656.6846,-53.2759 4662.8091,-61.9211 4666.8636,-56.2148\"/>\n</g>\n<!-- 75 -->\n<g id=\"node76\" class=\"node\">\n<title>75</title>\n<path fill=\"#39e581\" stroke=\"#000000\" d=\"M4797.5,-53C4797.5,-53 4706.5,-53 4706.5,-53 4700.5,-53 4694.5,-47 4694.5,-41 4694.5,-41 4694.5,-12 4694.5,-12 4694.5,-6 4700.5,0 4706.5,0 4706.5,0 4797.5,0 4797.5,0 4803.5,0 4809.5,-6 4809.5,-12 4809.5,-12 4809.5,-41 4809.5,-41 4809.5,-47 4803.5,-53 4797.5,-53\"/>\n<text text-anchor=\"start\" x=\"4722.5\" y=\"-37.8\" font-family=\"Helvetica,sans-Serif\" font-size=\"14.00\" fill=\"#000000\">gini = 0.0</text>\n<text text-anchor=\"start\" x=\"4712.5\" y=\"-22.8\" font-family=\"Helvetica,sans-Serif\" font-size=\"14.00\" fill=\"#000000\">samples = 5</text>\n<text text-anchor=\"start\" x=\"4702.5\" y=\"-7.8\" font-family=\"Helvetica,sans-Serif\" font-size=\"14.00\" fill=\"#000000\">value = [0, 5, 0]</text>\n</g>\n<!-- 73&#45;&gt;75 -->\n<g id=\"edge75\" class=\"edge\">\n<title>73&#45;&gt;75</title>\n<path fill=\"none\" stroke=\"#000000\" d=\"M4752,-88.7428C4752,-80.6222 4752,-71.8426 4752,-63.5093\"/>\n<polygon fill=\"#000000\" stroke=\"#000000\" points=\"4755.5001,-63.2758 4752,-53.2759 4748.5001,-63.2759 4755.5001,-63.2758\"/>\n</g>\n<!-- 77 -->\n<g id=\"node78\" class=\"node\">\n<title>77</title>\n<path fill=\"#39e581\" fill-opacity=\"0.972549\" stroke=\"#000000\" d=\"M4938.5,-53C4938.5,-53 4839.5,-53 4839.5,-53 4833.5,-53 4827.5,-47 4827.5,-41 4827.5,-41 4827.5,-12 4827.5,-12 4827.5,-6 4833.5,0 4839.5,0 4839.5,0 4938.5,0 4938.5,0 4944.5,0 4950.5,-6 4950.5,-12 4950.5,-12 4950.5,-41 4950.5,-41 4950.5,-47 4944.5,-53 4938.5,-53\"/>\n<text text-anchor=\"start\" x=\"4851\" y=\"-37.8\" font-family=\"Helvetica,sans-Serif\" font-size=\"14.00\" fill=\"#000000\">gini = 0.056</text>\n<text text-anchor=\"start\" x=\"4845\" y=\"-22.8\" font-family=\"Helvetica,sans-Serif\" font-size=\"14.00\" fill=\"#000000\">samples = 35</text>\n<text text-anchor=\"start\" x=\"4835.5\" y=\"-7.8\" font-family=\"Helvetica,sans-Serif\" font-size=\"14.00\" fill=\"#000000\">value = [0, 34, 1]</text>\n</g>\n<!-- 76&#45;&gt;77 -->\n<g id=\"edge77\" class=\"edge\">\n<title>76&#45;&gt;77</title>\n<path fill=\"none\" stroke=\"#000000\" d=\"M4959.4759,-88.7428C4948.9531,-79.4493 4937.4528,-69.2925 4926.8514,-59.9295\"/>\n<polygon fill=\"#000000\" stroke=\"#000000\" points=\"4929.1299,-57.2722 4919.3176,-53.2759 4924.4961,-62.519 4929.1299,-57.2722\"/>\n</g>\n<!-- 78 -->\n<g id=\"node79\" class=\"node\">\n<title>78</title>\n<path fill=\"#e58139\" stroke=\"#000000\" d=\"M5079.5,-53C5079.5,-53 4980.5,-53 4980.5,-53 4974.5,-53 4968.5,-47 4968.5,-41 4968.5,-41 4968.5,-12 4968.5,-12 4968.5,-6 4974.5,0 4980.5,0 4980.5,0 5079.5,0 5079.5,0 5085.5,0 5091.5,-6 5091.5,-12 5091.5,-12 5091.5,-41 5091.5,-41 5091.5,-47 5085.5,-53 5079.5,-53\"/>\n<text text-anchor=\"start\" x=\"5000.5\" y=\"-37.8\" font-family=\"Helvetica,sans-Serif\" font-size=\"14.00\" fill=\"#000000\">gini = 0.0</text>\n<text text-anchor=\"start\" x=\"4986\" y=\"-22.8\" font-family=\"Helvetica,sans-Serif\" font-size=\"14.00\" fill=\"#000000\">samples = 25</text>\n<text text-anchor=\"start\" x=\"4976.5\" y=\"-7.8\" font-family=\"Helvetica,sans-Serif\" font-size=\"14.00\" fill=\"#000000\">value = [25, 0, 0]</text>\n</g>\n<!-- 76&#45;&gt;78 -->\n<g id=\"edge78\" class=\"edge\">\n<title>76&#45;&gt;78</title>\n<path fill=\"none\" stroke=\"#000000\" d=\"M5007.6058,-88.7428C5010.5924,-80.4418 5013.8268,-71.452 5016.8841,-62.9544\"/>\n<polygon fill=\"#000000\" stroke=\"#000000\" points=\"5020.2742,-63.8703 5020.3664,-53.2759 5013.6875,-61.5005 5020.2742,-63.8703\"/>\n</g>\n<!-- 80 -->\n<g id=\"node81\" class=\"node\">\n<title>80</title>\n<path fill=\"#39e581\" fill-opacity=\"0.901961\" stroke=\"#000000\" d=\"M5254.5,-153C5254.5,-153 5155.5,-153 5155.5,-153 5149.5,-153 5143.5,-147 5143.5,-141 5143.5,-141 5143.5,-101 5143.5,-101 5143.5,-95 5149.5,-89 5155.5,-89 5155.5,-89 5254.5,-89 5254.5,-89 5260.5,-89 5266.5,-95 5266.5,-101 5266.5,-101 5266.5,-141 5266.5,-141 5266.5,-147 5260.5,-153 5254.5,-153\"/>\n<text text-anchor=\"start\" x=\"5158\" y=\"-138.8\" font-family=\"Helvetica,sans-Serif\" font-size=\"14.00\" fill=\"#000000\">X</text>\n<text text-anchor=\"start\" x=\"5168\" y=\"-138.8\" font-family=\"Helvetica,sans-Serif\" baseline-shift=\"sub\" font-size=\"14.00\" fill=\"#000000\">4</text>\n<text text-anchor=\"start\" x=\"5175\" y=\"-138.8\" font-family=\"Helvetica,sans-Serif\" font-size=\"14.00\" fill=\"#000000\"> ≤ 103136.5</text>\n<text text-anchor=\"start\" x=\"5167\" y=\"-124.8\" font-family=\"Helvetica,sans-Serif\" font-size=\"14.00\" fill=\"#000000\">gini = 0.165</text>\n<text text-anchor=\"start\" x=\"5161\" y=\"-110.8\" font-family=\"Helvetica,sans-Serif\" font-size=\"14.00\" fill=\"#000000\">samples = 11</text>\n<text text-anchor=\"start\" x=\"5151.5\" y=\"-96.8\" font-family=\"Helvetica,sans-Serif\" font-size=\"14.00\" fill=\"#000000\">value = [1, 10, 0]</text>\n</g>\n<!-- 79&#45;&gt;80 -->\n<g id=\"edge80\" class=\"edge\">\n<title>79&#45;&gt;80</title>\n<path fill=\"none\" stroke=\"#000000\" d=\"M5205,-188.8089C5205,-180.6906 5205,-171.8517 5205,-163.3186\"/>\n<polygon fill=\"#000000\" stroke=\"#000000\" points=\"5208.5001,-163.1307 5205,-153.1308 5201.5001,-163.1308 5208.5001,-163.1307\"/>\n</g>\n<!-- 83 -->\n<g id=\"node84\" class=\"node\">\n<title>83</title>\n<path fill=\"#39e581\" fill-opacity=\"0.615686\" stroke=\"#000000\" d=\"M5498.5,-153C5498.5,-153 5391.5,-153 5391.5,-153 5385.5,-153 5379.5,-147 5379.5,-141 5379.5,-141 5379.5,-101 5379.5,-101 5379.5,-95 5385.5,-89 5391.5,-89 5391.5,-89 5498.5,-89 5498.5,-89 5504.5,-89 5510.5,-95 5510.5,-101 5510.5,-101 5510.5,-141 5510.5,-141 5510.5,-147 5504.5,-153 5498.5,-153\"/>\n<text text-anchor=\"start\" x=\"5406\" y=\"-138.8\" font-family=\"Helvetica,sans-Serif\" font-size=\"14.00\" fill=\"#000000\">X</text>\n<text text-anchor=\"start\" x=\"5416\" y=\"-138.8\" font-family=\"Helvetica,sans-Serif\" baseline-shift=\"sub\" font-size=\"14.00\" fill=\"#000000\">1</text>\n<text text-anchor=\"start\" x=\"5423\" y=\"-138.8\" font-family=\"Helvetica,sans-Serif\" font-size=\"14.00\" fill=\"#000000\"> ≤ 37.788</text>\n<text text-anchor=\"start\" x=\"5407\" y=\"-124.8\" font-family=\"Helvetica,sans-Serif\" font-size=\"14.00\" fill=\"#000000\">gini = 0.422</text>\n<text text-anchor=\"start\" x=\"5401\" y=\"-110.8\" font-family=\"Helvetica,sans-Serif\" font-size=\"14.00\" fill=\"#000000\">samples = 77</text>\n<text text-anchor=\"start\" x=\"5387.5\" y=\"-96.8\" font-family=\"Helvetica,sans-Serif\" font-size=\"14.00\" fill=\"#000000\">value = [20, 55, 2]</text>\n</g>\n<!-- 79&#45;&gt;83 -->\n<g id=\"edge83\" class=\"edge\">\n<title>79&#45;&gt;83</title>\n<path fill=\"none\" stroke=\"#000000\" d=\"M5270.5811,-193.6746C5301.4029,-180.8321 5338.3015,-165.4577 5370.2066,-152.1639\"/>\n<polygon fill=\"#000000\" stroke=\"#000000\" points=\"5371.6136,-155.3694 5379.4982,-148.2924 5368.9213,-148.9078 5371.6136,-155.3694\"/>\n</g>\n<!-- 81 -->\n<g id=\"node82\" class=\"node\">\n<title>81</title>\n<path fill=\"#39e581\" stroke=\"#000000\" d=\"M5220.5,-53C5220.5,-53 5121.5,-53 5121.5,-53 5115.5,-53 5109.5,-47 5109.5,-41 5109.5,-41 5109.5,-12 5109.5,-12 5109.5,-6 5115.5,0 5121.5,0 5121.5,0 5220.5,0 5220.5,0 5226.5,0 5232.5,-6 5232.5,-12 5232.5,-12 5232.5,-41 5232.5,-41 5232.5,-47 5226.5,-53 5220.5,-53\"/>\n<text text-anchor=\"start\" x=\"5141.5\" y=\"-37.8\" font-family=\"Helvetica,sans-Serif\" font-size=\"14.00\" fill=\"#000000\">gini = 0.0</text>\n<text text-anchor=\"start\" x=\"5127\" y=\"-22.8\" font-family=\"Helvetica,sans-Serif\" font-size=\"14.00\" fill=\"#000000\">samples = 10</text>\n<text text-anchor=\"start\" x=\"5117.5\" y=\"-7.8\" font-family=\"Helvetica,sans-Serif\" font-size=\"14.00\" fill=\"#000000\">value = [0, 10, 0]</text>\n</g>\n<!-- 80&#45;&gt;81 -->\n<g id=\"edge81\" class=\"edge\">\n<title>80&#45;&gt;81</title>\n<path fill=\"none\" stroke=\"#000000\" d=\"M5193.3942,-88.7428C5190.4076,-80.4418 5187.1732,-71.452 5184.1159,-62.9544\"/>\n<polygon fill=\"#000000\" stroke=\"#000000\" points=\"5187.3125,-61.5005 5180.6336,-53.2759 5180.7258,-63.8703 5187.3125,-61.5005\"/>\n</g>\n<!-- 82 -->\n<g id=\"node83\" class=\"node\">\n<title>82</title>\n<path fill=\"#e58139\" stroke=\"#000000\" d=\"M5353.5,-53C5353.5,-53 5262.5,-53 5262.5,-53 5256.5,-53 5250.5,-47 5250.5,-41 5250.5,-41 5250.5,-12 5250.5,-12 5250.5,-6 5256.5,0 5262.5,0 5262.5,0 5353.5,0 5353.5,0 5359.5,0 5365.5,-6 5365.5,-12 5365.5,-12 5365.5,-41 5365.5,-41 5365.5,-47 5359.5,-53 5353.5,-53\"/>\n<text text-anchor=\"start\" x=\"5278.5\" y=\"-37.8\" font-family=\"Helvetica,sans-Serif\" font-size=\"14.00\" fill=\"#000000\">gini = 0.0</text>\n<text text-anchor=\"start\" x=\"5268.5\" y=\"-22.8\" font-family=\"Helvetica,sans-Serif\" font-size=\"14.00\" fill=\"#000000\">samples = 1</text>\n<text text-anchor=\"start\" x=\"5258.5\" y=\"-7.8\" font-family=\"Helvetica,sans-Serif\" font-size=\"14.00\" fill=\"#000000\">value = [1, 0, 0]</text>\n</g>\n<!-- 80&#45;&gt;82 -->\n<g id=\"edge82\" class=\"edge\">\n<title>80&#45;&gt;82</title>\n<path fill=\"none\" stroke=\"#000000\" d=\"M5240.1587,-88.7428C5250.1898,-79.5395 5261.1436,-69.4896 5271.2661,-60.2025\"/>\n<polygon fill=\"#000000\" stroke=\"#000000\" points=\"5273.8133,-62.6154 5278.8157,-53.2759 5269.0809,-57.4574 5273.8133,-62.6154\"/>\n</g>\n<!-- 84 -->\n<g id=\"node85\" class=\"node\">\n<title>84</title>\n<path fill=\"#39e581\" fill-opacity=\"0.819608\" stroke=\"#000000\" d=\"M5494.5,-53C5494.5,-53 5395.5,-53 5395.5,-53 5389.5,-53 5383.5,-47 5383.5,-41 5383.5,-41 5383.5,-12 5383.5,-12 5383.5,-6 5389.5,0 5395.5,0 5395.5,0 5494.5,0 5494.5,0 5500.5,0 5506.5,-6 5506.5,-12 5506.5,-12 5506.5,-41 5506.5,-41 5506.5,-47 5500.5,-53 5494.5,-53\"/>\n<text text-anchor=\"start\" x=\"5411.5\" y=\"-37.8\" font-family=\"Helvetica,sans-Serif\" font-size=\"14.00\" fill=\"#000000\">gini = 0.26</text>\n<text text-anchor=\"start\" x=\"5401\" y=\"-22.8\" font-family=\"Helvetica,sans-Serif\" font-size=\"14.00\" fill=\"#000000\">samples = 52</text>\n<text text-anchor=\"start\" x=\"5391.5\" y=\"-7.8\" font-family=\"Helvetica,sans-Serif\" font-size=\"14.00\" fill=\"#000000\">value = [8, 44, 0]</text>\n</g>\n<!-- 83&#45;&gt;84 -->\n<g id=\"edge84\" class=\"edge\">\n<title>83&#45;&gt;84</title>\n<path fill=\"none\" stroke=\"#000000\" d=\"M5445,-88.7428C5445,-80.6222 5445,-71.8426 5445,-63.5093\"/>\n<polygon fill=\"#000000\" stroke=\"#000000\" points=\"5448.5001,-63.2758 5445,-53.2759 5441.5001,-63.2759 5448.5001,-63.2758\"/>\n</g>\n<!-- 85 -->\n<g id=\"node86\" class=\"node\">\n<title>85</title>\n<path fill=\"#e58139\" fill-opacity=\"0.070588\" stroke=\"#000000\" d=\"M5643.5,-53C5643.5,-53 5536.5,-53 5536.5,-53 5530.5,-53 5524.5,-47 5524.5,-41 5524.5,-41 5524.5,-12 5524.5,-12 5524.5,-6 5530.5,0 5536.5,0 5536.5,0 5643.5,0 5643.5,0 5649.5,0 5655.5,-6 5655.5,-12 5655.5,-12 5655.5,-41 5655.5,-41 5655.5,-47 5649.5,-53 5643.5,-53\"/>\n<text text-anchor=\"start\" x=\"5556.5\" y=\"-37.8\" font-family=\"Helvetica,sans-Serif\" font-size=\"14.00\" fill=\"#000000\">gini = 0.57</text>\n<text text-anchor=\"start\" x=\"5546\" y=\"-22.8\" font-family=\"Helvetica,sans-Serif\" font-size=\"14.00\" fill=\"#000000\">samples = 25</text>\n<text text-anchor=\"start\" x=\"5532.5\" y=\"-7.8\" font-family=\"Helvetica,sans-Serif\" font-size=\"14.00\" fill=\"#000000\">value = [12, 11, 2]</text>\n</g>\n<!-- 83&#45;&gt;85 -->\n<g id=\"edge85\" class=\"edge\">\n<title>83&#45;&gt;85</title>\n<path fill=\"none\" stroke=\"#000000\" d=\"M5494.4952,-88.7428C5509.3089,-79.0883 5525.5521,-68.5023 5540.3741,-58.8424\"/>\n<polygon fill=\"#000000\" stroke=\"#000000\" points=\"5542.4485,-61.6682 5548.9153,-53.2759 5538.6265,-55.8037 5542.4485,-61.6682\"/>\n</g>\n<!-- 87 -->\n<g id=\"node88\" class=\"node\">\n<title>87</title>\n<path fill=\"#39e581\" fill-opacity=\"0.043137\" stroke=\"#000000\" d=\"M6237,-353C6237,-353 6097,-353 6097,-353 6091,-353 6085,-347 6085,-341 6085,-341 6085,-301 6085,-301 6085,-295 6091,-289 6097,-289 6097,-289 6237,-289 6237,-289 6243,-289 6249,-295 6249,-301 6249,-301 6249,-341 6249,-341 6249,-347 6243,-353 6237,-353\"/>\n<text text-anchor=\"start\" x=\"6120\" y=\"-338.8\" font-family=\"Helvetica,sans-Serif\" font-size=\"14.00\" fill=\"#000000\">X</text>\n<text text-anchor=\"start\" x=\"6130\" y=\"-338.8\" font-family=\"Helvetica,sans-Serif\" baseline-shift=\"sub\" font-size=\"14.00\" fill=\"#000000\">4</text>\n<text text-anchor=\"start\" x=\"6137\" y=\"-338.8\" font-family=\"Helvetica,sans-Serif\" font-size=\"14.00\" fill=\"#000000\"> ≤ 103134.5</text>\n<text text-anchor=\"start\" x=\"6129\" y=\"-324.8\" font-family=\"Helvetica,sans-Serif\" font-size=\"14.00\" fill=\"#000000\">gini = 0.652</text>\n<text text-anchor=\"start\" x=\"6115\" y=\"-310.8\" font-family=\"Helvetica,sans-Serif\" font-size=\"14.00\" fill=\"#000000\">samples = 1008</text>\n<text text-anchor=\"start\" x=\"6093\" y=\"-296.8\" font-family=\"Helvetica,sans-Serif\" font-size=\"14.00\" fill=\"#000000\">value = [371, 399, 238]</text>\n</g>\n<!-- 86&#45;&gt;87 -->\n<g id=\"edge87\" class=\"edge\">\n<title>86&#45;&gt;87</title>\n<path fill=\"none\" stroke=\"#000000\" d=\"M6167,-388.8089C6167,-380.6906 6167,-371.8517 6167,-363.3186\"/>\n<polygon fill=\"#000000\" stroke=\"#000000\" points=\"6170.5001,-363.1307 6167,-353.1308 6163.5001,-363.1308 6170.5001,-363.1307\"/>\n</g>\n<!-- 96 -->\n<g id=\"node97\" class=\"node\">\n<title>96</title>\n<path fill=\"#8139e5\" fill-opacity=\"0.215686\" stroke=\"#000000\" d=\"M6431.5,-353C6431.5,-353 6324.5,-353 6324.5,-353 6318.5,-353 6312.5,-347 6312.5,-341 6312.5,-341 6312.5,-301 6312.5,-301 6312.5,-295 6318.5,-289 6324.5,-289 6324.5,-289 6431.5,-289 6431.5,-289 6437.5,-289 6443.5,-295 6443.5,-301 6443.5,-301 6443.5,-341 6443.5,-341 6443.5,-347 6437.5,-353 6431.5,-353\"/>\n<text text-anchor=\"start\" x=\"6335\" y=\"-338.8\" font-family=\"Helvetica,sans-Serif\" font-size=\"14.00\" fill=\"#000000\">X</text>\n<text text-anchor=\"start\" x=\"6345\" y=\"-338.8\" font-family=\"Helvetica,sans-Serif\" baseline-shift=\"sub\" font-size=\"14.00\" fill=\"#000000\">0</text>\n<text text-anchor=\"start\" x=\"6352\" y=\"-338.8\" font-family=\"Helvetica,sans-Serif\" font-size=\"14.00\" fill=\"#000000\"> ≤ 48032.0</text>\n<text text-anchor=\"start\" x=\"6340\" y=\"-324.8\" font-family=\"Helvetica,sans-Serif\" font-size=\"14.00\" fill=\"#000000\">gini = 0.617</text>\n<text text-anchor=\"start\" x=\"6334\" y=\"-310.8\" font-family=\"Helvetica,sans-Serif\" font-size=\"14.00\" fill=\"#000000\">samples = 35</text>\n<text text-anchor=\"start\" x=\"6320.5\" y=\"-296.8\" font-family=\"Helvetica,sans-Serif\" font-size=\"14.00\" fill=\"#000000\">value = [12, 6, 17]</text>\n</g>\n<!-- 86&#45;&gt;96 -->\n<g id=\"edge96\" class=\"edge\">\n<title>86&#45;&gt;96</title>\n<path fill=\"none\" stroke=\"#000000\" d=\"M6234.6324,-388.9467C6256.4568,-378.6034 6280.7739,-367.0787 6303.0917,-356.5016\"/>\n<polygon fill=\"#000000\" stroke=\"#000000\" points=\"6304.6533,-359.6347 6312.1908,-352.1892 6301.6553,-353.3092 6304.6533,-359.6347\"/>\n</g>\n<!-- 88 -->\n<g id=\"node89\" class=\"node\">\n<title>88</title>\n<path fill=\"#39e581\" fill-opacity=\"0.403922\" stroke=\"#000000\" d=\"M6079,-253C6079,-253 5955,-253 5955,-253 5949,-253 5943,-247 5943,-241 5943,-241 5943,-201 5943,-201 5943,-195 5949,-189 5955,-189 5955,-189 6079,-189 6079,-189 6085,-189 6091,-195 6091,-201 6091,-201 6091,-241 6091,-241 6091,-247 6085,-253 6079,-253\"/>\n<text text-anchor=\"start\" x=\"5990.5\" y=\"-238.8\" font-family=\"Helvetica,sans-Serif\" font-size=\"14.00\" fill=\"#000000\">X</text>\n<text text-anchor=\"start\" x=\"6000.5\" y=\"-238.8\" font-family=\"Helvetica,sans-Serif\" baseline-shift=\"sub\" font-size=\"14.00\" fill=\"#000000\">5</text>\n<text text-anchor=\"start\" x=\"6007.5\" y=\"-238.8\" font-family=\"Helvetica,sans-Serif\" font-size=\"14.00\" fill=\"#000000\"> ≤ 3.5</text>\n<text text-anchor=\"start\" x=\"5979\" y=\"-224.8\" font-family=\"Helvetica,sans-Serif\" font-size=\"14.00\" fill=\"#000000\">gini = 0.468</text>\n<text text-anchor=\"start\" x=\"5969\" y=\"-210.8\" font-family=\"Helvetica,sans-Serif\" font-size=\"14.00\" fill=\"#000000\">samples = 637</text>\n<text text-anchor=\"start\" x=\"5951\" y=\"-196.8\" font-family=\"Helvetica,sans-Serif\" font-size=\"14.00\" fill=\"#000000\">value = [0, 399, 238]</text>\n</g>\n<!-- 87&#45;&gt;88 -->\n<g id=\"edge88\" class=\"edge\">\n<title>87&#45;&gt;88</title>\n<path fill=\"none\" stroke=\"#000000\" d=\"M6118.7134,-288.8089C6104.3948,-279.2632 6088.5819,-268.7213 6073.7774,-258.8516\"/>\n<polygon fill=\"#000000\" stroke=\"#000000\" points=\"6075.4581,-255.7656 6065.1961,-253.1308 6071.5752,-261.59 6075.4581,-255.7656\"/>\n</g>\n<!-- 95 -->\n<g id=\"node96\" class=\"node\">\n<title>95</title>\n<path fill=\"#e58139\" stroke=\"#000000\" d=\"M6228.5,-247.5C6228.5,-247.5 6121.5,-247.5 6121.5,-247.5 6115.5,-247.5 6109.5,-241.5 6109.5,-235.5 6109.5,-235.5 6109.5,-206.5 6109.5,-206.5 6109.5,-200.5 6115.5,-194.5 6121.5,-194.5 6121.5,-194.5 6228.5,-194.5 6228.5,-194.5 6234.5,-194.5 6240.5,-200.5 6240.5,-206.5 6240.5,-206.5 6240.5,-235.5 6240.5,-235.5 6240.5,-241.5 6234.5,-247.5 6228.5,-247.5\"/>\n<text text-anchor=\"start\" x=\"6145.5\" y=\"-232.3\" font-family=\"Helvetica,sans-Serif\" font-size=\"14.00\" fill=\"#000000\">gini = 0.0</text>\n<text text-anchor=\"start\" x=\"6127\" y=\"-217.3\" font-family=\"Helvetica,sans-Serif\" font-size=\"14.00\" fill=\"#000000\">samples = 371</text>\n<text text-anchor=\"start\" x=\"6117.5\" y=\"-202.3\" font-family=\"Helvetica,sans-Serif\" font-size=\"14.00\" fill=\"#000000\">value = [371, 0, 0]</text>\n</g>\n<!-- 87&#45;&gt;95 -->\n<g id=\"edge95\" class=\"edge\">\n<title>87&#45;&gt;95</title>\n<path fill=\"none\" stroke=\"#000000\" d=\"M6169.5753,-288.8089C6170.3618,-278.9777 6171.2328,-268.0898 6172.0426,-257.9679\"/>\n<polygon fill=\"#000000\" stroke=\"#000000\" points=\"6175.5494,-258.0208 6172.8581,-247.7735 6168.5717,-257.4625 6175.5494,-258.0208\"/>\n</g>\n<!-- 89 -->\n<g id=\"node90\" class=\"node\">\n<title>89</title>\n<path fill=\"#39e581\" fill-opacity=\"0.258824\" stroke=\"#000000\" d=\"M5968,-153C5968,-153 5844,-153 5844,-153 5838,-153 5832,-147 5832,-141 5832,-141 5832,-101 5832,-101 5832,-95 5838,-89 5844,-89 5844,-89 5968,-89 5968,-89 5974,-89 5980,-95 5980,-101 5980,-101 5980,-141 5980,-141 5980,-147 5974,-153 5968,-153\"/>\n<text text-anchor=\"start\" x=\"5867\" y=\"-138.8\" font-family=\"Helvetica,sans-Serif\" font-size=\"14.00\" fill=\"#000000\">X</text>\n<text text-anchor=\"start\" x=\"5877\" y=\"-138.8\" font-family=\"Helvetica,sans-Serif\" baseline-shift=\"sub\" font-size=\"14.00\" fill=\"#000000\">1</text>\n<text text-anchor=\"start\" x=\"5884\" y=\"-138.8\" font-family=\"Helvetica,sans-Serif\" font-size=\"14.00\" fill=\"#000000\"> ≤ 37.787</text>\n<text text-anchor=\"start\" x=\"5868\" y=\"-124.8\" font-family=\"Helvetica,sans-Serif\" font-size=\"14.00\" fill=\"#000000\">gini = 0.489</text>\n<text text-anchor=\"start\" x=\"5858\" y=\"-110.8\" font-family=\"Helvetica,sans-Serif\" font-size=\"14.00\" fill=\"#000000\">samples = 547</text>\n<text text-anchor=\"start\" x=\"5840\" y=\"-96.8\" font-family=\"Helvetica,sans-Serif\" font-size=\"14.00\" fill=\"#000000\">value = [0, 314, 233]</text>\n</g>\n<!-- 88&#45;&gt;89 -->\n<g id=\"edge89\" class=\"edge\">\n<title>88&#45;&gt;89</title>\n<path fill=\"none\" stroke=\"#000000\" d=\"M5981.2679,-188.8089C5971.0682,-179.62 5959.8439,-169.508 5949.2469,-159.9612\"/>\n<polygon fill=\"#000000\" stroke=\"#000000\" points=\"5951.4375,-157.2238 5941.6651,-153.1308 5946.7521,-162.4245 5951.4375,-157.2238\"/>\n</g>\n<!-- 92 -->\n<g id=\"node93\" class=\"node\">\n<title>92</title>\n<path fill=\"#39e581\" fill-opacity=\"0.941176\" stroke=\"#000000\" d=\"M6109.5,-153C6109.5,-153 6010.5,-153 6010.5,-153 6004.5,-153 5998.5,-147 5998.5,-141 5998.5,-141 5998.5,-101 5998.5,-101 5998.5,-95 6004.5,-89 6010.5,-89 6010.5,-89 6109.5,-89 6109.5,-89 6115.5,-89 6121.5,-95 6121.5,-101 6121.5,-101 6121.5,-141 6121.5,-141 6121.5,-147 6115.5,-153 6109.5,-153\"/>\n<text text-anchor=\"start\" x=\"6013\" y=\"-138.8\" font-family=\"Helvetica,sans-Serif\" font-size=\"14.00\" fill=\"#000000\">X</text>\n<text text-anchor=\"start\" x=\"6023\" y=\"-138.8\" font-family=\"Helvetica,sans-Serif\" baseline-shift=\"sub\" font-size=\"14.00\" fill=\"#000000\">4</text>\n<text text-anchor=\"start\" x=\"6030\" y=\"-138.8\" font-family=\"Helvetica,sans-Serif\" font-size=\"14.00\" fill=\"#000000\"> ≤ 103115.5</text>\n<text text-anchor=\"start\" x=\"6022\" y=\"-124.8\" font-family=\"Helvetica,sans-Serif\" font-size=\"14.00\" fill=\"#000000\">gini = 0.105</text>\n<text text-anchor=\"start\" x=\"6016\" y=\"-110.8\" font-family=\"Helvetica,sans-Serif\" font-size=\"14.00\" fill=\"#000000\">samples = 90</text>\n<text text-anchor=\"start\" x=\"6006.5\" y=\"-96.8\" font-family=\"Helvetica,sans-Serif\" font-size=\"14.00\" fill=\"#000000\">value = [0, 85, 5]</text>\n</g>\n<!-- 88&#45;&gt;92 -->\n<g id=\"edge92\" class=\"edge\">\n<title>88&#45;&gt;92</title>\n<path fill=\"none\" stroke=\"#000000\" d=\"M6030.8422,-188.8089C6034.4481,-180.4229 6038.3847,-171.2681 6042.1654,-162.4757\"/>\n<polygon fill=\"#000000\" stroke=\"#000000\" points=\"6045.4488,-163.7001 6046.1838,-153.1308 6039.0181,-160.9348 6045.4488,-163.7001\"/>\n</g>\n<!-- 90 -->\n<g id=\"node91\" class=\"node\">\n<title>90</title>\n<path fill=\"#39e581\" fill-opacity=\"0.160784\" stroke=\"#000000\" d=\"M5810,-53C5810,-53 5686,-53 5686,-53 5680,-53 5674,-47 5674,-41 5674,-41 5674,-12 5674,-12 5674,-6 5680,0 5686,0 5686,0 5810,0 5810,0 5816,0 5822,-6 5822,-12 5822,-12 5822,-41 5822,-41 5822,-47 5816,-53 5810,-53\"/>\n<text text-anchor=\"start\" x=\"5710\" y=\"-37.8\" font-family=\"Helvetica,sans-Serif\" font-size=\"14.00\" fill=\"#000000\">gini = 0.496</text>\n<text text-anchor=\"start\" x=\"5700\" y=\"-22.8\" font-family=\"Helvetica,sans-Serif\" font-size=\"14.00\" fill=\"#000000\">samples = 342</text>\n<text text-anchor=\"start\" x=\"5682\" y=\"-7.8\" font-family=\"Helvetica,sans-Serif\" font-size=\"14.00\" fill=\"#000000\">value = [0, 186, 156]</text>\n</g>\n<!-- 89&#45;&gt;90 -->\n<g id=\"edge90\" class=\"edge\">\n<title>89&#45;&gt;90</title>\n<path fill=\"none\" stroke=\"#000000\" d=\"M5852.0673,-88.7428C5835.6992,-78.953 5817.7295,-68.2053 5801.3968,-58.4367\"/>\n<polygon fill=\"#000000\" stroke=\"#000000\" points=\"5802.8907,-55.252 5792.5121,-53.1227 5799.2976,-61.2595 5802.8907,-55.252\"/>\n</g>\n<!-- 91 -->\n<g id=\"node92\" class=\"node\">\n<title>91</title>\n<path fill=\"#39e581\" fill-opacity=\"0.400000\" stroke=\"#000000\" d=\"M5968,-53C5968,-53 5852,-53 5852,-53 5846,-53 5840,-47 5840,-41 5840,-41 5840,-12 5840,-12 5840,-6 5846,0 5852,0 5852,0 5968,0 5968,0 5974,0 5980,-6 5980,-12 5980,-12 5980,-41 5980,-41 5980,-47 5974,-53 5968,-53\"/>\n<text text-anchor=\"start\" x=\"5872\" y=\"-37.8\" font-family=\"Helvetica,sans-Serif\" font-size=\"14.00\" fill=\"#000000\">gini = 0.469</text>\n<text text-anchor=\"start\" x=\"5862\" y=\"-22.8\" font-family=\"Helvetica,sans-Serif\" font-size=\"14.00\" fill=\"#000000\">samples = 205</text>\n<text text-anchor=\"start\" x=\"5848\" y=\"-7.8\" font-family=\"Helvetica,sans-Serif\" font-size=\"14.00\" fill=\"#000000\">value = [0, 128, 77]</text>\n</g>\n<!-- 89&#45;&gt;91 -->\n<g id=\"edge91\" class=\"edge\">\n<title>89&#45;&gt;91</title>\n<path fill=\"none\" stroke=\"#000000\" d=\"M5907.3654,-88.7428C5907.7091,-80.6222 5908.0807,-71.8426 5908.4335,-63.5093\"/>\n<polygon fill=\"#000000\" stroke=\"#000000\" points=\"5911.9405,-63.415 5908.8666,-53.2759 5904.9468,-63.1189 5911.9405,-63.415\"/>\n</g>\n<!-- 93 -->\n<g id=\"node94\" class=\"node\">\n<title>93</title>\n<path fill=\"#8139e5\" stroke=\"#000000\" d=\"M6101.5,-53C6101.5,-53 6010.5,-53 6010.5,-53 6004.5,-53 5998.5,-47 5998.5,-41 5998.5,-41 5998.5,-12 5998.5,-12 5998.5,-6 6004.5,0 6010.5,0 6010.5,0 6101.5,0 6101.5,0 6107.5,0 6113.5,-6 6113.5,-12 6113.5,-12 6113.5,-41 6113.5,-41 6113.5,-47 6107.5,-53 6101.5,-53\"/>\n<text text-anchor=\"start\" x=\"6026.5\" y=\"-37.8\" font-family=\"Helvetica,sans-Serif\" font-size=\"14.00\" fill=\"#000000\">gini = 0.0</text>\n<text text-anchor=\"start\" x=\"6016.5\" y=\"-22.8\" font-family=\"Helvetica,sans-Serif\" font-size=\"14.00\" fill=\"#000000\">samples = 5</text>\n<text text-anchor=\"start\" x=\"6006.5\" y=\"-7.8\" font-family=\"Helvetica,sans-Serif\" font-size=\"14.00\" fill=\"#000000\">value = [0, 0, 5]</text>\n</g>\n<!-- 92&#45;&gt;93 -->\n<g id=\"edge93\" class=\"edge\">\n<title>92&#45;&gt;93</title>\n<path fill=\"none\" stroke=\"#000000\" d=\"M6058.6346,-88.7428C6058.2909,-80.6222 6057.9193,-71.8426 6057.5665,-63.5093\"/>\n<polygon fill=\"#000000\" stroke=\"#000000\" points=\"6061.0532,-63.1189 6057.1334,-53.2759 6054.0595,-63.415 6061.0532,-63.1189\"/>\n</g>\n<!-- 94 -->\n<g id=\"node95\" class=\"node\">\n<title>94</title>\n<path fill=\"#39e581\" stroke=\"#000000\" d=\"M6242.5,-53C6242.5,-53 6143.5,-53 6143.5,-53 6137.5,-53 6131.5,-47 6131.5,-41 6131.5,-41 6131.5,-12 6131.5,-12 6131.5,-6 6137.5,0 6143.5,0 6143.5,0 6242.5,0 6242.5,0 6248.5,0 6254.5,-6 6254.5,-12 6254.5,-12 6254.5,-41 6254.5,-41 6254.5,-47 6248.5,-53 6242.5,-53\"/>\n<text text-anchor=\"start\" x=\"6163.5\" y=\"-37.8\" font-family=\"Helvetica,sans-Serif\" font-size=\"14.00\" fill=\"#000000\">gini = 0.0</text>\n<text text-anchor=\"start\" x=\"6149\" y=\"-22.8\" font-family=\"Helvetica,sans-Serif\" font-size=\"14.00\" fill=\"#000000\">samples = 85</text>\n<text text-anchor=\"start\" x=\"6139.5\" y=\"-7.8\" font-family=\"Helvetica,sans-Serif\" font-size=\"14.00\" fill=\"#000000\">value = [0, 85, 0]</text>\n</g>\n<!-- 92&#45;&gt;94 -->\n<g id=\"edge94\" class=\"edge\">\n<title>92&#45;&gt;94</title>\n<path fill=\"none\" stroke=\"#000000\" d=\"M6105.3991,-88.7428C6118.8598,-79.1786 6133.6073,-68.7001 6147.0996,-59.1135\"/>\n<polygon fill=\"#000000\" stroke=\"#000000\" points=\"6149.1909,-61.9211 6155.3154,-53.2759 6145.1364,-56.2148 6149.1909,-61.9211\"/>\n</g>\n<!-- 97 -->\n<g id=\"node98\" class=\"node\">\n<title>97</title>\n<path fill=\"#e58139\" fill-opacity=\"0.058824\" stroke=\"#000000\" d=\"M6431.5,-253C6431.5,-253 6324.5,-253 6324.5,-253 6318.5,-253 6312.5,-247 6312.5,-241 6312.5,-241 6312.5,-201 6312.5,-201 6312.5,-195 6318.5,-189 6324.5,-189 6324.5,-189 6431.5,-189 6431.5,-189 6437.5,-189 6443.5,-195 6443.5,-201 6443.5,-201 6443.5,-241 6443.5,-241 6443.5,-247 6437.5,-253 6431.5,-253\"/>\n<text text-anchor=\"start\" x=\"6351.5\" y=\"-238.8\" font-family=\"Helvetica,sans-Serif\" font-size=\"14.00\" fill=\"#000000\">X</text>\n<text text-anchor=\"start\" x=\"6361.5\" y=\"-238.8\" font-family=\"Helvetica,sans-Serif\" baseline-shift=\"sub\" font-size=\"14.00\" fill=\"#000000\">5</text>\n<text text-anchor=\"start\" x=\"6368.5\" y=\"-238.8\" font-family=\"Helvetica,sans-Serif\" font-size=\"14.00\" fill=\"#000000\"> ≤ 3.5</text>\n<text text-anchor=\"start\" x=\"6344.5\" y=\"-224.8\" font-family=\"Helvetica,sans-Serif\" font-size=\"14.00\" fill=\"#000000\">gini = 0.63</text>\n<text text-anchor=\"start\" x=\"6334\" y=\"-210.8\" font-family=\"Helvetica,sans-Serif\" font-size=\"14.00\" fill=\"#000000\">samples = 28</text>\n<text text-anchor=\"start\" x=\"6320.5\" y=\"-196.8\" font-family=\"Helvetica,sans-Serif\" font-size=\"14.00\" fill=\"#000000\">value = [12, 5, 11]</text>\n</g>\n<!-- 96&#45;&gt;97 -->\n<g id=\"edge97\" class=\"edge\">\n<title>96&#45;&gt;97</title>\n<path fill=\"none\" stroke=\"#000000\" d=\"M6378,-288.8089C6378,-280.6906 6378,-271.8517 6378,-263.3186\"/>\n<polygon fill=\"#000000\" stroke=\"#000000\" points=\"6381.5001,-263.1307 6378,-253.1308 6374.5001,-263.1308 6381.5001,-263.1307\"/>\n</g>\n<!-- 102 -->\n<g id=\"node103\" class=\"node\">\n<title>102</title>\n<path fill=\"#8139e5\" fill-opacity=\"0.831373\" stroke=\"#000000\" d=\"M6657.5,-253C6657.5,-253 6566.5,-253 6566.5,-253 6560.5,-253 6554.5,-247 6554.5,-241 6554.5,-241 6554.5,-201 6554.5,-201 6554.5,-195 6560.5,-189 6566.5,-189 6566.5,-189 6657.5,-189 6657.5,-189 6663.5,-189 6669.5,-195 6669.5,-201 6669.5,-201 6669.5,-241 6669.5,-241 6669.5,-247 6663.5,-253 6657.5,-253\"/>\n<text text-anchor=\"start\" x=\"6581.5\" y=\"-238.8\" font-family=\"Helvetica,sans-Serif\" font-size=\"14.00\" fill=\"#000000\">X</text>\n<text text-anchor=\"start\" x=\"6591.5\" y=\"-238.8\" font-family=\"Helvetica,sans-Serif\" baseline-shift=\"sub\" font-size=\"14.00\" fill=\"#000000\">6</text>\n<text text-anchor=\"start\" x=\"6598.5\" y=\"-238.8\" font-family=\"Helvetica,sans-Serif\" font-size=\"14.00\" fill=\"#000000\"> ≤ 21.0</text>\n<text text-anchor=\"start\" x=\"6574\" y=\"-224.8\" font-family=\"Helvetica,sans-Serif\" font-size=\"14.00\" fill=\"#000000\">gini = 0.245</text>\n<text text-anchor=\"start\" x=\"6572.5\" y=\"-210.8\" font-family=\"Helvetica,sans-Serif\" font-size=\"14.00\" fill=\"#000000\">samples = 7</text>\n<text text-anchor=\"start\" x=\"6562.5\" y=\"-196.8\" font-family=\"Helvetica,sans-Serif\" font-size=\"14.00\" fill=\"#000000\">value = [0, 1, 6]</text>\n</g>\n<!-- 96&#45;&gt;102 -->\n<g id=\"edge102\" class=\"edge\">\n<title>96&#45;&gt;102</title>\n<path fill=\"none\" stroke=\"#000000\" d=\"M6443.8048,-292.8783C6475.4244,-279.3657 6513.258,-263.1974 6545.0283,-249.6204\"/>\n<polygon fill=\"#000000\" stroke=\"#000000\" points=\"6546.4275,-252.8287 6554.2476,-245.6805 6543.6767,-246.3918 6546.4275,-252.8287\"/>\n</g>\n<!-- 98 -->\n<g id=\"node99\" class=\"node\">\n<title>98</title>\n<path fill=\"transparent\" stroke=\"#000000\" d=\"M6389.5,-153C6389.5,-153 6282.5,-153 6282.5,-153 6276.5,-153 6270.5,-147 6270.5,-141 6270.5,-141 6270.5,-101 6270.5,-101 6270.5,-95 6276.5,-89 6282.5,-89 6282.5,-89 6389.5,-89 6389.5,-89 6395.5,-89 6401.5,-95 6401.5,-101 6401.5,-101 6401.5,-141 6401.5,-141 6401.5,-147 6395.5,-153 6389.5,-153\"/>\n<text text-anchor=\"start\" x=\"6289\" y=\"-138.8\" font-family=\"Helvetica,sans-Serif\" font-size=\"14.00\" fill=\"#000000\">X</text>\n<text text-anchor=\"start\" x=\"6299\" y=\"-138.8\" font-family=\"Helvetica,sans-Serif\" baseline-shift=\"sub\" font-size=\"14.00\" fill=\"#000000\">4</text>\n<text text-anchor=\"start\" x=\"6306\" y=\"-138.8\" font-family=\"Helvetica,sans-Serif\" font-size=\"14.00\" fill=\"#000000\"> ≤ 103117.0</text>\n<text text-anchor=\"start\" x=\"6298\" y=\"-124.8\" font-family=\"Helvetica,sans-Serif\" font-size=\"14.00\" fill=\"#000000\">gini = 0.598</text>\n<text text-anchor=\"start\" x=\"6292\" y=\"-110.8\" font-family=\"Helvetica,sans-Serif\" font-size=\"14.00\" fill=\"#000000\">samples = 25</text>\n<text text-anchor=\"start\" x=\"6278.5\" y=\"-96.8\" font-family=\"Helvetica,sans-Serif\" font-size=\"14.00\" fill=\"#000000\">value = [11, 3, 11]</text>\n</g>\n<!-- 97&#45;&gt;98 -->\n<g id=\"edge98\" class=\"edge\">\n<title>97&#45;&gt;98</title>\n<path fill=\"none\" stroke=\"#000000\" d=\"M6364.4797,-188.8089C6360.9576,-180.4229 6357.1126,-171.2681 6353.4198,-162.4757\"/>\n<polygon fill=\"#000000\" stroke=\"#000000\" points=\"6356.5942,-160.9953 6349.4949,-153.1308 6350.1404,-163.7059 6356.5942,-160.9953\"/>\n</g>\n<!-- 101 -->\n<g id=\"node102\" class=\"node\">\n<title>101</title>\n<path fill=\"#39e581\" fill-opacity=\"0.498039\" stroke=\"#000000\" d=\"M6522.5,-147.5C6522.5,-147.5 6431.5,-147.5 6431.5,-147.5 6425.5,-147.5 6419.5,-141.5 6419.5,-135.5 6419.5,-135.5 6419.5,-106.5 6419.5,-106.5 6419.5,-100.5 6425.5,-94.5 6431.5,-94.5 6431.5,-94.5 6522.5,-94.5 6522.5,-94.5 6528.5,-94.5 6534.5,-100.5 6534.5,-106.5 6534.5,-106.5 6534.5,-135.5 6534.5,-135.5 6534.5,-141.5 6528.5,-147.5 6522.5,-147.5\"/>\n<text text-anchor=\"start\" x=\"6439\" y=\"-132.3\" font-family=\"Helvetica,sans-Serif\" font-size=\"14.00\" fill=\"#000000\">gini = 0.444</text>\n<text text-anchor=\"start\" x=\"6437.5\" y=\"-117.3\" font-family=\"Helvetica,sans-Serif\" font-size=\"14.00\" fill=\"#000000\">samples = 3</text>\n<text text-anchor=\"start\" x=\"6427.5\" y=\"-102.3\" font-family=\"Helvetica,sans-Serif\" font-size=\"14.00\" fill=\"#000000\">value = [1, 2, 0]</text>\n</g>\n<!-- 97&#45;&gt;101 -->\n<g id=\"edge101\" class=\"edge\">\n<title>97&#45;&gt;101</title>\n<path fill=\"none\" stroke=\"#000000\" d=\"M6409.8692,-188.8089C6420.5241,-178.0463 6432.4328,-166.0174 6443.2278,-155.1134\"/>\n<polygon fill=\"#000000\" stroke=\"#000000\" points=\"6445.946,-157.3425 6450.4942,-147.7735 6440.9715,-152.4176 6445.946,-157.3425\"/>\n</g>\n<!-- 99 -->\n<g id=\"node100\" class=\"node\">\n<title>99</title>\n<path fill=\"#8139e5\" stroke=\"#000000\" d=\"M6383.5,-53C6383.5,-53 6284.5,-53 6284.5,-53 6278.5,-53 6272.5,-47 6272.5,-41 6272.5,-41 6272.5,-12 6272.5,-12 6272.5,-6 6278.5,0 6284.5,0 6284.5,0 6383.5,0 6383.5,0 6389.5,0 6395.5,-6 6395.5,-12 6395.5,-12 6395.5,-41 6395.5,-41 6395.5,-47 6389.5,-53 6383.5,-53\"/>\n<text text-anchor=\"start\" x=\"6304.5\" y=\"-37.8\" font-family=\"Helvetica,sans-Serif\" font-size=\"14.00\" fill=\"#000000\">gini = 0.0</text>\n<text text-anchor=\"start\" x=\"6290\" y=\"-22.8\" font-family=\"Helvetica,sans-Serif\" font-size=\"14.00\" fill=\"#000000\">samples = 11</text>\n<text text-anchor=\"start\" x=\"6280.5\" y=\"-7.8\" font-family=\"Helvetica,sans-Serif\" font-size=\"14.00\" fill=\"#000000\">value = [0, 0, 11]</text>\n</g>\n<!-- 98&#45;&gt;99 -->\n<g id=\"edge99\" class=\"edge\">\n<title>98&#45;&gt;99</title>\n<path fill=\"none\" stroke=\"#000000\" d=\"M6335.3173,-88.7428C6335.1454,-80.6222 6334.9596,-71.8426 6334.7833,-63.5093\"/>\n<polygon fill=\"#000000\" stroke=\"#000000\" points=\"6338.2776,-63.1995 6334.5667,-53.2759 6331.2792,-63.3477 6338.2776,-63.1995\"/>\n</g>\n<!-- 100 -->\n<g id=\"node101\" class=\"node\">\n<title>100</title>\n<path fill=\"#e58139\" fill-opacity=\"0.725490\" stroke=\"#000000\" d=\"M6524.5,-53C6524.5,-53 6425.5,-53 6425.5,-53 6419.5,-53 6413.5,-47 6413.5,-41 6413.5,-41 6413.5,-12 6413.5,-12 6413.5,-6 6419.5,0 6425.5,0 6425.5,0 6524.5,0 6524.5,0 6530.5,0 6536.5,-6 6536.5,-12 6536.5,-12 6536.5,-41 6536.5,-41 6536.5,-47 6530.5,-53 6524.5,-53\"/>\n<text text-anchor=\"start\" x=\"6437\" y=\"-37.8\" font-family=\"Helvetica,sans-Serif\" font-size=\"14.00\" fill=\"#000000\">gini = 0.337</text>\n<text text-anchor=\"start\" x=\"6431\" y=\"-22.8\" font-family=\"Helvetica,sans-Serif\" font-size=\"14.00\" fill=\"#000000\">samples = 14</text>\n<text text-anchor=\"start\" x=\"6421.5\" y=\"-7.8\" font-family=\"Helvetica,sans-Serif\" font-size=\"14.00\" fill=\"#000000\">value = [11, 3, 0]</text>\n</g>\n<!-- 98&#45;&gt;100 -->\n<g id=\"edge100\" class=\"edge\">\n<title>98&#45;&gt;100</title>\n<path fill=\"none\" stroke=\"#000000\" d=\"M6383.4471,-88.7428C6397.5151,-79.1786 6412.9279,-68.7001 6427.0289,-59.1135\"/>\n<polygon fill=\"#000000\" stroke=\"#000000\" points=\"6429.3134,-61.7926 6435.6154,-53.2759 6425.3777,-56.0038 6429.3134,-61.7926\"/>\n</g>\n<!-- 103 -->\n<g id=\"node104\" class=\"node\">\n<title>103</title>\n<path fill=\"#8139e5\" fill-opacity=\"0.666667\" stroke=\"#000000\" d=\"M6657.5,-153C6657.5,-153 6566.5,-153 6566.5,-153 6560.5,-153 6554.5,-147 6554.5,-141 6554.5,-141 6554.5,-101 6554.5,-101 6554.5,-95 6560.5,-89 6566.5,-89 6566.5,-89 6657.5,-89 6657.5,-89 6663.5,-89 6669.5,-95 6669.5,-101 6669.5,-101 6669.5,-141 6669.5,-141 6669.5,-147 6663.5,-153 6657.5,-153\"/>\n<text text-anchor=\"start\" x=\"6585.5\" y=\"-138.8\" font-family=\"Helvetica,sans-Serif\" font-size=\"14.00\" fill=\"#000000\">X</text>\n<text text-anchor=\"start\" x=\"6595.5\" y=\"-138.8\" font-family=\"Helvetica,sans-Serif\" baseline-shift=\"sub\" font-size=\"14.00\" fill=\"#000000\">5</text>\n<text text-anchor=\"start\" x=\"6602.5\" y=\"-138.8\" font-family=\"Helvetica,sans-Serif\" font-size=\"14.00\" fill=\"#000000\"> ≤ 2.0</text>\n<text text-anchor=\"start\" x=\"6574\" y=\"-124.8\" font-family=\"Helvetica,sans-Serif\" font-size=\"14.00\" fill=\"#000000\">gini = 0.375</text>\n<text text-anchor=\"start\" x=\"6572.5\" y=\"-110.8\" font-family=\"Helvetica,sans-Serif\" font-size=\"14.00\" fill=\"#000000\">samples = 4</text>\n<text text-anchor=\"start\" x=\"6562.5\" y=\"-96.8\" font-family=\"Helvetica,sans-Serif\" font-size=\"14.00\" fill=\"#000000\">value = [0, 1, 3]</text>\n</g>\n<!-- 102&#45;&gt;103 -->\n<g id=\"edge103\" class=\"edge\">\n<title>102&#45;&gt;103</title>\n<path fill=\"none\" stroke=\"#000000\" d=\"M6612,-188.8089C6612,-180.6906 6612,-171.8517 6612,-163.3186\"/>\n<polygon fill=\"#000000\" stroke=\"#000000\" points=\"6615.5001,-163.1307 6612,-153.1308 6608.5001,-163.1308 6615.5001,-163.1307\"/>\n</g>\n<!-- 106 -->\n<g id=\"node107\" class=\"node\">\n<title>106</title>\n<path fill=\"#8139e5\" stroke=\"#000000\" d=\"M6790.5,-147.5C6790.5,-147.5 6699.5,-147.5 6699.5,-147.5 6693.5,-147.5 6687.5,-141.5 6687.5,-135.5 6687.5,-135.5 6687.5,-106.5 6687.5,-106.5 6687.5,-100.5 6693.5,-94.5 6699.5,-94.5 6699.5,-94.5 6790.5,-94.5 6790.5,-94.5 6796.5,-94.5 6802.5,-100.5 6802.5,-106.5 6802.5,-106.5 6802.5,-135.5 6802.5,-135.5 6802.5,-141.5 6796.5,-147.5 6790.5,-147.5\"/>\n<text text-anchor=\"start\" x=\"6715.5\" y=\"-132.3\" font-family=\"Helvetica,sans-Serif\" font-size=\"14.00\" fill=\"#000000\">gini = 0.0</text>\n<text text-anchor=\"start\" x=\"6705.5\" y=\"-117.3\" font-family=\"Helvetica,sans-Serif\" font-size=\"14.00\" fill=\"#000000\">samples = 3</text>\n<text text-anchor=\"start\" x=\"6695.5\" y=\"-102.3\" font-family=\"Helvetica,sans-Serif\" font-size=\"14.00\" fill=\"#000000\">value = [0, 0, 3]</text>\n</g>\n<!-- 102&#45;&gt;106 -->\n<g id=\"edge106\" class=\"edge\">\n<title>102&#45;&gt;106</title>\n<path fill=\"none\" stroke=\"#000000\" d=\"M6654.8141,-188.8089C6669.6789,-177.6324 6686.36,-165.0902 6701.2958,-153.8603\"/>\n<polygon fill=\"#000000\" stroke=\"#000000\" points=\"6703.5018,-156.5807 6709.3912,-147.7735 6699.295,-150.9857 6703.5018,-156.5807\"/>\n</g>\n<!-- 104 -->\n<g id=\"node105\" class=\"node\">\n<title>104</title>\n<path fill=\"#8139e5\" fill-opacity=\"0.498039\" stroke=\"#000000\" d=\"M6657.5,-53C6657.5,-53 6566.5,-53 6566.5,-53 6560.5,-53 6554.5,-47 6554.5,-41 6554.5,-41 6554.5,-12 6554.5,-12 6554.5,-6 6560.5,0 6566.5,0 6566.5,0 6657.5,0 6657.5,0 6663.5,0 6669.5,-6 6669.5,-12 6669.5,-12 6669.5,-41 6669.5,-41 6669.5,-47 6663.5,-53 6657.5,-53\"/>\n<text text-anchor=\"start\" x=\"6574\" y=\"-37.8\" font-family=\"Helvetica,sans-Serif\" font-size=\"14.00\" fill=\"#000000\">gini = 0.444</text>\n<text text-anchor=\"start\" x=\"6572.5\" y=\"-22.8\" font-family=\"Helvetica,sans-Serif\" font-size=\"14.00\" fill=\"#000000\">samples = 3</text>\n<text text-anchor=\"start\" x=\"6562.5\" y=\"-7.8\" font-family=\"Helvetica,sans-Serif\" font-size=\"14.00\" fill=\"#000000\">value = [0, 1, 2]</text>\n</g>\n<!-- 103&#45;&gt;104 -->\n<g id=\"edge104\" class=\"edge\">\n<title>103&#45;&gt;104</title>\n<path fill=\"none\" stroke=\"#000000\" d=\"M6612,-88.7428C6612,-80.6222 6612,-71.8426 6612,-63.5093\"/>\n<polygon fill=\"#000000\" stroke=\"#000000\" points=\"6615.5001,-63.2758 6612,-53.2759 6608.5001,-63.2759 6615.5001,-63.2758\"/>\n</g>\n<!-- 105 -->\n<g id=\"node106\" class=\"node\">\n<title>105</title>\n<path fill=\"#8139e5\" stroke=\"#000000\" d=\"M6790.5,-53C6790.5,-53 6699.5,-53 6699.5,-53 6693.5,-53 6687.5,-47 6687.5,-41 6687.5,-41 6687.5,-12 6687.5,-12 6687.5,-6 6693.5,0 6699.5,0 6699.5,0 6790.5,0 6790.5,0 6796.5,0 6802.5,-6 6802.5,-12 6802.5,-12 6802.5,-41 6802.5,-41 6802.5,-47 6796.5,-53 6790.5,-53\"/>\n<text text-anchor=\"start\" x=\"6715.5\" y=\"-37.8\" font-family=\"Helvetica,sans-Serif\" font-size=\"14.00\" fill=\"#000000\">gini = 0.0</text>\n<text text-anchor=\"start\" x=\"6705.5\" y=\"-22.8\" font-family=\"Helvetica,sans-Serif\" font-size=\"14.00\" fill=\"#000000\">samples = 1</text>\n<text text-anchor=\"start\" x=\"6695.5\" y=\"-7.8\" font-family=\"Helvetica,sans-Serif\" font-size=\"14.00\" fill=\"#000000\">value = [0, 0, 1]</text>\n</g>\n<!-- 103&#45;&gt;105 -->\n<g id=\"edge105\" class=\"edge\">\n<title>103&#45;&gt;105</title>\n<path fill=\"none\" stroke=\"#000000\" d=\"M6657.3991,-88.7428C6670.8598,-79.1786 6685.6073,-68.7001 6699.0996,-59.1135\"/>\n<polygon fill=\"#000000\" stroke=\"#000000\" points=\"6701.1909,-61.9211 6707.3154,-53.2759 6697.1364,-56.2148 6701.1909,-61.9211\"/>\n</g>\n<!-- 108 -->\n<g id=\"node109\" class=\"node\">\n<title>108</title>\n<path fill=\"#e58139\" fill-opacity=\"0.211765\" stroke=\"#000000\" d=\"M8130,-553C8130,-553 7990,-553 7990,-553 7984,-553 7978,-547 7978,-541 7978,-541 7978,-501 7978,-501 7978,-495 7984,-489 7990,-489 7990,-489 8130,-489 8130,-489 8136,-489 8142,-495 8142,-501 8142,-501 8142,-541 8142,-541 8142,-547 8136,-553 8130,-553\"/>\n<text text-anchor=\"start\" x=\"8033.5\" y=\"-538.8\" font-family=\"Helvetica,sans-Serif\" font-size=\"14.00\" fill=\"#000000\">X</text>\n<text text-anchor=\"start\" x=\"8043.5\" y=\"-538.8\" font-family=\"Helvetica,sans-Serif\" baseline-shift=\"sub\" font-size=\"14.00\" fill=\"#000000\">5</text>\n<text text-anchor=\"start\" x=\"8050.5\" y=\"-538.8\" font-family=\"Helvetica,sans-Serif\" font-size=\"14.00\" fill=\"#000000\"> ≤ 2.5</text>\n<text text-anchor=\"start\" x=\"8022\" y=\"-524.8\" font-family=\"Helvetica,sans-Serif\" font-size=\"14.00\" fill=\"#000000\">gini = 0.637</text>\n<text text-anchor=\"start\" x=\"8008\" y=\"-510.8\" font-family=\"Helvetica,sans-Serif\" font-size=\"14.00\" fill=\"#000000\">samples = 1838</text>\n<text text-anchor=\"start\" x=\"7986\" y=\"-496.8\" font-family=\"Helvetica,sans-Serif\" font-size=\"14.00\" fill=\"#000000\">value = [849, 583, 406]</text>\n</g>\n<!-- 107&#45;&gt;108 -->\n<g id=\"edge108\" class=\"edge\">\n<title>107&#45;&gt;108</title>\n<path fill=\"none\" stroke=\"#000000\" d=\"M8165.7819,-588.8089C8150.7514,-579.174 8134.1376,-568.5241 8118.6171,-558.575\"/>\n<polygon fill=\"#000000\" stroke=\"#000000\" points=\"8120.4316,-555.5809 8110.124,-553.1308 8116.6539,-561.474 8120.4316,-555.5809\"/>\n</g>\n<!-- 141 -->\n<g id=\"node142\" class=\"node\">\n<title>141</title>\n<path fill=\"#39e581\" fill-opacity=\"0.152941\" stroke=\"#000000\" d=\"M8419,-553C8419,-553 8287,-553 8287,-553 8281,-553 8275,-547 8275,-541 8275,-541 8275,-501 8275,-501 8275,-495 8281,-489 8287,-489 8287,-489 8419,-489 8419,-489 8425,-489 8431,-495 8431,-501 8431,-501 8431,-541 8431,-541 8431,-547 8425,-553 8419,-553\"/>\n<text text-anchor=\"start\" x=\"8306\" y=\"-538.8\" font-family=\"Helvetica,sans-Serif\" font-size=\"14.00\" fill=\"#000000\">X</text>\n<text text-anchor=\"start\" x=\"8316\" y=\"-538.8\" font-family=\"Helvetica,sans-Serif\" baseline-shift=\"sub\" font-size=\"14.00\" fill=\"#000000\">4</text>\n<text text-anchor=\"start\" x=\"8323\" y=\"-538.8\" font-family=\"Helvetica,sans-Serif\" font-size=\"14.00\" fill=\"#000000\"> ≤ 103136.5</text>\n<text text-anchor=\"start\" x=\"8315\" y=\"-524.8\" font-family=\"Helvetica,sans-Serif\" font-size=\"14.00\" fill=\"#000000\">gini = 0.531</text>\n<text text-anchor=\"start\" x=\"8305\" y=\"-510.8\" font-family=\"Helvetica,sans-Serif\" font-size=\"14.00\" fill=\"#000000\">samples = 324</text>\n<text text-anchor=\"start\" x=\"8283\" y=\"-496.8\" font-family=\"Helvetica,sans-Serif\" font-size=\"14.00\" fill=\"#000000\">value = [142, 170, 12]</text>\n</g>\n<!-- 107&#45;&gt;141 -->\n<g id=\"edge141\" class=\"edge\">\n<title>107&#45;&gt;141</title>\n<path fill=\"none\" stroke=\"#000000\" d=\"M8260.1018,-588.8089C8273.0572,-579.3524 8287.352,-568.9182 8300.764,-559.1285\"/>\n<polygon fill=\"#000000\" stroke=\"#000000\" points=\"8302.9672,-561.8535 8308.9809,-553.1308 8298.8402,-556.1995 8302.9672,-561.8535\"/>\n</g>\n<!-- 109 -->\n<g id=\"node110\" class=\"node\">\n<title>109</title>\n<path fill=\"#e58139\" fill-opacity=\"0.325490\" stroke=\"#000000\" d=\"M7903,-453C7903,-453 7763,-453 7763,-453 7757,-453 7751,-447 7751,-441 7751,-441 7751,-401 7751,-401 7751,-395 7757,-389 7763,-389 7763,-389 7903,-389 7903,-389 7909,-389 7915,-395 7915,-401 7915,-401 7915,-441 7915,-441 7915,-447 7909,-453 7903,-453\"/>\n<text text-anchor=\"start\" x=\"7802.5\" y=\"-438.8\" font-family=\"Helvetica,sans-Serif\" font-size=\"14.00\" fill=\"#000000\">X</text>\n<text text-anchor=\"start\" x=\"7812.5\" y=\"-438.8\" font-family=\"Helvetica,sans-Serif\" baseline-shift=\"sub\" font-size=\"14.00\" fill=\"#000000\">3</text>\n<text text-anchor=\"start\" x=\"7819.5\" y=\"-438.8\" font-family=\"Helvetica,sans-Serif\" font-size=\"14.00\" fill=\"#000000\"> ≤ 82.5</text>\n<text text-anchor=\"start\" x=\"7795\" y=\"-424.8\" font-family=\"Helvetica,sans-Serif\" font-size=\"14.00\" fill=\"#000000\">gini = 0.603</text>\n<text text-anchor=\"start\" x=\"7781\" y=\"-410.8\" font-family=\"Helvetica,sans-Serif\" font-size=\"14.00\" fill=\"#000000\">samples = 1192</text>\n<text text-anchor=\"start\" x=\"7759\" y=\"-396.8\" font-family=\"Helvetica,sans-Serif\" font-size=\"14.00\" fill=\"#000000\">value = [628, 354, 210]</text>\n</g>\n<!-- 108&#45;&gt;109 -->\n<g id=\"edge109\" class=\"edge\">\n<title>108&#45;&gt;109</title>\n<path fill=\"none\" stroke=\"#000000\" d=\"M7987.2391,-488.9467C7964.2279,-478.8096 7938.6407,-467.5377 7915.027,-457.1352\"/>\n<polygon fill=\"#000000\" stroke=\"#000000\" points=\"7916.3007,-453.8718 7905.7383,-453.0433 7913.4786,-460.2778 7916.3007,-453.8718\"/>\n</g>\n<!-- 128 -->\n<g id=\"node129\" class=\"node\">\n<title>128</title>\n<path fill=\"#39e581\" fill-opacity=\"0.019608\" stroke=\"#000000\" d=\"M8130,-453C8130,-453 7990,-453 7990,-453 7984,-453 7978,-447 7978,-441 7978,-441 7978,-401 7978,-401 7978,-395 7984,-389 7990,-389 7990,-389 8130,-389 8130,-389 8136,-389 8142,-395 8142,-401 8142,-401 8142,-441 8142,-441 8142,-447 8136,-453 8130,-453\"/>\n<text text-anchor=\"start\" x=\"8013\" y=\"-438.8\" font-family=\"Helvetica,sans-Serif\" font-size=\"14.00\" fill=\"#000000\">X</text>\n<text text-anchor=\"start\" x=\"8023\" y=\"-438.8\" font-family=\"Helvetica,sans-Serif\" baseline-shift=\"sub\" font-size=\"14.00\" fill=\"#000000\">4</text>\n<text text-anchor=\"start\" x=\"8030\" y=\"-438.8\" font-family=\"Helvetica,sans-Serif\" font-size=\"14.00\" fill=\"#000000\"> ≤ 103133.5</text>\n<text text-anchor=\"start\" x=\"8022\" y=\"-424.8\" font-family=\"Helvetica,sans-Serif\" font-size=\"14.00\" fill=\"#000000\">gini = 0.665</text>\n<text text-anchor=\"start\" x=\"8012\" y=\"-410.8\" font-family=\"Helvetica,sans-Serif\" font-size=\"14.00\" fill=\"#000000\">samples = 646</text>\n<text text-anchor=\"start\" x=\"7986\" y=\"-396.8\" font-family=\"Helvetica,sans-Serif\" font-size=\"14.00\" fill=\"#000000\">value = [221, 229, 196]</text>\n</g>\n<!-- 108&#45;&gt;128 -->\n<g id=\"edge128\" class=\"edge\">\n<title>108&#45;&gt;128</title>\n<path fill=\"none\" stroke=\"#000000\" d=\"M8060,-488.8089C8060,-480.6906 8060,-471.8517 8060,-463.3186\"/>\n<polygon fill=\"#000000\" stroke=\"#000000\" points=\"8063.5001,-463.1307 8060,-453.1308 8056.5001,-463.1308 8063.5001,-463.1307\"/>\n</g>\n<!-- 110 -->\n<g id=\"node111\" class=\"node\">\n<title>110</title>\n<path fill=\"#e58139\" fill-opacity=\"0.239216\" stroke=\"#000000\" d=\"M7573,-353C7573,-353 7433,-353 7433,-353 7427,-353 7421,-347 7421,-341 7421,-341 7421,-301 7421,-301 7421,-295 7427,-289 7433,-289 7433,-289 7573,-289 7573,-289 7579,-289 7585,-295 7585,-301 7585,-301 7585,-341 7585,-341 7585,-347 7579,-353 7573,-353\"/>\n<text text-anchor=\"start\" x=\"7456\" y=\"-338.8\" font-family=\"Helvetica,sans-Serif\" font-size=\"14.00\" fill=\"#000000\">X</text>\n<text text-anchor=\"start\" x=\"7466\" y=\"-338.8\" font-family=\"Helvetica,sans-Serif\" baseline-shift=\"sub\" font-size=\"14.00\" fill=\"#000000\">4</text>\n<text text-anchor=\"start\" x=\"7473\" y=\"-338.8\" font-family=\"Helvetica,sans-Serif\" font-size=\"14.00\" fill=\"#000000\"> ≤ 103135.0</text>\n<text text-anchor=\"start\" x=\"7465\" y=\"-324.8\" font-family=\"Helvetica,sans-Serif\" font-size=\"14.00\" fill=\"#000000\">gini = 0.631</text>\n<text text-anchor=\"start\" x=\"7455\" y=\"-310.8\" font-family=\"Helvetica,sans-Serif\" font-size=\"14.00\" fill=\"#000000\">samples = 668</text>\n<text text-anchor=\"start\" x=\"7429\" y=\"-296.8\" font-family=\"Helvetica,sans-Serif\" font-size=\"14.00\" fill=\"#000000\">value = [318, 208, 142]</text>\n</g>\n<!-- 109&#45;&gt;110 -->\n<g id=\"edge110\" class=\"edge\">\n<title>109&#45;&gt;110</title>\n<path fill=\"none\" stroke=\"#000000\" d=\"M7750.5783,-396.0237C7703.2397,-381.6787 7643.6826,-363.6311 7594.8459,-348.8321\"/>\n<polygon fill=\"#000000\" stroke=\"#000000\" points=\"7595.8137,-345.4682 7585.2284,-345.9177 7593.7836,-352.1674 7595.8137,-345.4682\"/>\n</g>\n<!-- 119 -->\n<g id=\"node120\" class=\"node\">\n<title>119</title>\n<path fill=\"#e58139\" fill-opacity=\"0.435294\" stroke=\"#000000\" d=\"M7899,-353C7899,-353 7767,-353 7767,-353 7761,-353 7755,-347 7755,-341 7755,-341 7755,-301 7755,-301 7755,-295 7761,-289 7767,-289 7767,-289 7899,-289 7899,-289 7905,-289 7911,-295 7911,-301 7911,-301 7911,-341 7911,-341 7911,-347 7905,-353 7899,-353\"/>\n<text text-anchor=\"start\" x=\"7786\" y=\"-338.8\" font-family=\"Helvetica,sans-Serif\" font-size=\"14.00\" fill=\"#000000\">X</text>\n<text text-anchor=\"start\" x=\"7796\" y=\"-338.8\" font-family=\"Helvetica,sans-Serif\" baseline-shift=\"sub\" font-size=\"14.00\" fill=\"#000000\">4</text>\n<text text-anchor=\"start\" x=\"7803\" y=\"-338.8\" font-family=\"Helvetica,sans-Serif\" font-size=\"14.00\" fill=\"#000000\"> ≤ 103137.5</text>\n<text text-anchor=\"start\" x=\"7795\" y=\"-324.8\" font-family=\"Helvetica,sans-Serif\" font-size=\"14.00\" fill=\"#000000\">gini = 0.556</text>\n<text text-anchor=\"start\" x=\"7785\" y=\"-310.8\" font-family=\"Helvetica,sans-Serif\" font-size=\"14.00\" fill=\"#000000\">samples = 524</text>\n<text text-anchor=\"start\" x=\"7763\" y=\"-296.8\" font-family=\"Helvetica,sans-Serif\" font-size=\"14.00\" fill=\"#000000\">value = [310, 146, 68]</text>\n</g>\n<!-- 109&#45;&gt;119 -->\n<g id=\"edge119\" class=\"edge\">\n<title>109&#45;&gt;119</title>\n<path fill=\"none\" stroke=\"#000000\" d=\"M7833,-388.8089C7833,-380.6906 7833,-371.8517 7833,-363.3186\"/>\n<polygon fill=\"#000000\" stroke=\"#000000\" points=\"7836.5001,-363.1307 7833,-353.1308 7829.5001,-363.1308 7836.5001,-363.1307\"/>\n</g>\n<!-- 111 -->\n<g id=\"node112\" class=\"node\">\n<title>111</title>\n<path fill=\"#39e581\" fill-opacity=\"0.317647\" stroke=\"#000000\" d=\"M7326,-253C7326,-253 7202,-253 7202,-253 7196,-253 7190,-247 7190,-241 7190,-241 7190,-201 7190,-201 7190,-195 7196,-189 7202,-189 7202,-189 7326,-189 7326,-189 7332,-189 7338,-195 7338,-201 7338,-201 7338,-241 7338,-241 7338,-247 7332,-253 7326,-253\"/>\n<text text-anchor=\"start\" x=\"7233.5\" y=\"-238.8\" font-family=\"Helvetica,sans-Serif\" font-size=\"14.00\" fill=\"#000000\">X</text>\n<text text-anchor=\"start\" x=\"7243.5\" y=\"-238.8\" font-family=\"Helvetica,sans-Serif\" baseline-shift=\"sub\" font-size=\"14.00\" fill=\"#000000\">6</text>\n<text text-anchor=\"start\" x=\"7250.5\" y=\"-238.8\" font-family=\"Helvetica,sans-Serif\" font-size=\"14.00\" fill=\"#000000\"> ≤ 19.5</text>\n<text text-anchor=\"start\" x=\"7226\" y=\"-224.8\" font-family=\"Helvetica,sans-Serif\" font-size=\"14.00\" fill=\"#000000\">gini = 0.482</text>\n<text text-anchor=\"start\" x=\"7216\" y=\"-210.8\" font-family=\"Helvetica,sans-Serif\" font-size=\"14.00\" fill=\"#000000\">samples = 350</text>\n<text text-anchor=\"start\" x=\"7198\" y=\"-196.8\" font-family=\"Helvetica,sans-Serif\" font-size=\"14.00\" fill=\"#000000\">value = [0, 208, 142]</text>\n</g>\n<!-- 110&#45;&gt;111 -->\n<g id=\"edge111\" class=\"edge\">\n<title>110&#45;&gt;111</title>\n<path fill=\"none\" stroke=\"#000000\" d=\"M7426.3927,-288.9467C7401.221,-278.4146 7373.1217,-266.6576 7347.4668,-255.9233\"/>\n<polygon fill=\"#000000\" stroke=\"#000000\" points=\"7348.7115,-252.6502 7338.1355,-252.019 7346.0096,-259.1077 7348.7115,-252.6502\"/>\n</g>\n<!-- 118 -->\n<g id=\"node119\" class=\"node\">\n<title>118</title>\n<path fill=\"#e58139\" stroke=\"#000000\" d=\"M7556.5,-247.5C7556.5,-247.5 7449.5,-247.5 7449.5,-247.5 7443.5,-247.5 7437.5,-241.5 7437.5,-235.5 7437.5,-235.5 7437.5,-206.5 7437.5,-206.5 7437.5,-200.5 7443.5,-194.5 7449.5,-194.5 7449.5,-194.5 7556.5,-194.5 7556.5,-194.5 7562.5,-194.5 7568.5,-200.5 7568.5,-206.5 7568.5,-206.5 7568.5,-235.5 7568.5,-235.5 7568.5,-241.5 7562.5,-247.5 7556.5,-247.5\"/>\n<text text-anchor=\"start\" x=\"7473.5\" y=\"-232.3\" font-family=\"Helvetica,sans-Serif\" font-size=\"14.00\" fill=\"#000000\">gini = 0.0</text>\n<text text-anchor=\"start\" x=\"7455\" y=\"-217.3\" font-family=\"Helvetica,sans-Serif\" font-size=\"14.00\" fill=\"#000000\">samples = 318</text>\n<text text-anchor=\"start\" x=\"7445.5\" y=\"-202.3\" font-family=\"Helvetica,sans-Serif\" font-size=\"14.00\" fill=\"#000000\">value = [318, 0, 0]</text>\n</g>\n<!-- 110&#45;&gt;118 -->\n<g id=\"edge118\" class=\"edge\">\n<title>110&#45;&gt;118</title>\n<path fill=\"none\" stroke=\"#000000\" d=\"M7503,-288.8089C7503,-278.9777 7503,-268.0898 7503,-257.9679\"/>\n<polygon fill=\"#000000\" stroke=\"#000000\" points=\"7506.5001,-257.7735 7503,-247.7735 7499.5001,-257.7736 7506.5001,-257.7735\"/>\n</g>\n<!-- 112 -->\n<g id=\"node113\" class=\"node\">\n<title>112</title>\n<path fill=\"#39e581\" fill-opacity=\"0.196078\" stroke=\"#000000\" d=\"M7102,-153C7102,-153 6978,-153 6978,-153 6972,-153 6966,-147 6966,-141 6966,-141 6966,-101 6966,-101 6966,-95 6972,-89 6978,-89 6978,-89 7102,-89 7102,-89 7108,-89 7114,-95 7114,-101 7114,-101 7114,-141 7114,-141 7114,-147 7108,-153 7102,-153\"/>\n<text text-anchor=\"start\" x=\"7001\" y=\"-138.8\" font-family=\"Helvetica,sans-Serif\" font-size=\"14.00\" fill=\"#000000\">X</text>\n<text text-anchor=\"start\" x=\"7011\" y=\"-138.8\" font-family=\"Helvetica,sans-Serif\" baseline-shift=\"sub\" font-size=\"14.00\" fill=\"#000000\">1</text>\n<text text-anchor=\"start\" x=\"7018\" y=\"-138.8\" font-family=\"Helvetica,sans-Serif\" font-size=\"14.00\" fill=\"#000000\"> ≤ 37.794</text>\n<text text-anchor=\"start\" x=\"7002\" y=\"-124.8\" font-family=\"Helvetica,sans-Serif\" font-size=\"14.00\" fill=\"#000000\">gini = 0.494</text>\n<text text-anchor=\"start\" x=\"6992\" y=\"-110.8\" font-family=\"Helvetica,sans-Serif\" font-size=\"14.00\" fill=\"#000000\">samples = 247</text>\n<text text-anchor=\"start\" x=\"6974\" y=\"-96.8\" font-family=\"Helvetica,sans-Serif\" font-size=\"14.00\" fill=\"#000000\">value = [0, 137, 110]</text>\n</g>\n<!-- 111&#45;&gt;112 -->\n<g id=\"edge112\" class=\"edge\">\n<title>111&#45;&gt;112</title>\n<path fill=\"none\" stroke=\"#000000\" d=\"M7192.2007,-188.9467C7169.4936,-178.8096 7144.2445,-167.5377 7120.9429,-157.1352\"/>\n<polygon fill=\"#000000\" stroke=\"#000000\" points=\"7122.3352,-153.9239 7111.777,-153.0433 7119.4816,-160.3158 7122.3352,-153.9239\"/>\n</g>\n<!-- 115 -->\n<g id=\"node116\" class=\"node\">\n<title>115</title>\n<path fill=\"#39e581\" fill-opacity=\"0.549020\" stroke=\"#000000\" d=\"M7317.5,-153C7317.5,-153 7210.5,-153 7210.5,-153 7204.5,-153 7198.5,-147 7198.5,-141 7198.5,-141 7198.5,-101 7198.5,-101 7198.5,-95 7204.5,-89 7210.5,-89 7210.5,-89 7317.5,-89 7317.5,-89 7323.5,-89 7329.5,-95 7329.5,-101 7329.5,-101 7329.5,-141 7329.5,-141 7329.5,-147 7323.5,-153 7317.5,-153\"/>\n<text text-anchor=\"start\" x=\"7217\" y=\"-138.8\" font-family=\"Helvetica,sans-Serif\" font-size=\"14.00\" fill=\"#000000\">X</text>\n<text text-anchor=\"start\" x=\"7227\" y=\"-138.8\" font-family=\"Helvetica,sans-Serif\" baseline-shift=\"sub\" font-size=\"14.00\" fill=\"#000000\">4</text>\n<text text-anchor=\"start\" x=\"7234\" y=\"-138.8\" font-family=\"Helvetica,sans-Serif\" font-size=\"14.00\" fill=\"#000000\"> ≤ 103116.5</text>\n<text text-anchor=\"start\" x=\"7226\" y=\"-124.8\" font-family=\"Helvetica,sans-Serif\" font-size=\"14.00\" fill=\"#000000\">gini = 0.428</text>\n<text text-anchor=\"start\" x=\"7216\" y=\"-110.8\" font-family=\"Helvetica,sans-Serif\" font-size=\"14.00\" fill=\"#000000\">samples = 103</text>\n<text text-anchor=\"start\" x=\"7206.5\" y=\"-96.8\" font-family=\"Helvetica,sans-Serif\" font-size=\"14.00\" fill=\"#000000\">value = [0, 71, 32]</text>\n</g>\n<!-- 111&#45;&gt;115 -->\n<g id=\"edge115\" class=\"edge\">\n<title>111&#45;&gt;115</title>\n<path fill=\"none\" stroke=\"#000000\" d=\"M7264,-188.8089C7264,-180.6906 7264,-171.8517 7264,-163.3186\"/>\n<polygon fill=\"#000000\" stroke=\"#000000\" points=\"7267.5001,-163.1307 7264,-153.1308 7260.5001,-163.1308 7267.5001,-163.1307\"/>\n</g>\n<!-- 113 -->\n<g id=\"node114\" class=\"node\">\n<title>113</title>\n<path fill=\"#8139e5\" fill-opacity=\"0.215686\" stroke=\"#000000\" d=\"M6939.5,-53C6939.5,-53 6832.5,-53 6832.5,-53 6826.5,-53 6820.5,-47 6820.5,-41 6820.5,-41 6820.5,-12 6820.5,-12 6820.5,-6 6826.5,0 6832.5,0 6832.5,0 6939.5,0 6939.5,0 6945.5,0 6951.5,-6 6951.5,-12 6951.5,-12 6951.5,-41 6951.5,-41 6951.5,-47 6945.5,-53 6939.5,-53\"/>\n<text text-anchor=\"start\" x=\"6848\" y=\"-37.8\" font-family=\"Helvetica,sans-Serif\" font-size=\"14.00\" fill=\"#000000\">gini = 0.493</text>\n<text text-anchor=\"start\" x=\"6842\" y=\"-22.8\" font-family=\"Helvetica,sans-Serif\" font-size=\"14.00\" fill=\"#000000\">samples = 41</text>\n<text text-anchor=\"start\" x=\"6828.5\" y=\"-7.8\" font-family=\"Helvetica,sans-Serif\" font-size=\"14.00\" fill=\"#000000\">value = [0, 18, 23]</text>\n</g>\n<!-- 112&#45;&gt;113 -->\n<g id=\"edge113\" class=\"edge\">\n<title>112&#45;&gt;113</title>\n<path fill=\"none\" stroke=\"#000000\" d=\"M6987.4327,-88.7428C6971.5525,-78.9981 6954.1256,-68.3043 6938.2652,-58.5718\"/>\n<polygon fill=\"#000000\" stroke=\"#000000\" points=\"6939.9886,-55.5229 6929.6347,-53.2759 6936.3274,-61.4892 6939.9886,-55.5229\"/>\n</g>\n<!-- 114 -->\n<g id=\"node115\" class=\"node\">\n<title>114</title>\n<path fill=\"#39e581\" fill-opacity=\"0.270588\" stroke=\"#000000\" d=\"M7098,-53C7098,-53 6982,-53 6982,-53 6976,-53 6970,-47 6970,-41 6970,-41 6970,-12 6970,-12 6970,-6 6976,0 6982,0 6982,0 7098,0 7098,0 7104,0 7110,-6 7110,-12 7110,-12 7110,-41 7110,-41 7110,-47 7104,-53 7098,-53\"/>\n<text text-anchor=\"start\" x=\"7002\" y=\"-37.8\" font-family=\"Helvetica,sans-Serif\" font-size=\"14.00\" fill=\"#000000\">gini = 0.488</text>\n<text text-anchor=\"start\" x=\"6992\" y=\"-22.8\" font-family=\"Helvetica,sans-Serif\" font-size=\"14.00\" fill=\"#000000\">samples = 206</text>\n<text text-anchor=\"start\" x=\"6978\" y=\"-7.8\" font-family=\"Helvetica,sans-Serif\" font-size=\"14.00\" fill=\"#000000\">value = [0, 119, 87]</text>\n</g>\n<!-- 112&#45;&gt;114 -->\n<g id=\"edge114\" class=\"edge\">\n<title>112&#45;&gt;114</title>\n<path fill=\"none\" stroke=\"#000000\" d=\"M7040,-88.7428C7040,-80.6222 7040,-71.8426 7040,-63.5093\"/>\n<polygon fill=\"#000000\" stroke=\"#000000\" points=\"7043.5001,-63.2758 7040,-53.2759 7036.5001,-63.2759 7043.5001,-63.2758\"/>\n</g>\n<!-- 116 -->\n<g id=\"node117\" class=\"node\">\n<title>116</title>\n<path fill=\"#8139e5\" stroke=\"#000000\" d=\"M7239.5,-53C7239.5,-53 7140.5,-53 7140.5,-53 7134.5,-53 7128.5,-47 7128.5,-41 7128.5,-41 7128.5,-12 7128.5,-12 7128.5,-6 7134.5,0 7140.5,0 7140.5,0 7239.5,0 7239.5,0 7245.5,0 7251.5,-6 7251.5,-12 7251.5,-12 7251.5,-41 7251.5,-41 7251.5,-47 7245.5,-53 7239.5,-53\"/>\n<text text-anchor=\"start\" x=\"7160.5\" y=\"-37.8\" font-family=\"Helvetica,sans-Serif\" font-size=\"14.00\" fill=\"#000000\">gini = 0.0</text>\n<text text-anchor=\"start\" x=\"7146\" y=\"-22.8\" font-family=\"Helvetica,sans-Serif\" font-size=\"14.00\" fill=\"#000000\">samples = 32</text>\n<text text-anchor=\"start\" x=\"7136.5\" y=\"-7.8\" font-family=\"Helvetica,sans-Serif\" font-size=\"14.00\" fill=\"#000000\">value = [0, 0, 32]</text>\n</g>\n<!-- 115&#45;&gt;116 -->\n<g id=\"edge116\" class=\"edge\">\n<title>115&#45;&gt;116</title>\n<path fill=\"none\" stroke=\"#000000\" d=\"M7238.7404,-88.7428C7231.8162,-79.9004 7224.28,-70.2765 7217.2496,-61.2985\"/>\n<polygon fill=\"#000000\" stroke=\"#000000\" points=\"7219.8884,-58.9913 7210.9673,-53.2759 7214.3771,-63.3071 7219.8884,-58.9913\"/>\n</g>\n<!-- 117 -->\n<g id=\"node118\" class=\"node\">\n<title>117</title>\n<path fill=\"#39e581\" stroke=\"#000000\" d=\"M7380.5,-53C7380.5,-53 7281.5,-53 7281.5,-53 7275.5,-53 7269.5,-47 7269.5,-41 7269.5,-41 7269.5,-12 7269.5,-12 7269.5,-6 7275.5,0 7281.5,0 7281.5,0 7380.5,0 7380.5,0 7386.5,0 7392.5,-6 7392.5,-12 7392.5,-12 7392.5,-41 7392.5,-41 7392.5,-47 7386.5,-53 7380.5,-53\"/>\n<text text-anchor=\"start\" x=\"7301.5\" y=\"-37.8\" font-family=\"Helvetica,sans-Serif\" font-size=\"14.00\" fill=\"#000000\">gini = 0.0</text>\n<text text-anchor=\"start\" x=\"7287\" y=\"-22.8\" font-family=\"Helvetica,sans-Serif\" font-size=\"14.00\" fill=\"#000000\">samples = 71</text>\n<text text-anchor=\"start\" x=\"7277.5\" y=\"-7.8\" font-family=\"Helvetica,sans-Serif\" font-size=\"14.00\" fill=\"#000000\">value = [0, 71, 0]</text>\n</g>\n<!-- 115&#45;&gt;117 -->\n<g id=\"edge117\" class=\"edge\">\n<title>115&#45;&gt;117</title>\n<path fill=\"none\" stroke=\"#000000\" d=\"M7286.8702,-88.7428C7293.0754,-79.9906 7299.8235,-70.4728 7306.1331,-61.5735\"/>\n<polygon fill=\"#000000\" stroke=\"#000000\" points=\"7309.0874,-63.4579 7312.0161,-53.2759 7303.377,-59.4093 7309.0874,-63.4579\"/>\n</g>\n<!-- 120 -->\n<g id=\"node121\" class=\"node\">\n<title>120</title>\n<path fill=\"#39e581\" fill-opacity=\"0.533333\" stroke=\"#000000\" d=\"M7776,-253C7776,-253 7660,-253 7660,-253 7654,-253 7648,-247 7648,-241 7648,-241 7648,-201 7648,-201 7648,-195 7654,-189 7660,-189 7660,-189 7776,-189 7776,-189 7782,-189 7788,-195 7788,-201 7788,-201 7788,-241 7788,-241 7788,-247 7782,-253 7776,-253\"/>\n<text text-anchor=\"start\" x=\"7687.5\" y=\"-238.8\" font-family=\"Helvetica,sans-Serif\" font-size=\"14.00\" fill=\"#000000\">X</text>\n<text text-anchor=\"start\" x=\"7697.5\" y=\"-238.8\" font-family=\"Helvetica,sans-Serif\" baseline-shift=\"sub\" font-size=\"14.00\" fill=\"#000000\">6</text>\n<text text-anchor=\"start\" x=\"7704.5\" y=\"-238.8\" font-family=\"Helvetica,sans-Serif\" font-size=\"14.00\" fill=\"#000000\"> ≤ 24.5</text>\n<text text-anchor=\"start\" x=\"7680\" y=\"-224.8\" font-family=\"Helvetica,sans-Serif\" font-size=\"14.00\" fill=\"#000000\">gini = 0.434</text>\n<text text-anchor=\"start\" x=\"7670\" y=\"-210.8\" font-family=\"Helvetica,sans-Serif\" font-size=\"14.00\" fill=\"#000000\">samples = 214</text>\n<text text-anchor=\"start\" x=\"7656\" y=\"-196.8\" font-family=\"Helvetica,sans-Serif\" font-size=\"14.00\" fill=\"#000000\">value = [0, 146, 68]</text>\n</g>\n<!-- 119&#45;&gt;120 -->\n<g id=\"edge120\" class=\"edge\">\n<title>119&#45;&gt;120</title>\n<path fill=\"none\" stroke=\"#000000\" d=\"M7795.9803,-288.8089C7785.413,-279.62 7773.7843,-269.508 7762.8054,-259.9612\"/>\n<polygon fill=\"#000000\" stroke=\"#000000\" points=\"7764.7931,-257.0515 7754.9504,-253.1308 7760.1998,-262.3337 7764.7931,-257.0515\"/>\n</g>\n<!-- 127 -->\n<g id=\"node128\" class=\"node\">\n<title>127</title>\n<path fill=\"#e58139\" stroke=\"#000000\" d=\"M7925.5,-247.5C7925.5,-247.5 7818.5,-247.5 7818.5,-247.5 7812.5,-247.5 7806.5,-241.5 7806.5,-235.5 7806.5,-235.5 7806.5,-206.5 7806.5,-206.5 7806.5,-200.5 7812.5,-194.5 7818.5,-194.5 7818.5,-194.5 7925.5,-194.5 7925.5,-194.5 7931.5,-194.5 7937.5,-200.5 7937.5,-206.5 7937.5,-206.5 7937.5,-235.5 7937.5,-235.5 7937.5,-241.5 7931.5,-247.5 7925.5,-247.5\"/>\n<text text-anchor=\"start\" x=\"7842.5\" y=\"-232.3\" font-family=\"Helvetica,sans-Serif\" font-size=\"14.00\" fill=\"#000000\">gini = 0.0</text>\n<text text-anchor=\"start\" x=\"7824\" y=\"-217.3\" font-family=\"Helvetica,sans-Serif\" font-size=\"14.00\" fill=\"#000000\">samples = 310</text>\n<text text-anchor=\"start\" x=\"7814.5\" y=\"-202.3\" font-family=\"Helvetica,sans-Serif\" font-size=\"14.00\" fill=\"#000000\">value = [310, 0, 0]</text>\n</g>\n<!-- 119&#45;&gt;127 -->\n<g id=\"edge127\" class=\"edge\">\n<title>119&#45;&gt;127</title>\n<path fill=\"none\" stroke=\"#000000\" d=\"M7845.5545,-288.8089C7849.4694,-278.7707 7853.8139,-267.6309 7857.8314,-257.3297\"/>\n<polygon fill=\"#000000\" stroke=\"#000000\" points=\"7861.1856,-258.3618 7861.5583,-247.7735 7854.664,-255.8183 7861.1856,-258.3618\"/>\n</g>\n<!-- 121 -->\n<g id=\"node122\" class=\"node\">\n<title>121</title>\n<path fill=\"#39e581\" fill-opacity=\"0.596078\" stroke=\"#000000\" d=\"M7672,-153C7672,-153 7556,-153 7556,-153 7550,-153 7544,-147 7544,-141 7544,-141 7544,-101 7544,-101 7544,-95 7550,-89 7556,-89 7556,-89 7672,-89 7672,-89 7678,-89 7684,-95 7684,-101 7684,-101 7684,-141 7684,-141 7684,-147 7678,-153 7672,-153\"/>\n<text text-anchor=\"start\" x=\"7579.5\" y=\"-138.8\" font-family=\"Helvetica,sans-Serif\" font-size=\"14.00\" fill=\"#000000\">X</text>\n<text text-anchor=\"start\" x=\"7589.5\" y=\"-138.8\" font-family=\"Helvetica,sans-Serif\" baseline-shift=\"sub\" font-size=\"14.00\" fill=\"#000000\">0</text>\n<text text-anchor=\"start\" x=\"7596.5\" y=\"-138.8\" font-family=\"Helvetica,sans-Serif\" font-size=\"14.00\" fill=\"#000000\"> ≤ 571.0</text>\n<text text-anchor=\"start\" x=\"7580.5\" y=\"-124.8\" font-family=\"Helvetica,sans-Serif\" font-size=\"14.00\" fill=\"#000000\">gini = 0.41</text>\n<text text-anchor=\"start\" x=\"7566\" y=\"-110.8\" font-family=\"Helvetica,sans-Serif\" font-size=\"14.00\" fill=\"#000000\">samples = 181</text>\n<text text-anchor=\"start\" x=\"7552\" y=\"-96.8\" font-family=\"Helvetica,sans-Serif\" font-size=\"14.00\" fill=\"#000000\">value = [0, 129, 52]</text>\n</g>\n<!-- 120&#45;&gt;121 -->\n<g id=\"edge121\" class=\"edge\">\n<title>120&#45;&gt;121</title>\n<path fill=\"none\" stroke=\"#000000\" d=\"M7684.5213,-188.8089C7675.0576,-179.7092 7664.6525,-169.7043 7654.809,-160.2394\"/>\n<polygon fill=\"#000000\" stroke=\"#000000\" points=\"7657.0502,-157.539 7647.416,-153.1308 7652.1985,-162.5848 7657.0502,-157.539\"/>\n</g>\n<!-- 124 -->\n<g id=\"node125\" class=\"node\">\n<title>124</title>\n<path fill=\"#39e581\" fill-opacity=\"0.058824\" stroke=\"#000000\" d=\"M7821.5,-153C7821.5,-153 7714.5,-153 7714.5,-153 7708.5,-153 7702.5,-147 7702.5,-141 7702.5,-141 7702.5,-101 7702.5,-101 7702.5,-95 7708.5,-89 7714.5,-89 7714.5,-89 7821.5,-89 7821.5,-89 7827.5,-89 7833.5,-95 7833.5,-101 7833.5,-101 7833.5,-141 7833.5,-141 7833.5,-147 7827.5,-153 7821.5,-153\"/>\n<text text-anchor=\"start\" x=\"7737.5\" y=\"-138.8\" font-family=\"Helvetica,sans-Serif\" font-size=\"14.00\" fill=\"#000000\">X</text>\n<text text-anchor=\"start\" x=\"7747.5\" y=\"-138.8\" font-family=\"Helvetica,sans-Serif\" baseline-shift=\"sub\" font-size=\"14.00\" fill=\"#000000\">3</text>\n<text text-anchor=\"start\" x=\"7754.5\" y=\"-138.8\" font-family=\"Helvetica,sans-Serif\" font-size=\"14.00\" fill=\"#000000\"> ≤ 84.5</text>\n<text text-anchor=\"start\" x=\"7738.5\" y=\"-124.8\" font-family=\"Helvetica,sans-Serif\" font-size=\"14.00\" fill=\"#000000\">gini = 0.5</text>\n<text text-anchor=\"start\" x=\"7724\" y=\"-110.8\" font-family=\"Helvetica,sans-Serif\" font-size=\"14.00\" fill=\"#000000\">samples = 33</text>\n<text text-anchor=\"start\" x=\"7710.5\" y=\"-96.8\" font-family=\"Helvetica,sans-Serif\" font-size=\"14.00\" fill=\"#000000\">value = [0, 17, 16]</text>\n</g>\n<!-- 120&#45;&gt;124 -->\n<g id=\"edge124\" class=\"edge\">\n<title>120&#45;&gt;124</title>\n<path fill=\"none\" stroke=\"#000000\" d=\"M7734.0955,-188.8089C7738.3331,-180.3337 7742.9634,-171.0733 7747.4024,-162.1952\"/>\n<polygon fill=\"#000000\" stroke=\"#000000\" points=\"7750.5929,-163.6403 7751.9346,-153.1308 7744.3319,-160.5098 7750.5929,-163.6403\"/>\n</g>\n<!-- 122 -->\n<g id=\"node123\" class=\"node\">\n<title>122</title>\n<path fill=\"#39e581\" fill-opacity=\"0.850980\" stroke=\"#000000\" d=\"M7521.5,-53C7521.5,-53 7422.5,-53 7422.5,-53 7416.5,-53 7410.5,-47 7410.5,-41 7410.5,-41 7410.5,-12 7410.5,-12 7410.5,-6 7416.5,0 7422.5,0 7422.5,0 7521.5,0 7521.5,0 7527.5,0 7533.5,-6 7533.5,-12 7533.5,-12 7533.5,-41 7533.5,-41 7533.5,-47 7527.5,-53 7521.5,-53\"/>\n<text text-anchor=\"start\" x=\"7434\" y=\"-37.8\" font-family=\"Helvetica,sans-Serif\" font-size=\"14.00\" fill=\"#000000\">gini = 0.227</text>\n<text text-anchor=\"start\" x=\"7428\" y=\"-22.8\" font-family=\"Helvetica,sans-Serif\" font-size=\"14.00\" fill=\"#000000\">samples = 23</text>\n<text text-anchor=\"start\" x=\"7418.5\" y=\"-7.8\" font-family=\"Helvetica,sans-Serif\" font-size=\"14.00\" fill=\"#000000\">value = [0, 20, 3]</text>\n</g>\n<!-- 121&#45;&gt;122 -->\n<g id=\"edge122\" class=\"edge\">\n<title>121&#45;&gt;122</title>\n<path fill=\"none\" stroke=\"#000000\" d=\"M7565.5288,-88.7428C7551.0216,-79.0883 7535.1145,-68.5023 7520.5991,-58.8424\"/>\n<polygon fill=\"#000000\" stroke=\"#000000\" points=\"7522.4988,-55.9024 7512.2346,-53.2759 7518.6206,-61.7299 7522.4988,-55.9024\"/>\n</g>\n<!-- 123 -->\n<g id=\"node124\" class=\"node\">\n<title>123</title>\n<path fill=\"#39e581\" fill-opacity=\"0.549020\" stroke=\"#000000\" d=\"M7680,-53C7680,-53 7564,-53 7564,-53 7558,-53 7552,-47 7552,-41 7552,-41 7552,-12 7552,-12 7552,-6 7558,0 7564,0 7564,0 7680,0 7680,0 7686,0 7692,-6 7692,-12 7692,-12 7692,-41 7692,-41 7692,-47 7686,-53 7680,-53\"/>\n<text text-anchor=\"start\" x=\"7584\" y=\"-37.8\" font-family=\"Helvetica,sans-Serif\" font-size=\"14.00\" fill=\"#000000\">gini = 0.428</text>\n<text text-anchor=\"start\" x=\"7574\" y=\"-22.8\" font-family=\"Helvetica,sans-Serif\" font-size=\"14.00\" fill=\"#000000\">samples = 158</text>\n<text text-anchor=\"start\" x=\"7560\" y=\"-7.8\" font-family=\"Helvetica,sans-Serif\" font-size=\"14.00\" fill=\"#000000\">value = [0, 109, 49]</text>\n</g>\n<!-- 121&#45;&gt;123 -->\n<g id=\"edge123\" class=\"edge\">\n<title>121&#45;&gt;123</title>\n<path fill=\"none\" stroke=\"#000000\" d=\"M7616.7308,-88.7428C7617.4182,-80.6222 7618.1615,-71.8426 7618.8669,-63.5093\"/>\n<polygon fill=\"#000000\" stroke=\"#000000\" points=\"7622.3772,-63.5355 7619.7333,-53.2759 7615.4021,-62.945 7622.3772,-63.5355\"/>\n</g>\n<!-- 125 -->\n<g id=\"node126\" class=\"node\">\n<title>125</title>\n<path fill=\"#39e581\" stroke=\"#000000\" d=\"M7813.5,-53C7813.5,-53 7722.5,-53 7722.5,-53 7716.5,-53 7710.5,-47 7710.5,-41 7710.5,-41 7710.5,-12 7710.5,-12 7710.5,-6 7716.5,0 7722.5,0 7722.5,0 7813.5,0 7813.5,0 7819.5,0 7825.5,-6 7825.5,-12 7825.5,-12 7825.5,-41 7825.5,-41 7825.5,-47 7819.5,-53 7813.5,-53\"/>\n<text text-anchor=\"start\" x=\"7738.5\" y=\"-37.8\" font-family=\"Helvetica,sans-Serif\" font-size=\"14.00\" fill=\"#000000\">gini = 0.0</text>\n<text text-anchor=\"start\" x=\"7728.5\" y=\"-22.8\" font-family=\"Helvetica,sans-Serif\" font-size=\"14.00\" fill=\"#000000\">samples = 6</text>\n<text text-anchor=\"start\" x=\"7718.5\" y=\"-7.8\" font-family=\"Helvetica,sans-Serif\" font-size=\"14.00\" fill=\"#000000\">value = [0, 6, 0]</text>\n</g>\n<!-- 124&#45;&gt;125 -->\n<g id=\"edge125\" class=\"edge\">\n<title>124&#45;&gt;125</title>\n<path fill=\"none\" stroke=\"#000000\" d=\"M7768,-88.7428C7768,-80.6222 7768,-71.8426 7768,-63.5093\"/>\n<polygon fill=\"#000000\" stroke=\"#000000\" points=\"7771.5001,-63.2758 7768,-53.2759 7764.5001,-63.2759 7771.5001,-63.2758\"/>\n</g>\n<!-- 126 -->\n<g id=\"node127\" class=\"node\">\n<title>126</title>\n<path fill=\"#8139e5\" fill-opacity=\"0.313725\" stroke=\"#000000\" d=\"M7962.5,-53C7962.5,-53 7855.5,-53 7855.5,-53 7849.5,-53 7843.5,-47 7843.5,-41 7843.5,-41 7843.5,-12 7843.5,-12 7843.5,-6 7849.5,0 7855.5,0 7855.5,0 7962.5,0 7962.5,0 7968.5,0 7974.5,-6 7974.5,-12 7974.5,-12 7974.5,-41 7974.5,-41 7974.5,-47 7968.5,-53 7962.5,-53\"/>\n<text text-anchor=\"start\" x=\"7871\" y=\"-37.8\" font-family=\"Helvetica,sans-Serif\" font-size=\"14.00\" fill=\"#000000\">gini = 0.483</text>\n<text text-anchor=\"start\" x=\"7865\" y=\"-22.8\" font-family=\"Helvetica,sans-Serif\" font-size=\"14.00\" fill=\"#000000\">samples = 27</text>\n<text text-anchor=\"start\" x=\"7851.5\" y=\"-7.8\" font-family=\"Helvetica,sans-Serif\" font-size=\"14.00\" fill=\"#000000\">value = [0, 11, 16]</text>\n</g>\n<!-- 124&#45;&gt;126 -->\n<g id=\"edge126\" class=\"edge\">\n<title>124&#45;&gt;126</title>\n<path fill=\"none\" stroke=\"#000000\" d=\"M7816.1298,-88.7428C7830.4002,-79.1786 7846.0348,-68.7001 7860.3386,-59.1135\"/>\n<polygon fill=\"#000000\" stroke=\"#000000\" points=\"7862.6904,-61.7507 7869.0487,-53.2759 7858.7932,-55.9359 7862.6904,-61.7507\"/>\n</g>\n<!-- 129 -->\n<g id=\"node130\" class=\"node\">\n<title>129</title>\n<path fill=\"#39e581\" fill-opacity=\"0.145098\" stroke=\"#000000\" d=\"M8103,-353C8103,-353 7979,-353 7979,-353 7973,-353 7967,-347 7967,-341 7967,-341 7967,-301 7967,-301 7967,-295 7973,-289 7979,-289 7979,-289 8103,-289 8103,-289 8109,-289 8115,-295 8115,-301 8115,-301 8115,-341 8115,-341 8115,-347 8109,-353 8103,-353\"/>\n<text text-anchor=\"start\" x=\"8002\" y=\"-338.8\" font-family=\"Helvetica,sans-Serif\" font-size=\"14.00\" fill=\"#000000\">X</text>\n<text text-anchor=\"start\" x=\"8012\" y=\"-338.8\" font-family=\"Helvetica,sans-Serif\" baseline-shift=\"sub\" font-size=\"14.00\" fill=\"#000000\">0</text>\n<text text-anchor=\"start\" x=\"8019\" y=\"-338.8\" font-family=\"Helvetica,sans-Serif\" font-size=\"14.00\" fill=\"#000000\"> ≤ 3881.0</text>\n<text text-anchor=\"start\" x=\"8003\" y=\"-324.8\" font-family=\"Helvetica,sans-Serif\" font-size=\"14.00\" fill=\"#000000\">gini = 0.497</text>\n<text text-anchor=\"start\" x=\"7993\" y=\"-310.8\" font-family=\"Helvetica,sans-Serif\" font-size=\"14.00\" fill=\"#000000\">samples = 425</text>\n<text text-anchor=\"start\" x=\"7975\" y=\"-296.8\" font-family=\"Helvetica,sans-Serif\" font-size=\"14.00\" fill=\"#000000\">value = [0, 229, 196]</text>\n</g>\n<!-- 128&#45;&gt;129 -->\n<g id=\"edge129\" class=\"edge\">\n<title>128&#45;&gt;129</title>\n<path fill=\"none\" stroke=\"#000000\" d=\"M8053.8837,-388.8089C8052.3243,-380.6014 8050.6249,-371.6574 8048.9871,-363.0374\"/>\n<polygon fill=\"#000000\" stroke=\"#000000\" points=\"8052.41,-362.3017 8047.1048,-353.1308 8045.533,-363.6083 8052.41,-362.3017\"/>\n</g>\n<!-- 140 -->\n<g id=\"node141\" class=\"node\">\n<title>140</title>\n<path fill=\"#e58139\" stroke=\"#000000\" d=\"M8252.5,-347.5C8252.5,-347.5 8145.5,-347.5 8145.5,-347.5 8139.5,-347.5 8133.5,-341.5 8133.5,-335.5 8133.5,-335.5 8133.5,-306.5 8133.5,-306.5 8133.5,-300.5 8139.5,-294.5 8145.5,-294.5 8145.5,-294.5 8252.5,-294.5 8252.5,-294.5 8258.5,-294.5 8264.5,-300.5 8264.5,-306.5 8264.5,-306.5 8264.5,-335.5 8264.5,-335.5 8264.5,-341.5 8258.5,-347.5 8252.5,-347.5\"/>\n<text text-anchor=\"start\" x=\"8169.5\" y=\"-332.3\" font-family=\"Helvetica,sans-Serif\" font-size=\"14.00\" fill=\"#000000\">gini = 0.0</text>\n<text text-anchor=\"start\" x=\"8151\" y=\"-317.3\" font-family=\"Helvetica,sans-Serif\" font-size=\"14.00\" fill=\"#000000\">samples = 221</text>\n<text text-anchor=\"start\" x=\"8141.5\" y=\"-302.3\" font-family=\"Helvetica,sans-Serif\" font-size=\"14.00\" fill=\"#000000\">value = [221, 0, 0]</text>\n</g>\n<!-- 128&#45;&gt;140 -->\n<g id=\"edge140\" class=\"edge\">\n<title>128&#45;&gt;140</title>\n<path fill=\"none\" stroke=\"#000000\" d=\"M8104.7456,-388.8089C8120.281,-377.6324 8137.7146,-365.0902 8153.3241,-353.8603\"/>\n<polygon fill=\"#000000\" stroke=\"#000000\" points=\"8155.7112,-356.4547 8161.7848,-347.7735 8151.6232,-350.7724 8155.7112,-356.4547\"/>\n</g>\n<!-- 130 -->\n<g id=\"node131\" class=\"node\">\n<title>130</title>\n<path fill=\"#8139e5\" fill-opacity=\"0.086275\" stroke=\"#000000\" d=\"M8094.5,-253C8094.5,-253 7987.5,-253 7987.5,-253 7981.5,-253 7975.5,-247 7975.5,-241 7975.5,-241 7975.5,-201 7975.5,-201 7975.5,-195 7981.5,-189 7987.5,-189 7987.5,-189 8094.5,-189 8094.5,-189 8100.5,-189 8106.5,-195 8106.5,-201 8106.5,-201 8106.5,-241 8106.5,-241 8106.5,-247 8100.5,-253 8094.5,-253\"/>\n<text text-anchor=\"start\" x=\"7994\" y=\"-238.8\" font-family=\"Helvetica,sans-Serif\" font-size=\"14.00\" fill=\"#000000\">X</text>\n<text text-anchor=\"start\" x=\"8004\" y=\"-238.8\" font-family=\"Helvetica,sans-Serif\" baseline-shift=\"sub\" font-size=\"14.00\" fill=\"#000000\">4</text>\n<text text-anchor=\"start\" x=\"8011\" y=\"-238.8\" font-family=\"Helvetica,sans-Serif\" font-size=\"14.00\" fill=\"#000000\"> ≤ 103111.5</text>\n<text text-anchor=\"start\" x=\"8003\" y=\"-224.8\" font-family=\"Helvetica,sans-Serif\" font-size=\"14.00\" fill=\"#000000\">gini = 0.499</text>\n<text text-anchor=\"start\" x=\"7993\" y=\"-210.8\" font-family=\"Helvetica,sans-Serif\" font-size=\"14.00\" fill=\"#000000\">samples = 176</text>\n<text text-anchor=\"start\" x=\"7983.5\" y=\"-196.8\" font-family=\"Helvetica,sans-Serif\" font-size=\"14.00\" fill=\"#000000\">value = [0, 84, 92]</text>\n</g>\n<!-- 129&#45;&gt;130 -->\n<g id=\"edge130\" class=\"edge\">\n<title>129&#45;&gt;130</title>\n<path fill=\"none\" stroke=\"#000000\" d=\"M8041,-288.8089C8041,-280.6906 8041,-271.8517 8041,-263.3186\"/>\n<polygon fill=\"#000000\" stroke=\"#000000\" points=\"8044.5001,-263.1307 8041,-253.1308 8037.5001,-263.1308 8044.5001,-263.1307\"/>\n</g>\n<!-- 133 -->\n<g id=\"node134\" class=\"node\">\n<title>133</title>\n<path fill=\"#39e581\" fill-opacity=\"0.282353\" stroke=\"#000000\" d=\"M8261,-253C8261,-253 8137,-253 8137,-253 8131,-253 8125,-247 8125,-241 8125,-241 8125,-201 8125,-201 8125,-195 8131,-189 8137,-189 8137,-189 8261,-189 8261,-189 8267,-189 8273,-195 8273,-201 8273,-201 8273,-241 8273,-241 8273,-247 8267,-253 8261,-253\"/>\n<text text-anchor=\"start\" x=\"8160\" y=\"-238.8\" font-family=\"Helvetica,sans-Serif\" font-size=\"14.00\" fill=\"#000000\">X</text>\n<text text-anchor=\"start\" x=\"8170\" y=\"-238.8\" font-family=\"Helvetica,sans-Serif\" baseline-shift=\"sub\" font-size=\"14.00\" fill=\"#000000\">0</text>\n<text text-anchor=\"start\" x=\"8177\" y=\"-238.8\" font-family=\"Helvetica,sans-Serif\" font-size=\"14.00\" fill=\"#000000\"> ≤ 9068.0</text>\n<text text-anchor=\"start\" x=\"8161\" y=\"-224.8\" font-family=\"Helvetica,sans-Serif\" font-size=\"14.00\" fill=\"#000000\">gini = 0.486</text>\n<text text-anchor=\"start\" x=\"8151\" y=\"-210.8\" font-family=\"Helvetica,sans-Serif\" font-size=\"14.00\" fill=\"#000000\">samples = 249</text>\n<text text-anchor=\"start\" x=\"8133\" y=\"-196.8\" font-family=\"Helvetica,sans-Serif\" font-size=\"14.00\" fill=\"#000000\">value = [0, 145, 104]</text>\n</g>\n<!-- 129&#45;&gt;133 -->\n<g id=\"edge133\" class=\"edge\">\n<title>129&#45;&gt;133</title>\n<path fill=\"none\" stroke=\"#000000\" d=\"M8091.8619,-288.8089C8107.0851,-279.174 8123.9119,-268.5241 8139.6314,-258.575\"/>\n<polygon fill=\"#000000\" stroke=\"#000000\" points=\"8141.6554,-261.4362 8148.2334,-253.1308 8137.9118,-255.5213 8141.6554,-261.4362\"/>\n</g>\n<!-- 131 -->\n<g id=\"node132\" class=\"node\">\n<title>131</title>\n<path fill=\"#8139e5\" stroke=\"#000000\" d=\"M7962.5,-147.5C7962.5,-147.5 7863.5,-147.5 7863.5,-147.5 7857.5,-147.5 7851.5,-141.5 7851.5,-135.5 7851.5,-135.5 7851.5,-106.5 7851.5,-106.5 7851.5,-100.5 7857.5,-94.5 7863.5,-94.5 7863.5,-94.5 7962.5,-94.5 7962.5,-94.5 7968.5,-94.5 7974.5,-100.5 7974.5,-106.5 7974.5,-106.5 7974.5,-135.5 7974.5,-135.5 7974.5,-141.5 7968.5,-147.5 7962.5,-147.5\"/>\n<text text-anchor=\"start\" x=\"7883.5\" y=\"-132.3\" font-family=\"Helvetica,sans-Serif\" font-size=\"14.00\" fill=\"#000000\">gini = 0.0</text>\n<text text-anchor=\"start\" x=\"7869\" y=\"-117.3\" font-family=\"Helvetica,sans-Serif\" font-size=\"14.00\" fill=\"#000000\">samples = 92</text>\n<text text-anchor=\"start\" x=\"7859.5\" y=\"-102.3\" font-family=\"Helvetica,sans-Serif\" font-size=\"14.00\" fill=\"#000000\">value = [0, 0, 92]</text>\n</g>\n<!-- 130&#45;&gt;131 -->\n<g id=\"edge131\" class=\"edge\">\n<title>130&#45;&gt;131</title>\n<path fill=\"none\" stroke=\"#000000\" d=\"M7999.7954,-188.8089C7985.6219,-177.7359 7969.7326,-165.3223 7955.4609,-154.1726\"/>\n<polygon fill=\"#000000\" stroke=\"#000000\" points=\"7957.3051,-151.1719 7947.2701,-147.7735 7952.9956,-156.6881 7957.3051,-151.1719\"/>\n</g>\n<!-- 132 -->\n<g id=\"node133\" class=\"node\">\n<title>132</title>\n<path fill=\"#39e581\" stroke=\"#000000\" d=\"M8103.5,-147.5C8103.5,-147.5 8004.5,-147.5 8004.5,-147.5 7998.5,-147.5 7992.5,-141.5 7992.5,-135.5 7992.5,-135.5 7992.5,-106.5 7992.5,-106.5 7992.5,-100.5 7998.5,-94.5 8004.5,-94.5 8004.5,-94.5 8103.5,-94.5 8103.5,-94.5 8109.5,-94.5 8115.5,-100.5 8115.5,-106.5 8115.5,-106.5 8115.5,-135.5 8115.5,-135.5 8115.5,-141.5 8109.5,-147.5 8103.5,-147.5\"/>\n<text text-anchor=\"start\" x=\"8024.5\" y=\"-132.3\" font-family=\"Helvetica,sans-Serif\" font-size=\"14.00\" fill=\"#000000\">gini = 0.0</text>\n<text text-anchor=\"start\" x=\"8010\" y=\"-117.3\" font-family=\"Helvetica,sans-Serif\" font-size=\"14.00\" fill=\"#000000\">samples = 84</text>\n<text text-anchor=\"start\" x=\"8000.5\" y=\"-102.3\" font-family=\"Helvetica,sans-Serif\" font-size=\"14.00\" fill=\"#000000\">value = [0, 84, 0]</text>\n</g>\n<!-- 130&#45;&gt;132 -->\n<g id=\"edge132\" class=\"edge\">\n<title>130&#45;&gt;132</title>\n<path fill=\"none\" stroke=\"#000000\" d=\"M8045.1848,-188.8089C8046.4629,-178.9777 8047.8783,-168.0898 8049.1942,-157.9679\"/>\n<polygon fill=\"#000000\" stroke=\"#000000\" points=\"8052.701,-158.1413 8050.5194,-147.7735 8045.7594,-157.2388 8052.701,-158.1413\"/>\n</g>\n<!-- 134 -->\n<g id=\"node135\" class=\"node\">\n<title>134</title>\n<path fill=\"#39e581\" fill-opacity=\"0.596078\" stroke=\"#000000\" d=\"M8252.5,-153C8252.5,-153 8145.5,-153 8145.5,-153 8139.5,-153 8133.5,-147 8133.5,-141 8133.5,-141 8133.5,-101 8133.5,-101 8133.5,-95 8139.5,-89 8145.5,-89 8145.5,-89 8252.5,-89 8252.5,-89 8258.5,-89 8264.5,-95 8264.5,-101 8264.5,-101 8264.5,-141 8264.5,-141 8264.5,-147 8258.5,-153 8252.5,-153\"/>\n<text text-anchor=\"start\" x=\"8160\" y=\"-138.8\" font-family=\"Helvetica,sans-Serif\" font-size=\"14.00\" fill=\"#000000\">X</text>\n<text text-anchor=\"start\" x=\"8170\" y=\"-138.8\" font-family=\"Helvetica,sans-Serif\" baseline-shift=\"sub\" font-size=\"14.00\" fill=\"#000000\">0</text>\n<text text-anchor=\"start\" x=\"8177\" y=\"-138.8\" font-family=\"Helvetica,sans-Serif\" font-size=\"14.00\" fill=\"#000000\"> ≤ 5939.0</text>\n<text text-anchor=\"start\" x=\"8165.5\" y=\"-124.8\" font-family=\"Helvetica,sans-Serif\" font-size=\"14.00\" fill=\"#000000\">gini = 0.41</text>\n<text text-anchor=\"start\" x=\"8155\" y=\"-110.8\" font-family=\"Helvetica,sans-Serif\" font-size=\"14.00\" fill=\"#000000\">samples = 59</text>\n<text text-anchor=\"start\" x=\"8141.5\" y=\"-96.8\" font-family=\"Helvetica,sans-Serif\" font-size=\"14.00\" fill=\"#000000\">value = [0, 42, 17]</text>\n</g>\n<!-- 133&#45;&gt;134 -->\n<g id=\"edge134\" class=\"edge\">\n<title>133&#45;&gt;134</title>\n<path fill=\"none\" stroke=\"#000000\" d=\"M8199,-188.8089C8199,-180.6906 8199,-171.8517 8199,-163.3186\"/>\n<polygon fill=\"#000000\" stroke=\"#000000\" points=\"8202.5001,-163.1307 8199,-153.1308 8195.5001,-163.1308 8202.5001,-163.1307\"/>\n</g>\n<!-- 137 -->\n<g id=\"node138\" class=\"node\">\n<title>137</title>\n<path fill=\"#39e581\" fill-opacity=\"0.156863\" stroke=\"#000000\" d=\"M8411,-153C8411,-153 8295,-153 8295,-153 8289,-153 8283,-147 8283,-141 8283,-141 8283,-101 8283,-101 8283,-95 8289,-89 8295,-89 8295,-89 8411,-89 8411,-89 8417,-89 8423,-95 8423,-101 8423,-101 8423,-141 8423,-141 8423,-147 8417,-153 8411,-153\"/>\n<text text-anchor=\"start\" x=\"8306\" y=\"-138.8\" font-family=\"Helvetica,sans-Serif\" font-size=\"14.00\" fill=\"#000000\">X</text>\n<text text-anchor=\"start\" x=\"8316\" y=\"-138.8\" font-family=\"Helvetica,sans-Serif\" baseline-shift=\"sub\" font-size=\"14.00\" fill=\"#000000\">4</text>\n<text text-anchor=\"start\" x=\"8323\" y=\"-138.8\" font-family=\"Helvetica,sans-Serif\" font-size=\"14.00\" fill=\"#000000\"> ≤ 103111.5</text>\n<text text-anchor=\"start\" x=\"8315\" y=\"-124.8\" font-family=\"Helvetica,sans-Serif\" font-size=\"14.00\" fill=\"#000000\">gini = 0.496</text>\n<text text-anchor=\"start\" x=\"8305\" y=\"-110.8\" font-family=\"Helvetica,sans-Serif\" font-size=\"14.00\" fill=\"#000000\">samples = 190</text>\n<text text-anchor=\"start\" x=\"8291\" y=\"-96.8\" font-family=\"Helvetica,sans-Serif\" font-size=\"14.00\" fill=\"#000000\">value = [0, 103, 87]</text>\n</g>\n<!-- 133&#45;&gt;137 -->\n<g id=\"edge137\" class=\"edge\">\n<title>133&#45;&gt;137</title>\n<path fill=\"none\" stroke=\"#000000\" d=\"M8248.5743,-188.8089C8263.2747,-179.2632 8279.5093,-168.7213 8294.7086,-158.8516\"/>\n<polygon fill=\"#000000\" stroke=\"#000000\" points=\"8297.0378,-161.5123 8303.5186,-153.1308 8293.2256,-155.6414 8297.0378,-161.5123\"/>\n</g>\n<!-- 135 -->\n<g id=\"node136\" class=\"node\">\n<title>135</title>\n<path fill=\"#39e581\" fill-opacity=\"0.443137\" stroke=\"#000000\" d=\"M8111.5,-53C8111.5,-53 8004.5,-53 8004.5,-53 7998.5,-53 7992.5,-47 7992.5,-41 7992.5,-41 7992.5,-12 7992.5,-12 7992.5,-6 7998.5,0 8004.5,0 8004.5,0 8111.5,0 8111.5,0 8117.5,0 8123.5,-6 8123.5,-12 8123.5,-12 8123.5,-41 8123.5,-41 8123.5,-47 8117.5,-53 8111.5,-53\"/>\n<text text-anchor=\"start\" x=\"8020\" y=\"-37.8\" font-family=\"Helvetica,sans-Serif\" font-size=\"14.00\" fill=\"#000000\">gini = 0.459</text>\n<text text-anchor=\"start\" x=\"8014\" y=\"-22.8\" font-family=\"Helvetica,sans-Serif\" font-size=\"14.00\" fill=\"#000000\">samples = 42</text>\n<text text-anchor=\"start\" x=\"8000.5\" y=\"-7.8\" font-family=\"Helvetica,sans-Serif\" font-size=\"14.00\" fill=\"#000000\">value = [0, 27, 15]</text>\n</g>\n<!-- 134&#45;&gt;135 -->\n<g id=\"edge135\" class=\"edge\">\n<title>134&#45;&gt;135</title>\n<path fill=\"none\" stroke=\"#000000\" d=\"M8150.8702,-88.7428C8136.5998,-79.1786 8120.9652,-68.7001 8106.6614,-59.1135\"/>\n<polygon fill=\"#000000\" stroke=\"#000000\" points=\"8108.2068,-55.9359 8097.9513,-53.2759 8104.3096,-61.7507 8108.2068,-55.9359\"/>\n</g>\n<!-- 136 -->\n<g id=\"node137\" class=\"node\">\n<title>136</title>\n<path fill=\"#39e581\" fill-opacity=\"0.866667\" stroke=\"#000000\" d=\"M8252.5,-53C8252.5,-53 8153.5,-53 8153.5,-53 8147.5,-53 8141.5,-47 8141.5,-41 8141.5,-41 8141.5,-12 8141.5,-12 8141.5,-6 8147.5,0 8153.5,0 8153.5,0 8252.5,0 8252.5,0 8258.5,0 8264.5,-6 8264.5,-12 8264.5,-12 8264.5,-41 8264.5,-41 8264.5,-47 8258.5,-53 8252.5,-53\"/>\n<text text-anchor=\"start\" x=\"8165\" y=\"-37.8\" font-family=\"Helvetica,sans-Serif\" font-size=\"14.00\" fill=\"#000000\">gini = 0.208</text>\n<text text-anchor=\"start\" x=\"8159\" y=\"-22.8\" font-family=\"Helvetica,sans-Serif\" font-size=\"14.00\" fill=\"#000000\">samples = 17</text>\n<text text-anchor=\"start\" x=\"8149.5\" y=\"-7.8\" font-family=\"Helvetica,sans-Serif\" font-size=\"14.00\" fill=\"#000000\">value = [0, 15, 2]</text>\n</g>\n<!-- 134&#45;&gt;136 -->\n<g id=\"edge136\" class=\"edge\">\n<title>134&#45;&gt;136</title>\n<path fill=\"none\" stroke=\"#000000\" d=\"M8200.3654,-88.7428C8200.7091,-80.6222 8201.0807,-71.8426 8201.4335,-63.5093\"/>\n<polygon fill=\"#000000\" stroke=\"#000000\" points=\"8204.9405,-63.415 8201.8666,-53.2759 8197.9468,-63.1189 8204.9405,-63.415\"/>\n</g>\n<!-- 138 -->\n<g id=\"node139\" class=\"node\">\n<title>138</title>\n<path fill=\"#8139e5\" stroke=\"#000000\" d=\"M8393.5,-53C8393.5,-53 8294.5,-53 8294.5,-53 8288.5,-53 8282.5,-47 8282.5,-41 8282.5,-41 8282.5,-12 8282.5,-12 8282.5,-6 8288.5,0 8294.5,0 8294.5,0 8393.5,0 8393.5,0 8399.5,0 8405.5,-6 8405.5,-12 8405.5,-12 8405.5,-41 8405.5,-41 8405.5,-47 8399.5,-53 8393.5,-53\"/>\n<text text-anchor=\"start\" x=\"8314.5\" y=\"-37.8\" font-family=\"Helvetica,sans-Serif\" font-size=\"14.00\" fill=\"#000000\">gini = 0.0</text>\n<text text-anchor=\"start\" x=\"8300\" y=\"-22.8\" font-family=\"Helvetica,sans-Serif\" font-size=\"14.00\" fill=\"#000000\">samples = 87</text>\n<text text-anchor=\"start\" x=\"8290.5\" y=\"-7.8\" font-family=\"Helvetica,sans-Serif\" font-size=\"14.00\" fill=\"#000000\">value = [0, 0, 87]</text>\n</g>\n<!-- 137&#45;&gt;138 -->\n<g id=\"edge138\" class=\"edge\">\n<title>137&#45;&gt;138</title>\n<path fill=\"none\" stroke=\"#000000\" d=\"M8349.9279,-88.7428C8349.1459,-80.532 8348.2997,-71.6474 8347.4983,-63.2317\"/>\n<polygon fill=\"#000000\" stroke=\"#000000\" points=\"8350.9825,-62.899 8346.5501,-53.2759 8344.014,-63.5627 8350.9825,-62.899\"/>\n</g>\n<!-- 139 -->\n<g id=\"node140\" class=\"node\">\n<title>139</title>\n<path fill=\"#39e581\" stroke=\"#000000\" d=\"M8542.5,-53C8542.5,-53 8435.5,-53 8435.5,-53 8429.5,-53 8423.5,-47 8423.5,-41 8423.5,-41 8423.5,-12 8423.5,-12 8423.5,-6 8429.5,0 8435.5,0 8435.5,0 8542.5,0 8542.5,0 8548.5,0 8554.5,-6 8554.5,-12 8554.5,-12 8554.5,-41 8554.5,-41 8554.5,-47 8548.5,-53 8542.5,-53\"/>\n<text text-anchor=\"start\" x=\"8459.5\" y=\"-37.8\" font-family=\"Helvetica,sans-Serif\" font-size=\"14.00\" fill=\"#000000\">gini = 0.0</text>\n<text text-anchor=\"start\" x=\"8441\" y=\"-22.8\" font-family=\"Helvetica,sans-Serif\" font-size=\"14.00\" fill=\"#000000\">samples = 103</text>\n<text text-anchor=\"start\" x=\"8431.5\" y=\"-7.8\" font-family=\"Helvetica,sans-Serif\" font-size=\"14.00\" fill=\"#000000\">value = [0, 103, 0]</text>\n</g>\n<!-- 137&#45;&gt;139 -->\n<g id=\"edge139\" class=\"edge\">\n<title>137&#45;&gt;139</title>\n<path fill=\"none\" stroke=\"#000000\" d=\"M8399.4231,-88.7428C8413.1875,-79.1786 8428.2676,-68.7001 8442.0642,-59.1135\"/>\n<polygon fill=\"#000000\" stroke=\"#000000\" points=\"8444.2505,-61.8564 8450.4654,-53.2759 8440.2561,-56.1079 8444.2505,-61.8564\"/>\n</g>\n<!-- 142 -->\n<g id=\"node143\" class=\"node\">\n<title>142</title>\n<path fill=\"#39e581\" fill-opacity=\"0.929412\" stroke=\"#000000\" d=\"M8411,-453C8411,-453 8295,-453 8295,-453 8289,-453 8283,-447 8283,-441 8283,-441 8283,-401 8283,-401 8283,-395 8289,-389 8295,-389 8295,-389 8411,-389 8411,-389 8417,-389 8423,-395 8423,-401 8423,-401 8423,-441 8423,-441 8423,-447 8417,-453 8411,-453\"/>\n<text text-anchor=\"start\" x=\"8314\" y=\"-438.8\" font-family=\"Helvetica,sans-Serif\" font-size=\"14.00\" fill=\"#000000\">X</text>\n<text text-anchor=\"start\" x=\"8324\" y=\"-438.8\" font-family=\"Helvetica,sans-Serif\" baseline-shift=\"sub\" font-size=\"14.00\" fill=\"#000000\">1</text>\n<text text-anchor=\"start\" x=\"8331\" y=\"-438.8\" font-family=\"Helvetica,sans-Serif\" font-size=\"14.00\" fill=\"#000000\"> ≤ 37.816</text>\n<text text-anchor=\"start\" x=\"8315\" y=\"-424.8\" font-family=\"Helvetica,sans-Serif\" font-size=\"14.00\" fill=\"#000000\">gini = 0.123</text>\n<text text-anchor=\"start\" x=\"8305\" y=\"-410.8\" font-family=\"Helvetica,sans-Serif\" font-size=\"14.00\" fill=\"#000000\">samples = 182</text>\n<text text-anchor=\"start\" x=\"8291\" y=\"-396.8\" font-family=\"Helvetica,sans-Serif\" font-size=\"14.00\" fill=\"#000000\">value = [0, 170, 12]</text>\n</g>\n<!-- 141&#45;&gt;142 -->\n<g id=\"edge142\" class=\"edge\">\n<title>141&#45;&gt;142</title>\n<path fill=\"none\" stroke=\"#000000\" d=\"M8353,-488.8089C8353,-480.6906 8353,-471.8517 8353,-463.3186\"/>\n<polygon fill=\"#000000\" stroke=\"#000000\" points=\"8356.5001,-463.1307 8353,-453.1308 8349.5001,-463.1308 8356.5001,-463.1307\"/>\n</g>\n<!-- 147 -->\n<g id=\"node148\" class=\"node\">\n<title>147</title>\n<path fill=\"#e58139\" stroke=\"#000000\" d=\"M8560.5,-447.5C8560.5,-447.5 8453.5,-447.5 8453.5,-447.5 8447.5,-447.5 8441.5,-441.5 8441.5,-435.5 8441.5,-435.5 8441.5,-406.5 8441.5,-406.5 8441.5,-400.5 8447.5,-394.5 8453.5,-394.5 8453.5,-394.5 8560.5,-394.5 8560.5,-394.5 8566.5,-394.5 8572.5,-400.5 8572.5,-406.5 8572.5,-406.5 8572.5,-435.5 8572.5,-435.5 8572.5,-441.5 8566.5,-447.5 8560.5,-447.5\"/>\n<text text-anchor=\"start\" x=\"8477.5\" y=\"-432.3\" font-family=\"Helvetica,sans-Serif\" font-size=\"14.00\" fill=\"#000000\">gini = 0.0</text>\n<text text-anchor=\"start\" x=\"8459\" y=\"-417.3\" font-family=\"Helvetica,sans-Serif\" font-size=\"14.00\" fill=\"#000000\">samples = 142</text>\n<text text-anchor=\"start\" x=\"8449.5\" y=\"-402.3\" font-family=\"Helvetica,sans-Serif\" font-size=\"14.00\" fill=\"#000000\">value = [142, 0, 0]</text>\n</g>\n<!-- 141&#45;&gt;147 -->\n<g id=\"edge147\" class=\"edge\">\n<title>141&#45;&gt;147</title>\n<path fill=\"none\" stroke=\"#000000\" d=\"M8402.5743,-488.8089C8420.1804,-477.3763 8439.9872,-464.5148 8457.5804,-453.0906\"/>\n<polygon fill=\"#000000\" stroke=\"#000000\" points=\"8459.5392,-455.9919 8466.02,-447.6104 8455.7269,-450.1211 8459.5392,-455.9919\"/>\n</g>\n<!-- 143 -->\n<g id=\"node144\" class=\"node\">\n<title>143</title>\n<path fill=\"#39e581\" fill-opacity=\"0.937255\" stroke=\"#000000\" d=\"M8411,-353C8411,-353 8295,-353 8295,-353 8289,-353 8283,-347 8283,-341 8283,-341 8283,-301 8283,-301 8283,-295 8289,-289 8295,-289 8295,-289 8411,-289 8411,-289 8417,-289 8423,-295 8423,-301 8423,-301 8423,-341 8423,-341 8423,-347 8417,-353 8411,-353\"/>\n<text text-anchor=\"start\" x=\"8306\" y=\"-338.8\" font-family=\"Helvetica,sans-Serif\" font-size=\"14.00\" fill=\"#000000\">X</text>\n<text text-anchor=\"start\" x=\"8316\" y=\"-338.8\" font-family=\"Helvetica,sans-Serif\" baseline-shift=\"sub\" font-size=\"14.00\" fill=\"#000000\">4</text>\n<text text-anchor=\"start\" x=\"8323\" y=\"-338.8\" font-family=\"Helvetica,sans-Serif\" font-size=\"14.00\" fill=\"#000000\"> ≤ 103115.5</text>\n<text text-anchor=\"start\" x=\"8315\" y=\"-324.8\" font-family=\"Helvetica,sans-Serif\" font-size=\"14.00\" fill=\"#000000\">gini = 0.114</text>\n<text text-anchor=\"start\" x=\"8305\" y=\"-310.8\" font-family=\"Helvetica,sans-Serif\" font-size=\"14.00\" fill=\"#000000\">samples = 181</text>\n<text text-anchor=\"start\" x=\"8291\" y=\"-296.8\" font-family=\"Helvetica,sans-Serif\" font-size=\"14.00\" fill=\"#000000\">value = [0, 170, 11]</text>\n</g>\n<!-- 142&#45;&gt;143 -->\n<g id=\"edge143\" class=\"edge\">\n<title>142&#45;&gt;143</title>\n<path fill=\"none\" stroke=\"#000000\" d=\"M8353,-388.8089C8353,-380.6906 8353,-371.8517 8353,-363.3186\"/>\n<polygon fill=\"#000000\" stroke=\"#000000\" points=\"8356.5001,-363.1307 8353,-353.1308 8349.5001,-363.1308 8356.5001,-363.1307\"/>\n</g>\n<!-- 146 -->\n<g id=\"node147\" class=\"node\">\n<title>146</title>\n<path fill=\"#8139e5\" stroke=\"#000000\" d=\"M8544.5,-347.5C8544.5,-347.5 8453.5,-347.5 8453.5,-347.5 8447.5,-347.5 8441.5,-341.5 8441.5,-335.5 8441.5,-335.5 8441.5,-306.5 8441.5,-306.5 8441.5,-300.5 8447.5,-294.5 8453.5,-294.5 8453.5,-294.5 8544.5,-294.5 8544.5,-294.5 8550.5,-294.5 8556.5,-300.5 8556.5,-306.5 8556.5,-306.5 8556.5,-335.5 8556.5,-335.5 8556.5,-341.5 8550.5,-347.5 8544.5,-347.5\"/>\n<text text-anchor=\"start\" x=\"8469.5\" y=\"-332.3\" font-family=\"Helvetica,sans-Serif\" font-size=\"14.00\" fill=\"#000000\">gini = 0.0</text>\n<text text-anchor=\"start\" x=\"8459.5\" y=\"-317.3\" font-family=\"Helvetica,sans-Serif\" font-size=\"14.00\" fill=\"#000000\">samples = 1</text>\n<text text-anchor=\"start\" x=\"8449.5\" y=\"-302.3\" font-family=\"Helvetica,sans-Serif\" font-size=\"14.00\" fill=\"#000000\">value = [0, 0, 1]</text>\n</g>\n<!-- 142&#45;&gt;146 -->\n<g id=\"edge146\" class=\"edge\">\n<title>142&#45;&gt;146</title>\n<path fill=\"none\" stroke=\"#000000\" d=\"M8399.999,-388.8089C8416.4678,-377.5289 8434.9676,-364.8578 8451.4789,-353.5487\"/>\n<polygon fill=\"#000000\" stroke=\"#000000\" points=\"8453.6382,-356.3121 8459.9107,-347.7735 8449.6825,-350.5368 8453.6382,-356.3121\"/>\n</g>\n<!-- 144 -->\n<g id=\"node145\" class=\"node\">\n<title>144</title>\n<path fill=\"#8139e5\" stroke=\"#000000\" d=\"M8402.5,-247.5C8402.5,-247.5 8303.5,-247.5 8303.5,-247.5 8297.5,-247.5 8291.5,-241.5 8291.5,-235.5 8291.5,-235.5 8291.5,-206.5 8291.5,-206.5 8291.5,-200.5 8297.5,-194.5 8303.5,-194.5 8303.5,-194.5 8402.5,-194.5 8402.5,-194.5 8408.5,-194.5 8414.5,-200.5 8414.5,-206.5 8414.5,-206.5 8414.5,-235.5 8414.5,-235.5 8414.5,-241.5 8408.5,-247.5 8402.5,-247.5\"/>\n<text text-anchor=\"start\" x=\"8323.5\" y=\"-232.3\" font-family=\"Helvetica,sans-Serif\" font-size=\"14.00\" fill=\"#000000\">gini = 0.0</text>\n<text text-anchor=\"start\" x=\"8309\" y=\"-217.3\" font-family=\"Helvetica,sans-Serif\" font-size=\"14.00\" fill=\"#000000\">samples = 11</text>\n<text text-anchor=\"start\" x=\"8299.5\" y=\"-202.3\" font-family=\"Helvetica,sans-Serif\" font-size=\"14.00\" fill=\"#000000\">value = [0, 0, 11]</text>\n</g>\n<!-- 143&#45;&gt;144 -->\n<g id=\"edge144\" class=\"edge\">\n<title>143&#45;&gt;144</title>\n<path fill=\"none\" stroke=\"#000000\" d=\"M8353,-288.8089C8353,-278.9777 8353,-268.0898 8353,-257.9679\"/>\n<polygon fill=\"#000000\" stroke=\"#000000\" points=\"8356.5001,-257.7735 8353,-247.7735 8349.5001,-257.7736 8356.5001,-257.7735\"/>\n</g>\n<!-- 145 -->\n<g id=\"node146\" class=\"node\">\n<title>145</title>\n<path fill=\"#39e581\" stroke=\"#000000\" d=\"M8551.5,-247.5C8551.5,-247.5 8444.5,-247.5 8444.5,-247.5 8438.5,-247.5 8432.5,-241.5 8432.5,-235.5 8432.5,-235.5 8432.5,-206.5 8432.5,-206.5 8432.5,-200.5 8438.5,-194.5 8444.5,-194.5 8444.5,-194.5 8551.5,-194.5 8551.5,-194.5 8557.5,-194.5 8563.5,-200.5 8563.5,-206.5 8563.5,-206.5 8563.5,-235.5 8563.5,-235.5 8563.5,-241.5 8557.5,-247.5 8551.5,-247.5\"/>\n<text text-anchor=\"start\" x=\"8468.5\" y=\"-232.3\" font-family=\"Helvetica,sans-Serif\" font-size=\"14.00\" fill=\"#000000\">gini = 0.0</text>\n<text text-anchor=\"start\" x=\"8450\" y=\"-217.3\" font-family=\"Helvetica,sans-Serif\" font-size=\"14.00\" fill=\"#000000\">samples = 170</text>\n<text text-anchor=\"start\" x=\"8440.5\" y=\"-202.3\" font-family=\"Helvetica,sans-Serif\" font-size=\"14.00\" fill=\"#000000\">value = [0, 170, 0]</text>\n</g>\n<!-- 143&#45;&gt;145 -->\n<g id=\"edge145\" class=\"edge\">\n<title>143&#45;&gt;145</title>\n<path fill=\"none\" stroke=\"#000000\" d=\"M8399.6771,-288.8089C8416.0331,-277.5289 8434.4062,-264.8578 8450.8044,-253.5487\"/>\n<polygon fill=\"#000000\" stroke=\"#000000\" points=\"8452.9333,-256.3321 8459.1784,-247.7735 8448.9592,-250.5696 8452.9333,-256.3321\"/>\n</g>\n<!-- 149 -->\n<g id=\"node150\" class=\"node\">\n<title>149</title>\n<path fill=\"#e58139\" fill-opacity=\"0.458824\" stroke=\"#000000\" d=\"M10155.5,-653C10155.5,-653 9998.5,-653 9998.5,-653 9992.5,-653 9986.5,-647 9986.5,-641 9986.5,-641 9986.5,-601 9986.5,-601 9986.5,-595 9992.5,-589 9998.5,-589 9998.5,-589 10155.5,-589 10155.5,-589 10161.5,-589 10167.5,-595 10167.5,-601 10167.5,-601 10167.5,-641 10167.5,-641 10167.5,-647 10161.5,-653 10155.5,-653\"/>\n<text text-anchor=\"start\" x=\"10046.5\" y=\"-638.8\" font-family=\"Helvetica,sans-Serif\" font-size=\"14.00\" fill=\"#000000\">X</text>\n<text text-anchor=\"start\" x=\"10056.5\" y=\"-638.8\" font-family=\"Helvetica,sans-Serif\" baseline-shift=\"sub\" font-size=\"14.00\" fill=\"#000000\">3</text>\n<text text-anchor=\"start\" x=\"10063.5\" y=\"-638.8\" font-family=\"Helvetica,sans-Serif\" font-size=\"14.00\" fill=\"#000000\"> ≤ 97.0</text>\n<text text-anchor=\"start\" x=\"10039\" y=\"-624.8\" font-family=\"Helvetica,sans-Serif\" font-size=\"14.00\" fill=\"#000000\">gini = 0.483</text>\n<text text-anchor=\"start\" x=\"10025\" y=\"-610.8\" font-family=\"Helvetica,sans-Serif\" font-size=\"14.00\" fill=\"#000000\">samples = 5530</text>\n<text text-anchor=\"start\" x=\"9994.5\" y=\"-596.8\" font-family=\"Helvetica,sans-Serif\" font-size=\"14.00\" fill=\"#000000\">value = [3527, 1827, 176]</text>\n</g>\n<!-- 148&#45;&gt;149 -->\n<g id=\"edge149\" class=\"edge\">\n<title>148&#45;&gt;149</title>\n<path fill=\"none\" stroke=\"#000000\" d=\"M10077,-688.8089C10077,-680.6906 10077,-671.8517 10077,-663.3186\"/>\n<polygon fill=\"#000000\" stroke=\"#000000\" points=\"10080.5001,-663.1307 10077,-653.1308 10073.5001,-663.1308 10080.5001,-663.1307\"/>\n</g>\n<!-- 196 -->\n<g id=\"node197\" class=\"node\">\n<title>196</title>\n<path fill=\"#e58139\" fill-opacity=\"0.286275\" stroke=\"#000000\" d=\"M12275,-653C12275,-653 12143,-653 12143,-653 12137,-653 12131,-647 12131,-641 12131,-641 12131,-601 12131,-601 12131,-595 12137,-589 12143,-589 12143,-589 12275,-589 12275,-589 12281,-589 12287,-595 12287,-601 12287,-601 12287,-641 12287,-641 12287,-647 12281,-653 12275,-653\"/>\n<text text-anchor=\"start\" x=\"12178.5\" y=\"-638.8\" font-family=\"Helvetica,sans-Serif\" font-size=\"14.00\" fill=\"#000000\">X</text>\n<text text-anchor=\"start\" x=\"12188.5\" y=\"-638.8\" font-family=\"Helvetica,sans-Serif\" baseline-shift=\"sub\" font-size=\"14.00\" fill=\"#000000\">3</text>\n<text text-anchor=\"start\" x=\"12195.5\" y=\"-638.8\" font-family=\"Helvetica,sans-Serif\" font-size=\"14.00\" fill=\"#000000\"> ≤ 97.0</text>\n<text text-anchor=\"start\" x=\"12171\" y=\"-624.8\" font-family=\"Helvetica,sans-Serif\" font-size=\"14.00\" fill=\"#000000\">gini = 0.523</text>\n<text text-anchor=\"start\" x=\"12157\" y=\"-610.8\" font-family=\"Helvetica,sans-Serif\" font-size=\"14.00\" fill=\"#000000\">samples = 1062</text>\n<text text-anchor=\"start\" x=\"12139\" y=\"-596.8\" font-family=\"Helvetica,sans-Serif\" font-size=\"14.00\" fill=\"#000000\">value = [602, 417, 43]</text>\n</g>\n<!-- 148&#45;&gt;196 -->\n<g id=\"edge196\" class=\"edge\">\n<title>148&#45;&gt;196</title>\n<path fill=\"none\" stroke=\"#000000\" d=\"M10167.5872,-716.7511C10517.045,-700.36 11775.1443,-641.3497 12120.6659,-625.1432\"/>\n<polygon fill=\"#000000\" stroke=\"#000000\" points=\"12121.0398,-628.6297 12130.8648,-624.6649 12120.7118,-621.6373 12121.0398,-628.6297\"/>\n</g>\n<!-- 150 -->\n<g id=\"node151\" class=\"node\">\n<title>150</title>\n<path fill=\"#e58139\" fill-opacity=\"0.400000\" stroke=\"#000000\" d=\"M10108.5,-553C10108.5,-553 9951.5,-553 9951.5,-553 9945.5,-553 9939.5,-547 9939.5,-541 9939.5,-541 9939.5,-501 9939.5,-501 9939.5,-495 9945.5,-489 9951.5,-489 9951.5,-489 10108.5,-489 10108.5,-489 10114.5,-489 10120.5,-495 10120.5,-501 10120.5,-501 10120.5,-541 10120.5,-541 10120.5,-547 10114.5,-553 10108.5,-553\"/>\n<text text-anchor=\"start\" x=\"10003.5\" y=\"-538.8\" font-family=\"Helvetica,sans-Serif\" font-size=\"14.00\" fill=\"#000000\">X</text>\n<text text-anchor=\"start\" x=\"10013.5\" y=\"-538.8\" font-family=\"Helvetica,sans-Serif\" baseline-shift=\"sub\" font-size=\"14.00\" fill=\"#000000\">5</text>\n<text text-anchor=\"start\" x=\"10020.5\" y=\"-538.8\" font-family=\"Helvetica,sans-Serif\" font-size=\"14.00\" fill=\"#000000\"> ≤ 2.5</text>\n<text text-anchor=\"start\" x=\"9992\" y=\"-524.8\" font-family=\"Helvetica,sans-Serif\" font-size=\"14.00\" fill=\"#000000\">gini = 0.499</text>\n<text text-anchor=\"start\" x=\"9978\" y=\"-510.8\" font-family=\"Helvetica,sans-Serif\" font-size=\"14.00\" fill=\"#000000\">samples = 5147</text>\n<text text-anchor=\"start\" x=\"9947.5\" y=\"-496.8\" font-family=\"Helvetica,sans-Serif\" font-size=\"14.00\" fill=\"#000000\">value = [3148, 1825, 174]</text>\n</g>\n<!-- 149&#45;&gt;150 -->\n<g id=\"edge150\" class=\"edge\">\n<title>149&#45;&gt;150</title>\n<path fill=\"none\" stroke=\"#000000\" d=\"M10061.8702,-588.8089C10057.8869,-580.3337 10053.5344,-571.0733 10049.3618,-562.1952\"/>\n<polygon fill=\"#000000\" stroke=\"#000000\" points=\"10052.5227,-560.6922 10045.1015,-553.1308 10046.1875,-563.6698 10052.5227,-560.6922\"/>\n</g>\n<!-- 187 -->\n<g id=\"node188\" class=\"node\">\n<title>187</title>\n<path fill=\"#e58139\" fill-opacity=\"0.988235\" stroke=\"#000000\" d=\"M10288.5,-553C10288.5,-553 10181.5,-553 10181.5,-553 10175.5,-553 10169.5,-547 10169.5,-541 10169.5,-541 10169.5,-501 10169.5,-501 10169.5,-495 10175.5,-489 10181.5,-489 10181.5,-489 10288.5,-489 10288.5,-489 10294.5,-489 10300.5,-495 10300.5,-501 10300.5,-501 10300.5,-541 10300.5,-541 10300.5,-547 10294.5,-553 10288.5,-553\"/>\n<text text-anchor=\"start\" x=\"10190\" y=\"-538.8\" font-family=\"Helvetica,sans-Serif\" font-size=\"14.00\" fill=\"#000000\">X</text>\n<text text-anchor=\"start\" x=\"10200\" y=\"-538.8\" font-family=\"Helvetica,sans-Serif\" baseline-shift=\"sub\" font-size=\"14.00\" fill=\"#000000\">2</text>\n<text text-anchor=\"start\" x=\"10207\" y=\"-538.8\" font-family=\"Helvetica,sans-Serif\" font-size=\"14.00\" fill=\"#000000\"> ≤ &#45;122.428</text>\n<text text-anchor=\"start\" x=\"10197\" y=\"-524.8\" font-family=\"Helvetica,sans-Serif\" font-size=\"14.00\" fill=\"#000000\">gini = 0.021</text>\n<text text-anchor=\"start\" x=\"10187\" y=\"-510.8\" font-family=\"Helvetica,sans-Serif\" font-size=\"14.00\" fill=\"#000000\">samples = 383</text>\n<text text-anchor=\"start\" x=\"10177.5\" y=\"-496.8\" font-family=\"Helvetica,sans-Serif\" font-size=\"14.00\" fill=\"#000000\">value = [379, 2, 2]</text>\n</g>\n<!-- 149&#45;&gt;187 -->\n<g id=\"edge187\" class=\"edge\">\n<title>149&#45;&gt;187</title>\n<path fill=\"none\" stroke=\"#000000\" d=\"M10127.8619,-588.8089C10143.0851,-579.174 10159.9119,-568.5241 10175.6314,-558.575\"/>\n<polygon fill=\"#000000\" stroke=\"#000000\" points=\"10177.6554,-561.4362 10184.2334,-553.1308 10173.9118,-555.5213 10177.6554,-561.4362\"/>\n</g>\n<!-- 151 -->\n<g id=\"node152\" class=\"node\">\n<title>151</title>\n<path fill=\"#e58139\" fill-opacity=\"0.615686\" stroke=\"#000000\" d=\"M9648,-453C9648,-453 9508,-453 9508,-453 9502,-453 9496,-447 9496,-441 9496,-441 9496,-401 9496,-401 9496,-395 9502,-389 9508,-389 9508,-389 9648,-389 9648,-389 9654,-389 9660,-395 9660,-401 9660,-401 9660,-441 9660,-441 9660,-447 9654,-453 9648,-453\"/>\n<text text-anchor=\"start\" x=\"9533\" y=\"-438.8\" font-family=\"Helvetica,sans-Serif\" font-size=\"14.00\" fill=\"#000000\">X</text>\n<text text-anchor=\"start\" x=\"9543\" y=\"-438.8\" font-family=\"Helvetica,sans-Serif\" baseline-shift=\"sub\" font-size=\"14.00\" fill=\"#000000\">2</text>\n<text text-anchor=\"start\" x=\"9550\" y=\"-438.8\" font-family=\"Helvetica,sans-Serif\" font-size=\"14.00\" fill=\"#000000\"> ≤ &#45;122.449</text>\n<text text-anchor=\"start\" x=\"9544.5\" y=\"-424.8\" font-family=\"Helvetica,sans-Serif\" font-size=\"14.00\" fill=\"#000000\">gini = 0.42</text>\n<text text-anchor=\"start\" x=\"9526\" y=\"-410.8\" font-family=\"Helvetica,sans-Serif\" font-size=\"14.00\" fill=\"#000000\">samples = 3210</text>\n<text text-anchor=\"start\" x=\"9504\" y=\"-396.8\" font-family=\"Helvetica,sans-Serif\" font-size=\"14.00\" fill=\"#000000\">value = [2296, 833, 81]</text>\n</g>\n<!-- 150&#45;&gt;151 -->\n<g id=\"edge151\" class=\"edge\">\n<title>150&#45;&gt;151</title>\n<path fill=\"none\" stroke=\"#000000\" d=\"M9939.3462,-500.9439C9861.1259,-483.6385 9748.6596,-458.7565 9670.0385,-441.3625\"/>\n<polygon fill=\"#000000\" stroke=\"#000000\" points=\"9670.6617,-437.9158 9660.1417,-439.1729 9669.1495,-444.7505 9670.6617,-437.9158\"/>\n</g>\n<!-- 172 -->\n<g id=\"node173\" class=\"node\">\n<title>172</title>\n<path fill=\"#39e581\" fill-opacity=\"0.129412\" stroke=\"#000000\" d=\"M10096,-453C10096,-453 9964,-453 9964,-453 9958,-453 9952,-447 9952,-441 9952,-441 9952,-401 9952,-401 9952,-395 9958,-389 9964,-389 9964,-389 10096,-389 10096,-389 10102,-389 10108,-395 10108,-401 10108,-401 10108,-441 10108,-441 10108,-447 10102,-453 10096,-453\"/>\n<text text-anchor=\"start\" x=\"9991\" y=\"-438.8\" font-family=\"Helvetica,sans-Serif\" font-size=\"14.00\" fill=\"#000000\">X</text>\n<text text-anchor=\"start\" x=\"10001\" y=\"-438.8\" font-family=\"Helvetica,sans-Serif\" baseline-shift=\"sub\" font-size=\"14.00\" fill=\"#000000\">1</text>\n<text text-anchor=\"start\" x=\"10008\" y=\"-438.8\" font-family=\"Helvetica,sans-Serif\" font-size=\"14.00\" fill=\"#000000\"> ≤ 37.776</text>\n<text text-anchor=\"start\" x=\"9992\" y=\"-424.8\" font-family=\"Helvetica,sans-Serif\" font-size=\"14.00\" fill=\"#000000\">gini = 0.542</text>\n<text text-anchor=\"start\" x=\"9978\" y=\"-410.8\" font-family=\"Helvetica,sans-Serif\" font-size=\"14.00\" fill=\"#000000\">samples = 1937</text>\n<text text-anchor=\"start\" x=\"9960\" y=\"-396.8\" font-family=\"Helvetica,sans-Serif\" font-size=\"14.00\" fill=\"#000000\">value = [852, 992, 93]</text>\n</g>\n<!-- 150&#45;&gt;172 -->\n<g id=\"edge172\" class=\"edge\">\n<title>150&#45;&gt;172</title>\n<path fill=\"none\" stroke=\"#000000\" d=\"M10030,-488.8089C10030,-480.6906 10030,-471.8517 10030,-463.3186\"/>\n<polygon fill=\"#000000\" stroke=\"#000000\" points=\"10033.5001,-463.1307 10030,-453.1308 10026.5001,-463.1308 10033.5001,-463.1307\"/>\n</g>\n<!-- 152 -->\n<g id=\"node153\" class=\"node\">\n<title>152</title>\n<path fill=\"#e58139\" fill-opacity=\"0.705882\" stroke=\"#000000\" d=\"M9331,-353C9331,-353 9199,-353 9199,-353 9193,-353 9187,-347 9187,-341 9187,-341 9187,-301 9187,-301 9187,-295 9193,-289 9199,-289 9199,-289 9331,-289 9331,-289 9337,-289 9343,-295 9343,-301 9343,-301 9343,-341 9343,-341 9343,-347 9337,-353 9331,-353\"/>\n<text text-anchor=\"start\" x=\"9238.5\" y=\"-338.8\" font-family=\"Helvetica,sans-Serif\" font-size=\"14.00\" fill=\"#000000\">X</text>\n<text text-anchor=\"start\" x=\"9248.5\" y=\"-338.8\" font-family=\"Helvetica,sans-Serif\" baseline-shift=\"sub\" font-size=\"14.00\" fill=\"#000000\">5</text>\n<text text-anchor=\"start\" x=\"9255.5\" y=\"-338.8\" font-family=\"Helvetica,sans-Serif\" font-size=\"14.00\" fill=\"#000000\"> ≤ 1.5</text>\n<text text-anchor=\"start\" x=\"9227\" y=\"-324.8\" font-family=\"Helvetica,sans-Serif\" font-size=\"14.00\" fill=\"#000000\">gini = 0.372</text>\n<text text-anchor=\"start\" x=\"9217\" y=\"-310.8\" font-family=\"Helvetica,sans-Serif\" font-size=\"14.00\" fill=\"#000000\">samples = 737</text>\n<text text-anchor=\"start\" x=\"9195\" y=\"-296.8\" font-family=\"Helvetica,sans-Serif\" font-size=\"14.00\" fill=\"#000000\">value = [564, 151, 22]</text>\n</g>\n<!-- 151&#45;&gt;152 -->\n<g id=\"edge152\" class=\"edge\">\n<title>151&#45;&gt;152</title>\n<path fill=\"none\" stroke=\"#000000\" d=\"M9495.7629,-394.7262C9451.805,-380.6821 9397.6712,-363.387 9352.8851,-349.0783\"/>\n<polygon fill=\"#000000\" stroke=\"#000000\" points=\"9353.776,-345.6887 9343.1852,-345.9793 9351.6456,-352.3567 9353.776,-345.6887\"/>\n</g>\n<!-- 165 -->\n<g id=\"node166\" class=\"node\">\n<title>165</title>\n<path fill=\"#e58139\" fill-opacity=\"0.584314\" stroke=\"#000000\" d=\"M9648,-353C9648,-353 9508,-353 9508,-353 9502,-353 9496,-347 9496,-341 9496,-341 9496,-301 9496,-301 9496,-295 9502,-289 9508,-289 9508,-289 9648,-289 9648,-289 9654,-289 9660,-295 9660,-301 9660,-301 9660,-341 9660,-341 9660,-347 9654,-353 9648,-353\"/>\n<text text-anchor=\"start\" x=\"9531\" y=\"-338.8\" font-family=\"Helvetica,sans-Serif\" font-size=\"14.00\" fill=\"#000000\">X</text>\n<text text-anchor=\"start\" x=\"9541\" y=\"-338.8\" font-family=\"Helvetica,sans-Serif\" baseline-shift=\"sub\" font-size=\"14.00\" fill=\"#000000\">4</text>\n<text text-anchor=\"start\" x=\"9548\" y=\"-338.8\" font-family=\"Helvetica,sans-Serif\" font-size=\"14.00\" fill=\"#000000\"> ≤ 103135.0</text>\n<text text-anchor=\"start\" x=\"9540\" y=\"-324.8\" font-family=\"Helvetica,sans-Serif\" font-size=\"14.00\" fill=\"#000000\">gini = 0.433</text>\n<text text-anchor=\"start\" x=\"9526\" y=\"-310.8\" font-family=\"Helvetica,sans-Serif\" font-size=\"14.00\" fill=\"#000000\">samples = 2473</text>\n<text text-anchor=\"start\" x=\"9504\" y=\"-296.8\" font-family=\"Helvetica,sans-Serif\" font-size=\"14.00\" fill=\"#000000\">value = [1732, 682, 59]</text>\n</g>\n<!-- 151&#45;&gt;165 -->\n<g id=\"edge165\" class=\"edge\">\n<title>151&#45;&gt;165</title>\n<path fill=\"none\" stroke=\"#000000\" d=\"M9578,-388.8089C9578,-380.6906 9578,-371.8517 9578,-363.3186\"/>\n<polygon fill=\"#000000\" stroke=\"#000000\" points=\"9581.5001,-363.1307 9578,-353.1308 9574.5001,-363.1308 9581.5001,-363.1307\"/>\n</g>\n<!-- 153 -->\n<g id=\"node154\" class=\"node\">\n<title>153</title>\n<path fill=\"#e58139\" fill-opacity=\"0.545098\" stroke=\"#000000\" d=\"M9074,-253C9074,-253 8942,-253 8942,-253 8936,-253 8930,-247 8930,-241 8930,-241 8930,-201 8930,-201 8930,-195 8936,-189 8942,-189 8942,-189 9074,-189 9074,-189 9080,-189 9086,-195 9086,-201 9086,-201 9086,-241 9086,-241 9086,-247 9080,-253 9074,-253\"/>\n<text text-anchor=\"start\" x=\"8963\" y=\"-238.8\" font-family=\"Helvetica,sans-Serif\" font-size=\"14.00\" fill=\"#000000\">X</text>\n<text text-anchor=\"start\" x=\"8973\" y=\"-238.8\" font-family=\"Helvetica,sans-Serif\" baseline-shift=\"sub\" font-size=\"14.00\" fill=\"#000000\">2</text>\n<text text-anchor=\"start\" x=\"8980\" y=\"-238.8\" font-family=\"Helvetica,sans-Serif\" font-size=\"14.00\" fill=\"#000000\"> ≤ &#45;122.451</text>\n<text text-anchor=\"start\" x=\"8970\" y=\"-224.8\" font-family=\"Helvetica,sans-Serif\" font-size=\"14.00\" fill=\"#000000\">gini = 0.462</text>\n<text text-anchor=\"start\" x=\"8960\" y=\"-210.8\" font-family=\"Helvetica,sans-Serif\" font-size=\"14.00\" fill=\"#000000\">samples = 529</text>\n<text text-anchor=\"start\" x=\"8938\" y=\"-196.8\" font-family=\"Helvetica,sans-Serif\" font-size=\"14.00\" fill=\"#000000\">value = [357, 150, 22]</text>\n</g>\n<!-- 152&#45;&gt;153 -->\n<g id=\"edge153\" class=\"edge\">\n<title>152&#45;&gt;153</title>\n<path fill=\"none\" stroke=\"#000000\" d=\"M9186.8448,-290.5894C9158.0615,-279.3897 9125.2753,-266.6324 9095.7049,-255.1264\"/>\n<polygon fill=\"#000000\" stroke=\"#000000\" points=\"9096.8148,-251.8027 9086.2262,-251.4382 9094.2764,-258.3263 9096.8148,-251.8027\"/>\n</g>\n<!-- 160 -->\n<g id=\"node161\" class=\"node\">\n<title>160</title>\n<path fill=\"#e58139\" fill-opacity=\"0.996078\" stroke=\"#000000\" d=\"M9318.5,-253C9318.5,-253 9211.5,-253 9211.5,-253 9205.5,-253 9199.5,-247 9199.5,-241 9199.5,-241 9199.5,-201 9199.5,-201 9199.5,-195 9205.5,-189 9211.5,-189 9211.5,-189 9318.5,-189 9318.5,-189 9324.5,-189 9330.5,-195 9330.5,-201 9330.5,-201 9330.5,-241 9330.5,-241 9330.5,-247 9324.5,-253 9318.5,-253\"/>\n<text text-anchor=\"start\" x=\"9220\" y=\"-238.8\" font-family=\"Helvetica,sans-Serif\" font-size=\"14.00\" fill=\"#000000\">X</text>\n<text text-anchor=\"start\" x=\"9230\" y=\"-238.8\" font-family=\"Helvetica,sans-Serif\" baseline-shift=\"sub\" font-size=\"14.00\" fill=\"#000000\">2</text>\n<text text-anchor=\"start\" x=\"9237\" y=\"-238.8\" font-family=\"Helvetica,sans-Serif\" font-size=\"14.00\" fill=\"#000000\"> ≤ &#45;122.502</text>\n<text text-anchor=\"start\" x=\"9231.5\" y=\"-224.8\" font-family=\"Helvetica,sans-Serif\" font-size=\"14.00\" fill=\"#000000\">gini = 0.01</text>\n<text text-anchor=\"start\" x=\"9217\" y=\"-210.8\" font-family=\"Helvetica,sans-Serif\" font-size=\"14.00\" fill=\"#000000\">samples = 208</text>\n<text text-anchor=\"start\" x=\"9207.5\" y=\"-196.8\" font-family=\"Helvetica,sans-Serif\" font-size=\"14.00\" fill=\"#000000\">value = [207, 1, 0]</text>\n</g>\n<!-- 152&#45;&gt;160 -->\n<g id=\"edge160\" class=\"edge\">\n<title>152&#45;&gt;160</title>\n<path fill=\"none\" stroke=\"#000000\" d=\"M9265,-288.8089C9265,-280.6906 9265,-271.8517 9265,-263.3186\"/>\n<polygon fill=\"#000000\" stroke=\"#000000\" points=\"9268.5001,-263.1307 9265,-253.1308 9261.5001,-263.1308 9268.5001,-263.1307\"/>\n</g>\n<!-- 154 -->\n<g id=\"node155\" class=\"node\">\n<title>154</title>\n<path fill=\"#e58139\" fill-opacity=\"0.529412\" stroke=\"#000000\" d=\"M8863,-153C8863,-153 8731,-153 8731,-153 8725,-153 8719,-147 8719,-141 8719,-141 8719,-101 8719,-101 8719,-95 8725,-89 8731,-89 8731,-89 8863,-89 8863,-89 8869,-89 8875,-95 8875,-101 8875,-101 8875,-141 8875,-141 8875,-147 8869,-153 8863,-153\"/>\n<text text-anchor=\"start\" x=\"8750\" y=\"-138.8\" font-family=\"Helvetica,sans-Serif\" font-size=\"14.00\" fill=\"#000000\">X</text>\n<text text-anchor=\"start\" x=\"8760\" y=\"-138.8\" font-family=\"Helvetica,sans-Serif\" baseline-shift=\"sub\" font-size=\"14.00\" fill=\"#000000\">4</text>\n<text text-anchor=\"start\" x=\"8767\" y=\"-138.8\" font-family=\"Helvetica,sans-Serif\" font-size=\"14.00\" fill=\"#000000\"> ≤ 103134.5</text>\n<text text-anchor=\"start\" x=\"8763.5\" y=\"-124.8\" font-family=\"Helvetica,sans-Serif\" font-size=\"14.00\" fill=\"#000000\">gini = 0.47</text>\n<text text-anchor=\"start\" x=\"8749\" y=\"-110.8\" font-family=\"Helvetica,sans-Serif\" font-size=\"14.00\" fill=\"#000000\">samples = 511</text>\n<text text-anchor=\"start\" x=\"8727\" y=\"-96.8\" font-family=\"Helvetica,sans-Serif\" font-size=\"14.00\" fill=\"#000000\">value = [340, 149, 22]</text>\n</g>\n<!-- 153&#45;&gt;154 -->\n<g id=\"edge154\" class=\"edge\">\n<title>153&#45;&gt;154</title>\n<path fill=\"none\" stroke=\"#000000\" d=\"M8940.3676,-188.9467C8919.1676,-178.8993 8895.6154,-167.7372 8873.8285,-157.4116\"/>\n<polygon fill=\"#000000\" stroke=\"#000000\" points=\"8875.1468,-154.1633 8864.6114,-153.0433 8872.1489,-160.4888 8875.1468,-154.1633\"/>\n</g>\n<!-- 157 -->\n<g id=\"node158\" class=\"node\">\n<title>157</title>\n<path fill=\"#e58139\" fill-opacity=\"0.941176\" stroke=\"#000000\" d=\"M9057.5,-153C9057.5,-153 8958.5,-153 8958.5,-153 8952.5,-153 8946.5,-147 8946.5,-141 8946.5,-141 8946.5,-101 8946.5,-101 8946.5,-95 8952.5,-89 8958.5,-89 8958.5,-89 9057.5,-89 9057.5,-89 9063.5,-89 9069.5,-95 9069.5,-101 9069.5,-101 9069.5,-141 9069.5,-141 9069.5,-147 9063.5,-153 9057.5,-153\"/>\n<text text-anchor=\"start\" x=\"8967\" y=\"-138.8\" font-family=\"Helvetica,sans-Serif\" font-size=\"14.00\" fill=\"#000000\">X</text>\n<text text-anchor=\"start\" x=\"8977\" y=\"-138.8\" font-family=\"Helvetica,sans-Serif\" baseline-shift=\"sub\" font-size=\"14.00\" fill=\"#000000\">2</text>\n<text text-anchor=\"start\" x=\"8984\" y=\"-138.8\" font-family=\"Helvetica,sans-Serif\" font-size=\"14.00\" fill=\"#000000\"> ≤ &#45;122.45</text>\n<text text-anchor=\"start\" x=\"8970\" y=\"-124.8\" font-family=\"Helvetica,sans-Serif\" font-size=\"14.00\" fill=\"#000000\">gini = 0.105</text>\n<text text-anchor=\"start\" x=\"8964\" y=\"-110.8\" font-family=\"Helvetica,sans-Serif\" font-size=\"14.00\" fill=\"#000000\">samples = 18</text>\n<text text-anchor=\"start\" x=\"8954.5\" y=\"-96.8\" font-family=\"Helvetica,sans-Serif\" font-size=\"14.00\" fill=\"#000000\">value = [17, 1, 0]</text>\n</g>\n<!-- 153&#45;&gt;157 -->\n<g id=\"edge157\" class=\"edge\">\n<title>153&#45;&gt;157</title>\n<path fill=\"none\" stroke=\"#000000\" d=\"M9008,-188.8089C9008,-180.6906 9008,-171.8517 9008,-163.3186\"/>\n<polygon fill=\"#000000\" stroke=\"#000000\" points=\"9011.5001,-163.1307 9008,-153.1308 9004.5001,-163.1308 9011.5001,-163.1307\"/>\n</g>\n<!-- 155 -->\n<g id=\"node156\" class=\"node\">\n<title>155</title>\n<path fill=\"#39e581\" fill-opacity=\"0.850980\" stroke=\"#000000\" d=\"M8701,-53C8701,-53 8585,-53 8585,-53 8579,-53 8573,-47 8573,-41 8573,-41 8573,-12 8573,-12 8573,-6 8579,0 8585,0 8585,0 8701,0 8701,0 8707,0 8713,-6 8713,-12 8713,-12 8713,-41 8713,-41 8713,-47 8707,-53 8701,-53\"/>\n<text text-anchor=\"start\" x=\"8605\" y=\"-37.8\" font-family=\"Helvetica,sans-Serif\" font-size=\"14.00\" fill=\"#000000\">gini = 0.224</text>\n<text text-anchor=\"start\" x=\"8595\" y=\"-22.8\" font-family=\"Helvetica,sans-Serif\" font-size=\"14.00\" fill=\"#000000\">samples = 171</text>\n<text text-anchor=\"start\" x=\"8581\" y=\"-7.8\" font-family=\"Helvetica,sans-Serif\" font-size=\"14.00\" fill=\"#000000\">value = [0, 149, 22]</text>\n</g>\n<!-- 154&#45;&gt;155 -->\n<g id=\"edge155\" class=\"edge\">\n<title>154&#45;&gt;155</title>\n<path fill=\"none\" stroke=\"#000000\" d=\"M8744.4327,-88.7428C8728.5525,-78.9981 8711.1256,-68.3043 8695.2652,-58.5718\"/>\n<polygon fill=\"#000000\" stroke=\"#000000\" points=\"8696.9886,-55.5229 8686.6347,-53.2759 8693.3274,-61.4892 8696.9886,-55.5229\"/>\n</g>\n<!-- 156 -->\n<g id=\"node157\" class=\"node\">\n<title>156</title>\n<path fill=\"#e58139\" stroke=\"#000000\" d=\"M8850.5,-53C8850.5,-53 8743.5,-53 8743.5,-53 8737.5,-53 8731.5,-47 8731.5,-41 8731.5,-41 8731.5,-12 8731.5,-12 8731.5,-6 8737.5,0 8743.5,0 8743.5,0 8850.5,0 8850.5,0 8856.5,0 8862.5,-6 8862.5,-12 8862.5,-12 8862.5,-41 8862.5,-41 8862.5,-47 8856.5,-53 8850.5,-53\"/>\n<text text-anchor=\"start\" x=\"8767.5\" y=\"-37.8\" font-family=\"Helvetica,sans-Serif\" font-size=\"14.00\" fill=\"#000000\">gini = 0.0</text>\n<text text-anchor=\"start\" x=\"8749\" y=\"-22.8\" font-family=\"Helvetica,sans-Serif\" font-size=\"14.00\" fill=\"#000000\">samples = 340</text>\n<text text-anchor=\"start\" x=\"8739.5\" y=\"-7.8\" font-family=\"Helvetica,sans-Serif\" font-size=\"14.00\" fill=\"#000000\">value = [340, 0, 0]</text>\n</g>\n<!-- 154&#45;&gt;156 -->\n<g id=\"edge156\" class=\"edge\">\n<title>154&#45;&gt;156</title>\n<path fill=\"none\" stroke=\"#000000\" d=\"M8797,-88.7428C8797,-80.6222 8797,-71.8426 8797,-63.5093\"/>\n<polygon fill=\"#000000\" stroke=\"#000000\" points=\"8800.5001,-63.2758 8797,-53.2759 8793.5001,-63.2759 8800.5001,-63.2758\"/>\n</g>\n<!-- 158 -->\n<g id=\"node159\" class=\"node\">\n<title>158</title>\n<path fill=\"#e58139\" stroke=\"#000000\" d=\"M8991.5,-53C8991.5,-53 8892.5,-53 8892.5,-53 8886.5,-53 8880.5,-47 8880.5,-41 8880.5,-41 8880.5,-12 8880.5,-12 8880.5,-6 8886.5,0 8892.5,0 8892.5,0 8991.5,0 8991.5,0 8997.5,0 9003.5,-6 9003.5,-12 9003.5,-12 9003.5,-41 9003.5,-41 9003.5,-47 8997.5,-53 8991.5,-53\"/>\n<text text-anchor=\"start\" x=\"8912.5\" y=\"-37.8\" font-family=\"Helvetica,sans-Serif\" font-size=\"14.00\" fill=\"#000000\">gini = 0.0</text>\n<text text-anchor=\"start\" x=\"8898\" y=\"-22.8\" font-family=\"Helvetica,sans-Serif\" font-size=\"14.00\" fill=\"#000000\">samples = 11</text>\n<text text-anchor=\"start\" x=\"8888.5\" y=\"-7.8\" font-family=\"Helvetica,sans-Serif\" font-size=\"14.00\" fill=\"#000000\">value = [11, 0, 0]</text>\n</g>\n<!-- 157&#45;&gt;158 -->\n<g id=\"edge158\" class=\"edge\">\n<title>157&#45;&gt;158</title>\n<path fill=\"none\" stroke=\"#000000\" d=\"M8985.4711,-88.7428C8979.3585,-79.9906 8972.7112,-70.4728 8966.4958,-61.5735\"/>\n<polygon fill=\"#000000\" stroke=\"#000000\" points=\"8969.296,-59.4702 8960.7006,-53.2759 8963.5571,-63.4784 8969.296,-59.4702\"/>\n</g>\n<!-- 159 -->\n<g id=\"node160\" class=\"node\">\n<title>159</title>\n<path fill=\"#e58139\" fill-opacity=\"0.831373\" stroke=\"#000000\" d=\"M9124.5,-53C9124.5,-53 9033.5,-53 9033.5,-53 9027.5,-53 9021.5,-47 9021.5,-41 9021.5,-41 9021.5,-12 9021.5,-12 9021.5,-6 9027.5,0 9033.5,0 9033.5,0 9124.5,0 9124.5,0 9130.5,0 9136.5,-6 9136.5,-12 9136.5,-12 9136.5,-41 9136.5,-41 9136.5,-47 9130.5,-53 9124.5,-53\"/>\n<text text-anchor=\"start\" x=\"9041\" y=\"-37.8\" font-family=\"Helvetica,sans-Serif\" font-size=\"14.00\" fill=\"#000000\">gini = 0.245</text>\n<text text-anchor=\"start\" x=\"9039.5\" y=\"-22.8\" font-family=\"Helvetica,sans-Serif\" font-size=\"14.00\" fill=\"#000000\">samples = 7</text>\n<text text-anchor=\"start\" x=\"9029.5\" y=\"-7.8\" font-family=\"Helvetica,sans-Serif\" font-size=\"14.00\" fill=\"#000000\">value = [6, 1, 0]</text>\n</g>\n<!-- 157&#45;&gt;159 -->\n<g id=\"edge159\" class=\"edge\">\n<title>157&#45;&gt;159</title>\n<path fill=\"none\" stroke=\"#000000\" d=\"M9032.2356,-88.7428C9038.8791,-79.9004 9046.1097,-70.2765 9052.8551,-61.2985\"/>\n<polygon fill=\"#000000\" stroke=\"#000000\" points=\"9055.6741,-63.3732 9058.8827,-53.2759 9050.0776,-59.1684 9055.6741,-63.3732\"/>\n</g>\n<!-- 161 -->\n<g id=\"node162\" class=\"node\">\n<title>161</title>\n<path fill=\"#e58139\" fill-opacity=\"0.917647\" stroke=\"#000000\" d=\"M9258.5,-153C9258.5,-153 9159.5,-153 9159.5,-153 9153.5,-153 9147.5,-147 9147.5,-141 9147.5,-141 9147.5,-101 9147.5,-101 9147.5,-95 9153.5,-89 9159.5,-89 9159.5,-89 9258.5,-89 9258.5,-89 9264.5,-89 9270.5,-95 9270.5,-101 9270.5,-101 9270.5,-141 9270.5,-141 9270.5,-147 9264.5,-153 9258.5,-153\"/>\n<text text-anchor=\"start\" x=\"9162\" y=\"-138.8\" font-family=\"Helvetica,sans-Serif\" font-size=\"14.00\" fill=\"#000000\">X</text>\n<text text-anchor=\"start\" x=\"9172\" y=\"-138.8\" font-family=\"Helvetica,sans-Serif\" baseline-shift=\"sub\" font-size=\"14.00\" fill=\"#000000\">4</text>\n<text text-anchor=\"start\" x=\"9179\" y=\"-138.8\" font-family=\"Helvetica,sans-Serif\" font-size=\"14.00\" fill=\"#000000\"> ≤ 103165.0</text>\n<text text-anchor=\"start\" x=\"9171\" y=\"-124.8\" font-family=\"Helvetica,sans-Serif\" font-size=\"14.00\" fill=\"#000000\">gini = 0.142</text>\n<text text-anchor=\"start\" x=\"9165\" y=\"-110.8\" font-family=\"Helvetica,sans-Serif\" font-size=\"14.00\" fill=\"#000000\">samples = 13</text>\n<text text-anchor=\"start\" x=\"9155.5\" y=\"-96.8\" font-family=\"Helvetica,sans-Serif\" font-size=\"14.00\" fill=\"#000000\">value = [12, 1, 0]</text>\n</g>\n<!-- 160&#45;&gt;161 -->\n<g id=\"edge161\" class=\"edge\">\n<title>160&#45;&gt;161</title>\n<path fill=\"none\" stroke=\"#000000\" d=\"M9246.973,-188.8089C9242.1769,-180.2445 9236.9318,-170.8782 9231.9124,-161.915\"/>\n<polygon fill=\"#000000\" stroke=\"#000000\" points=\"9234.9331,-160.1457 9226.9932,-153.1308 9228.8255,-163.566 9234.9331,-160.1457\"/>\n</g>\n<!-- 164 -->\n<g id=\"node165\" class=\"node\">\n<title>164</title>\n<path fill=\"#e58139\" stroke=\"#000000\" d=\"M9407.5,-147.5C9407.5,-147.5 9300.5,-147.5 9300.5,-147.5 9294.5,-147.5 9288.5,-141.5 9288.5,-135.5 9288.5,-135.5 9288.5,-106.5 9288.5,-106.5 9288.5,-100.5 9294.5,-94.5 9300.5,-94.5 9300.5,-94.5 9407.5,-94.5 9407.5,-94.5 9413.5,-94.5 9419.5,-100.5 9419.5,-106.5 9419.5,-106.5 9419.5,-135.5 9419.5,-135.5 9419.5,-141.5 9413.5,-147.5 9407.5,-147.5\"/>\n<text text-anchor=\"start\" x=\"9324.5\" y=\"-132.3\" font-family=\"Helvetica,sans-Serif\" font-size=\"14.00\" fill=\"#000000\">gini = 0.0</text>\n<text text-anchor=\"start\" x=\"9306\" y=\"-117.3\" font-family=\"Helvetica,sans-Serif\" font-size=\"14.00\" fill=\"#000000\">samples = 195</text>\n<text text-anchor=\"start\" x=\"9296.5\" y=\"-102.3\" font-family=\"Helvetica,sans-Serif\" font-size=\"14.00\" fill=\"#000000\">value = [195, 0, 0]</text>\n</g>\n<!-- 160&#45;&gt;164 -->\n<g id=\"edge164\" class=\"edge\">\n<title>160&#45;&gt;164</title>\n<path fill=\"none\" stroke=\"#000000\" d=\"M9293.6501,-188.8089C9303.1367,-178.1498 9313.7288,-166.2486 9323.3589,-155.4282\"/>\n<polygon fill=\"#000000\" stroke=\"#000000\" points=\"9326.1378,-157.5704 9330.1716,-147.7735 9320.9088,-152.9166 9326.1378,-157.5704\"/>\n</g>\n<!-- 162 -->\n<g id=\"node163\" class=\"node\">\n<title>162</title>\n<path fill=\"#e58139\" stroke=\"#000000\" d=\"M9265.5,-53C9265.5,-53 9166.5,-53 9166.5,-53 9160.5,-53 9154.5,-47 9154.5,-41 9154.5,-41 9154.5,-12 9154.5,-12 9154.5,-6 9160.5,0 9166.5,0 9166.5,0 9265.5,0 9265.5,0 9271.5,0 9277.5,-6 9277.5,-12 9277.5,-12 9277.5,-41 9277.5,-41 9277.5,-47 9271.5,-53 9265.5,-53\"/>\n<text text-anchor=\"start\" x=\"9186.5\" y=\"-37.8\" font-family=\"Helvetica,sans-Serif\" font-size=\"14.00\" fill=\"#000000\">gini = 0.0</text>\n<text text-anchor=\"start\" x=\"9172\" y=\"-22.8\" font-family=\"Helvetica,sans-Serif\" font-size=\"14.00\" fill=\"#000000\">samples = 12</text>\n<text text-anchor=\"start\" x=\"9162.5\" y=\"-7.8\" font-family=\"Helvetica,sans-Serif\" font-size=\"14.00\" fill=\"#000000\">value = [12, 0, 0]</text>\n</g>\n<!-- 161&#45;&gt;162 -->\n<g id=\"edge162\" class=\"edge\">\n<title>161&#45;&gt;162</title>\n<path fill=\"none\" stroke=\"#000000\" d=\"M9211.3894,-88.7428C9211.9909,-80.6222 9212.6413,-71.8426 9213.2586,-63.5093\"/>\n<polygon fill=\"#000000\" stroke=\"#000000\" points=\"9216.7682,-63.5071 9214.0166,-53.2759 9209.7874,-62.99 9216.7682,-63.5071\"/>\n</g>\n<!-- 163 -->\n<g id=\"node164\" class=\"node\">\n<title>163</title>\n<path fill=\"#39e581\" stroke=\"#000000\" d=\"M9398.5,-53C9398.5,-53 9307.5,-53 9307.5,-53 9301.5,-53 9295.5,-47 9295.5,-41 9295.5,-41 9295.5,-12 9295.5,-12 9295.5,-6 9301.5,0 9307.5,0 9307.5,0 9398.5,0 9398.5,0 9404.5,0 9410.5,-6 9410.5,-12 9410.5,-12 9410.5,-41 9410.5,-41 9410.5,-47 9404.5,-53 9398.5,-53\"/>\n<text text-anchor=\"start\" x=\"9323.5\" y=\"-37.8\" font-family=\"Helvetica,sans-Serif\" font-size=\"14.00\" fill=\"#000000\">gini = 0.0</text>\n<text text-anchor=\"start\" x=\"9313.5\" y=\"-22.8\" font-family=\"Helvetica,sans-Serif\" font-size=\"14.00\" fill=\"#000000\">samples = 1</text>\n<text text-anchor=\"start\" x=\"9303.5\" y=\"-7.8\" font-family=\"Helvetica,sans-Serif\" font-size=\"14.00\" fill=\"#000000\">value = [0, 1, 0]</text>\n</g>\n<!-- 161&#45;&gt;163 -->\n<g id=\"edge163\" class=\"edge\">\n<title>161&#45;&gt;163</title>\n<path fill=\"none\" stroke=\"#000000\" d=\"M9258.1539,-88.7428C9272.8654,-79.0883 9288.9965,-68.5023 9303.7164,-58.8424\"/>\n<polygon fill=\"#000000\" stroke=\"#000000\" points=\"9305.7585,-61.6886 9312.1987,-53.2759 9301.9179,-55.8363 9305.7585,-61.6886\"/>\n</g>\n<!-- 166 -->\n<g id=\"node167\" class=\"node\">\n<title>166</title>\n<path fill=\"#39e581\" fill-opacity=\"0.913725\" stroke=\"#000000\" d=\"M9557,-253C9557,-253 9441,-253 9441,-253 9435,-253 9429,-247 9429,-241 9429,-241 9429,-201 9429,-201 9429,-195 9435,-189 9441,-189 9441,-189 9557,-189 9557,-189 9563,-189 9569,-195 9569,-201 9569,-201 9569,-241 9569,-241 9569,-247 9563,-253 9557,-253\"/>\n<text text-anchor=\"start\" x=\"9456\" y=\"-238.8\" font-family=\"Helvetica,sans-Serif\" font-size=\"14.00\" fill=\"#000000\">X</text>\n<text text-anchor=\"start\" x=\"9466\" y=\"-238.8\" font-family=\"Helvetica,sans-Serif\" baseline-shift=\"sub\" font-size=\"14.00\" fill=\"#000000\">0</text>\n<text text-anchor=\"start\" x=\"9473\" y=\"-238.8\" font-family=\"Helvetica,sans-Serif\" font-size=\"14.00\" fill=\"#000000\"> ≤ 71675.5</text>\n<text text-anchor=\"start\" x=\"9461\" y=\"-224.8\" font-family=\"Helvetica,sans-Serif\" font-size=\"14.00\" fill=\"#000000\">gini = 0.147</text>\n<text text-anchor=\"start\" x=\"9451\" y=\"-210.8\" font-family=\"Helvetica,sans-Serif\" font-size=\"14.00\" fill=\"#000000\">samples = 741</text>\n<text text-anchor=\"start\" x=\"9437\" y=\"-196.8\" font-family=\"Helvetica,sans-Serif\" font-size=\"14.00\" fill=\"#000000\">value = [0, 682, 59]</text>\n</g>\n<!-- 165&#45;&gt;166 -->\n<g id=\"edge166\" class=\"edge\">\n<title>165&#45;&gt;166</title>\n<path fill=\"none\" stroke=\"#000000\" d=\"M9552.5691,-288.8089C9545.5917,-279.9769 9537.9407,-270.2921 9530.66,-261.0759\"/>\n<polygon fill=\"#000000\" stroke=\"#000000\" points=\"9533.3287,-258.8079 9524.3833,-253.1308 9527.8359,-263.1473 9533.3287,-258.8079\"/>\n</g>\n<!-- 171 -->\n<g id=\"node172\" class=\"node\">\n<title>171</title>\n<path fill=\"#e58139\" stroke=\"#000000\" d=\"M9715,-247.5C9715,-247.5 9599,-247.5 9599,-247.5 9593,-247.5 9587,-241.5 9587,-235.5 9587,-235.5 9587,-206.5 9587,-206.5 9587,-200.5 9593,-194.5 9599,-194.5 9599,-194.5 9715,-194.5 9715,-194.5 9721,-194.5 9727,-200.5 9727,-206.5 9727,-206.5 9727,-235.5 9727,-235.5 9727,-241.5 9721,-247.5 9715,-247.5\"/>\n<text text-anchor=\"start\" x=\"9627.5\" y=\"-232.3\" font-family=\"Helvetica,sans-Serif\" font-size=\"14.00\" fill=\"#000000\">gini = 0.0</text>\n<text text-anchor=\"start\" x=\"9605\" y=\"-217.3\" font-family=\"Helvetica,sans-Serif\" font-size=\"14.00\" fill=\"#000000\">samples = 1732</text>\n<text text-anchor=\"start\" x=\"9595\" y=\"-202.3\" font-family=\"Helvetica,sans-Serif\" font-size=\"14.00\" fill=\"#000000\">value = [1732, 0, 0]</text>\n</g>\n<!-- 165&#45;&gt;171 -->\n<g id=\"edge171\" class=\"edge\">\n<title>165&#45;&gt;171</title>\n<path fill=\"none\" stroke=\"#000000\" d=\"M9603.4309,-288.8089C9611.7699,-278.2533 9621.0711,-266.4796 9629.5525,-255.7437\"/>\n<polygon fill=\"#000000\" stroke=\"#000000\" points=\"9632.3963,-257.79 9635.8489,-247.7735 9626.9035,-253.4507 9632.3963,-257.79\"/>\n</g>\n<!-- 167 -->\n<g id=\"node168\" class=\"node\">\n<title>167</title>\n<path fill=\"#39e581\" fill-opacity=\"0.913725\" stroke=\"#000000\" d=\"M9566,-153C9566,-153 9450,-153 9450,-153 9444,-153 9438,-147 9438,-141 9438,-141 9438,-101 9438,-101 9438,-95 9444,-89 9450,-89 9450,-89 9566,-89 9566,-89 9572,-89 9578,-95 9578,-101 9578,-101 9578,-141 9578,-141 9578,-147 9572,-153 9566,-153\"/>\n<text text-anchor=\"start\" x=\"9461\" y=\"-138.8\" font-family=\"Helvetica,sans-Serif\" font-size=\"14.00\" fill=\"#000000\">X</text>\n<text text-anchor=\"start\" x=\"9471\" y=\"-138.8\" font-family=\"Helvetica,sans-Serif\" baseline-shift=\"sub\" font-size=\"14.00\" fill=\"#000000\">4</text>\n<text text-anchor=\"start\" x=\"9478\" y=\"-138.8\" font-family=\"Helvetica,sans-Serif\" font-size=\"14.00\" fill=\"#000000\"> ≤ 103116.0</text>\n<text text-anchor=\"start\" x=\"9470\" y=\"-124.8\" font-family=\"Helvetica,sans-Serif\" font-size=\"14.00\" fill=\"#000000\">gini = 0.144</text>\n<text text-anchor=\"start\" x=\"9460\" y=\"-110.8\" font-family=\"Helvetica,sans-Serif\" font-size=\"14.00\" fill=\"#000000\">samples = 740</text>\n<text text-anchor=\"start\" x=\"9446\" y=\"-96.8\" font-family=\"Helvetica,sans-Serif\" font-size=\"14.00\" fill=\"#000000\">value = [0, 682, 58]</text>\n</g>\n<!-- 166&#45;&gt;167 -->\n<g id=\"edge167\" class=\"edge\">\n<title>166&#45;&gt;167</title>\n<path fill=\"none\" stroke=\"#000000\" d=\"M9501.8972,-188.8089C9502.6278,-180.6906 9503.4233,-171.8517 9504.1913,-163.3186\"/>\n<polygon fill=\"#000000\" stroke=\"#000000\" points=\"9507.6977,-163.4043 9505.1082,-153.1308 9500.7259,-162.7767 9507.6977,-163.4043\"/>\n</g>\n<!-- 170 -->\n<g id=\"node171\" class=\"node\">\n<title>170</title>\n<path fill=\"#8139e5\" stroke=\"#000000\" d=\"M9699.5,-147.5C9699.5,-147.5 9608.5,-147.5 9608.5,-147.5 9602.5,-147.5 9596.5,-141.5 9596.5,-135.5 9596.5,-135.5 9596.5,-106.5 9596.5,-106.5 9596.5,-100.5 9602.5,-94.5 9608.5,-94.5 9608.5,-94.5 9699.5,-94.5 9699.5,-94.5 9705.5,-94.5 9711.5,-100.5 9711.5,-106.5 9711.5,-106.5 9711.5,-135.5 9711.5,-135.5 9711.5,-141.5 9705.5,-147.5 9699.5,-147.5\"/>\n<text text-anchor=\"start\" x=\"9624.5\" y=\"-132.3\" font-family=\"Helvetica,sans-Serif\" font-size=\"14.00\" fill=\"#000000\">gini = 0.0</text>\n<text text-anchor=\"start\" x=\"9614.5\" y=\"-117.3\" font-family=\"Helvetica,sans-Serif\" font-size=\"14.00\" fill=\"#000000\">samples = 1</text>\n<text text-anchor=\"start\" x=\"9604.5\" y=\"-102.3\" font-family=\"Helvetica,sans-Serif\" font-size=\"14.00\" fill=\"#000000\">value = [0, 0, 1]</text>\n</g>\n<!-- 166&#45;&gt;170 -->\n<g id=\"edge170\" class=\"edge\">\n<title>166&#45;&gt;170</title>\n<path fill=\"none\" stroke=\"#000000\" d=\"M9548.8962,-188.8089C9566.6167,-177.3763 9586.552,-164.5148 9604.2595,-153.0906\"/>\n<polygon fill=\"#000000\" stroke=\"#000000\" points=\"9606.2483,-155.9728 9612.7539,-147.6104 9602.4534,-150.0907 9606.2483,-155.9728\"/>\n</g>\n<!-- 168 -->\n<g id=\"node169\" class=\"node\">\n<title>168</title>\n<path fill=\"#8139e5\" stroke=\"#000000\" d=\"M9551.5,-53C9551.5,-53 9452.5,-53 9452.5,-53 9446.5,-53 9440.5,-47 9440.5,-41 9440.5,-41 9440.5,-12 9440.5,-12 9440.5,-6 9446.5,0 9452.5,0 9452.5,0 9551.5,0 9551.5,0 9557.5,0 9563.5,-6 9563.5,-12 9563.5,-12 9563.5,-41 9563.5,-41 9563.5,-47 9557.5,-53 9551.5,-53\"/>\n<text text-anchor=\"start\" x=\"9472.5\" y=\"-37.8\" font-family=\"Helvetica,sans-Serif\" font-size=\"14.00\" fill=\"#000000\">gini = 0.0</text>\n<text text-anchor=\"start\" x=\"9458\" y=\"-22.8\" font-family=\"Helvetica,sans-Serif\" font-size=\"14.00\" fill=\"#000000\">samples = 58</text>\n<text text-anchor=\"start\" x=\"9448.5\" y=\"-7.8\" font-family=\"Helvetica,sans-Serif\" font-size=\"14.00\" fill=\"#000000\">value = [0, 0, 58]</text>\n</g>\n<!-- 167&#45;&gt;168 -->\n<g id=\"edge168\" class=\"edge\">\n<title>167&#45;&gt;168</title>\n<path fill=\"none\" stroke=\"#000000\" d=\"M9505.9519,-88.7428C9505.4363,-80.6222 9504.8789,-71.8426 9504.3498,-63.5093\"/>\n<polygon fill=\"#000000\" stroke=\"#000000\" points=\"9507.8268,-63.034 9503.7001,-53.2759 9500.8408,-63.4776 9507.8268,-63.034\"/>\n</g>\n<!-- 169 -->\n<g id=\"node170\" class=\"node\">\n<title>169</title>\n<path fill=\"#39e581\" stroke=\"#000000\" d=\"M9700.5,-53C9700.5,-53 9593.5,-53 9593.5,-53 9587.5,-53 9581.5,-47 9581.5,-41 9581.5,-41 9581.5,-12 9581.5,-12 9581.5,-6 9587.5,0 9593.5,0 9593.5,0 9700.5,0 9700.5,0 9706.5,0 9712.5,-6 9712.5,-12 9712.5,-12 9712.5,-41 9712.5,-41 9712.5,-47 9706.5,-53 9700.5,-53\"/>\n<text text-anchor=\"start\" x=\"9617.5\" y=\"-37.8\" font-family=\"Helvetica,sans-Serif\" font-size=\"14.00\" fill=\"#000000\">gini = 0.0</text>\n<text text-anchor=\"start\" x=\"9599\" y=\"-22.8\" font-family=\"Helvetica,sans-Serif\" font-size=\"14.00\" fill=\"#000000\">samples = 682</text>\n<text text-anchor=\"start\" x=\"9589.5\" y=\"-7.8\" font-family=\"Helvetica,sans-Serif\" font-size=\"14.00\" fill=\"#000000\">value = [0, 682, 0]</text>\n</g>\n<!-- 167&#45;&gt;169 -->\n<g id=\"edge169\" class=\"edge\">\n<title>167&#45;&gt;169</title>\n<path fill=\"none\" stroke=\"#000000\" d=\"M9555.4471,-88.7428C9569.5151,-79.1786 9584.9279,-68.7001 9599.0289,-59.1135\"/>\n<polygon fill=\"#000000\" stroke=\"#000000\" points=\"9601.3134,-61.7926 9607.6154,-53.2759 9597.3777,-56.0038 9601.3134,-61.7926\"/>\n</g>\n<!-- 173 -->\n<g id=\"node174\" class=\"node\">\n<title>173</title>\n<path fill=\"#39e581\" fill-opacity=\"0.333333\" stroke=\"#000000\" d=\"M10025,-353C10025,-353 9893,-353 9893,-353 9887,-353 9881,-347 9881,-341 9881,-341 9881,-301 9881,-301 9881,-295 9887,-289 9893,-289 9893,-289 10025,-289 10025,-289 10031,-289 10037,-295 10037,-301 10037,-301 10037,-341 10037,-341 10037,-347 10031,-353 10025,-353\"/>\n<text text-anchor=\"start\" x=\"9912\" y=\"-338.8\" font-family=\"Helvetica,sans-Serif\" font-size=\"14.00\" fill=\"#000000\">X</text>\n<text text-anchor=\"start\" x=\"9922\" y=\"-338.8\" font-family=\"Helvetica,sans-Serif\" baseline-shift=\"sub\" font-size=\"14.00\" fill=\"#000000\">4</text>\n<text text-anchor=\"start\" x=\"9929\" y=\"-338.8\" font-family=\"Helvetica,sans-Serif\" font-size=\"14.00\" fill=\"#000000\"> ≤ 103135.0</text>\n<text text-anchor=\"start\" x=\"9921\" y=\"-324.8\" font-family=\"Helvetica,sans-Serif\" font-size=\"14.00\" fill=\"#000000\">gini = 0.524</text>\n<text text-anchor=\"start\" x=\"9911\" y=\"-310.8\" font-family=\"Helvetica,sans-Serif\" font-size=\"14.00\" fill=\"#000000\">samples = 920</text>\n<text text-anchor=\"start\" x=\"9889\" y=\"-296.8\" font-family=\"Helvetica,sans-Serif\" font-size=\"14.00\" fill=\"#000000\">value = [340, 534, 46]</text>\n</g>\n<!-- 172&#45;&gt;173 -->\n<g id=\"edge173\" class=\"edge\">\n<title>172&#45;&gt;173</title>\n<path fill=\"none\" stroke=\"#000000\" d=\"M10007.1443,-388.8089C10000.9369,-380.0661 9994.1362,-370.4876 9987.6523,-361.3553\"/>\n<polygon fill=\"#000000\" stroke=\"#000000\" points=\"9990.4559,-359.2584 9981.8128,-353.1308 9984.7483,-363.3108 9990.4559,-359.2584\"/>\n</g>\n<!-- 178 -->\n<g id=\"node179\" class=\"node\">\n<title>178</title>\n<path fill=\"#e58139\" fill-opacity=\"0.098039\" stroke=\"#000000\" d=\"M10199,-353C10199,-353 10067,-353 10067,-353 10061,-353 10055,-347 10055,-341 10055,-341 10055,-301 10055,-301 10055,-295 10061,-289 10067,-289 10067,-289 10199,-289 10199,-289 10205,-289 10211,-295 10211,-301 10211,-301 10211,-341 10211,-341 10211,-347 10205,-353 10199,-353\"/>\n<text text-anchor=\"start\" x=\"10086\" y=\"-338.8\" font-family=\"Helvetica,sans-Serif\" font-size=\"14.00\" fill=\"#000000\">X</text>\n<text text-anchor=\"start\" x=\"10096\" y=\"-338.8\" font-family=\"Helvetica,sans-Serif\" baseline-shift=\"sub\" font-size=\"14.00\" fill=\"#000000\">4</text>\n<text text-anchor=\"start\" x=\"10103\" y=\"-338.8\" font-family=\"Helvetica,sans-Serif\" font-size=\"14.00\" fill=\"#000000\"> ≤ 103135.0</text>\n<text text-anchor=\"start\" x=\"10095\" y=\"-324.8\" font-family=\"Helvetica,sans-Serif\" font-size=\"14.00\" fill=\"#000000\">gini = 0.542</text>\n<text text-anchor=\"start\" x=\"10081\" y=\"-310.8\" font-family=\"Helvetica,sans-Serif\" font-size=\"14.00\" fill=\"#000000\">samples = 1017</text>\n<text text-anchor=\"start\" x=\"10063\" y=\"-296.8\" font-family=\"Helvetica,sans-Serif\" font-size=\"14.00\" fill=\"#000000\">value = [512, 458, 47]</text>\n</g>\n<!-- 172&#45;&gt;178 -->\n<g id=\"edge178\" class=\"edge\">\n<title>172&#45;&gt;178</title>\n<path fill=\"none\" stroke=\"#000000\" d=\"M10063.1568,-388.8089C10072.5295,-379.7092 10082.8346,-369.7043 10092.5834,-360.2394\"/>\n<polygon fill=\"#000000\" stroke=\"#000000\" points=\"10095.1686,-362.6078 10099.9053,-353.1308 10090.2925,-357.5854 10095.1686,-362.6078\"/>\n</g>\n<!-- 174 -->\n<g id=\"node175\" class=\"node\">\n<title>174</title>\n<path fill=\"#39e581\" fill-opacity=\"0.913725\" stroke=\"#000000\" d=\"M9873,-253C9873,-253 9757,-253 9757,-253 9751,-253 9745,-247 9745,-241 9745,-241 9745,-201 9745,-201 9745,-195 9751,-189 9757,-189 9757,-189 9873,-189 9873,-189 9879,-189 9885,-195 9885,-201 9885,-201 9885,-241 9885,-241 9885,-247 9879,-253 9873,-253\"/>\n<text text-anchor=\"start\" x=\"9768\" y=\"-238.8\" font-family=\"Helvetica,sans-Serif\" font-size=\"14.00\" fill=\"#000000\">X</text>\n<text text-anchor=\"start\" x=\"9778\" y=\"-238.8\" font-family=\"Helvetica,sans-Serif\" baseline-shift=\"sub\" font-size=\"14.00\" fill=\"#000000\">4</text>\n<text text-anchor=\"start\" x=\"9785\" y=\"-238.8\" font-family=\"Helvetica,sans-Serif\" font-size=\"14.00\" fill=\"#000000\"> ≤ 103114.0</text>\n<text text-anchor=\"start\" x=\"9777\" y=\"-224.8\" font-family=\"Helvetica,sans-Serif\" font-size=\"14.00\" fill=\"#000000\">gini = 0.146</text>\n<text text-anchor=\"start\" x=\"9767\" y=\"-210.8\" font-family=\"Helvetica,sans-Serif\" font-size=\"14.00\" fill=\"#000000\">samples = 580</text>\n<text text-anchor=\"start\" x=\"9753\" y=\"-196.8\" font-family=\"Helvetica,sans-Serif\" font-size=\"14.00\" fill=\"#000000\">value = [0, 534, 46]</text>\n</g>\n<!-- 173&#45;&gt;174 -->\n<g id=\"edge174\" class=\"edge\">\n<title>173&#45;&gt;174</title>\n<path fill=\"none\" stroke=\"#000000\" d=\"M9912.6449,-288.8089C9898.899,-279.2632 9883.7186,-268.7213 9869.5063,-258.8516\"/>\n<polygon fill=\"#000000\" stroke=\"#000000\" points=\"9871.4784,-255.96 9861.2683,-253.1308 9867.4856,-261.7096 9871.4784,-255.96\"/>\n</g>\n<!-- 177 -->\n<g id=\"node178\" class=\"node\">\n<title>177</title>\n<path fill=\"#e58139\" stroke=\"#000000\" d=\"M10022.5,-247.5C10022.5,-247.5 9915.5,-247.5 9915.5,-247.5 9909.5,-247.5 9903.5,-241.5 9903.5,-235.5 9903.5,-235.5 9903.5,-206.5 9903.5,-206.5 9903.5,-200.5 9909.5,-194.5 9915.5,-194.5 9915.5,-194.5 10022.5,-194.5 10022.5,-194.5 10028.5,-194.5 10034.5,-200.5 10034.5,-206.5 10034.5,-206.5 10034.5,-235.5 10034.5,-235.5 10034.5,-241.5 10028.5,-247.5 10022.5,-247.5\"/>\n<text text-anchor=\"start\" x=\"9939.5\" y=\"-232.3\" font-family=\"Helvetica,sans-Serif\" font-size=\"14.00\" fill=\"#000000\">gini = 0.0</text>\n<text text-anchor=\"start\" x=\"9921\" y=\"-217.3\" font-family=\"Helvetica,sans-Serif\" font-size=\"14.00\" fill=\"#000000\">samples = 340</text>\n<text text-anchor=\"start\" x=\"9911.5\" y=\"-202.3\" font-family=\"Helvetica,sans-Serif\" font-size=\"14.00\" fill=\"#000000\">value = [340, 0, 0]</text>\n</g>\n<!-- 173&#45;&gt;177 -->\n<g id=\"edge177\" class=\"edge\">\n<title>173&#45;&gt;177</title>\n<path fill=\"none\" stroke=\"#000000\" d=\"M9962.2191,-288.8089C9963.2022,-278.9777 9964.291,-268.0898 9965.3032,-257.9679\"/>\n<polygon fill=\"#000000\" stroke=\"#000000\" points=\"9968.8102,-258.0722 9966.3226,-247.7735 9961.8449,-257.3756 9968.8102,-258.0722\"/>\n</g>\n<!-- 175 -->\n<g id=\"node176\" class=\"node\">\n<title>175</title>\n<path fill=\"#8139e5\" stroke=\"#000000\" d=\"M9856.5,-147.5C9856.5,-147.5 9757.5,-147.5 9757.5,-147.5 9751.5,-147.5 9745.5,-141.5 9745.5,-135.5 9745.5,-135.5 9745.5,-106.5 9745.5,-106.5 9745.5,-100.5 9751.5,-94.5 9757.5,-94.5 9757.5,-94.5 9856.5,-94.5 9856.5,-94.5 9862.5,-94.5 9868.5,-100.5 9868.5,-106.5 9868.5,-106.5 9868.5,-135.5 9868.5,-135.5 9868.5,-141.5 9862.5,-147.5 9856.5,-147.5\"/>\n<text text-anchor=\"start\" x=\"9777.5\" y=\"-132.3\" font-family=\"Helvetica,sans-Serif\" font-size=\"14.00\" fill=\"#000000\">gini = 0.0</text>\n<text text-anchor=\"start\" x=\"9763\" y=\"-117.3\" font-family=\"Helvetica,sans-Serif\" font-size=\"14.00\" fill=\"#000000\">samples = 46</text>\n<text text-anchor=\"start\" x=\"9753.5\" y=\"-102.3\" font-family=\"Helvetica,sans-Serif\" font-size=\"14.00\" fill=\"#000000\">value = [0, 0, 46]</text>\n</g>\n<!-- 174&#45;&gt;175 -->\n<g id=\"edge175\" class=\"edge\">\n<title>174&#45;&gt;175</title>\n<path fill=\"none\" stroke=\"#000000\" d=\"M9812.4247,-188.8089C9811.6382,-178.9777 9810.7672,-168.0898 9809.9574,-157.9679\"/>\n<polygon fill=\"#000000\" stroke=\"#000000\" points=\"9813.4283,-157.4625 9809.1419,-147.7735 9806.4506,-158.0208 9813.4283,-157.4625\"/>\n</g>\n<!-- 176 -->\n<g id=\"node177\" class=\"node\">\n<title>176</title>\n<path fill=\"#39e581\" stroke=\"#000000\" d=\"M10005.5,-147.5C10005.5,-147.5 9898.5,-147.5 9898.5,-147.5 9892.5,-147.5 9886.5,-141.5 9886.5,-135.5 9886.5,-135.5 9886.5,-106.5 9886.5,-106.5 9886.5,-100.5 9892.5,-94.5 9898.5,-94.5 9898.5,-94.5 10005.5,-94.5 10005.5,-94.5 10011.5,-94.5 10017.5,-100.5 10017.5,-106.5 10017.5,-106.5 10017.5,-135.5 10017.5,-135.5 10017.5,-141.5 10011.5,-147.5 10005.5,-147.5\"/>\n<text text-anchor=\"start\" x=\"9922.5\" y=\"-132.3\" font-family=\"Helvetica,sans-Serif\" font-size=\"14.00\" fill=\"#000000\">gini = 0.0</text>\n<text text-anchor=\"start\" x=\"9904\" y=\"-117.3\" font-family=\"Helvetica,sans-Serif\" font-size=\"14.00\" fill=\"#000000\">samples = 534</text>\n<text text-anchor=\"start\" x=\"9894.5\" y=\"-102.3\" font-family=\"Helvetica,sans-Serif\" font-size=\"14.00\" fill=\"#000000\">value = [0, 534, 0]</text>\n</g>\n<!-- 174&#45;&gt;176 -->\n<g id=\"edge176\" class=\"edge\">\n<title>174&#45;&gt;176</title>\n<path fill=\"none\" stroke=\"#000000\" d=\"M9859.1018,-188.8089C9874.4136,-177.6324 9891.5964,-165.0902 9906.9814,-153.8603\"/>\n<polygon fill=\"#000000\" stroke=\"#000000\" points=\"9909.3066,-156.4963 9915.3203,-147.7735 9905.1796,-150.8423 9909.3066,-156.4963\"/>\n</g>\n<!-- 179 -->\n<g id=\"node180\" class=\"node\">\n<title>179</title>\n<path fill=\"#39e581\" fill-opacity=\"0.898039\" stroke=\"#000000\" d=\"M10181,-253C10181,-253 10065,-253 10065,-253 10059,-253 10053,-247 10053,-241 10053,-241 10053,-201 10053,-201 10053,-195 10059,-189 10065,-189 10065,-189 10181,-189 10181,-189 10187,-189 10193,-195 10193,-201 10193,-201 10193,-241 10193,-241 10193,-247 10187,-253 10181,-253\"/>\n<text text-anchor=\"start\" x=\"10078\" y=\"-238.8\" font-family=\"Helvetica,sans-Serif\" font-size=\"14.00\" fill=\"#000000\">X</text>\n<text text-anchor=\"start\" x=\"10088\" y=\"-238.8\" font-family=\"Helvetica,sans-Serif\" baseline-shift=\"sub\" font-size=\"14.00\" fill=\"#000000\">2</text>\n<text text-anchor=\"start\" x=\"10095\" y=\"-238.8\" font-family=\"Helvetica,sans-Serif\" font-size=\"14.00\" fill=\"#000000\"> ≤ &#45;122.406</text>\n<text text-anchor=\"start\" x=\"10085\" y=\"-224.8\" font-family=\"Helvetica,sans-Serif\" font-size=\"14.00\" fill=\"#000000\">gini = 0.169</text>\n<text text-anchor=\"start\" x=\"10075\" y=\"-210.8\" font-family=\"Helvetica,sans-Serif\" font-size=\"14.00\" fill=\"#000000\">samples = 505</text>\n<text text-anchor=\"start\" x=\"10061\" y=\"-196.8\" font-family=\"Helvetica,sans-Serif\" font-size=\"14.00\" fill=\"#000000\">value = [0, 458, 47]</text>\n</g>\n<!-- 178&#45;&gt;179 -->\n<g id=\"edge179\" class=\"edge\">\n<title>178&#45;&gt;179</title>\n<path fill=\"none\" stroke=\"#000000\" d=\"M10129.7809,-288.8089C10128.9691,-280.6906 10128.0852,-271.8517 10127.2319,-263.3186\"/>\n<polygon fill=\"#000000\" stroke=\"#000000\" points=\"10130.6908,-262.7328 10126.2131,-253.1308 10123.7256,-263.4294 10130.6908,-262.7328\"/>\n</g>\n<!-- 186 -->\n<g id=\"node187\" class=\"node\">\n<title>186</title>\n<path fill=\"#e58139\" stroke=\"#000000\" d=\"M10330.5,-247.5C10330.5,-247.5 10223.5,-247.5 10223.5,-247.5 10217.5,-247.5 10211.5,-241.5 10211.5,-235.5 10211.5,-235.5 10211.5,-206.5 10211.5,-206.5 10211.5,-200.5 10217.5,-194.5 10223.5,-194.5 10223.5,-194.5 10330.5,-194.5 10330.5,-194.5 10336.5,-194.5 10342.5,-200.5 10342.5,-206.5 10342.5,-206.5 10342.5,-235.5 10342.5,-235.5 10342.5,-241.5 10336.5,-247.5 10330.5,-247.5\"/>\n<text text-anchor=\"start\" x=\"10247.5\" y=\"-232.3\" font-family=\"Helvetica,sans-Serif\" font-size=\"14.00\" fill=\"#000000\">gini = 0.0</text>\n<text text-anchor=\"start\" x=\"10229\" y=\"-217.3\" font-family=\"Helvetica,sans-Serif\" font-size=\"14.00\" fill=\"#000000\">samples = 512</text>\n<text text-anchor=\"start\" x=\"10219.5\" y=\"-202.3\" font-family=\"Helvetica,sans-Serif\" font-size=\"14.00\" fill=\"#000000\">value = [512, 0, 0]</text>\n</g>\n<!-- 178&#45;&gt;186 -->\n<g id=\"edge186\" class=\"edge\">\n<title>178&#45;&gt;186</title>\n<path fill=\"none\" stroke=\"#000000\" d=\"M10179.3551,-288.8089C10195.5984,-277.5289 10213.8447,-264.8578 10230.1298,-253.5487\"/>\n<polygon fill=\"#000000\" stroke=\"#000000\" points=\"10232.2288,-256.3523 10238.4461,-247.7735 10228.236,-250.6027 10232.2288,-256.3523\"/>\n</g>\n<!-- 180 -->\n<g id=\"node181\" class=\"node\">\n<title>180</title>\n<path fill=\"#39e581\" fill-opacity=\"0.901961\" stroke=\"#000000\" d=\"M10173,-153C10173,-153 10057,-153 10057,-153 10051,-153 10045,-147 10045,-141 10045,-141 10045,-101 10045,-101 10045,-95 10051,-89 10057,-89 10057,-89 10173,-89 10173,-89 10179,-89 10185,-95 10185,-101 10185,-101 10185,-141 10185,-141 10185,-147 10179,-153 10173,-153\"/>\n<text text-anchor=\"start\" x=\"10084.5\" y=\"-138.8\" font-family=\"Helvetica,sans-Serif\" font-size=\"14.00\" fill=\"#000000\">X</text>\n<text text-anchor=\"start\" x=\"10094.5\" y=\"-138.8\" font-family=\"Helvetica,sans-Serif\" baseline-shift=\"sub\" font-size=\"14.00\" fill=\"#000000\">3</text>\n<text text-anchor=\"start\" x=\"10101.5\" y=\"-138.8\" font-family=\"Helvetica,sans-Serif\" font-size=\"14.00\" fill=\"#000000\"> ≤ 90.5</text>\n<text text-anchor=\"start\" x=\"10081.5\" y=\"-124.8\" font-family=\"Helvetica,sans-Serif\" font-size=\"14.00\" fill=\"#000000\">gini = 0.16</text>\n<text text-anchor=\"start\" x=\"10067\" y=\"-110.8\" font-family=\"Helvetica,sans-Serif\" font-size=\"14.00\" fill=\"#000000\">samples = 490</text>\n<text text-anchor=\"start\" x=\"10053\" y=\"-96.8\" font-family=\"Helvetica,sans-Serif\" font-size=\"14.00\" fill=\"#000000\">value = [0, 447, 43]</text>\n</g>\n<!-- 179&#45;&gt;180 -->\n<g id=\"edge180\" class=\"edge\">\n<title>179&#45;&gt;180</title>\n<path fill=\"none\" stroke=\"#000000\" d=\"M10120.4247,-188.8089C10119.7752,-180.6906 10119.0681,-171.8517 10118.3855,-163.3186\"/>\n<polygon fill=\"#000000\" stroke=\"#000000\" points=\"10121.8569,-162.8198 10117.5705,-153.1308 10114.8791,-163.3781 10121.8569,-162.8198\"/>\n</g>\n<!-- 183 -->\n<g id=\"node184\" class=\"node\">\n<title>183</title>\n<path fill=\"#39e581\" fill-opacity=\"0.635294\" stroke=\"#000000\" d=\"M10314.5,-153C10314.5,-153 10215.5,-153 10215.5,-153 10209.5,-153 10203.5,-147 10203.5,-141 10203.5,-141 10203.5,-101 10203.5,-101 10203.5,-95 10209.5,-89 10215.5,-89 10215.5,-89 10314.5,-89 10314.5,-89 10320.5,-89 10326.5,-95 10326.5,-101 10326.5,-101 10326.5,-141 10326.5,-141 10326.5,-147 10320.5,-153 10314.5,-153\"/>\n<text text-anchor=\"start\" x=\"10218\" y=\"-138.8\" font-family=\"Helvetica,sans-Serif\" font-size=\"14.00\" fill=\"#000000\">X</text>\n<text text-anchor=\"start\" x=\"10228\" y=\"-138.8\" font-family=\"Helvetica,sans-Serif\" baseline-shift=\"sub\" font-size=\"14.00\" fill=\"#000000\">4</text>\n<text text-anchor=\"start\" x=\"10235\" y=\"-138.8\" font-family=\"Helvetica,sans-Serif\" font-size=\"14.00\" fill=\"#000000\"> ≤ 103110.5</text>\n<text text-anchor=\"start\" x=\"10227\" y=\"-124.8\" font-family=\"Helvetica,sans-Serif\" font-size=\"14.00\" fill=\"#000000\">gini = 0.391</text>\n<text text-anchor=\"start\" x=\"10221\" y=\"-110.8\" font-family=\"Helvetica,sans-Serif\" font-size=\"14.00\" fill=\"#000000\">samples = 15</text>\n<text text-anchor=\"start\" x=\"10211.5\" y=\"-96.8\" font-family=\"Helvetica,sans-Serif\" font-size=\"14.00\" fill=\"#000000\">value = [0, 11, 4]</text>\n</g>\n<!-- 179&#45;&gt;183 -->\n<g id=\"edge183\" class=\"edge\">\n<title>179&#45;&gt;183</title>\n<path fill=\"none\" stroke=\"#000000\" d=\"M10168.7113,-188.8089C10182.1396,-179.3524 10196.9561,-168.9182 10210.8576,-159.1285\"/>\n<polygon fill=\"#000000\" stroke=\"#000000\" points=\"10213.2135,-161.7502 10219.3743,-153.1308 10209.183,-156.027 10213.2135,-161.7502\"/>\n</g>\n<!-- 181 -->\n<g id=\"node182\" class=\"node\">\n<title>181</title>\n<path fill=\"#39e581\" stroke=\"#000000\" d=\"M10015.5,-53C10015.5,-53 9908.5,-53 9908.5,-53 9902.5,-53 9896.5,-47 9896.5,-41 9896.5,-41 9896.5,-12 9896.5,-12 9896.5,-6 9902.5,0 9908.5,0 9908.5,0 10015.5,0 10015.5,0 10021.5,0 10027.5,-6 10027.5,-12 10027.5,-12 10027.5,-41 10027.5,-41 10027.5,-47 10021.5,-53 10015.5,-53\"/>\n<text text-anchor=\"start\" x=\"9932.5\" y=\"-37.8\" font-family=\"Helvetica,sans-Serif\" font-size=\"14.00\" fill=\"#000000\">gini = 0.0</text>\n<text text-anchor=\"start\" x=\"9914\" y=\"-22.8\" font-family=\"Helvetica,sans-Serif\" font-size=\"14.00\" fill=\"#000000\">samples = 164</text>\n<text text-anchor=\"start\" x=\"9904.5\" y=\"-7.8\" font-family=\"Helvetica,sans-Serif\" font-size=\"14.00\" fill=\"#000000\">value = [0, 164, 0]</text>\n</g>\n<!-- 180&#45;&gt;181 -->\n<g id=\"edge181\" class=\"edge\">\n<title>180&#45;&gt;181</title>\n<path fill=\"none\" stroke=\"#000000\" d=\"M10062.774,-88.7428C10046.997,-78.9981 10029.6832,-68.3043 10013.9258,-58.5718\"/>\n<polygon fill=\"#000000\" stroke=\"#000000\" points=\"10015.6986,-55.553 10005.3514,-53.2759 10012.0202,-61.5086 10015.6986,-55.553\"/>\n</g>\n<!-- 182 -->\n<g id=\"node183\" class=\"node\">\n<title>182</title>\n<path fill=\"#39e581\" fill-opacity=\"0.847059\" stroke=\"#000000\" d=\"M10174,-53C10174,-53 10058,-53 10058,-53 10052,-53 10046,-47 10046,-41 10046,-41 10046,-12 10046,-12 10046,-6 10052,0 10058,0 10058,0 10174,0 10174,0 10180,0 10186,-6 10186,-12 10186,-12 10186,-41 10186,-41 10186,-47 10180,-53 10174,-53\"/>\n<text text-anchor=\"start\" x=\"10078\" y=\"-37.8\" font-family=\"Helvetica,sans-Serif\" font-size=\"14.00\" fill=\"#000000\">gini = 0.229</text>\n<text text-anchor=\"start\" x=\"10068\" y=\"-22.8\" font-family=\"Helvetica,sans-Serif\" font-size=\"14.00\" fill=\"#000000\">samples = 326</text>\n<text text-anchor=\"start\" x=\"10054\" y=\"-7.8\" font-family=\"Helvetica,sans-Serif\" font-size=\"14.00\" fill=\"#000000\">value = [0, 283, 43]</text>\n</g>\n<!-- 180&#45;&gt;182 -->\n<g id=\"edge182\" class=\"edge\">\n<title>180&#45;&gt;182</title>\n<path fill=\"none\" stroke=\"#000000\" d=\"M10115.3413,-88.7428C10115.4273,-80.6222 10115.5202,-71.8426 10115.6084,-63.5093\"/>\n<polygon fill=\"#000000\" stroke=\"#000000\" points=\"10119.1106,-63.3124 10115.7167,-53.2759 10112.1109,-63.2382 10119.1106,-63.3124\"/>\n</g>\n<!-- 184 -->\n<g id=\"node185\" class=\"node\">\n<title>184</title>\n<path fill=\"#8139e5\" stroke=\"#000000\" d=\"M10308.5,-53C10308.5,-53 10217.5,-53 10217.5,-53 10211.5,-53 10205.5,-47 10205.5,-41 10205.5,-41 10205.5,-12 10205.5,-12 10205.5,-6 10211.5,0 10217.5,0 10217.5,0 10308.5,0 10308.5,0 10314.5,0 10320.5,-6 10320.5,-12 10320.5,-12 10320.5,-41 10320.5,-41 10320.5,-47 10314.5,-53 10308.5,-53\"/>\n<text text-anchor=\"start\" x=\"10233.5\" y=\"-37.8\" font-family=\"Helvetica,sans-Serif\" font-size=\"14.00\" fill=\"#000000\">gini = 0.0</text>\n<text text-anchor=\"start\" x=\"10223.5\" y=\"-22.8\" font-family=\"Helvetica,sans-Serif\" font-size=\"14.00\" fill=\"#000000\">samples = 4</text>\n<text text-anchor=\"start\" x=\"10213.5\" y=\"-7.8\" font-family=\"Helvetica,sans-Serif\" font-size=\"14.00\" fill=\"#000000\">value = [0, 0, 4]</text>\n</g>\n<!-- 183&#45;&gt;184 -->\n<g id=\"edge184\" class=\"edge\">\n<title>183&#45;&gt;184</title>\n<path fill=\"none\" stroke=\"#000000\" d=\"M10264.3173,-88.7428C10264.1454,-80.6222 10263.9596,-71.8426 10263.7833,-63.5093\"/>\n<polygon fill=\"#000000\" stroke=\"#000000\" points=\"10267.2776,-63.1995 10263.5667,-53.2759 10260.2792,-63.3477 10267.2776,-63.1995\"/>\n</g>\n<!-- 185 -->\n<g id=\"node186\" class=\"node\">\n<title>185</title>\n<path fill=\"#39e581\" stroke=\"#000000\" d=\"M10449.5,-53C10449.5,-53 10350.5,-53 10350.5,-53 10344.5,-53 10338.5,-47 10338.5,-41 10338.5,-41 10338.5,-12 10338.5,-12 10338.5,-6 10344.5,0 10350.5,0 10350.5,0 10449.5,0 10449.5,0 10455.5,0 10461.5,-6 10461.5,-12 10461.5,-12 10461.5,-41 10461.5,-41 10461.5,-47 10455.5,-53 10449.5,-53\"/>\n<text text-anchor=\"start\" x=\"10370.5\" y=\"-37.8\" font-family=\"Helvetica,sans-Serif\" font-size=\"14.00\" fill=\"#000000\">gini = 0.0</text>\n<text text-anchor=\"start\" x=\"10356\" y=\"-22.8\" font-family=\"Helvetica,sans-Serif\" font-size=\"14.00\" fill=\"#000000\">samples = 11</text>\n<text text-anchor=\"start\" x=\"10346.5\" y=\"-7.8\" font-family=\"Helvetica,sans-Serif\" font-size=\"14.00\" fill=\"#000000\">value = [0, 11, 0]</text>\n</g>\n<!-- 183&#45;&gt;185 -->\n<g id=\"edge185\" class=\"edge\">\n<title>183&#45;&gt;185</title>\n<path fill=\"none\" stroke=\"#000000\" d=\"M10311.0818,-88.7428C10324.7449,-79.1786 10339.7142,-68.7001 10353.4093,-59.1135\"/>\n<polygon fill=\"#000000\" stroke=\"#000000\" points=\"10355.5636,-61.8778 10361.7488,-53.2759 10351.5493,-56.1432 10355.5636,-61.8778\"/>\n</g>\n<!-- 188 -->\n<g id=\"node189\" class=\"node\">\n<title>188</title>\n<path fill=\"#e58139\" stroke=\"#000000\" d=\"M10288.5,-447.5C10288.5,-447.5 10181.5,-447.5 10181.5,-447.5 10175.5,-447.5 10169.5,-441.5 10169.5,-435.5 10169.5,-435.5 10169.5,-406.5 10169.5,-406.5 10169.5,-400.5 10175.5,-394.5 10181.5,-394.5 10181.5,-394.5 10288.5,-394.5 10288.5,-394.5 10294.5,-394.5 10300.5,-400.5 10300.5,-406.5 10300.5,-406.5 10300.5,-435.5 10300.5,-435.5 10300.5,-441.5 10294.5,-447.5 10288.5,-447.5\"/>\n<text text-anchor=\"start\" x=\"10205.5\" y=\"-432.3\" font-family=\"Helvetica,sans-Serif\" font-size=\"14.00\" fill=\"#000000\">gini = 0.0</text>\n<text text-anchor=\"start\" x=\"10187\" y=\"-417.3\" font-family=\"Helvetica,sans-Serif\" font-size=\"14.00\" fill=\"#000000\">samples = 161</text>\n<text text-anchor=\"start\" x=\"10177.5\" y=\"-402.3\" font-family=\"Helvetica,sans-Serif\" font-size=\"14.00\" fill=\"#000000\">value = [161, 0, 0]</text>\n</g>\n<!-- 187&#45;&gt;188 -->\n<g id=\"edge188\" class=\"edge\">\n<title>187&#45;&gt;188</title>\n<path fill=\"none\" stroke=\"#000000\" d=\"M10235,-488.8089C10235,-478.9777 10235,-468.0898 10235,-457.9679\"/>\n<polygon fill=\"#000000\" stroke=\"#000000\" points=\"10238.5001,-457.7735 10235,-447.7735 10231.5001,-457.7736 10238.5001,-457.7735\"/>\n</g>\n<!-- 189 -->\n<g id=\"node190\" class=\"node\">\n<title>189</title>\n<path fill=\"#e58139\" fill-opacity=\"0.980392\" stroke=\"#000000\" d=\"M10578.5,-453C10578.5,-453 10471.5,-453 10471.5,-453 10465.5,-453 10459.5,-447 10459.5,-441 10459.5,-441 10459.5,-401 10459.5,-401 10459.5,-395 10465.5,-389 10471.5,-389 10471.5,-389 10578.5,-389 10578.5,-389 10584.5,-389 10590.5,-395 10590.5,-401 10590.5,-401 10590.5,-441 10590.5,-441 10590.5,-447 10584.5,-453 10578.5,-453\"/>\n<text text-anchor=\"start\" x=\"10490.5\" y=\"-438.8\" font-family=\"Helvetica,sans-Serif\" font-size=\"14.00\" fill=\"#000000\">X</text>\n<text text-anchor=\"start\" x=\"10500.5\" y=\"-438.8\" font-family=\"Helvetica,sans-Serif\" baseline-shift=\"sub\" font-size=\"14.00\" fill=\"#000000\">1</text>\n<text text-anchor=\"start\" x=\"10507.5\" y=\"-438.8\" font-family=\"Helvetica,sans-Serif\" font-size=\"14.00\" fill=\"#000000\"> ≤ 37.78</text>\n<text text-anchor=\"start\" x=\"10487\" y=\"-424.8\" font-family=\"Helvetica,sans-Serif\" font-size=\"14.00\" fill=\"#000000\">gini = 0.036</text>\n<text text-anchor=\"start\" x=\"10477\" y=\"-410.8\" font-family=\"Helvetica,sans-Serif\" font-size=\"14.00\" fill=\"#000000\">samples = 222</text>\n<text text-anchor=\"start\" x=\"10467.5\" y=\"-396.8\" font-family=\"Helvetica,sans-Serif\" font-size=\"14.00\" fill=\"#000000\">value = [218, 2, 2]</text>\n</g>\n<!-- 187&#45;&gt;189 -->\n<g id=\"edge189\" class=\"edge\">\n<title>187&#45;&gt;189</title>\n<path fill=\"none\" stroke=\"#000000\" d=\"M10300.8055,-498.3085C10345.1141,-483.0296 10403.6546,-462.8432 10449.8047,-446.9294\"/>\n<polygon fill=\"#000000\" stroke=\"#000000\" points=\"10451.1422,-450.1705 10459.4549,-443.6017 10448.8602,-443.5529 10451.1422,-450.1705\"/>\n</g>\n<!-- 190 -->\n<g id=\"node191\" class=\"node\">\n<title>190</title>\n<path fill=\"#e58139\" fill-opacity=\"0.960784\" stroke=\"#000000\" d=\"M10574.5,-353C10574.5,-353 10475.5,-353 10475.5,-353 10469.5,-353 10463.5,-347 10463.5,-341 10463.5,-341 10463.5,-301 10463.5,-301 10463.5,-295 10469.5,-289 10475.5,-289 10475.5,-289 10574.5,-289 10574.5,-289 10580.5,-289 10586.5,-295 10586.5,-301 10586.5,-301 10586.5,-341 10586.5,-341 10586.5,-347 10580.5,-353 10574.5,-353\"/>\n<text text-anchor=\"start\" x=\"10478\" y=\"-338.8\" font-family=\"Helvetica,sans-Serif\" font-size=\"14.00\" fill=\"#000000\">X</text>\n<text text-anchor=\"start\" x=\"10488\" y=\"-338.8\" font-family=\"Helvetica,sans-Serif\" baseline-shift=\"sub\" font-size=\"14.00\" fill=\"#000000\">4</text>\n<text text-anchor=\"start\" x=\"10495\" y=\"-338.8\" font-family=\"Helvetica,sans-Serif\" font-size=\"14.00\" fill=\"#000000\"> ≤ 103131.5</text>\n<text text-anchor=\"start\" x=\"10487\" y=\"-324.8\" font-family=\"Helvetica,sans-Serif\" font-size=\"14.00\" fill=\"#000000\">gini = 0.072</text>\n<text text-anchor=\"start\" x=\"10481\" y=\"-310.8\" font-family=\"Helvetica,sans-Serif\" font-size=\"14.00\" fill=\"#000000\">samples = 81</text>\n<text text-anchor=\"start\" x=\"10471.5\" y=\"-296.8\" font-family=\"Helvetica,sans-Serif\" font-size=\"14.00\" fill=\"#000000\">value = [78, 2, 1]</text>\n</g>\n<!-- 189&#45;&gt;190 -->\n<g id=\"edge190\" class=\"edge\">\n<title>189&#45;&gt;190</title>\n<path fill=\"none\" stroke=\"#000000\" d=\"M10525,-388.8089C10525,-380.6906 10525,-371.8517 10525,-363.3186\"/>\n<polygon fill=\"#000000\" stroke=\"#000000\" points=\"10528.5001,-363.1307 10525,-353.1308 10521.5001,-363.1308 10528.5001,-363.1307\"/>\n</g>\n<!-- 193 -->\n<g id=\"node194\" class=\"node\">\n<title>193</title>\n<path fill=\"#e58139\" fill-opacity=\"0.992157\" stroke=\"#000000\" d=\"M10753.5,-353C10753.5,-353 10646.5,-353 10646.5,-353 10640.5,-353 10634.5,-347 10634.5,-341 10634.5,-341 10634.5,-301 10634.5,-301 10634.5,-295 10640.5,-289 10646.5,-289 10646.5,-289 10753.5,-289 10753.5,-289 10759.5,-289 10765.5,-295 10765.5,-301 10765.5,-301 10765.5,-341 10765.5,-341 10765.5,-347 10759.5,-353 10753.5,-353\"/>\n<text text-anchor=\"start\" x=\"10669.5\" y=\"-338.8\" font-family=\"Helvetica,sans-Serif\" font-size=\"14.00\" fill=\"#000000\">X</text>\n<text text-anchor=\"start\" x=\"10679.5\" y=\"-338.8\" font-family=\"Helvetica,sans-Serif\" baseline-shift=\"sub\" font-size=\"14.00\" fill=\"#000000\">3</text>\n<text text-anchor=\"start\" x=\"10686.5\" y=\"-338.8\" font-family=\"Helvetica,sans-Serif\" font-size=\"14.00\" fill=\"#000000\"> ≤ 99.0</text>\n<text text-anchor=\"start\" x=\"10662\" y=\"-324.8\" font-family=\"Helvetica,sans-Serif\" font-size=\"14.00\" fill=\"#000000\">gini = 0.014</text>\n<text text-anchor=\"start\" x=\"10652\" y=\"-310.8\" font-family=\"Helvetica,sans-Serif\" font-size=\"14.00\" fill=\"#000000\">samples = 141</text>\n<text text-anchor=\"start\" x=\"10642.5\" y=\"-296.8\" font-family=\"Helvetica,sans-Serif\" font-size=\"14.00\" fill=\"#000000\">value = [140, 0, 1]</text>\n</g>\n<!-- 189&#45;&gt;193 -->\n<g id=\"edge193\" class=\"edge\">\n<title>189&#45;&gt;193</title>\n<path fill=\"none\" stroke=\"#000000\" d=\"M10581.3344,-388.8089C10598.3517,-379.0848 10617.1781,-368.3268 10634.727,-358.2989\"/>\n<polygon fill=\"#000000\" stroke=\"#000000\" points=\"10636.8252,-361.1311 10643.7712,-353.1308 10633.3522,-355.0533 10636.8252,-361.1311\"/>\n</g>\n<!-- 191 -->\n<g id=\"node192\" class=\"node\">\n<title>191</title>\n<path fill=\"#39e581\" fill-opacity=\"0.498039\" stroke=\"#000000\" d=\"M10463.5,-247.5C10463.5,-247.5 10372.5,-247.5 10372.5,-247.5 10366.5,-247.5 10360.5,-241.5 10360.5,-235.5 10360.5,-235.5 10360.5,-206.5 10360.5,-206.5 10360.5,-200.5 10366.5,-194.5 10372.5,-194.5 10372.5,-194.5 10463.5,-194.5 10463.5,-194.5 10469.5,-194.5 10475.5,-200.5 10475.5,-206.5 10475.5,-206.5 10475.5,-235.5 10475.5,-235.5 10475.5,-241.5 10469.5,-247.5 10463.5,-247.5\"/>\n<text text-anchor=\"start\" x=\"10380\" y=\"-232.3\" font-family=\"Helvetica,sans-Serif\" font-size=\"14.00\" fill=\"#000000\">gini = 0.444</text>\n<text text-anchor=\"start\" x=\"10378.5\" y=\"-217.3\" font-family=\"Helvetica,sans-Serif\" font-size=\"14.00\" fill=\"#000000\">samples = 3</text>\n<text text-anchor=\"start\" x=\"10368.5\" y=\"-202.3\" font-family=\"Helvetica,sans-Serif\" font-size=\"14.00\" fill=\"#000000\">value = [0, 2, 1]</text>\n</g>\n<!-- 190&#45;&gt;191 -->\n<g id=\"edge191\" class=\"edge\">\n<title>190&#45;&gt;191</title>\n<path fill=\"none\" stroke=\"#000000\" d=\"M10490.5556,-288.8089C10478.9288,-277.9428 10465.9209,-265.7859 10454.1651,-254.7991\"/>\n<polygon fill=\"#000000\" stroke=\"#000000\" points=\"10456.3435,-252.0445 10446.6477,-247.7735 10451.5639,-257.1587 10456.3435,-252.0445\"/>\n</g>\n<!-- 192 -->\n<g id=\"node193\" class=\"node\">\n<title>192</title>\n<path fill=\"#e58139\" stroke=\"#000000\" d=\"M10604.5,-247.5C10604.5,-247.5 10505.5,-247.5 10505.5,-247.5 10499.5,-247.5 10493.5,-241.5 10493.5,-235.5 10493.5,-235.5 10493.5,-206.5 10493.5,-206.5 10493.5,-200.5 10499.5,-194.5 10505.5,-194.5 10505.5,-194.5 10604.5,-194.5 10604.5,-194.5 10610.5,-194.5 10616.5,-200.5 10616.5,-206.5 10616.5,-206.5 10616.5,-235.5 10616.5,-235.5 10616.5,-241.5 10610.5,-247.5 10604.5,-247.5\"/>\n<text text-anchor=\"start\" x=\"10525.5\" y=\"-232.3\" font-family=\"Helvetica,sans-Serif\" font-size=\"14.00\" fill=\"#000000\">gini = 0.0</text>\n<text text-anchor=\"start\" x=\"10511\" y=\"-217.3\" font-family=\"Helvetica,sans-Serif\" font-size=\"14.00\" fill=\"#000000\">samples = 78</text>\n<text text-anchor=\"start\" x=\"10501.5\" y=\"-202.3\" font-family=\"Helvetica,sans-Serif\" font-size=\"14.00\" fill=\"#000000\">value = [78, 0, 0]</text>\n</g>\n<!-- 190&#45;&gt;192 -->\n<g id=\"edge192\" class=\"edge\">\n<title>190&#45;&gt;192</title>\n<path fill=\"none\" stroke=\"#000000\" d=\"M10534.6573,-288.8089C10537.6377,-278.8742 10540.9419,-267.8605 10544.0054,-257.6485\"/>\n<polygon fill=\"#000000\" stroke=\"#000000\" points=\"10547.4468,-258.3575 10546.9679,-247.7735 10540.742,-256.346 10547.4468,-258.3575\"/>\n</g>\n<!-- 194 -->\n<g id=\"node195\" class=\"node\">\n<title>194</title>\n<path fill=\"#e58139\" stroke=\"#000000\" d=\"M10753.5,-247.5C10753.5,-247.5 10646.5,-247.5 10646.5,-247.5 10640.5,-247.5 10634.5,-241.5 10634.5,-235.5 10634.5,-235.5 10634.5,-206.5 10634.5,-206.5 10634.5,-200.5 10640.5,-194.5 10646.5,-194.5 10646.5,-194.5 10753.5,-194.5 10753.5,-194.5 10759.5,-194.5 10765.5,-200.5 10765.5,-206.5 10765.5,-206.5 10765.5,-235.5 10765.5,-235.5 10765.5,-241.5 10759.5,-247.5 10753.5,-247.5\"/>\n<text text-anchor=\"start\" x=\"10670.5\" y=\"-232.3\" font-family=\"Helvetica,sans-Serif\" font-size=\"14.00\" fill=\"#000000\">gini = 0.0</text>\n<text text-anchor=\"start\" x=\"10652\" y=\"-217.3\" font-family=\"Helvetica,sans-Serif\" font-size=\"14.00\" fill=\"#000000\">samples = 138</text>\n<text text-anchor=\"start\" x=\"10642.5\" y=\"-202.3\" font-family=\"Helvetica,sans-Serif\" font-size=\"14.00\" fill=\"#000000\">value = [138, 0, 0]</text>\n</g>\n<!-- 193&#45;&gt;194 -->\n<g id=\"edge194\" class=\"edge\">\n<title>193&#45;&gt;194</title>\n<path fill=\"none\" stroke=\"#000000\" d=\"M10700,-288.8089C10700,-278.9777 10700,-268.0898 10700,-257.9679\"/>\n<polygon fill=\"#000000\" stroke=\"#000000\" points=\"10703.5001,-257.7735 10700,-247.7735 10696.5001,-257.7736 10703.5001,-257.7735\"/>\n</g>\n<!-- 195 -->\n<g id=\"node196\" class=\"node\">\n<title>195</title>\n<path fill=\"#e58139\" fill-opacity=\"0.498039\" stroke=\"#000000\" d=\"M10886.5,-247.5C10886.5,-247.5 10795.5,-247.5 10795.5,-247.5 10789.5,-247.5 10783.5,-241.5 10783.5,-235.5 10783.5,-235.5 10783.5,-206.5 10783.5,-206.5 10783.5,-200.5 10789.5,-194.5 10795.5,-194.5 10795.5,-194.5 10886.5,-194.5 10886.5,-194.5 10892.5,-194.5 10898.5,-200.5 10898.5,-206.5 10898.5,-206.5 10898.5,-235.5 10898.5,-235.5 10898.5,-241.5 10892.5,-247.5 10886.5,-247.5\"/>\n<text text-anchor=\"start\" x=\"10803\" y=\"-232.3\" font-family=\"Helvetica,sans-Serif\" font-size=\"14.00\" fill=\"#000000\">gini = 0.444</text>\n<text text-anchor=\"start\" x=\"10801.5\" y=\"-217.3\" font-family=\"Helvetica,sans-Serif\" font-size=\"14.00\" fill=\"#000000\">samples = 3</text>\n<text text-anchor=\"start\" x=\"10791.5\" y=\"-202.3\" font-family=\"Helvetica,sans-Serif\" font-size=\"14.00\" fill=\"#000000\">value = [2, 0, 1]</text>\n</g>\n<!-- 193&#45;&gt;195 -->\n<g id=\"edge195\" class=\"edge\">\n<title>193&#45;&gt;195</title>\n<path fill=\"none\" stroke=\"#000000\" d=\"M10745.3894,-288.8089C10761.1484,-277.6324 10778.8328,-265.0902 10794.6669,-253.8603\"/>\n<polygon fill=\"#000000\" stroke=\"#000000\" points=\"10797.1172,-256.4134 10803.2493,-247.7735 10793.0677,-250.7037 10797.1172,-256.4134\"/>\n</g>\n<!-- 197 -->\n<g id=\"node198\" class=\"node\">\n<title>197</title>\n<path fill=\"#e58139\" fill-opacity=\"0.196078\" stroke=\"#000000\" d=\"M12275,-553C12275,-553 12143,-553 12143,-553 12137,-553 12131,-547 12131,-541 12131,-541 12131,-501 12131,-501 12131,-495 12137,-489 12143,-489 12143,-489 12275,-489 12275,-489 12281,-489 12287,-495 12287,-501 12287,-501 12287,-541 12287,-541 12287,-547 12281,-553 12275,-553\"/>\n<text text-anchor=\"start\" x=\"12170\" y=\"-538.8\" font-family=\"Helvetica,sans-Serif\" font-size=\"14.00\" fill=\"#000000\">X</text>\n<text text-anchor=\"start\" x=\"12180\" y=\"-538.8\" font-family=\"Helvetica,sans-Serif\" baseline-shift=\"sub\" font-size=\"14.00\" fill=\"#000000\">1</text>\n<text text-anchor=\"start\" x=\"12187\" y=\"-538.8\" font-family=\"Helvetica,sans-Serif\" font-size=\"14.00\" fill=\"#000000\"> ≤ 37.791</text>\n<text text-anchor=\"start\" x=\"12171\" y=\"-524.8\" font-family=\"Helvetica,sans-Serif\" font-size=\"14.00\" fill=\"#000000\">gini = 0.534</text>\n<text text-anchor=\"start\" x=\"12161\" y=\"-510.8\" font-family=\"Helvetica,sans-Serif\" font-size=\"14.00\" fill=\"#000000\">samples = 985</text>\n<text text-anchor=\"start\" x=\"12139\" y=\"-496.8\" font-family=\"Helvetica,sans-Serif\" font-size=\"14.00\" fill=\"#000000\">value = [527, 416, 42]</text>\n</g>\n<!-- 196&#45;&gt;197 -->\n<g id=\"edge197\" class=\"edge\">\n<title>196&#45;&gt;197</title>\n<path fill=\"none\" stroke=\"#000000\" d=\"M12209,-588.8089C12209,-580.6906 12209,-571.8517 12209,-563.3186\"/>\n<polygon fill=\"#000000\" stroke=\"#000000\" points=\"12212.5001,-563.1307 12209,-553.1308 12205.5001,-563.1308 12212.5001,-563.1307\"/>\n</g>\n<!-- 248 -->\n<g id=\"node249\" class=\"node\">\n<title>248</title>\n<path fill=\"#e58139\" fill-opacity=\"0.972549\" stroke=\"#000000\" d=\"M12497.5,-553C12497.5,-553 12398.5,-553 12398.5,-553 12392.5,-553 12386.5,-547 12386.5,-541 12386.5,-541 12386.5,-501 12386.5,-501 12386.5,-495 12392.5,-489 12398.5,-489 12398.5,-489 12497.5,-489 12497.5,-489 12503.5,-489 12509.5,-495 12509.5,-501 12509.5,-501 12509.5,-541 12509.5,-541 12509.5,-547 12503.5,-553 12497.5,-553\"/>\n<text text-anchor=\"start\" x=\"12401\" y=\"-538.8\" font-family=\"Helvetica,sans-Serif\" font-size=\"14.00\" fill=\"#000000\">X</text>\n<text text-anchor=\"start\" x=\"12411\" y=\"-538.8\" font-family=\"Helvetica,sans-Serif\" baseline-shift=\"sub\" font-size=\"14.00\" fill=\"#000000\">4</text>\n<text text-anchor=\"start\" x=\"12418\" y=\"-538.8\" font-family=\"Helvetica,sans-Serif\" font-size=\"14.00\" fill=\"#000000\"> ≤ 103135.0</text>\n<text text-anchor=\"start\" x=\"12410\" y=\"-524.8\" font-family=\"Helvetica,sans-Serif\" font-size=\"14.00\" fill=\"#000000\">gini = 0.051</text>\n<text text-anchor=\"start\" x=\"12404\" y=\"-510.8\" font-family=\"Helvetica,sans-Serif\" font-size=\"14.00\" fill=\"#000000\">samples = 77</text>\n<text text-anchor=\"start\" x=\"12394.5\" y=\"-496.8\" font-family=\"Helvetica,sans-Serif\" font-size=\"14.00\" fill=\"#000000\">value = [75, 1, 1]</text>\n</g>\n<!-- 196&#45;&gt;248 -->\n<g id=\"edge248\" class=\"edge\">\n<title>196&#45;&gt;248</title>\n<path fill=\"none\" stroke=\"#000000\" d=\"M12285.6073,-588.9467C12314.8026,-576.7311 12347.9361,-562.8677 12376.6263,-550.8635\"/>\n<polygon fill=\"#000000\" stroke=\"#000000\" points=\"12378.2995,-553.9575 12386.1735,-546.8688 12375.5975,-547.5 12378.2995,-553.9575\"/>\n</g>\n<!-- 198 -->\n<g id=\"node199\" class=\"node\">\n<title>198</title>\n<path fill=\"#e58139\" fill-opacity=\"0.058824\" stroke=\"#000000\" d=\"M12074,-453C12074,-453 11942,-453 11942,-453 11936,-453 11930,-447 11930,-441 11930,-441 11930,-401 11930,-401 11930,-395 11936,-389 11942,-389 11942,-389 12074,-389 12074,-389 12080,-389 12086,-395 12086,-401 12086,-401 12086,-441 12086,-441 12086,-447 12080,-453 12074,-453\"/>\n<text text-anchor=\"start\" x=\"11969\" y=\"-438.8\" font-family=\"Helvetica,sans-Serif\" font-size=\"14.00\" fill=\"#000000\">X</text>\n<text text-anchor=\"start\" x=\"11979\" y=\"-438.8\" font-family=\"Helvetica,sans-Serif\" baseline-shift=\"sub\" font-size=\"14.00\" fill=\"#000000\">1</text>\n<text text-anchor=\"start\" x=\"11986\" y=\"-438.8\" font-family=\"Helvetica,sans-Serif\" font-size=\"14.00\" fill=\"#000000\"> ≤ 37.785</text>\n<text text-anchor=\"start\" x=\"11970\" y=\"-424.8\" font-family=\"Helvetica,sans-Serif\" font-size=\"14.00\" fill=\"#000000\">gini = 0.533</text>\n<text text-anchor=\"start\" x=\"11960\" y=\"-410.8\" font-family=\"Helvetica,sans-Serif\" font-size=\"14.00\" fill=\"#000000\">samples = 731</text>\n<text text-anchor=\"start\" x=\"11938\" y=\"-396.8\" font-family=\"Helvetica,sans-Serif\" font-size=\"14.00\" fill=\"#000000\">value = [364, 341, 26]</text>\n</g>\n<!-- 197&#45;&gt;198 -->\n<g id=\"edge198\" class=\"edge\">\n<title>197&#45;&gt;198</title>\n<path fill=\"none\" stroke=\"#000000\" d=\"M12144.573,-488.9467C12124.4678,-478.9442 12102.142,-467.8368 12081.4654,-457.55\"/>\n<polygon fill=\"#000000\" stroke=\"#000000\" points=\"12082.9192,-454.3641 12072.407,-453.0433 12079.8012,-460.6313 12082.9192,-454.3641\"/>\n</g>\n<!-- 227 -->\n<g id=\"node228\" class=\"node\">\n<title>227</title>\n<path fill=\"#e58139\" fill-opacity=\"0.490196\" stroke=\"#000000\" d=\"M12360,-453C12360,-453 12236,-453 12236,-453 12230,-453 12224,-447 12224,-441 12224,-441 12224,-401 12224,-401 12224,-395 12230,-389 12236,-389 12236,-389 12360,-389 12360,-389 12366,-389 12372,-395 12372,-401 12372,-401 12372,-441 12372,-441 12372,-447 12366,-453 12360,-453\"/>\n<text text-anchor=\"start\" x=\"12271.5\" y=\"-438.8\" font-family=\"Helvetica,sans-Serif\" font-size=\"14.00\" fill=\"#000000\">X</text>\n<text text-anchor=\"start\" x=\"12281.5\" y=\"-438.8\" font-family=\"Helvetica,sans-Serif\" baseline-shift=\"sub\" font-size=\"14.00\" fill=\"#000000\">5</text>\n<text text-anchor=\"start\" x=\"12288.5\" y=\"-438.8\" font-family=\"Helvetica,sans-Serif\" font-size=\"14.00\" fill=\"#000000\"> ≤ 2.5</text>\n<text text-anchor=\"start\" x=\"12260\" y=\"-424.8\" font-family=\"Helvetica,sans-Serif\" font-size=\"14.00\" fill=\"#000000\">gini = 0.497</text>\n<text text-anchor=\"start\" x=\"12250\" y=\"-410.8\" font-family=\"Helvetica,sans-Serif\" font-size=\"14.00\" fill=\"#000000\">samples = 254</text>\n<text text-anchor=\"start\" x=\"12232\" y=\"-396.8\" font-family=\"Helvetica,sans-Serif\" font-size=\"14.00\" fill=\"#000000\">value = [163, 75, 16]</text>\n</g>\n<!-- 197&#45;&gt;227 -->\n<g id=\"edge227\" class=\"edge\">\n<title>197&#45;&gt;227</title>\n<path fill=\"none\" stroke=\"#000000\" d=\"M12237.6501,-488.8089C12245.59,-479.8877 12254.3043,-470.0963 12262.5809,-460.7968\"/>\n<polygon fill=\"#000000\" stroke=\"#000000\" points=\"12265.3698,-462.9277 12269.4036,-453.1308 12260.1408,-458.2738 12265.3698,-462.9277\"/>\n</g>\n<!-- 199 -->\n<g id=\"node200\" class=\"node\">\n<title>199</title>\n<path fill=\"#39e581\" fill-opacity=\"0.054902\" stroke=\"#000000\" d=\"M11279,-353C11279,-353 11147,-353 11147,-353 11141,-353 11135,-347 11135,-341 11135,-341 11135,-301 11135,-301 11135,-295 11141,-289 11147,-289 11147,-289 11279,-289 11279,-289 11285,-289 11291,-295 11291,-301 11291,-301 11291,-341 11291,-341 11291,-347 11285,-353 11279,-353\"/>\n<text text-anchor=\"start\" x=\"11186.5\" y=\"-338.8\" font-family=\"Helvetica,sans-Serif\" font-size=\"14.00\" fill=\"#000000\">X</text>\n<text text-anchor=\"start\" x=\"11196.5\" y=\"-338.8\" font-family=\"Helvetica,sans-Serif\" baseline-shift=\"sub\" font-size=\"14.00\" fill=\"#000000\">6</text>\n<text text-anchor=\"start\" x=\"11203.5\" y=\"-338.8\" font-family=\"Helvetica,sans-Serif\" font-size=\"14.00\" fill=\"#000000\"> ≤ 1.5</text>\n<text text-anchor=\"start\" x=\"11175\" y=\"-324.8\" font-family=\"Helvetica,sans-Serif\" font-size=\"14.00\" fill=\"#000000\">gini = 0.535</text>\n<text text-anchor=\"start\" x=\"11165\" y=\"-310.8\" font-family=\"Helvetica,sans-Serif\" font-size=\"14.00\" fill=\"#000000\">samples = 474</text>\n<text text-anchor=\"start\" x=\"11143\" y=\"-296.8\" font-family=\"Helvetica,sans-Serif\" font-size=\"14.00\" fill=\"#000000\">value = [221, 235, 18]</text>\n</g>\n<!-- 198&#45;&gt;199 -->\n<g id=\"edge199\" class=\"edge\">\n<title>198&#45;&gt;199</title>\n<path fill=\"none\" stroke=\"#000000\" d=\"M11929.9609,-411.1838C11781.1413,-392.4643 11457.6972,-351.7795 11301.2561,-332.1014\"/>\n<polygon fill=\"#000000\" stroke=\"#000000\" points=\"11301.5554,-328.6115 11291.1968,-330.8361 11300.6817,-335.5568 11301.5554,-328.6115\"/>\n</g>\n<!-- 212 -->\n<g id=\"node213\" class=\"node\">\n<title>212</title>\n<path fill=\"#e58139\" fill-opacity=\"0.243137\" stroke=\"#000000\" d=\"M12070,-353C12070,-353 11946,-353 11946,-353 11940,-353 11934,-347 11934,-341 11934,-341 11934,-301 11934,-301 11934,-295 11940,-289 11946,-289 11946,-289 12070,-289 12070,-289 12076,-289 12082,-295 12082,-301 12082,-301 12082,-341 12082,-341 12082,-347 12076,-353 12070,-353\"/>\n<text text-anchor=\"start\" x=\"11981.5\" y=\"-338.8\" font-family=\"Helvetica,sans-Serif\" font-size=\"14.00\" fill=\"#000000\">X</text>\n<text text-anchor=\"start\" x=\"11991.5\" y=\"-338.8\" font-family=\"Helvetica,sans-Serif\" baseline-shift=\"sub\" font-size=\"14.00\" fill=\"#000000\">5</text>\n<text text-anchor=\"start\" x=\"11998.5\" y=\"-338.8\" font-family=\"Helvetica,sans-Serif\" font-size=\"14.00\" fill=\"#000000\"> ≤ 2.5</text>\n<text text-anchor=\"start\" x=\"11970\" y=\"-324.8\" font-family=\"Helvetica,sans-Serif\" font-size=\"14.00\" fill=\"#000000\">gini = 0.519</text>\n<text text-anchor=\"start\" x=\"11960\" y=\"-310.8\" font-family=\"Helvetica,sans-Serif\" font-size=\"14.00\" fill=\"#000000\">samples = 257</text>\n<text text-anchor=\"start\" x=\"11942\" y=\"-296.8\" font-family=\"Helvetica,sans-Serif\" font-size=\"14.00\" fill=\"#000000\">value = [143, 106, 8]</text>\n</g>\n<!-- 198&#45;&gt;212 -->\n<g id=\"edge212\" class=\"edge\">\n<title>198&#45;&gt;212</title>\n<path fill=\"none\" stroke=\"#000000\" d=\"M12008,-388.8089C12008,-380.6906 12008,-371.8517 12008,-363.3186\"/>\n<polygon fill=\"#000000\" stroke=\"#000000\" points=\"12011.5001,-363.1307 12008,-353.1308 12004.5001,-363.1308 12011.5001,-363.1307\"/>\n</g>\n<!-- 200 -->\n<g id=\"node201\" class=\"node\">\n<title>200</title>\n<path fill=\"#39e581\" fill-opacity=\"0.643137\" stroke=\"#000000\" d=\"M11027.5,-253C11027.5,-253 10928.5,-253 10928.5,-253 10922.5,-253 10916.5,-247 10916.5,-241 10916.5,-241 10916.5,-201 10916.5,-201 10916.5,-195 10922.5,-189 10928.5,-189 10928.5,-189 11027.5,-189 11027.5,-189 11033.5,-189 11039.5,-195 11039.5,-201 11039.5,-201 11039.5,-241 11039.5,-241 11039.5,-247 11033.5,-253 11027.5,-253\"/>\n<text text-anchor=\"start\" x=\"10939\" y=\"-238.8\" font-family=\"Helvetica,sans-Serif\" font-size=\"14.00\" fill=\"#000000\">X</text>\n<text text-anchor=\"start\" x=\"10949\" y=\"-238.8\" font-family=\"Helvetica,sans-Serif\" baseline-shift=\"sub\" font-size=\"14.00\" fill=\"#000000\">1</text>\n<text text-anchor=\"start\" x=\"10956\" y=\"-238.8\" font-family=\"Helvetica,sans-Serif\" font-size=\"14.00\" fill=\"#000000\"> ≤ 37.761</text>\n<text text-anchor=\"start\" x=\"10940\" y=\"-224.8\" font-family=\"Helvetica,sans-Serif\" font-size=\"14.00\" fill=\"#000000\">gini = 0.388</text>\n<text text-anchor=\"start\" x=\"10934\" y=\"-210.8\" font-family=\"Helvetica,sans-Serif\" font-size=\"14.00\" fill=\"#000000\">samples = 19</text>\n<text text-anchor=\"start\" x=\"10924.5\" y=\"-196.8\" font-family=\"Helvetica,sans-Serif\" font-size=\"14.00\" fill=\"#000000\">value = [5, 14, 0]</text>\n</g>\n<!-- 199&#45;&gt;200 -->\n<g id=\"edge200\" class=\"edge\">\n<title>199&#45;&gt;200</title>\n<path fill=\"none\" stroke=\"#000000\" d=\"M11137.6749,-288.9467C11109.2094,-276.8338 11076.9364,-263.1006 11048.8913,-251.1665\"/>\n<polygon fill=\"#000000\" stroke=\"#000000\" points=\"11050.126,-247.8883 11039.554,-247.1932 11047.3851,-254.3293 11050.126,-247.8883\"/>\n</g>\n<!-- 205 -->\n<g id=\"node206\" class=\"node\">\n<title>205</title>\n<path fill=\"#39e581\" fill-opacity=\"0.019608\" stroke=\"#000000\" d=\"M11279,-253C11279,-253 11147,-253 11147,-253 11141,-253 11135,-247 11135,-241 11135,-241 11135,-201 11135,-201 11135,-195 11141,-189 11147,-189 11147,-189 11279,-189 11279,-189 11285,-189 11291,-195 11291,-201 11291,-201 11291,-241 11291,-241 11291,-247 11285,-253 11279,-253\"/>\n<text text-anchor=\"start\" x=\"11186.5\" y=\"-238.8\" font-family=\"Helvetica,sans-Serif\" font-size=\"14.00\" fill=\"#000000\">X</text>\n<text text-anchor=\"start\" x=\"11196.5\" y=\"-238.8\" font-family=\"Helvetica,sans-Serif\" baseline-shift=\"sub\" font-size=\"14.00\" fill=\"#000000\">5</text>\n<text text-anchor=\"start\" x=\"11203.5\" y=\"-238.8\" font-family=\"Helvetica,sans-Serif\" font-size=\"14.00\" fill=\"#000000\"> ≤ 2.5</text>\n<text text-anchor=\"start\" x=\"11175\" y=\"-224.8\" font-family=\"Helvetica,sans-Serif\" font-size=\"14.00\" fill=\"#000000\">gini = 0.537</text>\n<text text-anchor=\"start\" x=\"11165\" y=\"-210.8\" font-family=\"Helvetica,sans-Serif\" font-size=\"14.00\" fill=\"#000000\">samples = 455</text>\n<text text-anchor=\"start\" x=\"11143\" y=\"-196.8\" font-family=\"Helvetica,sans-Serif\" font-size=\"14.00\" fill=\"#000000\">value = [216, 221, 18]</text>\n</g>\n<!-- 199&#45;&gt;205 -->\n<g id=\"edge205\" class=\"edge\">\n<title>199&#45;&gt;205</title>\n<path fill=\"none\" stroke=\"#000000\" d=\"M11213,-288.8089C11213,-280.6906 11213,-271.8517 11213,-263.3186\"/>\n<polygon fill=\"#000000\" stroke=\"#000000\" points=\"11216.5001,-263.1307 11213,-253.1308 11209.5001,-263.1308 11216.5001,-263.1307\"/>\n</g>\n<!-- 201 -->\n<g id=\"node202\" class=\"node\">\n<title>201</title>\n<path fill=\"#39e581\" stroke=\"#000000\" d=\"M10781.5,-147.5C10781.5,-147.5 10690.5,-147.5 10690.5,-147.5 10684.5,-147.5 10678.5,-141.5 10678.5,-135.5 10678.5,-135.5 10678.5,-106.5 10678.5,-106.5 10678.5,-100.5 10684.5,-94.5 10690.5,-94.5 10690.5,-94.5 10781.5,-94.5 10781.5,-94.5 10787.5,-94.5 10793.5,-100.5 10793.5,-106.5 10793.5,-106.5 10793.5,-135.5 10793.5,-135.5 10793.5,-141.5 10787.5,-147.5 10781.5,-147.5\"/>\n<text text-anchor=\"start\" x=\"10706.5\" y=\"-132.3\" font-family=\"Helvetica,sans-Serif\" font-size=\"14.00\" fill=\"#000000\">gini = 0.0</text>\n<text text-anchor=\"start\" x=\"10696.5\" y=\"-117.3\" font-family=\"Helvetica,sans-Serif\" font-size=\"14.00\" fill=\"#000000\">samples = 4</text>\n<text text-anchor=\"start\" x=\"10686.5\" y=\"-102.3\" font-family=\"Helvetica,sans-Serif\" font-size=\"14.00\" fill=\"#000000\">value = [0, 4, 0]</text>\n</g>\n<!-- 200&#45;&gt;201 -->\n<g id=\"edge201\" class=\"edge\">\n<title>200&#45;&gt;201</title>\n<path fill=\"none\" stroke=\"#000000\" d=\"M10916.189,-192.7333C10913.0927,-191.4457 10910.0172,-190.1942 10907,-189 10861.1288,-170.8448 10847.6124,-171.7959 10802,-153 10800.9698,-152.5755 10799.9329,-152.1426 10798.891,-151.7024\"/>\n<polygon fill=\"#000000\" stroke=\"#000000\" points=\"10799.9886,-148.3627 10789.4232,-147.5726 10797.1898,-154.7789 10799.9886,-148.3627\"/>\n</g>\n<!-- 202 -->\n<g id=\"node203\" class=\"node\">\n<title>202</title>\n<path fill=\"#39e581\" fill-opacity=\"0.498039\" stroke=\"#000000\" d=\"M10922.5,-153C10922.5,-153 10823.5,-153 10823.5,-153 10817.5,-153 10811.5,-147 10811.5,-141 10811.5,-141 10811.5,-101 10811.5,-101 10811.5,-95 10817.5,-89 10823.5,-89 10823.5,-89 10922.5,-89 10922.5,-89 10928.5,-89 10934.5,-95 10934.5,-101 10934.5,-101 10934.5,-141 10934.5,-141 10934.5,-147 10928.5,-153 10922.5,-153\"/>\n<text text-anchor=\"start\" x=\"10834\" y=\"-138.8\" font-family=\"Helvetica,sans-Serif\" font-size=\"14.00\" fill=\"#000000\">X</text>\n<text text-anchor=\"start\" x=\"10844\" y=\"-138.8\" font-family=\"Helvetica,sans-Serif\" baseline-shift=\"sub\" font-size=\"14.00\" fill=\"#000000\">1</text>\n<text text-anchor=\"start\" x=\"10851\" y=\"-138.8\" font-family=\"Helvetica,sans-Serif\" font-size=\"14.00\" fill=\"#000000\"> ≤ 37.784</text>\n<text text-anchor=\"start\" x=\"10835\" y=\"-124.8\" font-family=\"Helvetica,sans-Serif\" font-size=\"14.00\" fill=\"#000000\">gini = 0.444</text>\n<text text-anchor=\"start\" x=\"10829\" y=\"-110.8\" font-family=\"Helvetica,sans-Serif\" font-size=\"14.00\" fill=\"#000000\">samples = 15</text>\n<text text-anchor=\"start\" x=\"10819.5\" y=\"-96.8\" font-family=\"Helvetica,sans-Serif\" font-size=\"14.00\" fill=\"#000000\">value = [5, 10, 0]</text>\n</g>\n<!-- 200&#45;&gt;202 -->\n<g id=\"edge202\" class=\"edge\">\n<title>200&#45;&gt;202</title>\n<path fill=\"none\" stroke=\"#000000\" d=\"M10944.1994,-188.8089C10934.6447,-179.7092 10924.1395,-169.7043 10914.2014,-160.2394\"/>\n<polygon fill=\"#000000\" stroke=\"#000000\" points=\"10916.3925,-157.4928 10906.7373,-153.1308 10911.5649,-162.5618 10916.3925,-157.4928\"/>\n</g>\n<!-- 203 -->\n<g id=\"node204\" class=\"node\">\n<title>203</title>\n<path fill=\"#39e581\" fill-opacity=\"0.333333\" stroke=\"#000000\" d=\"M10723.5,-53C10723.5,-53 10632.5,-53 10632.5,-53 10626.5,-53 10620.5,-47 10620.5,-41 10620.5,-41 10620.5,-12 10620.5,-12 10620.5,-6 10626.5,0 10632.5,0 10632.5,0 10723.5,0 10723.5,0 10729.5,0 10735.5,-6 10735.5,-12 10735.5,-12 10735.5,-41 10735.5,-41 10735.5,-47 10729.5,-53 10723.5,-53\"/>\n<text text-anchor=\"start\" x=\"10644.5\" y=\"-37.8\" font-family=\"Helvetica,sans-Serif\" font-size=\"14.00\" fill=\"#000000\">gini = 0.48</text>\n<text text-anchor=\"start\" x=\"10634\" y=\"-22.8\" font-family=\"Helvetica,sans-Serif\" font-size=\"14.00\" fill=\"#000000\">samples = 10</text>\n<text text-anchor=\"start\" x=\"10628.5\" y=\"-7.8\" font-family=\"Helvetica,sans-Serif\" font-size=\"14.00\" fill=\"#000000\">value = [4, 6, 0]</text>\n</g>\n<!-- 202&#45;&gt;203 -->\n<g id=\"edge203\" class=\"edge\">\n<title>202&#45;&gt;203</title>\n<path fill=\"none\" stroke=\"#000000\" d=\"M10811.3008,-91.0996C10789.1374,-80.3589 10764.1078,-68.2292 10741.7717,-57.4048\"/>\n<polygon fill=\"#000000\" stroke=\"#000000\" points=\"10743.2328,-54.2235 10732.7074,-53.0121 10740.18,-60.5228 10743.2328,-54.2235\"/>\n</g>\n<!-- 204 -->\n<g id=\"node205\" class=\"node\">\n<title>204</title>\n<path fill=\"#39e581\" fill-opacity=\"0.749020\" stroke=\"#000000\" d=\"M10856.5,-53C10856.5,-53 10765.5,-53 10765.5,-53 10759.5,-53 10753.5,-47 10753.5,-41 10753.5,-41 10753.5,-12 10753.5,-12 10753.5,-6 10759.5,0 10765.5,0 10765.5,0 10856.5,0 10856.5,0 10862.5,0 10868.5,-6 10868.5,-12 10868.5,-12 10868.5,-41 10868.5,-41 10868.5,-47 10862.5,-53 10856.5,-53\"/>\n<text text-anchor=\"start\" x=\"10777.5\" y=\"-37.8\" font-family=\"Helvetica,sans-Serif\" font-size=\"14.00\" fill=\"#000000\">gini = 0.32</text>\n<text text-anchor=\"start\" x=\"10771.5\" y=\"-22.8\" font-family=\"Helvetica,sans-Serif\" font-size=\"14.00\" fill=\"#000000\">samples = 5</text>\n<text text-anchor=\"start\" x=\"10761.5\" y=\"-7.8\" font-family=\"Helvetica,sans-Serif\" font-size=\"14.00\" fill=\"#000000\">value = [1, 4, 0]</text>\n</g>\n<!-- 202&#45;&gt;204 -->\n<g id=\"edge204\" class=\"edge\">\n<title>202&#45;&gt;204</title>\n<path fill=\"none\" stroke=\"#000000\" d=\"M10851.8365,-88.7428C10846.1536,-80.0809 10839.9786,-70.669 10834.1919,-61.849\"/>\n<polygon fill=\"#000000\" stroke=\"#000000\" points=\"10836.9793,-59.717 10828.5672,-53.2759 10831.1265,-63.557 10836.9793,-59.717\"/>\n</g>\n<!-- 206 -->\n<g id=\"node207\" class=\"node\">\n<title>206</title>\n<path fill=\"#e58139\" fill-opacity=\"0.329412\" stroke=\"#000000\" d=\"M11147,-153C11147,-153 11031,-153 11031,-153 11025,-153 11019,-147 11019,-141 11019,-141 11019,-101 11019,-101 11019,-95 11025,-89 11031,-89 11031,-89 11147,-89 11147,-89 11153,-89 11159,-95 11159,-101 11159,-101 11159,-141 11159,-141 11159,-147 11153,-153 11147,-153\"/>\n<text text-anchor=\"start\" x=\"11042\" y=\"-138.8\" font-family=\"Helvetica,sans-Serif\" font-size=\"14.00\" fill=\"#000000\">X</text>\n<text text-anchor=\"start\" x=\"11052\" y=\"-138.8\" font-family=\"Helvetica,sans-Serif\" baseline-shift=\"sub\" font-size=\"14.00\" fill=\"#000000\">4</text>\n<text text-anchor=\"start\" x=\"11059\" y=\"-138.8\" font-family=\"Helvetica,sans-Serif\" font-size=\"14.00\" fill=\"#000000\"> ≤ 103138.0</text>\n<text text-anchor=\"start\" x=\"11051\" y=\"-124.8\" font-family=\"Helvetica,sans-Serif\" font-size=\"14.00\" fill=\"#000000\">gini = 0.506</text>\n<text text-anchor=\"start\" x=\"11041\" y=\"-110.8\" font-family=\"Helvetica,sans-Serif\" font-size=\"14.00\" fill=\"#000000\">samples = 252</text>\n<text text-anchor=\"start\" x=\"11027\" y=\"-96.8\" font-family=\"Helvetica,sans-Serif\" font-size=\"14.00\" fill=\"#000000\">value = [148, 97, 7]</text>\n</g>\n<!-- 205&#45;&gt;206 -->\n<g id=\"edge206\" class=\"edge\">\n<title>205&#45;&gt;206</title>\n<path fill=\"none\" stroke=\"#000000\" d=\"M11173.0831,-188.8089C11161.5782,-179.5308 11148.9064,-169.3116 11136.9673,-159.6833\"/>\n<polygon fill=\"#000000\" stroke=\"#000000\" points=\"11138.8234,-156.6839 11128.8421,-153.1308 11134.4291,-162.1328 11138.8234,-156.6839\"/>\n</g>\n<!-- 209 -->\n<g id=\"node210\" class=\"node\">\n<title>209</title>\n<path fill=\"#39e581\" fill-opacity=\"0.415686\" stroke=\"#000000\" d=\"M11313,-153C11313,-153 11189,-153 11189,-153 11183,-153 11177,-147 11177,-141 11177,-141 11177,-101 11177,-101 11177,-95 11183,-89 11189,-89 11189,-89 11313,-89 11313,-89 11319,-89 11325,-95 11325,-101 11325,-101 11325,-141 11325,-141 11325,-147 11319,-153 11313,-153\"/>\n<text text-anchor=\"start\" x=\"11204\" y=\"-138.8\" font-family=\"Helvetica,sans-Serif\" font-size=\"14.00\" fill=\"#000000\">X</text>\n<text text-anchor=\"start\" x=\"11214\" y=\"-138.8\" font-family=\"Helvetica,sans-Serif\" baseline-shift=\"sub\" font-size=\"14.00\" fill=\"#000000\">4</text>\n<text text-anchor=\"start\" x=\"11221\" y=\"-138.8\" font-family=\"Helvetica,sans-Serif\" font-size=\"14.00\" fill=\"#000000\"> ≤ 103135.0</text>\n<text text-anchor=\"start\" x=\"11213\" y=\"-124.8\" font-family=\"Helvetica,sans-Serif\" font-size=\"14.00\" fill=\"#000000\">gini = 0.512</text>\n<text text-anchor=\"start\" x=\"11203\" y=\"-110.8\" font-family=\"Helvetica,sans-Serif\" font-size=\"14.00\" fill=\"#000000\">samples = 203</text>\n<text text-anchor=\"start\" x=\"11185\" y=\"-96.8\" font-family=\"Helvetica,sans-Serif\" font-size=\"14.00\" fill=\"#000000\">value = [68, 124, 11]</text>\n</g>\n<!-- 205&#45;&gt;209 -->\n<g id=\"edge209\" class=\"edge\">\n<title>205&#45;&gt;209</title>\n<path fill=\"none\" stroke=\"#000000\" d=\"M11225.2326,-188.8089C11228.3854,-180.5122 11231.8241,-171.4628 11235.1325,-162.7565\"/>\n<polygon fill=\"#000000\" stroke=\"#000000\" points=\"11238.5098,-163.7219 11238.7903,-153.1308 11231.9663,-161.2353 11238.5098,-163.7219\"/>\n</g>\n<!-- 207 -->\n<g id=\"node208\" class=\"node\">\n<title>207</title>\n<path fill=\"#39e581\" fill-opacity=\"0.929412\" stroke=\"#000000\" d=\"M10997.5,-53C10997.5,-53 10898.5,-53 10898.5,-53 10892.5,-53 10886.5,-47 10886.5,-41 10886.5,-41 10886.5,-12 10886.5,-12 10886.5,-6 10892.5,0 10898.5,0 10898.5,0 10997.5,0 10997.5,0 11003.5,0 11009.5,-6 11009.5,-12 11009.5,-12 11009.5,-41 11009.5,-41 11009.5,-47 11003.5,-53 10997.5,-53\"/>\n<text text-anchor=\"start\" x=\"10910\" y=\"-37.8\" font-family=\"Helvetica,sans-Serif\" font-size=\"14.00\" fill=\"#000000\">gini = 0.126</text>\n<text text-anchor=\"start\" x=\"10900\" y=\"-22.8\" font-family=\"Helvetica,sans-Serif\" font-size=\"14.00\" fill=\"#000000\">samples = 104</text>\n<text text-anchor=\"start\" x=\"10894.5\" y=\"-7.8\" font-family=\"Helvetica,sans-Serif\" font-size=\"14.00\" fill=\"#000000\">value = [0, 97, 7]</text>\n</g>\n<!-- 206&#45;&gt;207 -->\n<g id=\"edge207\" class=\"edge\">\n<title>206&#45;&gt;207</title>\n<path fill=\"none\" stroke=\"#000000\" d=\"M11040.8702,-88.7428C11026.5998,-79.1786 11010.9652,-68.7001 10996.6614,-59.1135\"/>\n<polygon fill=\"#000000\" stroke=\"#000000\" points=\"10998.2068,-55.9359 10987.9513,-53.2759 10994.3096,-61.7507 10998.2068,-55.9359\"/>\n</g>\n<!-- 208 -->\n<g id=\"node209\" class=\"node\">\n<title>208</title>\n<path fill=\"#e58139\" stroke=\"#000000\" d=\"M11146.5,-53C11146.5,-53 11039.5,-53 11039.5,-53 11033.5,-53 11027.5,-47 11027.5,-41 11027.5,-41 11027.5,-12 11027.5,-12 11027.5,-6 11033.5,0 11039.5,0 11039.5,0 11146.5,0 11146.5,0 11152.5,0 11158.5,-6 11158.5,-12 11158.5,-12 11158.5,-41 11158.5,-41 11158.5,-47 11152.5,-53 11146.5,-53\"/>\n<text text-anchor=\"start\" x=\"11063.5\" y=\"-37.8\" font-family=\"Helvetica,sans-Serif\" font-size=\"14.00\" fill=\"#000000\">gini = 0.0</text>\n<text text-anchor=\"start\" x=\"11045\" y=\"-22.8\" font-family=\"Helvetica,sans-Serif\" font-size=\"14.00\" fill=\"#000000\">samples = 148</text>\n<text text-anchor=\"start\" x=\"11035.5\" y=\"-7.8\" font-family=\"Helvetica,sans-Serif\" font-size=\"14.00\" fill=\"#000000\">value = [148, 0, 0]</text>\n</g>\n<!-- 206&#45;&gt;208 -->\n<g id=\"edge208\" class=\"edge\">\n<title>206&#45;&gt;208</title>\n<path fill=\"none\" stroke=\"#000000\" d=\"M11090.3654,-88.7428C11090.7091,-80.6222 11091.0807,-71.8426 11091.4335,-63.5093\"/>\n<polygon fill=\"#000000\" stroke=\"#000000\" points=\"11094.9405,-63.415 11091.8666,-53.2759 11087.9468,-63.1189 11094.9405,-63.415\"/>\n</g>\n<!-- 210 -->\n<g id=\"node211\" class=\"node\">\n<title>210</title>\n<path fill=\"#39e581\" fill-opacity=\"0.909804\" stroke=\"#000000\" d=\"M11305,-53C11305,-53 11189,-53 11189,-53 11183,-53 11177,-47 11177,-41 11177,-41 11177,-12 11177,-12 11177,-6 11183,0 11189,0 11189,0 11305,0 11305,0 11311,0 11317,-6 11317,-12 11317,-12 11317,-41 11317,-41 11317,-47 11311,-53 11305,-53\"/>\n<text text-anchor=\"start\" x=\"11213.5\" y=\"-37.8\" font-family=\"Helvetica,sans-Serif\" font-size=\"14.00\" fill=\"#000000\">gini = 0.15</text>\n<text text-anchor=\"start\" x=\"11199\" y=\"-22.8\" font-family=\"Helvetica,sans-Serif\" font-size=\"14.00\" fill=\"#000000\">samples = 135</text>\n<text text-anchor=\"start\" x=\"11185\" y=\"-7.8\" font-family=\"Helvetica,sans-Serif\" font-size=\"14.00\" fill=\"#000000\">value = [0, 124, 11]</text>\n</g>\n<!-- 209&#45;&gt;210 -->\n<g id=\"edge210\" class=\"edge\">\n<title>209&#45;&gt;210</title>\n<path fill=\"none\" stroke=\"#000000\" d=\"M11249.6346,-88.7428C11249.2909,-80.6222 11248.9193,-71.8426 11248.5665,-63.5093\"/>\n<polygon fill=\"#000000\" stroke=\"#000000\" points=\"11252.0532,-63.1189 11248.1334,-53.2759 11245.0595,-63.415 11252.0532,-63.1189\"/>\n</g>\n<!-- 211 -->\n<g id=\"node212\" class=\"node\">\n<title>211</title>\n<path fill=\"#e58139\" stroke=\"#000000\" d=\"M11446.5,-53C11446.5,-53 11347.5,-53 11347.5,-53 11341.5,-53 11335.5,-47 11335.5,-41 11335.5,-41 11335.5,-12 11335.5,-12 11335.5,-6 11341.5,0 11347.5,0 11347.5,0 11446.5,0 11446.5,0 11452.5,0 11458.5,-6 11458.5,-12 11458.5,-12 11458.5,-41 11458.5,-41 11458.5,-47 11452.5,-53 11446.5,-53\"/>\n<text text-anchor=\"start\" x=\"11367.5\" y=\"-37.8\" font-family=\"Helvetica,sans-Serif\" font-size=\"14.00\" fill=\"#000000\">gini = 0.0</text>\n<text text-anchor=\"start\" x=\"11353\" y=\"-22.8\" font-family=\"Helvetica,sans-Serif\" font-size=\"14.00\" fill=\"#000000\">samples = 68</text>\n<text text-anchor=\"start\" x=\"11343.5\" y=\"-7.8\" font-family=\"Helvetica,sans-Serif\" font-size=\"14.00\" fill=\"#000000\">value = [68, 0, 0]</text>\n</g>\n<!-- 209&#45;&gt;211 -->\n<g id=\"edge211\" class=\"edge\">\n<title>209&#45;&gt;211</title>\n<path fill=\"none\" stroke=\"#000000\" d=\"M11300.8366,-88.7428C11315.7524,-79.0883 11332.1076,-68.5023 11347.0319,-58.8424\"/>\n<polygon fill=\"#000000\" stroke=\"#000000\" points=\"11349.1389,-61.6478 11355.632,-53.2759 11345.3352,-55.7714 11349.1389,-61.6478\"/>\n</g>\n<!-- 213 -->\n<g id=\"node214\" class=\"node\">\n<title>213</title>\n<path fill=\"#e58139\" fill-opacity=\"0.576471\" stroke=\"#000000\" d=\"M11933.5,-253C11933.5,-253 11826.5,-253 11826.5,-253 11820.5,-253 11814.5,-247 11814.5,-241 11814.5,-241 11814.5,-201 11814.5,-201 11814.5,-195 11820.5,-189 11826.5,-189 11826.5,-189 11933.5,-189 11933.5,-189 11939.5,-189 11945.5,-195 11945.5,-201 11945.5,-201 11945.5,-241 11945.5,-241 11945.5,-247 11939.5,-253 11933.5,-253\"/>\n<text text-anchor=\"start\" x=\"11841\" y=\"-238.8\" font-family=\"Helvetica,sans-Serif\" font-size=\"14.00\" fill=\"#000000\">X</text>\n<text text-anchor=\"start\" x=\"11851\" y=\"-238.8\" font-family=\"Helvetica,sans-Serif\" baseline-shift=\"sub\" font-size=\"14.00\" fill=\"#000000\">1</text>\n<text text-anchor=\"start\" x=\"11858\" y=\"-238.8\" font-family=\"Helvetica,sans-Serif\" font-size=\"14.00\" fill=\"#000000\"> ≤ 37.788</text>\n<text text-anchor=\"start\" x=\"11842\" y=\"-224.8\" font-family=\"Helvetica,sans-Serif\" font-size=\"14.00\" fill=\"#000000\">gini = 0.431</text>\n<text text-anchor=\"start\" x=\"11832\" y=\"-210.8\" font-family=\"Helvetica,sans-Serif\" font-size=\"14.00\" fill=\"#000000\">samples = 129</text>\n<text text-anchor=\"start\" x=\"11822.5\" y=\"-196.8\" font-family=\"Helvetica,sans-Serif\" font-size=\"14.00\" fill=\"#000000\">value = [90, 37, 2]</text>\n</g>\n<!-- 212&#45;&gt;213 -->\n<g id=\"edge213\" class=\"edge\">\n<title>212&#45;&gt;213</title>\n<path fill=\"none\" stroke=\"#000000\" d=\"M11966.7954,-288.8089C11954.8053,-279.4416 11941.5872,-269.115 11929.1593,-259.4057\"/>\n<polygon fill=\"#000000\" stroke=\"#000000\" points=\"11931.1624,-256.5291 11921.1274,-253.1308 11926.8529,-262.0453 11931.1624,-256.5291\"/>\n</g>\n<!-- 220 -->\n<g id=\"node221\" class=\"node\">\n<title>220</title>\n<path fill=\"#39e581\" fill-opacity=\"0.211765\" stroke=\"#000000\" d=\"M12207.5,-253C12207.5,-253 12100.5,-253 12100.5,-253 12094.5,-253 12088.5,-247 12088.5,-241 12088.5,-241 12088.5,-201 12088.5,-201 12088.5,-195 12094.5,-189 12100.5,-189 12100.5,-189 12207.5,-189 12207.5,-189 12213.5,-189 12219.5,-195 12219.5,-201 12219.5,-201 12219.5,-241 12219.5,-241 12219.5,-247 12213.5,-253 12207.5,-253\"/>\n<text text-anchor=\"start\" x=\"12123.5\" y=\"-238.8\" font-family=\"Helvetica,sans-Serif\" font-size=\"14.00\" fill=\"#000000\">X</text>\n<text text-anchor=\"start\" x=\"12133.5\" y=\"-238.8\" font-family=\"Helvetica,sans-Serif\" baseline-shift=\"sub\" font-size=\"14.00\" fill=\"#000000\">3</text>\n<text text-anchor=\"start\" x=\"12140.5\" y=\"-238.8\" font-family=\"Helvetica,sans-Serif\" font-size=\"14.00\" fill=\"#000000\"> ≤ 90.5</text>\n<text text-anchor=\"start\" x=\"12116\" y=\"-224.8\" font-family=\"Helvetica,sans-Serif\" font-size=\"14.00\" fill=\"#000000\">gini = 0.536</text>\n<text text-anchor=\"start\" x=\"12106\" y=\"-210.8\" font-family=\"Helvetica,sans-Serif\" font-size=\"14.00\" fill=\"#000000\">samples = 128</text>\n<text text-anchor=\"start\" x=\"12096.5\" y=\"-196.8\" font-family=\"Helvetica,sans-Serif\" font-size=\"14.00\" fill=\"#000000\">value = [53, 69, 6]</text>\n</g>\n<!-- 212&#45;&gt;220 -->\n<g id=\"edge220\" class=\"edge\">\n<title>212&#45;&gt;220</title>\n<path fill=\"none\" stroke=\"#000000\" d=\"M12054.999,-288.8089C12068.9358,-279.2632 12084.327,-268.7213 12098.7367,-258.8516\"/>\n<polygon fill=\"#000000\" stroke=\"#000000\" points=\"12100.8166,-261.6693 12107.0891,-253.1308 12096.8609,-255.8941 12100.8166,-261.6693\"/>\n</g>\n<!-- 214 -->\n<g id=\"node215\" class=\"node\">\n<title>214</title>\n<path fill=\"#e58139\" fill-opacity=\"0.776471\" stroke=\"#000000\" d=\"M11724.5,-153C11724.5,-153 11625.5,-153 11625.5,-153 11619.5,-153 11613.5,-147 11613.5,-141 11613.5,-141 11613.5,-101 11613.5,-101 11613.5,-95 11619.5,-89 11625.5,-89 11625.5,-89 11724.5,-89 11724.5,-89 11730.5,-89 11736.5,-95 11736.5,-101 11736.5,-101 11736.5,-141 11736.5,-141 11736.5,-147 11730.5,-153 11724.5,-153\"/>\n<text text-anchor=\"start\" x=\"11644.5\" y=\"-138.8\" font-family=\"Helvetica,sans-Serif\" font-size=\"14.00\" fill=\"#000000\">X</text>\n<text text-anchor=\"start\" x=\"11654.5\" y=\"-138.8\" font-family=\"Helvetica,sans-Serif\" baseline-shift=\"sub\" font-size=\"14.00\" fill=\"#000000\">6</text>\n<text text-anchor=\"start\" x=\"11661.5\" y=\"-138.8\" font-family=\"Helvetica,sans-Serif\" font-size=\"14.00\" fill=\"#000000\"> ≤ 29.5</text>\n<text text-anchor=\"start\" x=\"11637\" y=\"-124.8\" font-family=\"Helvetica,sans-Serif\" font-size=\"14.00\" fill=\"#000000\">gini = 0.298</text>\n<text text-anchor=\"start\" x=\"11631\" y=\"-110.8\" font-family=\"Helvetica,sans-Serif\" font-size=\"14.00\" fill=\"#000000\">samples = 44</text>\n<text text-anchor=\"start\" x=\"11621.5\" y=\"-96.8\" font-family=\"Helvetica,sans-Serif\" font-size=\"14.00\" fill=\"#000000\">value = [36, 8, 0]</text>\n</g>\n<!-- 213&#45;&gt;214 -->\n<g id=\"edge214\" class=\"edge\">\n<title>213&#45;&gt;214</title>\n<path fill=\"none\" stroke=\"#000000\" d=\"M11814.2908,-188.9467C11792.3665,-178.252 11767.8529,-166.2941 11745.5747,-155.4267\"/>\n<polygon fill=\"#000000\" stroke=\"#000000\" points=\"11747.0284,-152.2416 11736.5062,-151.003 11743.9594,-158.533 11747.0284,-152.2416\"/>\n</g>\n<!-- 217 -->\n<g id=\"node218\" class=\"node\">\n<title>217</title>\n<path fill=\"#e58139\" fill-opacity=\"0.447059\" stroke=\"#000000\" d=\"M11933.5,-153C11933.5,-153 11826.5,-153 11826.5,-153 11820.5,-153 11814.5,-147 11814.5,-141 11814.5,-141 11814.5,-101 11814.5,-101 11814.5,-95 11820.5,-89 11826.5,-89 11826.5,-89 11933.5,-89 11933.5,-89 11939.5,-89 11945.5,-95 11945.5,-101 11945.5,-101 11945.5,-141 11945.5,-141 11945.5,-147 11939.5,-153 11933.5,-153\"/>\n<text text-anchor=\"start\" x=\"11835\" y=\"-138.8\" font-family=\"Helvetica,sans-Serif\" font-size=\"14.00\" fill=\"#000000\">X</text>\n<text text-anchor=\"start\" x=\"11845\" y=\"-138.8\" font-family=\"Helvetica,sans-Serif\" baseline-shift=\"sub\" font-size=\"14.00\" fill=\"#000000\">2</text>\n<text text-anchor=\"start\" x=\"11852\" y=\"-138.8\" font-family=\"Helvetica,sans-Serif\" font-size=\"14.00\" fill=\"#000000\"> ≤ &#45;122.388</text>\n<text text-anchor=\"start\" x=\"11842\" y=\"-124.8\" font-family=\"Helvetica,sans-Serif\" font-size=\"14.00\" fill=\"#000000\">gini = 0.479</text>\n<text text-anchor=\"start\" x=\"11836\" y=\"-110.8\" font-family=\"Helvetica,sans-Serif\" font-size=\"14.00\" fill=\"#000000\">samples = 85</text>\n<text text-anchor=\"start\" x=\"11822.5\" y=\"-96.8\" font-family=\"Helvetica,sans-Serif\" font-size=\"14.00\" fill=\"#000000\">value = [54, 29, 2]</text>\n</g>\n<!-- 213&#45;&gt;217 -->\n<g id=\"edge217\" class=\"edge\">\n<title>213&#45;&gt;217</title>\n<path fill=\"none\" stroke=\"#000000\" d=\"M11880,-188.8089C11880,-180.6906 11880,-171.8517 11880,-163.3186\"/>\n<polygon fill=\"#000000\" stroke=\"#000000\" points=\"11883.5001,-163.1307 11880,-153.1308 11876.5001,-163.1308 11883.5001,-163.1307\"/>\n</g>\n<!-- 215 -->\n<g id=\"node216\" class=\"node\">\n<title>215</title>\n<path fill=\"#e58139\" fill-opacity=\"0.803922\" stroke=\"#000000\" d=\"M11587.5,-53C11587.5,-53 11488.5,-53 11488.5,-53 11482.5,-53 11476.5,-47 11476.5,-41 11476.5,-41 11476.5,-12 11476.5,-12 11476.5,-6 11482.5,0 11488.5,0 11488.5,0 11587.5,0 11587.5,0 11593.5,0 11599.5,-6 11599.5,-12 11599.5,-12 11599.5,-41 11599.5,-41 11599.5,-47 11593.5,-53 11587.5,-53\"/>\n<text text-anchor=\"start\" x=\"11500\" y=\"-37.8\" font-family=\"Helvetica,sans-Serif\" font-size=\"14.00\" fill=\"#000000\">gini = 0.273</text>\n<text text-anchor=\"start\" x=\"11494\" y=\"-22.8\" font-family=\"Helvetica,sans-Serif\" font-size=\"14.00\" fill=\"#000000\">samples = 43</text>\n<text text-anchor=\"start\" x=\"11484.5\" y=\"-7.8\" font-family=\"Helvetica,sans-Serif\" font-size=\"14.00\" fill=\"#000000\">value = [36, 7, 0]</text>\n</g>\n<!-- 214&#45;&gt;215 -->\n<g id=\"edge215\" class=\"edge\">\n<title>214&#45;&gt;215</title>\n<path fill=\"none\" stroke=\"#000000\" d=\"M11628.2355,-88.7428C11614.37,-79.1786 11599.1789,-68.7001 11585.2809,-59.1135\"/>\n<polygon fill=\"#000000\" stroke=\"#000000\" points=\"11587.0369,-56.0729 11576.8179,-53.2759 11583.0623,-61.835 11587.0369,-56.0729\"/>\n</g>\n<!-- 216 -->\n<g id=\"node217\" class=\"node\">\n<title>216</title>\n<path fill=\"#39e581\" stroke=\"#000000\" d=\"M11720.5,-53C11720.5,-53 11629.5,-53 11629.5,-53 11623.5,-53 11617.5,-47 11617.5,-41 11617.5,-41 11617.5,-12 11617.5,-12 11617.5,-6 11623.5,0 11629.5,0 11629.5,0 11720.5,0 11720.5,0 11726.5,0 11732.5,-6 11732.5,-12 11732.5,-12 11732.5,-41 11732.5,-41 11732.5,-47 11726.5,-53 11720.5,-53\"/>\n<text text-anchor=\"start\" x=\"11645.5\" y=\"-37.8\" font-family=\"Helvetica,sans-Serif\" font-size=\"14.00\" fill=\"#000000\">gini = 0.0</text>\n<text text-anchor=\"start\" x=\"11635.5\" y=\"-22.8\" font-family=\"Helvetica,sans-Serif\" font-size=\"14.00\" fill=\"#000000\">samples = 1</text>\n<text text-anchor=\"start\" x=\"11625.5\" y=\"-7.8\" font-family=\"Helvetica,sans-Serif\" font-size=\"14.00\" fill=\"#000000\">value = [0, 1, 0]</text>\n</g>\n<!-- 214&#45;&gt;216 -->\n<g id=\"edge216\" class=\"edge\">\n<title>214&#45;&gt;216</title>\n<path fill=\"none\" stroke=\"#000000\" d=\"M11675,-88.7428C11675,-80.6222 11675,-71.8426 11675,-63.5093\"/>\n<polygon fill=\"#000000\" stroke=\"#000000\" points=\"11678.5001,-63.2758 11675,-53.2759 11671.5001,-63.2759 11678.5001,-63.2758\"/>\n</g>\n<!-- 218 -->\n<g id=\"node219\" class=\"node\">\n<title>218</title>\n<path fill=\"#e58139\" fill-opacity=\"0.415686\" stroke=\"#000000\" d=\"M11869.5,-53C11869.5,-53 11762.5,-53 11762.5,-53 11756.5,-53 11750.5,-47 11750.5,-41 11750.5,-41 11750.5,-12 11750.5,-12 11750.5,-6 11756.5,0 11762.5,0 11762.5,0 11869.5,0 11869.5,0 11875.5,0 11881.5,-6 11881.5,-12 11881.5,-12 11881.5,-41 11881.5,-41 11881.5,-47 11875.5,-53 11869.5,-53\"/>\n<text text-anchor=\"start\" x=\"11778\" y=\"-37.8\" font-family=\"Helvetica,sans-Serif\" font-size=\"14.00\" fill=\"#000000\">gini = 0.488</text>\n<text text-anchor=\"start\" x=\"11772\" y=\"-22.8\" font-family=\"Helvetica,sans-Serif\" font-size=\"14.00\" fill=\"#000000\">samples = 82</text>\n<text text-anchor=\"start\" x=\"11758.5\" y=\"-7.8\" font-family=\"Helvetica,sans-Serif\" font-size=\"14.00\" fill=\"#000000\">value = [51, 29, 2]</text>\n</g>\n<!-- 217&#45;&gt;218 -->\n<g id=\"edge218\" class=\"edge\">\n<title>217&#45;&gt;218</title>\n<path fill=\"none\" stroke=\"#000000\" d=\"M11858.1538,-88.7428C11852.2265,-79.9906 11845.7805,-70.4728 11839.7535,-61.5735\"/>\n<polygon fill=\"#000000\" stroke=\"#000000\" points=\"11842.6394,-59.5931 11834.1339,-53.2759 11836.8435,-63.5184 11842.6394,-59.5931\"/>\n</g>\n<!-- 219 -->\n<g id=\"node220\" class=\"node\">\n<title>219</title>\n<path fill=\"#e58139\" stroke=\"#000000\" d=\"M12002.5,-53C12002.5,-53 11911.5,-53 11911.5,-53 11905.5,-53 11899.5,-47 11899.5,-41 11899.5,-41 11899.5,-12 11899.5,-12 11899.5,-6 11905.5,0 11911.5,0 11911.5,0 12002.5,0 12002.5,0 12008.5,0 12014.5,-6 12014.5,-12 12014.5,-12 12014.5,-41 12014.5,-41 12014.5,-47 12008.5,-53 12002.5,-53\"/>\n<text text-anchor=\"start\" x=\"11927.5\" y=\"-37.8\" font-family=\"Helvetica,sans-Serif\" font-size=\"14.00\" fill=\"#000000\">gini = 0.0</text>\n<text text-anchor=\"start\" x=\"11917.5\" y=\"-22.8\" font-family=\"Helvetica,sans-Serif\" font-size=\"14.00\" fill=\"#000000\">samples = 3</text>\n<text text-anchor=\"start\" x=\"11907.5\" y=\"-7.8\" font-family=\"Helvetica,sans-Serif\" font-size=\"14.00\" fill=\"#000000\">value = [3, 0, 0]</text>\n</g>\n<!-- 217&#45;&gt;219 -->\n<g id=\"edge219\" class=\"edge\">\n<title>217&#45;&gt;219</title>\n<path fill=\"none\" stroke=\"#000000\" d=\"M11906.2837,-88.7428C11913.4886,-79.9004 11921.3302,-70.2765 11928.6457,-61.2985\"/>\n<polygon fill=\"#000000\" stroke=\"#000000\" points=\"11931.5792,-63.2391 11935.1826,-53.2759 11926.1525,-58.8174 11931.5792,-63.2391\"/>\n</g>\n<!-- 221 -->\n<g id=\"node222\" class=\"node\">\n<title>221</title>\n<path fill=\"#39e581\" fill-opacity=\"0.513725\" stroke=\"#000000\" d=\"M12207.5,-153C12207.5,-153 12100.5,-153 12100.5,-153 12094.5,-153 12088.5,-147 12088.5,-141 12088.5,-141 12088.5,-101 12088.5,-101 12088.5,-95 12094.5,-89 12100.5,-89 12100.5,-89 12207.5,-89 12207.5,-89 12213.5,-89 12219.5,-95 12219.5,-101 12219.5,-101 12219.5,-141 12219.5,-141 12219.5,-147 12213.5,-153 12207.5,-153\"/>\n<text text-anchor=\"start\" x=\"12115\" y=\"-138.8\" font-family=\"Helvetica,sans-Serif\" font-size=\"14.00\" fill=\"#000000\">X</text>\n<text text-anchor=\"start\" x=\"12125\" y=\"-138.8\" font-family=\"Helvetica,sans-Serif\" baseline-shift=\"sub\" font-size=\"14.00\" fill=\"#000000\">1</text>\n<text text-anchor=\"start\" x=\"12132\" y=\"-138.8\" font-family=\"Helvetica,sans-Serif\" font-size=\"14.00\" fill=\"#000000\"> ≤ 37.788</text>\n<text text-anchor=\"start\" x=\"12120.5\" y=\"-124.8\" font-family=\"Helvetica,sans-Serif\" font-size=\"14.00\" fill=\"#000000\">gini = 0.44</text>\n<text text-anchor=\"start\" x=\"12110\" y=\"-110.8\" font-family=\"Helvetica,sans-Serif\" font-size=\"14.00\" fill=\"#000000\">samples = 49</text>\n<text text-anchor=\"start\" x=\"12096.5\" y=\"-96.8\" font-family=\"Helvetica,sans-Serif\" font-size=\"14.00\" fill=\"#000000\">value = [16, 33, 0]</text>\n</g>\n<!-- 220&#45;&gt;221 -->\n<g id=\"edge221\" class=\"edge\">\n<title>220&#45;&gt;221</title>\n<path fill=\"none\" stroke=\"#000000\" d=\"M12154,-188.8089C12154,-180.6906 12154,-171.8517 12154,-163.3186\"/>\n<polygon fill=\"#000000\" stroke=\"#000000\" points=\"12157.5001,-163.1307 12154,-153.1308 12150.5001,-163.1308 12157.5001,-163.1307\"/>\n</g>\n<!-- 224 -->\n<g id=\"node225\" class=\"node\">\n<title>224</title>\n<path fill=\"#e58139\" fill-opacity=\"0.023529\" stroke=\"#000000\" d=\"M12421.5,-153C12421.5,-153 12314.5,-153 12314.5,-153 12308.5,-153 12302.5,-147 12302.5,-141 12302.5,-141 12302.5,-101 12302.5,-101 12302.5,-95 12308.5,-89 12314.5,-89 12314.5,-89 12421.5,-89 12421.5,-89 12427.5,-89 12433.5,-95 12433.5,-101 12433.5,-101 12433.5,-141 12433.5,-141 12433.5,-147 12427.5,-153 12421.5,-153\"/>\n<text text-anchor=\"start\" x=\"12321\" y=\"-138.8\" font-family=\"Helvetica,sans-Serif\" font-size=\"14.00\" fill=\"#000000\">X</text>\n<text text-anchor=\"start\" x=\"12331\" y=\"-138.8\" font-family=\"Helvetica,sans-Serif\" baseline-shift=\"sub\" font-size=\"14.00\" fill=\"#000000\">4</text>\n<text text-anchor=\"start\" x=\"12338\" y=\"-138.8\" font-family=\"Helvetica,sans-Serif\" font-size=\"14.00\" fill=\"#000000\"> ≤ 103135.0</text>\n<text text-anchor=\"start\" x=\"12330\" y=\"-124.8\" font-family=\"Helvetica,sans-Serif\" font-size=\"14.00\" fill=\"#000000\">gini = 0.567</text>\n<text text-anchor=\"start\" x=\"12324\" y=\"-110.8\" font-family=\"Helvetica,sans-Serif\" font-size=\"14.00\" fill=\"#000000\">samples = 79</text>\n<text text-anchor=\"start\" x=\"12310.5\" y=\"-96.8\" font-family=\"Helvetica,sans-Serif\" font-size=\"14.00\" fill=\"#000000\">value = [37, 36, 6]</text>\n</g>\n<!-- 220&#45;&gt;224 -->\n<g id=\"edge224\" class=\"edge\">\n<title>220&#45;&gt;224</title>\n<path fill=\"none\" stroke=\"#000000\" d=\"M12219.6614,-190.3171C12242.9757,-179.4225 12269.3843,-167.0821 12293.391,-155.864\"/>\n<polygon fill=\"#000000\" stroke=\"#000000\" points=\"12294.8848,-159.0293 12302.4628,-151.6249 12291.9214,-152.6875 12294.8848,-159.0293\"/>\n</g>\n<!-- 222 -->\n<g id=\"node223\" class=\"node\">\n<title>222</title>\n<path fill=\"transparent\" stroke=\"#000000\" d=\"M12135.5,-53C12135.5,-53 12044.5,-53 12044.5,-53 12038.5,-53 12032.5,-47 12032.5,-41 12032.5,-41 12032.5,-12 12032.5,-12 12032.5,-6 12038.5,0 12044.5,0 12044.5,0 12135.5,0 12135.5,0 12141.5,0 12147.5,-6 12147.5,-12 12147.5,-12 12147.5,-41 12147.5,-41 12147.5,-47 12141.5,-53 12135.5,-53\"/>\n<text text-anchor=\"start\" x=\"12060.5\" y=\"-37.8\" font-family=\"Helvetica,sans-Serif\" font-size=\"14.00\" fill=\"#000000\">gini = 0.5</text>\n<text text-anchor=\"start\" x=\"12046\" y=\"-22.8\" font-family=\"Helvetica,sans-Serif\" font-size=\"14.00\" fill=\"#000000\">samples = 14</text>\n<text text-anchor=\"start\" x=\"12040.5\" y=\"-7.8\" font-family=\"Helvetica,sans-Serif\" font-size=\"14.00\" fill=\"#000000\">value = [7, 7, 0]</text>\n</g>\n<!-- 221&#45;&gt;222 -->\n<g id=\"edge222\" class=\"edge\">\n<title>221&#45;&gt;222</title>\n<path fill=\"none\" stroke=\"#000000\" d=\"M12132.1538,-88.7428C12126.2265,-79.9906 12119.7805,-70.4728 12113.7535,-61.5735\"/>\n<polygon fill=\"#000000\" stroke=\"#000000\" points=\"12116.6394,-59.5931 12108.1339,-53.2759 12110.8435,-63.5184 12116.6394,-59.5931\"/>\n</g>\n<!-- 223 -->\n<g id=\"node224\" class=\"node\">\n<title>223</title>\n<path fill=\"#39e581\" fill-opacity=\"0.654902\" stroke=\"#000000\" d=\"M12276.5,-53C12276.5,-53 12177.5,-53 12177.5,-53 12171.5,-53 12165.5,-47 12165.5,-41 12165.5,-41 12165.5,-12 12165.5,-12 12165.5,-6 12171.5,0 12177.5,0 12177.5,0 12276.5,0 12276.5,0 12282.5,0 12288.5,-6 12288.5,-12 12288.5,-12 12288.5,-41 12288.5,-41 12288.5,-47 12282.5,-53 12276.5,-53\"/>\n<text text-anchor=\"start\" x=\"12189\" y=\"-37.8\" font-family=\"Helvetica,sans-Serif\" font-size=\"14.00\" fill=\"#000000\">gini = 0.382</text>\n<text text-anchor=\"start\" x=\"12183\" y=\"-22.8\" font-family=\"Helvetica,sans-Serif\" font-size=\"14.00\" fill=\"#000000\">samples = 35</text>\n<text text-anchor=\"start\" x=\"12173.5\" y=\"-7.8\" font-family=\"Helvetica,sans-Serif\" font-size=\"14.00\" fill=\"#000000\">value = [9, 26, 0]</text>\n</g>\n<!-- 221&#45;&gt;223 -->\n<g id=\"edge223\" class=\"edge\">\n<title>221&#45;&gt;223</title>\n<path fill=\"none\" stroke=\"#000000\" d=\"M12178.9183,-88.7428C12185.7489,-79.9004 12193.1832,-70.2765 12200.1186,-61.2985\"/>\n<polygon fill=\"#000000\" stroke=\"#000000\" points=\"12202.9725,-63.3293 12206.316,-53.2759 12197.4328,-59.05 12202.9725,-63.3293\"/>\n</g>\n<!-- 225 -->\n<g id=\"node226\" class=\"node\">\n<title>225</title>\n<path fill=\"#39e581\" fill-opacity=\"0.831373\" stroke=\"#000000\" d=\"M12417.5,-53C12417.5,-53 12318.5,-53 12318.5,-53 12312.5,-53 12306.5,-47 12306.5,-41 12306.5,-41 12306.5,-12 12306.5,-12 12306.5,-6 12312.5,0 12318.5,0 12318.5,0 12417.5,0 12417.5,0 12423.5,0 12429.5,-6 12429.5,-12 12429.5,-12 12429.5,-41 12429.5,-41 12429.5,-47 12423.5,-53 12417.5,-53\"/>\n<text text-anchor=\"start\" x=\"12330\" y=\"-37.8\" font-family=\"Helvetica,sans-Serif\" font-size=\"14.00\" fill=\"#000000\">gini = 0.245</text>\n<text text-anchor=\"start\" x=\"12324\" y=\"-22.8\" font-family=\"Helvetica,sans-Serif\" font-size=\"14.00\" fill=\"#000000\">samples = 42</text>\n<text text-anchor=\"start\" x=\"12314.5\" y=\"-7.8\" font-family=\"Helvetica,sans-Serif\" font-size=\"14.00\" fill=\"#000000\">value = [0, 36, 6]</text>\n</g>\n<!-- 224&#45;&gt;225 -->\n<g id=\"edge225\" class=\"edge\">\n<title>224&#45;&gt;225</title>\n<path fill=\"none\" stroke=\"#000000\" d=\"M12368,-88.7428C12368,-80.6222 12368,-71.8426 12368,-63.5093\"/>\n<polygon fill=\"#000000\" stroke=\"#000000\" points=\"12371.5001,-63.2758 12368,-53.2759 12364.5001,-63.2759 12371.5001,-63.2758\"/>\n</g>\n<!-- 226 -->\n<g id=\"node227\" class=\"node\">\n<title>226</title>\n<path fill=\"#e58139\" stroke=\"#000000\" d=\"M12558.5,-53C12558.5,-53 12459.5,-53 12459.5,-53 12453.5,-53 12447.5,-47 12447.5,-41 12447.5,-41 12447.5,-12 12447.5,-12 12447.5,-6 12453.5,0 12459.5,0 12459.5,0 12558.5,0 12558.5,0 12564.5,0 12570.5,-6 12570.5,-12 12570.5,-12 12570.5,-41 12570.5,-41 12570.5,-47 12564.5,-53 12558.5,-53\"/>\n<text text-anchor=\"start\" x=\"12479.5\" y=\"-37.8\" font-family=\"Helvetica,sans-Serif\" font-size=\"14.00\" fill=\"#000000\">gini = 0.0</text>\n<text text-anchor=\"start\" x=\"12465\" y=\"-22.8\" font-family=\"Helvetica,sans-Serif\" font-size=\"14.00\" fill=\"#000000\">samples = 37</text>\n<text text-anchor=\"start\" x=\"12455.5\" y=\"-7.8\" font-family=\"Helvetica,sans-Serif\" font-size=\"14.00\" fill=\"#000000\">value = [37, 0, 0]</text>\n</g>\n<!-- 224&#45;&gt;226 -->\n<g id=\"edge226\" class=\"edge\">\n<title>224&#45;&gt;226</title>\n<path fill=\"none\" stroke=\"#000000\" d=\"M12416.1298,-88.7428C12430.4002,-79.1786 12446.0348,-68.7001 12460.3386,-59.1135\"/>\n<polygon fill=\"#000000\" stroke=\"#000000\" points=\"12462.6904,-61.7507 12469.0487,-53.2759 12458.7932,-55.9359 12462.6904,-61.7507\"/>\n</g>\n<!-- 228 -->\n<g id=\"node229\" class=\"node\">\n<title>228</title>\n<path fill=\"#e58139\" fill-opacity=\"0.745098\" stroke=\"#000000\" d=\"M12489,-353C12489,-353 12373,-353 12373,-353 12367,-353 12361,-347 12361,-341 12361,-341 12361,-301 12361,-301 12361,-295 12367,-289 12373,-289 12373,-289 12489,-289 12489,-289 12495,-289 12501,-295 12501,-301 12501,-301 12501,-341 12501,-341 12501,-347 12495,-353 12489,-353\"/>\n<text text-anchor=\"start\" x=\"12386\" y=\"-338.8\" font-family=\"Helvetica,sans-Serif\" font-size=\"14.00\" fill=\"#000000\">X</text>\n<text text-anchor=\"start\" x=\"12396\" y=\"-338.8\" font-family=\"Helvetica,sans-Serif\" baseline-shift=\"sub\" font-size=\"14.00\" fill=\"#000000\">2</text>\n<text text-anchor=\"start\" x=\"12403\" y=\"-338.8\" font-family=\"Helvetica,sans-Serif\" font-size=\"14.00\" fill=\"#000000\"> ≤ &#45;122.405</text>\n<text text-anchor=\"start\" x=\"12393\" y=\"-324.8\" font-family=\"Helvetica,sans-Serif\" font-size=\"14.00\" fill=\"#000000\">gini = 0.358</text>\n<text text-anchor=\"start\" x=\"12383\" y=\"-310.8\" font-family=\"Helvetica,sans-Serif\" font-size=\"14.00\" fill=\"#000000\">samples = 134</text>\n<text text-anchor=\"start\" x=\"12369\" y=\"-296.8\" font-family=\"Helvetica,sans-Serif\" font-size=\"14.00\" fill=\"#000000\">value = [105, 21, 8]</text>\n</g>\n<!-- 227&#45;&gt;228 -->\n<g id=\"edge228\" class=\"edge\">\n<title>227&#45;&gt;228</title>\n<path fill=\"none\" stroke=\"#000000\" d=\"M12340.8141,-388.8089C12353.2727,-379.4416 12367.007,-369.115 12379.9204,-359.4057\"/>\n<polygon fill=\"#000000\" stroke=\"#000000\" points=\"12382.3767,-361.9379 12388.2661,-353.1308 12378.1699,-356.3429 12382.3767,-361.9379\"/>\n</g>\n<!-- 235 -->\n<g id=\"node236\" class=\"node\">\n<title>235</title>\n<path fill=\"#e58139\" fill-opacity=\"0.058824\" stroke=\"#000000\" d=\"M13180.5,-353C13180.5,-353 13073.5,-353 13073.5,-353 13067.5,-353 13061.5,-347 13061.5,-341 13061.5,-341 13061.5,-301 13061.5,-301 13061.5,-295 13067.5,-289 13073.5,-289 13073.5,-289 13180.5,-289 13180.5,-289 13186.5,-289 13192.5,-295 13192.5,-301 13192.5,-301 13192.5,-341 13192.5,-341 13192.5,-347 13186.5,-353 13180.5,-353\"/>\n<text text-anchor=\"start\" x=\"13096.5\" y=\"-338.8\" font-family=\"Helvetica,sans-Serif\" font-size=\"14.00\" fill=\"#000000\">X</text>\n<text text-anchor=\"start\" x=\"13106.5\" y=\"-338.8\" font-family=\"Helvetica,sans-Serif\" baseline-shift=\"sub\" font-size=\"14.00\" fill=\"#000000\">3</text>\n<text text-anchor=\"start\" x=\"13113.5\" y=\"-338.8\" font-family=\"Helvetica,sans-Serif\" font-size=\"14.00\" fill=\"#000000\"> ≤ 90.5</text>\n<text text-anchor=\"start\" x=\"13089\" y=\"-324.8\" font-family=\"Helvetica,sans-Serif\" font-size=\"14.00\" fill=\"#000000\">gini = 0.559</text>\n<text text-anchor=\"start\" x=\"13079\" y=\"-310.8\" font-family=\"Helvetica,sans-Serif\" font-size=\"14.00\" fill=\"#000000\">samples = 120</text>\n<text text-anchor=\"start\" x=\"13069.5\" y=\"-296.8\" font-family=\"Helvetica,sans-Serif\" font-size=\"14.00\" fill=\"#000000\">value = [58, 54, 8]</text>\n</g>\n<!-- 227&#45;&gt;235 -->\n<g id=\"edge235\" class=\"edge\">\n<title>227&#45;&gt;235</title>\n<path fill=\"none\" stroke=\"#000000\" d=\"M12372.3493,-391.2186C12375.2522,-390.4119 12378.1426,-389.6674 12381,-389 12506.9356,-359.5872 12887.4474,-334.8336 13050.972,-325.252\"/>\n<polygon fill=\"#000000\" stroke=\"#000000\" points=\"13051.6449,-328.7189 13061.4243,-324.643 13051.2376,-321.7307 13051.6449,-328.7189\"/>\n</g>\n<!-- 229 -->\n<g id=\"node230\" class=\"node\">\n<title>229</title>\n<path fill=\"#8139e5\" stroke=\"#000000\" d=\"M12476.5,-247.5C12476.5,-247.5 12385.5,-247.5 12385.5,-247.5 12379.5,-247.5 12373.5,-241.5 12373.5,-235.5 12373.5,-235.5 12373.5,-206.5 12373.5,-206.5 12373.5,-200.5 12379.5,-194.5 12385.5,-194.5 12385.5,-194.5 12476.5,-194.5 12476.5,-194.5 12482.5,-194.5 12488.5,-200.5 12488.5,-206.5 12488.5,-206.5 12488.5,-235.5 12488.5,-235.5 12488.5,-241.5 12482.5,-247.5 12476.5,-247.5\"/>\n<text text-anchor=\"start\" x=\"12401.5\" y=\"-232.3\" font-family=\"Helvetica,sans-Serif\" font-size=\"14.00\" fill=\"#000000\">gini = 0.0</text>\n<text text-anchor=\"start\" x=\"12391.5\" y=\"-217.3\" font-family=\"Helvetica,sans-Serif\" font-size=\"14.00\" fill=\"#000000\">samples = 2</text>\n<text text-anchor=\"start\" x=\"12381.5\" y=\"-202.3\" font-family=\"Helvetica,sans-Serif\" font-size=\"14.00\" fill=\"#000000\">value = [0, 0, 2]</text>\n</g>\n<!-- 228&#45;&gt;229 -->\n<g id=\"edge229\" class=\"edge\">\n<title>228&#45;&gt;229</title>\n<path fill=\"none\" stroke=\"#000000\" d=\"M12431,-288.8089C12431,-278.9777 12431,-268.0898 12431,-257.9679\"/>\n<polygon fill=\"#000000\" stroke=\"#000000\" points=\"12434.5001,-257.7735 12431,-247.7735 12427.5001,-257.7736 12434.5001,-257.7735\"/>\n</g>\n<!-- 230 -->\n<g id=\"node231\" class=\"node\">\n<title>230</title>\n<path fill=\"#e58139\" fill-opacity=\"0.756863\" stroke=\"#000000\" d=\"M12708,-253C12708,-253 12592,-253 12592,-253 12586,-253 12580,-247 12580,-241 12580,-241 12580,-201 12580,-201 12580,-195 12586,-189 12592,-189 12592,-189 12708,-189 12708,-189 12714,-189 12720,-195 12720,-201 12720,-201 12720,-241 12720,-241 12720,-247 12714,-253 12708,-253\"/>\n<text text-anchor=\"start\" x=\"12603\" y=\"-238.8\" font-family=\"Helvetica,sans-Serif\" font-size=\"14.00\" fill=\"#000000\">X</text>\n<text text-anchor=\"start\" x=\"12613\" y=\"-238.8\" font-family=\"Helvetica,sans-Serif\" baseline-shift=\"sub\" font-size=\"14.00\" fill=\"#000000\">4</text>\n<text text-anchor=\"start\" x=\"12620\" y=\"-238.8\" font-family=\"Helvetica,sans-Serif\" font-size=\"14.00\" fill=\"#000000\"> ≤ 103138.0</text>\n<text text-anchor=\"start\" x=\"12616.5\" y=\"-224.8\" font-family=\"Helvetica,sans-Serif\" font-size=\"14.00\" fill=\"#000000\">gini = 0.34</text>\n<text text-anchor=\"start\" x=\"12602\" y=\"-210.8\" font-family=\"Helvetica,sans-Serif\" font-size=\"14.00\" fill=\"#000000\">samples = 132</text>\n<text text-anchor=\"start\" x=\"12588\" y=\"-196.8\" font-family=\"Helvetica,sans-Serif\" font-size=\"14.00\" fill=\"#000000\">value = [105, 21, 6]</text>\n</g>\n<!-- 228&#45;&gt;230 -->\n<g id=\"edge230\" class=\"edge\">\n<title>228&#45;&gt;230</title>\n<path fill=\"none\" stroke=\"#000000\" d=\"M12501.1966,-288.9467C12523.2987,-278.8545 12547.8639,-267.6375 12570.5613,-257.2734\"/>\n<polygon fill=\"#000000\" stroke=\"#000000\" points=\"12572.1824,-260.3808 12579.8252,-253.0433 12569.2748,-254.0132 12572.1824,-260.3808\"/>\n</g>\n<!-- 231 -->\n<g id=\"node232\" class=\"node\">\n<title>231</title>\n<path fill=\"#39e581\" fill-opacity=\"0.713725\" stroke=\"#000000\" d=\"M12699.5,-153C12699.5,-153 12600.5,-153 12600.5,-153 12594.5,-153 12588.5,-147 12588.5,-141 12588.5,-141 12588.5,-101 12588.5,-101 12588.5,-95 12594.5,-89 12600.5,-89 12600.5,-89 12699.5,-89 12699.5,-89 12705.5,-89 12711.5,-95 12711.5,-101 12711.5,-101 12711.5,-141 12711.5,-141 12711.5,-147 12705.5,-153 12699.5,-153\"/>\n<text text-anchor=\"start\" x=\"12619.5\" y=\"-138.8\" font-family=\"Helvetica,sans-Serif\" font-size=\"14.00\" fill=\"#000000\">X</text>\n<text text-anchor=\"start\" x=\"12629.5\" y=\"-138.8\" font-family=\"Helvetica,sans-Serif\" baseline-shift=\"sub\" font-size=\"14.00\" fill=\"#000000\">3</text>\n<text text-anchor=\"start\" x=\"12636.5\" y=\"-138.8\" font-family=\"Helvetica,sans-Serif\" font-size=\"14.00\" fill=\"#000000\"> ≤ 93.5</text>\n<text text-anchor=\"start\" x=\"12612\" y=\"-124.8\" font-family=\"Helvetica,sans-Serif\" font-size=\"14.00\" fill=\"#000000\">gini = 0.346</text>\n<text text-anchor=\"start\" x=\"12606\" y=\"-110.8\" font-family=\"Helvetica,sans-Serif\" font-size=\"14.00\" fill=\"#000000\">samples = 27</text>\n<text text-anchor=\"start\" x=\"12596.5\" y=\"-96.8\" font-family=\"Helvetica,sans-Serif\" font-size=\"14.00\" fill=\"#000000\">value = [0, 21, 6]</text>\n</g>\n<!-- 230&#45;&gt;231 -->\n<g id=\"edge231\" class=\"edge\">\n<title>230&#45;&gt;231</title>\n<path fill=\"none\" stroke=\"#000000\" d=\"M12650,-188.8089C12650,-180.6906 12650,-171.8517 12650,-163.3186\"/>\n<polygon fill=\"#000000\" stroke=\"#000000\" points=\"12653.5001,-163.1307 12650,-153.1308 12646.5001,-163.1308 12653.5001,-163.1307\"/>\n</g>\n<!-- 234 -->\n<g id=\"node235\" class=\"node\">\n<title>234</title>\n<path fill=\"#e58139\" stroke=\"#000000\" d=\"M12848.5,-147.5C12848.5,-147.5 12741.5,-147.5 12741.5,-147.5 12735.5,-147.5 12729.5,-141.5 12729.5,-135.5 12729.5,-135.5 12729.5,-106.5 12729.5,-106.5 12729.5,-100.5 12735.5,-94.5 12741.5,-94.5 12741.5,-94.5 12848.5,-94.5 12848.5,-94.5 12854.5,-94.5 12860.5,-100.5 12860.5,-106.5 12860.5,-106.5 12860.5,-135.5 12860.5,-135.5 12860.5,-141.5 12854.5,-147.5 12848.5,-147.5\"/>\n<text text-anchor=\"start\" x=\"12765.5\" y=\"-132.3\" font-family=\"Helvetica,sans-Serif\" font-size=\"14.00\" fill=\"#000000\">gini = 0.0</text>\n<text text-anchor=\"start\" x=\"12747\" y=\"-117.3\" font-family=\"Helvetica,sans-Serif\" font-size=\"14.00\" fill=\"#000000\">samples = 105</text>\n<text text-anchor=\"start\" x=\"12737.5\" y=\"-102.3\" font-family=\"Helvetica,sans-Serif\" font-size=\"14.00\" fill=\"#000000\">value = [105, 0, 0]</text>\n</g>\n<!-- 230&#45;&gt;234 -->\n<g id=\"edge234\" class=\"edge\">\n<title>230&#45;&gt;234</title>\n<path fill=\"none\" stroke=\"#000000\" d=\"M12696.6771,-188.8089C12713.0331,-177.5289 12731.4062,-164.8578 12747.8044,-153.5487\"/>\n<polygon fill=\"#000000\" stroke=\"#000000\" points=\"12749.9333,-156.3321 12756.1784,-147.7735 12745.9592,-150.5696 12749.9333,-156.3321\"/>\n</g>\n<!-- 232 -->\n<g id=\"node233\" class=\"node\">\n<title>232</title>\n<path fill=\"#39e581\" fill-opacity=\"0.498039\" stroke=\"#000000\" d=\"M12699.5,-53C12699.5,-53 12600.5,-53 12600.5,-53 12594.5,-53 12588.5,-47 12588.5,-41 12588.5,-41 12588.5,-12 12588.5,-12 12588.5,-6 12594.5,0 12600.5,0 12600.5,0 12699.5,0 12699.5,0 12705.5,0 12711.5,-6 12711.5,-12 12711.5,-12 12711.5,-41 12711.5,-41 12711.5,-47 12705.5,-53 12699.5,-53\"/>\n<text text-anchor=\"start\" x=\"12612\" y=\"-37.8\" font-family=\"Helvetica,sans-Serif\" font-size=\"14.00\" fill=\"#000000\">gini = 0.444</text>\n<text text-anchor=\"start\" x=\"12606\" y=\"-22.8\" font-family=\"Helvetica,sans-Serif\" font-size=\"14.00\" fill=\"#000000\">samples = 18</text>\n<text text-anchor=\"start\" x=\"12596.5\" y=\"-7.8\" font-family=\"Helvetica,sans-Serif\" font-size=\"14.00\" fill=\"#000000\">value = [0, 12, 6]</text>\n</g>\n<!-- 231&#45;&gt;232 -->\n<g id=\"edge232\" class=\"edge\">\n<title>231&#45;&gt;232</title>\n<path fill=\"none\" stroke=\"#000000\" d=\"M12650,-88.7428C12650,-80.6222 12650,-71.8426 12650,-63.5093\"/>\n<polygon fill=\"#000000\" stroke=\"#000000\" points=\"12653.5001,-63.2758 12650,-53.2759 12646.5001,-63.2759 12653.5001,-63.2758\"/>\n</g>\n<!-- 233 -->\n<g id=\"node234\" class=\"node\">\n<title>233</title>\n<path fill=\"#39e581\" stroke=\"#000000\" d=\"M12832.5,-53C12832.5,-53 12741.5,-53 12741.5,-53 12735.5,-53 12729.5,-47 12729.5,-41 12729.5,-41 12729.5,-12 12729.5,-12 12729.5,-6 12735.5,0 12741.5,0 12741.5,0 12832.5,0 12832.5,0 12838.5,0 12844.5,-6 12844.5,-12 12844.5,-12 12844.5,-41 12844.5,-41 12844.5,-47 12838.5,-53 12832.5,-53\"/>\n<text text-anchor=\"start\" x=\"12757.5\" y=\"-37.8\" font-family=\"Helvetica,sans-Serif\" font-size=\"14.00\" fill=\"#000000\">gini = 0.0</text>\n<text text-anchor=\"start\" x=\"12747.5\" y=\"-22.8\" font-family=\"Helvetica,sans-Serif\" font-size=\"14.00\" fill=\"#000000\">samples = 9</text>\n<text text-anchor=\"start\" x=\"12737.5\" y=\"-7.8\" font-family=\"Helvetica,sans-Serif\" font-size=\"14.00\" fill=\"#000000\">value = [0, 9, 0]</text>\n</g>\n<!-- 231&#45;&gt;233 -->\n<g id=\"edge233\" class=\"edge\">\n<title>231&#45;&gt;233</title>\n<path fill=\"none\" stroke=\"#000000\" d=\"M12696.7645,-88.7428C12710.63,-79.1786 12725.8211,-68.7001 12739.7191,-59.1135\"/>\n<polygon fill=\"#000000\" stroke=\"#000000\" points=\"12741.9377,-61.835 12748.1821,-53.2759 12737.9631,-56.0729 12741.9377,-61.835\"/>\n</g>\n<!-- 236 -->\n<g id=\"node237\" class=\"node\">\n<title>236</title>\n<path fill=\"#39e581\" fill-opacity=\"0.450980\" stroke=\"#000000\" d=\"M13180.5,-253C13180.5,-253 13073.5,-253 13073.5,-253 13067.5,-253 13061.5,-247 13061.5,-241 13061.5,-241 13061.5,-201 13061.5,-201 13061.5,-195 13067.5,-189 13073.5,-189 13073.5,-189 13180.5,-189 13180.5,-189 13186.5,-189 13192.5,-195 13192.5,-201 13192.5,-201 13192.5,-241 13192.5,-241 13192.5,-247 13186.5,-253 13180.5,-253\"/>\n<text text-anchor=\"start\" x=\"13082\" y=\"-238.8\" font-family=\"Helvetica,sans-Serif\" font-size=\"14.00\" fill=\"#000000\">X</text>\n<text text-anchor=\"start\" x=\"13092\" y=\"-238.8\" font-family=\"Helvetica,sans-Serif\" baseline-shift=\"sub\" font-size=\"14.00\" fill=\"#000000\">2</text>\n<text text-anchor=\"start\" x=\"13099\" y=\"-238.8\" font-family=\"Helvetica,sans-Serif\" font-size=\"14.00\" fill=\"#000000\"> ≤ &#45;122.394</text>\n<text text-anchor=\"start\" x=\"13089\" y=\"-224.8\" font-family=\"Helvetica,sans-Serif\" font-size=\"14.00\" fill=\"#000000\">gini = 0.458</text>\n<text text-anchor=\"start\" x=\"13083\" y=\"-210.8\" font-family=\"Helvetica,sans-Serif\" font-size=\"14.00\" fill=\"#000000\">samples = 31</text>\n<text text-anchor=\"start\" x=\"13069.5\" y=\"-196.8\" font-family=\"Helvetica,sans-Serif\" font-size=\"14.00\" fill=\"#000000\">value = [11, 20, 0]</text>\n</g>\n<!-- 235&#45;&gt;236 -->\n<g id=\"edge236\" class=\"edge\">\n<title>235&#45;&gt;236</title>\n<path fill=\"none\" stroke=\"#000000\" d=\"M13127,-288.8089C13127,-280.6906 13127,-271.8517 13127,-263.3186\"/>\n<polygon fill=\"#000000\" stroke=\"#000000\" points=\"13130.5001,-263.1307 13127,-253.1308 13123.5001,-263.1308 13130.5001,-263.1307\"/>\n</g>\n<!-- 243 -->\n<g id=\"node244\" class=\"node\">\n<title>243</title>\n<path fill=\"#e58139\" fill-opacity=\"0.235294\" stroke=\"#000000\" d=\"M13517.5,-253C13517.5,-253 13410.5,-253 13410.5,-253 13404.5,-253 13398.5,-247 13398.5,-241 13398.5,-241 13398.5,-201 13398.5,-201 13398.5,-195 13404.5,-189 13410.5,-189 13410.5,-189 13517.5,-189 13517.5,-189 13523.5,-189 13529.5,-195 13529.5,-201 13529.5,-201 13529.5,-241 13529.5,-241 13529.5,-247 13523.5,-253 13517.5,-253\"/>\n<text text-anchor=\"start\" x=\"13417\" y=\"-238.8\" font-family=\"Helvetica,sans-Serif\" font-size=\"14.00\" fill=\"#000000\">X</text>\n<text text-anchor=\"start\" x=\"13427\" y=\"-238.8\" font-family=\"Helvetica,sans-Serif\" baseline-shift=\"sub\" font-size=\"14.00\" fill=\"#000000\">4</text>\n<text text-anchor=\"start\" x=\"13434\" y=\"-238.8\" font-family=\"Helvetica,sans-Serif\" font-size=\"14.00\" fill=\"#000000\"> ≤ 103135.0</text>\n<text text-anchor=\"start\" x=\"13426\" y=\"-224.8\" font-family=\"Helvetica,sans-Serif\" font-size=\"14.00\" fill=\"#000000\">gini = 0.567</text>\n<text text-anchor=\"start\" x=\"13420\" y=\"-210.8\" font-family=\"Helvetica,sans-Serif\" font-size=\"14.00\" fill=\"#000000\">samples = 89</text>\n<text text-anchor=\"start\" x=\"13406.5\" y=\"-196.8\" font-family=\"Helvetica,sans-Serif\" font-size=\"14.00\" fill=\"#000000\">value = [47, 34, 8]</text>\n</g>\n<!-- 235&#45;&gt;243 -->\n<g id=\"edge243\" class=\"edge\">\n<title>235&#45;&gt;243</title>\n<path fill=\"none\" stroke=\"#000000\" d=\"M13192.777,-301.4816C13249.0259,-284.7905 13329.971,-260.7712 13388.7809,-243.3202\"/>\n<polygon fill=\"#000000\" stroke=\"#000000\" points=\"13389.7978,-246.6694 13398.3889,-240.4692 13387.8064,-239.9586 13389.7978,-246.6694\"/>\n</g>\n<!-- 237 -->\n<g id=\"node238\" class=\"node\">\n<title>237</title>\n<path fill=\"#39e581\" fill-opacity=\"0.647059\" stroke=\"#000000\" d=\"M13108.5,-153C13108.5,-153 13009.5,-153 13009.5,-153 13003.5,-153 12997.5,-147 12997.5,-141 12997.5,-141 12997.5,-101 12997.5,-101 12997.5,-95 13003.5,-89 13009.5,-89 13009.5,-89 13108.5,-89 13108.5,-89 13114.5,-89 13120.5,-95 13120.5,-101 13120.5,-101 13120.5,-141 13120.5,-141 13120.5,-147 13114.5,-153 13108.5,-153\"/>\n<text text-anchor=\"start\" x=\"13032.5\" y=\"-138.8\" font-family=\"Helvetica,sans-Serif\" font-size=\"14.00\" fill=\"#000000\">X</text>\n<text text-anchor=\"start\" x=\"13042.5\" y=\"-138.8\" font-family=\"Helvetica,sans-Serif\" baseline-shift=\"sub\" font-size=\"14.00\" fill=\"#000000\">5</text>\n<text text-anchor=\"start\" x=\"13049.5\" y=\"-138.8\" font-family=\"Helvetica,sans-Serif\" font-size=\"14.00\" fill=\"#000000\"> ≤ 3.5</text>\n<text text-anchor=\"start\" x=\"13021\" y=\"-124.8\" font-family=\"Helvetica,sans-Serif\" font-size=\"14.00\" fill=\"#000000\">gini = 0.386</text>\n<text text-anchor=\"start\" x=\"13015\" y=\"-110.8\" font-family=\"Helvetica,sans-Serif\" font-size=\"14.00\" fill=\"#000000\">samples = 23</text>\n<text text-anchor=\"start\" x=\"13005.5\" y=\"-96.8\" font-family=\"Helvetica,sans-Serif\" font-size=\"14.00\" fill=\"#000000\">value = [6, 17, 0]</text>\n</g>\n<!-- 236&#45;&gt;237 -->\n<g id=\"edge237\" class=\"edge\">\n<title>236&#45;&gt;237</title>\n<path fill=\"none\" stroke=\"#000000\" d=\"M13105.1101,-188.8089C13099.2256,-180.1553 13092.7844,-170.683 13086.6318,-161.635\"/>\n<polygon fill=\"#000000\" stroke=\"#000000\" points=\"13089.3663,-159.4319 13080.8489,-153.1308 13083.5778,-163.3681 13089.3663,-159.4319\"/>\n</g>\n<!-- 240 -->\n<g id=\"node241\" class=\"node\">\n<title>240</title>\n<path fill=\"#e58139\" fill-opacity=\"0.400000\" stroke=\"#000000\" d=\"M13241.5,-153C13241.5,-153 13150.5,-153 13150.5,-153 13144.5,-153 13138.5,-147 13138.5,-141 13138.5,-141 13138.5,-101 13138.5,-101 13138.5,-95 13144.5,-89 13150.5,-89 13150.5,-89 13241.5,-89 13241.5,-89 13247.5,-89 13253.5,-95 13253.5,-101 13253.5,-101 13253.5,-141 13253.5,-141 13253.5,-147 13247.5,-153 13241.5,-153\"/>\n<text text-anchor=\"start\" x=\"13157\" y=\"-138.8\" font-family=\"Helvetica,sans-Serif\" font-size=\"14.00\" fill=\"#000000\">X</text>\n<text text-anchor=\"start\" x=\"13167\" y=\"-138.8\" font-family=\"Helvetica,sans-Serif\" baseline-shift=\"sub\" font-size=\"14.00\" fill=\"#000000\">1</text>\n<text text-anchor=\"start\" x=\"13174\" y=\"-138.8\" font-family=\"Helvetica,sans-Serif\" font-size=\"14.00\" fill=\"#000000\"> ≤ 37.792</text>\n<text text-anchor=\"start\" x=\"13158\" y=\"-124.8\" font-family=\"Helvetica,sans-Serif\" font-size=\"14.00\" fill=\"#000000\">gini = 0.469</text>\n<text text-anchor=\"start\" x=\"13156.5\" y=\"-110.8\" font-family=\"Helvetica,sans-Serif\" font-size=\"14.00\" fill=\"#000000\">samples = 8</text>\n<text text-anchor=\"start\" x=\"13146.5\" y=\"-96.8\" font-family=\"Helvetica,sans-Serif\" font-size=\"14.00\" fill=\"#000000\">value = [5, 3, 0]</text>\n</g>\n<!-- 236&#45;&gt;240 -->\n<g id=\"edge240\" class=\"edge\">\n<title>236&#45;&gt;240</title>\n<path fill=\"none\" stroke=\"#000000\" d=\"M13149.2118,-188.8089C13155.1828,-180.1553 13161.7187,-170.683 13167.9618,-161.635\"/>\n<polygon fill=\"#000000\" stroke=\"#000000\" points=\"13171.0313,-163.3493 13173.8298,-153.1308 13165.2697,-159.3738 13171.0313,-163.3493\"/>\n</g>\n<!-- 238 -->\n<g id=\"node239\" class=\"node\">\n<title>238</title>\n<path fill=\"#39e581\" fill-opacity=\"0.858824\" stroke=\"#000000\" d=\"M12973.5,-53C12973.5,-53 12874.5,-53 12874.5,-53 12868.5,-53 12862.5,-47 12862.5,-41 12862.5,-41 12862.5,-12 12862.5,-12 12862.5,-6 12868.5,0 12874.5,0 12874.5,0 12973.5,0 12973.5,0 12979.5,0 12985.5,-6 12985.5,-12 12985.5,-12 12985.5,-41 12985.5,-41 12985.5,-47 12979.5,-53 12973.5,-53\"/>\n<text text-anchor=\"start\" x=\"12886\" y=\"-37.8\" font-family=\"Helvetica,sans-Serif\" font-size=\"14.00\" fill=\"#000000\">gini = 0.219</text>\n<text text-anchor=\"start\" x=\"12880\" y=\"-22.8\" font-family=\"Helvetica,sans-Serif\" font-size=\"14.00\" fill=\"#000000\">samples = 16</text>\n<text text-anchor=\"start\" x=\"12870.5\" y=\"-7.8\" font-family=\"Helvetica,sans-Serif\" font-size=\"14.00\" fill=\"#000000\">value = [2, 14, 0]</text>\n</g>\n<!-- 237&#45;&gt;238 -->\n<g id=\"edge238\" class=\"edge\">\n<title>237&#45;&gt;238</title>\n<path fill=\"none\" stroke=\"#000000\" d=\"M13012.9182,-88.7428C12999.2551,-79.1786 12984.2858,-68.7001 12970.5907,-59.1135\"/>\n<polygon fill=\"#000000\" stroke=\"#000000\" points=\"12972.4507,-56.1432 12962.2512,-53.2759 12968.4364,-61.8778 12972.4507,-56.1432\"/>\n</g>\n<!-- 239 -->\n<g id=\"node240\" class=\"node\">\n<title>239</title>\n<path fill=\"#e58139\" fill-opacity=\"0.250980\" stroke=\"#000000\" d=\"M13106.5,-53C13106.5,-53 13015.5,-53 13015.5,-53 13009.5,-53 13003.5,-47 13003.5,-41 13003.5,-41 13003.5,-12 13003.5,-12 13003.5,-6 13009.5,0 13015.5,0 13015.5,0 13106.5,0 13106.5,0 13112.5,0 13118.5,-6 13118.5,-12 13118.5,-12 13118.5,-41 13118.5,-41 13118.5,-47 13112.5,-53 13106.5,-53\"/>\n<text text-anchor=\"start\" x=\"13027.5\" y=\"-37.8\" font-family=\"Helvetica,sans-Serif\" font-size=\"14.00\" fill=\"#000000\">gini = 0.49</text>\n<text text-anchor=\"start\" x=\"13021.5\" y=\"-22.8\" font-family=\"Helvetica,sans-Serif\" font-size=\"14.00\" fill=\"#000000\">samples = 7</text>\n<text text-anchor=\"start\" x=\"13011.5\" y=\"-7.8\" font-family=\"Helvetica,sans-Serif\" font-size=\"14.00\" fill=\"#000000\">value = [4, 3, 0]</text>\n</g>\n<!-- 237&#45;&gt;239 -->\n<g id=\"edge239\" class=\"edge\">\n<title>237&#45;&gt;239</title>\n<path fill=\"none\" stroke=\"#000000\" d=\"M13059.6827,-88.7428C13059.8546,-80.6222 13060.0404,-71.8426 13060.2167,-63.5093\"/>\n<polygon fill=\"#000000\" stroke=\"#000000\" points=\"13063.7208,-63.3477 13060.4333,-53.2759 13056.7224,-63.1995 13063.7208,-63.3477\"/>\n</g>\n<!-- 241 -->\n<g id=\"node242\" class=\"node\">\n<title>241</title>\n<path fill=\"#e58139\" fill-opacity=\"0.498039\" stroke=\"#000000\" d=\"M13239.5,-53C13239.5,-53 13148.5,-53 13148.5,-53 13142.5,-53 13136.5,-47 13136.5,-41 13136.5,-41 13136.5,-12 13136.5,-12 13136.5,-6 13142.5,0 13148.5,0 13148.5,0 13239.5,0 13239.5,0 13245.5,0 13251.5,-6 13251.5,-12 13251.5,-12 13251.5,-41 13251.5,-41 13251.5,-47 13245.5,-53 13239.5,-53\"/>\n<text text-anchor=\"start\" x=\"13156\" y=\"-37.8\" font-family=\"Helvetica,sans-Serif\" font-size=\"14.00\" fill=\"#000000\">gini = 0.444</text>\n<text text-anchor=\"start\" x=\"13154.5\" y=\"-22.8\" font-family=\"Helvetica,sans-Serif\" font-size=\"14.00\" fill=\"#000000\">samples = 6</text>\n<text text-anchor=\"start\" x=\"13144.5\" y=\"-7.8\" font-family=\"Helvetica,sans-Serif\" font-size=\"14.00\" fill=\"#000000\">value = [4, 2, 0]</text>\n</g>\n<!-- 240&#45;&gt;241 -->\n<g id=\"edge241\" class=\"edge\">\n<title>240&#45;&gt;241</title>\n<path fill=\"none\" stroke=\"#000000\" d=\"M13195.3173,-88.7428C13195.1454,-80.6222 13194.9596,-71.8426 13194.7833,-63.5093\"/>\n<polygon fill=\"#000000\" stroke=\"#000000\" points=\"13198.2776,-63.1995 13194.5667,-53.2759 13191.2792,-63.3477 13198.2776,-63.1995\"/>\n</g>\n<!-- 242 -->\n<g id=\"node243\" class=\"node\">\n<title>242</title>\n<path fill=\"transparent\" stroke=\"#000000\" d=\"M13372.5,-53C13372.5,-53 13281.5,-53 13281.5,-53 13275.5,-53 13269.5,-47 13269.5,-41 13269.5,-41 13269.5,-12 13269.5,-12 13269.5,-6 13275.5,0 13281.5,0 13281.5,0 13372.5,0 13372.5,0 13378.5,0 13384.5,-6 13384.5,-12 13384.5,-12 13384.5,-41 13384.5,-41 13384.5,-47 13378.5,-53 13372.5,-53\"/>\n<text text-anchor=\"start\" x=\"13297.5\" y=\"-37.8\" font-family=\"Helvetica,sans-Serif\" font-size=\"14.00\" fill=\"#000000\">gini = 0.5</text>\n<text text-anchor=\"start\" x=\"13287.5\" y=\"-22.8\" font-family=\"Helvetica,sans-Serif\" font-size=\"14.00\" fill=\"#000000\">samples = 2</text>\n<text text-anchor=\"start\" x=\"13277.5\" y=\"-7.8\" font-family=\"Helvetica,sans-Serif\" font-size=\"14.00\" fill=\"#000000\">value = [1, 1, 0]</text>\n</g>\n<!-- 240&#45;&gt;242 -->\n<g id=\"edge242\" class=\"edge\">\n<title>240&#45;&gt;242</title>\n<path fill=\"none\" stroke=\"#000000\" d=\"M13240.7164,-88.7428C13253.8496,-79.2688 13268.2265,-68.8977 13281.4134,-59.385\"/>\n<polygon fill=\"#000000\" stroke=\"#000000\" points=\"13283.8197,-61.9648 13289.8821,-53.2759 13279.7244,-56.2878 13283.8197,-61.9648\"/>\n</g>\n<!-- 244 -->\n<g id=\"node245\" class=\"node\">\n<title>244</title>\n<path fill=\"#39e581\" fill-opacity=\"0.764706\" stroke=\"#000000\" d=\"M13513.5,-153C13513.5,-153 13414.5,-153 13414.5,-153 13408.5,-153 13402.5,-147 13402.5,-141 13402.5,-141 13402.5,-101 13402.5,-101 13402.5,-95 13408.5,-89 13414.5,-89 13414.5,-89 13513.5,-89 13513.5,-89 13519.5,-89 13525.5,-95 13525.5,-101 13525.5,-101 13525.5,-141 13525.5,-141 13525.5,-147 13519.5,-153 13513.5,-153\"/>\n<text text-anchor=\"start\" x=\"13421\" y=\"-138.8\" font-family=\"Helvetica,sans-Serif\" font-size=\"14.00\" fill=\"#000000\">X</text>\n<text text-anchor=\"start\" x=\"13431\" y=\"-138.8\" font-family=\"Helvetica,sans-Serif\" baseline-shift=\"sub\" font-size=\"14.00\" fill=\"#000000\">0</text>\n<text text-anchor=\"start\" x=\"13438\" y=\"-138.8\" font-family=\"Helvetica,sans-Serif\" font-size=\"14.00\" fill=\"#000000\"> ≤ 68542.0</text>\n<text text-anchor=\"start\" x=\"13426\" y=\"-124.8\" font-family=\"Helvetica,sans-Serif\" font-size=\"14.00\" fill=\"#000000\">gini = 0.308</text>\n<text text-anchor=\"start\" x=\"13420\" y=\"-110.8\" font-family=\"Helvetica,sans-Serif\" font-size=\"14.00\" fill=\"#000000\">samples = 42</text>\n<text text-anchor=\"start\" x=\"13410.5\" y=\"-96.8\" font-family=\"Helvetica,sans-Serif\" font-size=\"14.00\" fill=\"#000000\">value = [0, 34, 8]</text>\n</g>\n<!-- 243&#45;&gt;244 -->\n<g id=\"edge244\" class=\"edge\">\n<title>243&#45;&gt;244</title>\n<path fill=\"none\" stroke=\"#000000\" d=\"M13464,-188.8089C13464,-180.6906 13464,-171.8517 13464,-163.3186\"/>\n<polygon fill=\"#000000\" stroke=\"#000000\" points=\"13467.5001,-163.1307 13464,-153.1308 13460.5001,-163.1308 13467.5001,-163.1307\"/>\n</g>\n<!-- 247 -->\n<g id=\"node248\" class=\"node\">\n<title>247</title>\n<path fill=\"#e58139\" stroke=\"#000000\" d=\"M13654.5,-147.5C13654.5,-147.5 13555.5,-147.5 13555.5,-147.5 13549.5,-147.5 13543.5,-141.5 13543.5,-135.5 13543.5,-135.5 13543.5,-106.5 13543.5,-106.5 13543.5,-100.5 13549.5,-94.5 13555.5,-94.5 13555.5,-94.5 13654.5,-94.5 13654.5,-94.5 13660.5,-94.5 13666.5,-100.5 13666.5,-106.5 13666.5,-106.5 13666.5,-135.5 13666.5,-135.5 13666.5,-141.5 13660.5,-147.5 13654.5,-147.5\"/>\n<text text-anchor=\"start\" x=\"13575.5\" y=\"-132.3\" font-family=\"Helvetica,sans-Serif\" font-size=\"14.00\" fill=\"#000000\">gini = 0.0</text>\n<text text-anchor=\"start\" x=\"13561\" y=\"-117.3\" font-family=\"Helvetica,sans-Serif\" font-size=\"14.00\" fill=\"#000000\">samples = 47</text>\n<text text-anchor=\"start\" x=\"13551.5\" y=\"-102.3\" font-family=\"Helvetica,sans-Serif\" font-size=\"14.00\" fill=\"#000000\">value = [47, 0, 0]</text>\n</g>\n<!-- 243&#45;&gt;247 -->\n<g id=\"edge247\" class=\"edge\">\n<title>243&#45;&gt;247</title>\n<path fill=\"none\" stroke=\"#000000\" d=\"M13509.3894,-188.8089C13525.1484,-177.6324 13542.8328,-165.0902 13558.6669,-153.8603\"/>\n<polygon fill=\"#000000\" stroke=\"#000000\" points=\"13561.1172,-156.4134 13567.2493,-147.7735 13557.0677,-150.7037 13561.1172,-156.4134\"/>\n</g>\n<!-- 245 -->\n<g id=\"node246\" class=\"node\">\n<title>245</title>\n<path fill=\"#39e581\" fill-opacity=\"0.823529\" stroke=\"#000000\" d=\"M13513.5,-53C13513.5,-53 13414.5,-53 13414.5,-53 13408.5,-53 13402.5,-47 13402.5,-41 13402.5,-41 13402.5,-12 13402.5,-12 13402.5,-6 13408.5,0 13414.5,0 13414.5,0 13513.5,0 13513.5,0 13519.5,0 13525.5,-6 13525.5,-12 13525.5,-12 13525.5,-41 13525.5,-41 13525.5,-47 13519.5,-53 13513.5,-53\"/>\n<text text-anchor=\"start\" x=\"13426\" y=\"-37.8\" font-family=\"Helvetica,sans-Serif\" font-size=\"14.00\" fill=\"#000000\">gini = 0.255</text>\n<text text-anchor=\"start\" x=\"13420\" y=\"-22.8\" font-family=\"Helvetica,sans-Serif\" font-size=\"14.00\" fill=\"#000000\">samples = 40</text>\n<text text-anchor=\"start\" x=\"13410.5\" y=\"-7.8\" font-family=\"Helvetica,sans-Serif\" font-size=\"14.00\" fill=\"#000000\">value = [0, 34, 6]</text>\n</g>\n<!-- 244&#45;&gt;245 -->\n<g id=\"edge245\" class=\"edge\">\n<title>244&#45;&gt;245</title>\n<path fill=\"none\" stroke=\"#000000\" d=\"M13464,-88.7428C13464,-80.6222 13464,-71.8426 13464,-63.5093\"/>\n<polygon fill=\"#000000\" stroke=\"#000000\" points=\"13467.5001,-63.2758 13464,-53.2759 13460.5001,-63.2759 13467.5001,-63.2758\"/>\n</g>\n<!-- 246 -->\n<g id=\"node247\" class=\"node\">\n<title>246</title>\n<path fill=\"#8139e5\" stroke=\"#000000\" d=\"M13646.5,-53C13646.5,-53 13555.5,-53 13555.5,-53 13549.5,-53 13543.5,-47 13543.5,-41 13543.5,-41 13543.5,-12 13543.5,-12 13543.5,-6 13549.5,0 13555.5,0 13555.5,0 13646.5,0 13646.5,0 13652.5,0 13658.5,-6 13658.5,-12 13658.5,-12 13658.5,-41 13658.5,-41 13658.5,-47 13652.5,-53 13646.5,-53\"/>\n<text text-anchor=\"start\" x=\"13571.5\" y=\"-37.8\" font-family=\"Helvetica,sans-Serif\" font-size=\"14.00\" fill=\"#000000\">gini = 0.0</text>\n<text text-anchor=\"start\" x=\"13561.5\" y=\"-22.8\" font-family=\"Helvetica,sans-Serif\" font-size=\"14.00\" fill=\"#000000\">samples = 2</text>\n<text text-anchor=\"start\" x=\"13551.5\" y=\"-7.8\" font-family=\"Helvetica,sans-Serif\" font-size=\"14.00\" fill=\"#000000\">value = [0, 0, 2]</text>\n</g>\n<!-- 244&#45;&gt;246 -->\n<g id=\"edge246\" class=\"edge\">\n<title>244&#45;&gt;246</title>\n<path fill=\"none\" stroke=\"#000000\" d=\"M13510.7645,-88.7428C13524.63,-79.1786 13539.8211,-68.7001 13553.7191,-59.1135\"/>\n<polygon fill=\"#000000\" stroke=\"#000000\" points=\"13555.9377,-61.835 13562.1821,-53.2759 13551.9631,-56.0729 13555.9377,-61.835\"/>\n</g>\n<!-- 249 -->\n<g id=\"node250\" class=\"node\">\n<title>249</title>\n<path fill=\"transparent\" stroke=\"#000000\" d=\"M12493.5,-447.5C12493.5,-447.5 12402.5,-447.5 12402.5,-447.5 12396.5,-447.5 12390.5,-441.5 12390.5,-435.5 12390.5,-435.5 12390.5,-406.5 12390.5,-406.5 12390.5,-400.5 12396.5,-394.5 12402.5,-394.5 12402.5,-394.5 12493.5,-394.5 12493.5,-394.5 12499.5,-394.5 12505.5,-400.5 12505.5,-406.5 12505.5,-406.5 12505.5,-435.5 12505.5,-435.5 12505.5,-441.5 12499.5,-447.5 12493.5,-447.5\"/>\n<text text-anchor=\"start\" x=\"12418.5\" y=\"-432.3\" font-family=\"Helvetica,sans-Serif\" font-size=\"14.00\" fill=\"#000000\">gini = 0.5</text>\n<text text-anchor=\"start\" x=\"12408.5\" y=\"-417.3\" font-family=\"Helvetica,sans-Serif\" font-size=\"14.00\" fill=\"#000000\">samples = 2</text>\n<text text-anchor=\"start\" x=\"12398.5\" y=\"-402.3\" font-family=\"Helvetica,sans-Serif\" font-size=\"14.00\" fill=\"#000000\">value = [0, 1, 1]</text>\n</g>\n<!-- 248&#45;&gt;249 -->\n<g id=\"edge249\" class=\"edge\">\n<title>248&#45;&gt;249</title>\n<path fill=\"none\" stroke=\"#000000\" d=\"M12448,-488.8089C12448,-478.9777 12448,-468.0898 12448,-457.9679\"/>\n<polygon fill=\"#000000\" stroke=\"#000000\" points=\"12451.5001,-457.7735 12448,-447.7735 12444.5001,-457.7736 12451.5001,-457.7735\"/>\n</g>\n<!-- 250 -->\n<g id=\"node251\" class=\"node\">\n<title>250</title>\n<path fill=\"#e58139\" stroke=\"#000000\" d=\"M12634.5,-447.5C12634.5,-447.5 12535.5,-447.5 12535.5,-447.5 12529.5,-447.5 12523.5,-441.5 12523.5,-435.5 12523.5,-435.5 12523.5,-406.5 12523.5,-406.5 12523.5,-400.5 12529.5,-394.5 12535.5,-394.5 12535.5,-394.5 12634.5,-394.5 12634.5,-394.5 12640.5,-394.5 12646.5,-400.5 12646.5,-406.5 12646.5,-406.5 12646.5,-435.5 12646.5,-435.5 12646.5,-441.5 12640.5,-447.5 12634.5,-447.5\"/>\n<text text-anchor=\"start\" x=\"12555.5\" y=\"-432.3\" font-family=\"Helvetica,sans-Serif\" font-size=\"14.00\" fill=\"#000000\">gini = 0.0</text>\n<text text-anchor=\"start\" x=\"12541\" y=\"-417.3\" font-family=\"Helvetica,sans-Serif\" font-size=\"14.00\" fill=\"#000000\">samples = 75</text>\n<text text-anchor=\"start\" x=\"12531.5\" y=\"-402.3\" font-family=\"Helvetica,sans-Serif\" font-size=\"14.00\" fill=\"#000000\">value = [75, 0, 0]</text>\n</g>\n<!-- 248&#45;&gt;250 -->\n<g id=\"edge250\" class=\"edge\">\n<title>248&#45;&gt;250</title>\n<path fill=\"none\" stroke=\"#000000\" d=\"M12492.1018,-488.8089C12507.4136,-477.6324 12524.5964,-465.0902 12539.9814,-453.8603\"/>\n<polygon fill=\"#000000\" stroke=\"#000000\" points=\"12542.3066,-456.4963 12548.3203,-447.7735 12538.1796,-450.8423 12542.3066,-456.4963\"/>\n</g>\n</g>\n</svg>\n"
          },
          "metadata": {
            "tags": []
          },
          "execution_count": 403
        }
      ]
    },
    {
      "cell_type": "markdown",
      "metadata": {
        "id": "WmEycm6q7sL9",
        "colab_type": "text"
      },
      "source": [
        "### Comaprison of Tree based model"
      ]
    },
    {
      "cell_type": "code",
      "metadata": {
        "id": "1IypZudW7rTr",
        "colab_type": "code",
        "outputId": "e351afc3-4ca1-472f-9e7e-eb935f590900",
        "colab": {
          "base_uri": "https://localhost:8080/",
          "height": 294
        }
      },
      "source": [
        "names=['tree']\n",
        "\n",
        "fig = plt.figure()\n",
        "fig.suptitle('Algorithm Comparison')\n",
        "ax = fig.add_subplot(111)\n",
        "plt.boxplot(results)\n",
        "ax.set_xticklabels(names)\n",
        "plt.show()"
      ],
      "execution_count": 0,
      "outputs": [
        {
          "output_type": "display_data",
          "data": {
            "image/png": "[encoded data removed]",
            "text/plain": [
              "<Figure size 432x288 with 1 Axes>"
            ]
          },
          "metadata": {
            "tags": []
          }
        }
      ]
    },
    {
      "cell_type": "markdown",
      "metadata": {
        "id": "MKytTktQ0sYG",
        "colab_type": "text"
      },
      "source": [
        "## **Ensemble**"
      ]
    },
    {
      "cell_type": "code",
      "metadata": {
        "id": "IoZ2ZuN06cyW",
        "colab_type": "code",
        "colab": {}
      },
      "source": [
        "results = []"
      ],
      "execution_count": 0,
      "outputs": []
    },
    {
      "cell_type": "markdown",
      "metadata": {
        "id": "zwaSXc909SEk",
        "colab_type": "text"
      },
      "source": [
        "*VotingClassifier*"
      ]
    },
    {
      "cell_type": "code",
      "metadata": {
        "id": "XT5jupG5mSsR",
        "colab_type": "code",
        "outputId": "58fc63ca-7094-43bd-fdc8-bcd5584ff79b",
        "colab": {
          "base_uri": "https://localhost:8080/",
          "height": 119
        }
      },
      "source": [
        "from sklearn import ensemble\n",
        "votModel = ensemble.VotingClassifier(estimators=[('RC', ridgeCls), ('KNN', knnModel), ('TR', treeModel)])\n",
        "votModel.fit(x_train, y_train)"
      ],
      "execution_count": 0,
      "outputs": [
        {
          "output_type": "execute_result",
          "data": {
            "text/plain": [
              "VotingClassifier(estimators=[('RC', RidgeClassifier(alpha=1.0, class_weight=None, copy_X=True, fit_intercept=True,\n",
              "        max_iter=None, normalize=False, random_state=None, solver='auto',\n",
              "        tol=0.001)), ('KNN', KNeighborsClassifier(algorithm='auto', leaf_size=30, metric='minkowski',\n",
              "           metric_params=N...      min_weight_fraction_leaf=0.0, presort=False, random_state=None,\n",
              "            splitter='best'))],\n",
              "         flatten_transform=None, n_jobs=None, voting='hard', weights=None)"
            ]
          },
          "metadata": {
            "tags": []
          },
          "execution_count": 67
        }
      ]
    },
    {
      "cell_type": "code",
      "metadata": {
        "id": "qHf13Fh6i-3q",
        "colab_type": "code",
        "colab": {}
      },
      "source": [
        "y_pred = votModel.predict(x_test)"
      ],
      "execution_count": 0,
      "outputs": []
    },
    {
      "cell_type": "code",
      "metadata": {
        "id": "nXnC5s3F6BUg",
        "colab_type": "code",
        "outputId": "1e3913a7-badf-4aec-a028-6798caae21a5",
        "colab": {
          "base_uri": "https://localhost:8080/",
          "height": 85
        }
      },
      "source": [
        "# printLinearModels(reg, x_train, x_test, y_train, y_test)\n",
        "displayMetrics(votModel, y_test, y_pred)"
      ],
      "execution_count": 0,
      "outputs": [
        {
          "output_type": "stream",
          "text": [
            "Accuracy:  0.9046015712682379\n",
            "Precision Score:  [0.94853556 0.83147321 1.        ]\n",
            "Recall:  [0.99867841 0.92431762 0.47643979]\n",
            "F1 Score:  [0.97296137 0.87544066 0.64539007]\n"
          ],
          "name": "stdout"
        }
      ]
    },
    {
      "cell_type": "code",
      "metadata": {
        "id": "ayQjCvkLijp7",
        "colab_type": "code",
        "outputId": "5830e8d3-a791-4478-cbb0-58d6f001abe7",
        "colab": {
          "base_uri": "https://localhost:8080/",
          "height": 51
        }
      },
      "source": [
        "printLinearModels(votModel, x_train, x_test, y_train, y_test)"
      ],
      "execution_count": 0,
      "outputs": [
        {
          "output_type": "stream",
          "text": [
            "Root mean squared error:  0.110662177328844\n",
            "R2 score:  0.7755600078317914\n"
          ],
          "name": "stdout"
        }
      ]
    },
    {
      "cell_type": "code",
      "metadata": {
        "id": "vxibhnsOf3-n",
        "colab_type": "code",
        "outputId": "b0363296-bb1a-4de3-93b7-e55156311d36",
        "colab": {
          "base_uri": "https://localhost:8080/",
          "height": 153
        }
      },
      "source": [
        "print('\\n Confusion matrix \\n')\n",
        "plotConfusionMatrix(y_test, y_pred)"
      ],
      "execution_count": 0,
      "outputs": [
        {
          "output_type": "stream",
          "text": [
            "\n",
            " Confusion matrix \n",
            "\n",
            "Predicted   1.0   2.0  3.0\n",
            "Actual                    \n",
            "1.0        2267     3    0\n",
            "2.0         122  1490    0\n",
            "3.0           1   299  273\n"
          ],
          "name": "stdout"
        }
      ]
    },
    {
      "cell_type": "code",
      "metadata": {
        "id": "h8UOanPI8S-T",
        "colab_type": "code",
        "outputId": "ee72e1b6-ef09-451c-9291-912931d94338",
        "colab": {
          "base_uri": "https://localhost:8080/",
          "height": 34
        }
      },
      "source": [
        "cv_results = model_selection.cross_val_score(votModel, x_test, y_test, cv=kfold)\n",
        "results.append(cv_results)\n",
        "msg = \"%s: %f (%f)\" % ('Voting', cv_results.mean(), cv_results.std())\n",
        "print(msg)"
      ],
      "execution_count": 0,
      "outputs": [
        {
          "output_type": "stream",
          "text": [
            "Voting: 0.869592 (0.024133)\n"
          ],
          "name": "stdout"
        }
      ]
    },
    {
      "cell_type": "markdown",
      "metadata": {
        "id": "VnJeICYh9WlF",
        "colab_type": "text"
      },
      "source": [
        "*BaggingClassifier*"
      ]
    },
    {
      "cell_type": "code",
      "metadata": {
        "id": "MwR4pzVx5BIb",
        "colab_type": "code",
        "outputId": "28350e34-c786-440e-ce87-83fc4b3ec1f4",
        "colab": {
          "base_uri": "https://localhost:8080/",
          "height": 119
        }
      },
      "source": [
        "from sklearn.ensemble import BaggingClassifier\n",
        "from sklearn.neighbors import KNeighborsClassifier\n",
        "baggingModel = BaggingClassifier(KNeighborsClassifier(p=1, n_neighbors=8))\n",
        "baggingModel.fit(x_train,y_train)"
      ],
      "execution_count": 0,
      "outputs": [
        {
          "output_type": "execute_result",
          "data": {
            "text/plain": [
              "BaggingClassifier(base_estimator=KNeighborsClassifier(algorithm='auto', leaf_size=30, metric='minkowski',\n",
              "           metric_params=None, n_jobs=None, n_neighbors=8, p=1,\n",
              "           weights='uniform'),\n",
              "         bootstrap=True, bootstrap_features=False, max_features=1.0,\n",
              "         max_samples=1.0, n_estimators=10, n_jobs=None, oob_score=False,\n",
              "         random_state=None, verbose=0, warm_start=False)"
            ]
          },
          "metadata": {
            "tags": []
          },
          "execution_count": 433
        }
      ]
    },
    {
      "cell_type": "code",
      "metadata": {
        "id": "ltEWar3F5k_g",
        "colab_type": "code",
        "outputId": "00aac315-e510-4aec-ba9c-085f4ab6417f",
        "colab": {
          "base_uri": "https://localhost:8080/",
          "height": 85
        }
      },
      "source": [
        "y_pred = baggingModel.predict(x_test)\n",
        "displayMetrics(baggingModel, y_test, y_pred)"
      ],
      "execution_count": 0,
      "outputs": [
        {
          "output_type": "stream",
          "text": [
            "Accuracy:  0.8547699214365881\n",
            "Precision Score:  [0.90092359 0.78489043 0.8879056 ]\n",
            "Recall:  [0.94537445 0.8442928  0.52530541]\n",
            "F1 Score:  [0.92261393 0.81350867 0.66008772]\n"
          ],
          "name": "stdout"
        }
      ]
    },
    {
      "cell_type": "code",
      "metadata": {
        "id": "ua9blRfAS2Ed",
        "colab_type": "code",
        "outputId": "d0e6fc7e-ab49-445e-c68f-9cf0cf0ccb8d",
        "colab": {
          "base_uri": "https://localhost:8080/",
          "height": 153
        }
      },
      "source": [
        "print('\\n Confusion matrix \\n')\n",
        "plotConfusionMatrix(y_test, y_pred)"
      ],
      "execution_count": 0,
      "outputs": [
        {
          "output_type": "stream",
          "text": [
            "\n",
            " Confusion matrix \n",
            "\n",
            "Predicted   1.0   2.0  3.0\n",
            "Actual                    \n",
            "1.0        2146   123    1\n",
            "2.0         214  1361   37\n",
            "3.0          22   250  301\n"
          ],
          "name": "stdout"
        }
      ]
    },
    {
      "cell_type": "code",
      "metadata": {
        "id": "CttfOMDK8ew0",
        "colab_type": "code",
        "outputId": "208ab4d5-049d-4747-e7e5-acdad0a18f90",
        "colab": {
          "base_uri": "https://localhost:8080/",
          "height": 34
        }
      },
      "source": [
        "cv_results = model_selection.cross_val_score(baggingModel, x_test, y_test, cv=kfold)\n",
        "results.append(cv_results)\n",
        "msg = \"%s: %f (%f)\" % ('BC', cv_results.mean(), cv_results.std())\n",
        "print(msg)"
      ],
      "execution_count": 0,
      "outputs": [
        {
          "output_type": "stream",
          "text": [
            "BC: 0.715377 (0.022881)\n"
          ],
          "name": "stdout"
        }
      ]
    },
    {
      "cell_type": "markdown",
      "metadata": {
        "id": "eTfSaeEC9bWY",
        "colab_type": "text"
      },
      "source": [
        "*RandomForestClassifier*"
      ]
    },
    {
      "cell_type": "code",
      "metadata": {
        "id": "EfYs3LRE519A",
        "colab_type": "code",
        "outputId": "73c2debe-c9cd-4ae5-fbf4-4b1b12c2c4f8",
        "colab": {
          "base_uri": "https://localhost:8080/",
          "height": 136
        }
      },
      "source": [
        "from sklearn.ensemble import RandomForestClassifier\n",
        "rfcModel = RandomForestClassifier(n_estimators=2, max_depth=6)\n",
        "rfcModel.fit(x_train,y_train)"
      ],
      "execution_count": 0,
      "outputs": [
        {
          "output_type": "execute_result",
          "data": {
            "text/plain": [
              "RandomForestClassifier(bootstrap=True, class_weight=None, criterion='gini',\n",
              "            max_depth=6, max_features='auto', max_leaf_nodes=None,\n",
              "            min_impurity_decrease=0.0, min_impurity_split=None,\n",
              "            min_samples_leaf=1, min_samples_split=2,\n",
              "            min_weight_fraction_leaf=0.0, n_estimators=2, n_jobs=None,\n",
              "            oob_score=False, random_state=None, verbose=0,\n",
              "            warm_start=False)"
            ]
          },
          "metadata": {
            "tags": []
          },
          "execution_count": 437
        }
      ]
    },
    {
      "cell_type": "code",
      "metadata": {
        "id": "B92DD9W76tKA",
        "colab_type": "code",
        "outputId": "01781cc0-2006-4b85-f9b2-6a9cec5c19fa",
        "colab": {
          "base_uri": "https://localhost:8080/",
          "height": 85
        }
      },
      "source": [
        "y_pred = rfcModel.predict(x_test)\n",
        "displayMetrics(rfcModel, y_test, y_pred)"
      ],
      "execution_count": 0,
      "outputs": [
        {
          "output_type": "stream",
          "text": [
            "Accuracy:  0.9997755331088665\n",
            "Precision Score:  [0.99955967 1.         1.        ]\n",
            "Recall:  [1.        1.        0.9982548]\n",
            "F1 Score:  [0.99977978 1.         0.99912664]\n"
          ],
          "name": "stdout"
        }
      ]
    },
    {
      "cell_type": "code",
      "metadata": {
        "id": "sgH2K-lCS3th",
        "colab_type": "code",
        "outputId": "56563e30-54dc-472d-af61-3e38dafc2549",
        "colab": {
          "base_uri": "https://localhost:8080/",
          "height": 153
        }
      },
      "source": [
        "print('\\n Confusion matrix \\n')\n",
        "plotConfusionMatrix(y_test, y_pred)"
      ],
      "execution_count": 0,
      "outputs": [
        {
          "output_type": "stream",
          "text": [
            "\n",
            " Confusion matrix \n",
            "\n",
            "Predicted   1.0   2.0  3.0\n",
            "Actual                    \n",
            "1.0        2270     0    0\n",
            "2.0           0  1612    0\n",
            "3.0           1     0  572\n"
          ],
          "name": "stdout"
        }
      ]
    },
    {
      "cell_type": "code",
      "metadata": {
        "id": "Qe70kp518l6x",
        "colab_type": "code",
        "outputId": "0008798f-1ae0-4bc9-de25-c5fcc2d0d9eb",
        "colab": {
          "base_uri": "https://localhost:8080/",
          "height": 34
        }
      },
      "source": [
        "cv_results = model_selection.cross_val_score(rfcModel, x_test, y_test, cv=kfold)\n",
        "results.append(cv_results)\n",
        "msg = \"%s: %f (%f)\" % ('RFC', cv_results.mean(), cv_results.std())\n",
        "print(msg)"
      ],
      "execution_count": 0,
      "outputs": [
        {
          "output_type": "stream",
          "text": [
            "RFC: 0.962259 (0.051434)\n"
          ],
          "name": "stdout"
        }
      ]
    },
    {
      "cell_type": "markdown",
      "metadata": {
        "id": "liyLmygm8IZP",
        "colab_type": "text"
      },
      "source": [
        "### Comaprison of ensemble"
      ]
    },
    {
      "cell_type": "code",
      "metadata": {
        "id": "fIHd-MSd8Iwn",
        "colab_type": "code",
        "outputId": "abe890b5-e293-4610-d224-92d726cfcba2",
        "colab": {
          "base_uri": "https://localhost:8080/",
          "height": 294
        }
      },
      "source": [
        "names=['VOT','BC','RFC']\n",
        "\n",
        "fig = plt.figure()\n",
        "fig.suptitle('Algorithm Comparison')\n",
        "ax = fig.add_subplot(111)\n",
        "plt.boxplot(results)\n",
        "ax.set_xticklabels(names)\n",
        "plt.show()"
      ],
      "execution_count": 0,
      "outputs": [
        {
          "output_type": "display_data",
          "data": {
            "image/png": "[encoded data removed]",
            "text/plain": [
              "<Figure size 432x288 with 1 Axes>"
            ]
          },
          "metadata": {
            "tags": []
          }
        }
      ]
    },
    {
      "cell_type": "markdown",
      "metadata": {
        "id": "dauJpx55rPnn",
        "colab_type": "text"
      },
      "source": [
        "## Rule Based Models"
      ]
    },
    {
      "cell_type": "markdown",
      "metadata": {
        "id": "06IYZyRNrVSP",
        "colab_type": "text"
      },
      "source": [
        "*Apriori Algorithm*"
      ]
    },
    {
      "cell_type": "code",
      "metadata": {
        "id": "73Up8d5NrUNn",
        "colab_type": "code",
        "outputId": "246e93ac-6db0-4de5-885a-e12fed6d3931",
        "colab": {
          "base_uri": "https://localhost:8080/",
          "height": 34
        }
      },
      "source": [
        "pip install apyori"
      ],
      "execution_count": 0,
      "outputs": [
        {
          "output_type": "stream",
          "text": [
            "Requirement already satisfied: apyori in /usr/local/lib/python3.6/dist-packages (1.1.1)\n"
          ],
          "name": "stdout"
        }
      ]
    },
    {
      "cell_type": "code",
      "metadata": {
        "id": "ShyPH55iwCyu",
        "colab_type": "code",
        "colab": {}
      },
      "source": [
        "from apyori import apriori"
      ],
      "execution_count": 0,
      "outputs": []
    },
    {
      "cell_type": "code",
      "metadata": {
        "id": "VbPNeoFhwI9h",
        "colab_type": "code",
        "colab": {}
      },
      "source": [
        "records = [] \n",
        "for i in range(0, x_train.shape[0]):  \n",
        "    records.append([str(x_train.values[i,j]) for j in range(0, 7)])"
      ],
      "execution_count": 0,
      "outputs": []
    },
    {
      "cell_type": "code",
      "metadata": {
        "id": "lOLxphdMxrHn",
        "colab_type": "code",
        "colab": {}
      },
      "source": [
        "association_rules = apriori(records, min_support=0.0045, min_confidence=0.2, min_lift=3, min_length=2)  \n",
        "association_results = list(association_rules)  "
      ],
      "execution_count": 0,
      "outputs": []
    },
    {
      "cell_type": "code",
      "metadata": {
        "id": "ysebh3q2xth7",
        "colab_type": "code",
        "outputId": "b82868d5-a45f-43b2-c07d-b1b8007d5035",
        "colab": {
          "base_uri": "https://localhost:8080/",
          "height": 71
        }
      },
      "source": [
        "print(len(association_results))\n",
        "print(association_results[0])"
      ],
      "execution_count": 0,
      "outputs": [
        {
          "output_type": "stream",
          "text": [
            "43\n",
            "RelationRecord(items=frozenset({'37.774722', '-122.40676100000002'}), support=0.005443933101358177, ordered_statistics=[OrderedStatistic(items_base=frozenset({'-122.40676100000002'}), items_add=frozenset({'37.774722'}), confidence=1.0, lift=183.69072164948454), OrderedStatistic(items_base=frozenset({'37.774722'}), items_add=frozenset({'-122.40676100000002'}), confidence=1.0, lift=183.69072164948454)])\n"
          ],
          "name": "stdout"
        }
      ]
    },
    {
      "cell_type": "code",
      "metadata": {
        "id": "JKiTLvbcxz0k",
        "colab_type": "code",
        "outputId": "d2b85719-3bec-409e-d1b1-c32485ed20f6",
        "colab": {
          "base_uri": "https://localhost:8080/",
          "height": 3672
        }
      },
      "source": [
        "for item in association_results:\n",
        "\n",
        "    # first index of the inner list\n",
        "    # Contains base item and add item\n",
        "    pair = item[0] \n",
        "    items = [x for x in pair]\n",
        "    print(\"Rule: \" + items[0] + \" -> \" + items[1])\n",
        "\n",
        "    #second index of the inner list\n",
        "    print(\"Support: \" + str(item[1]))\n",
        "\n",
        "    #third index of the list located at 0th\n",
        "    #of the third index of the inner list\n",
        "\n",
        "    print(\"Confidence: \" + str(item[2][0][2]))\n",
        "    print(\"Lift: \" + str(item[2][0][3]))\n",
        "    print(\"=====================================\")"
      ],
      "execution_count": 0,
      "outputs": [
        {
          "output_type": "stream",
          "text": [
            "Rule: 37.774722 -> -122.40676100000002\n",
            "Support: 0.005443933101358177\n",
            "Confidence: 1.0\n",
            "Lift: 183.69072164948454\n",
            "=====================================\n",
            "Rule: 37.784848 -> -122.406892\n",
            "Support: 0.005668425188012123\n",
            "Confidence: 1.0\n",
            "Lift: 176.41584158415841\n",
            "=====================================\n",
            "Rule: 37.784317 -> -122.40756299999998\n",
            "Support: 0.006229655404646986\n",
            "Confidence: 1.0\n",
            "Lift: 160.52252252252254\n",
            "=====================================\n",
            "Rule: -122.41018899999999 -> 37.808240000000005\n",
            "Support: 0.007464361881243686\n",
            "Confidence: 1.0\n",
            "Lift: 133.9699248120301\n",
            "=====================================\n",
            "Rule: -122.48591 -> 37.758941\n",
            "Support: 0.004658210798069368\n",
            "Confidence: 1.0\n",
            "Lift: 214.67469879518075\n",
            "=====================================\n",
            "Rule: 103103.0 -> 3.0\n",
            "Support: 0.04091368279268156\n",
            "Confidence: 1.0\n",
            "Lift: 3.3373290878441657\n",
            "=====================================\n",
            "Rule: 103105.0 -> 3.0\n",
            "Support: 0.020765518015489953\n",
            "Confidence: 1.0\n",
            "Lift: 3.3373290878441657\n",
            "=====================================\n",
            "Rule: 103116.0 -> 3.0\n",
            "Support: 0.023066561903692894\n",
            "Confidence: 1.0\n",
            "Lift: 3.3373290878441657\n",
            "=====================================\n",
            "Rule: 103119.0 -> 4.0\n",
            "Support: 0.06027612526658435\n",
            "Confidence: 1.0\n",
            "Lift: 6.4348140122788005\n",
            "=====================================\n",
            "Rule: 103120.0 -> 3.0\n",
            "Support: 0.06644965764956785\n",
            "Confidence: 1.0\n",
            "Lift: 3.3373290878441657\n",
            "=====================================\n",
            "Rule: 4.0 -> 103129.0\n",
            "Support: 0.017005275564036366\n",
            "Confidence: 1.0\n",
            "Lift: 6.4348140122788005\n",
            "=====================================\n",
            "Rule: 103132.0 -> 3.0\n",
            "Support: 0.018464474127287012\n",
            "Confidence: 1.0\n",
            "Lift: 3.3373290878441657\n",
            "=====================================\n",
            "Rule: 103138.0 -> 3.0\n",
            "Support: 0.014030755415871591\n",
            "Confidence: 1.0\n",
            "Lift: 3.3373290878441657\n",
            "=====================================\n",
            "Rule: 3.0 -> 103139.0\n",
            "Support: 0.04388820294084633\n",
            "Confidence: 1.0\n",
            "Lift: 3.3373290878441657\n",
            "=====================================\n",
            "Rule: 4.0 -> 103143.0\n",
            "Support: 0.010326635986081491\n",
            "Confidence: 1.0\n",
            "Lift: 6.4348140122788005\n",
            "=====================================\n",
            "Rule: 103144.0 -> 2.0\n",
            "Support: 0.06768436412616455\n",
            "Confidence: 1.0\n",
            "Lift: 6.64107342527022\n",
            "=====================================\n",
            "Rule: 103145.0 -> 3.0\n",
            "Support: 0.02267370075204849\n",
            "Confidence: 1.0\n",
            "Lift: 3.3373290878441657\n",
            "=====================================\n",
            "Rule: 4.0 -> 103147.0\n",
            "Support: 0.011954203614322595\n",
            "Confidence: 1.0\n",
            "Lift: 6.4348140122788005\n",
            "=====================================\n",
            "Rule: 4.0 -> 103148.0\n",
            "Support: 0.009148052531148277\n",
            "Confidence: 1.0\n",
            "Lift: 6.4348140122788005\n",
            "=====================================\n",
            "Rule: 103150.0 -> 4.0\n",
            "Support: 0.018239982040633068\n",
            "Confidence: 1.0\n",
            "Lift: 6.4348140122788005\n",
            "=====================================\n",
            "Rule: 103153.0 -> 3.0\n",
            "Support: 0.006734762599618364\n",
            "Confidence: 1.0\n",
            "Lift: 3.3373290878441657\n",
            "=====================================\n",
            "Rule: 2.0 -> 103156.0\n",
            "Support: 0.019699180603883714\n",
            "Confidence: 1.0\n",
            "Lift: 6.64107342527022\n",
            "=====================================\n",
            "Rule: 2.0 -> 103157.0\n",
            "Support: 0.03041867774160961\n",
            "Confidence: 1.0\n",
            "Lift: 6.64107342527022\n",
            "=====================================\n",
            "Rule: 94.0 -> 103154.0\n",
            "Support: 0.010382759007744977\n",
            "Confidence: 0.30833333333333335\n",
            "Lift: 3.103888888888889\n",
            "=====================================\n",
            "Rule: 103154.0 -> 1.0\n",
            "Support: 0.009821528791110113\n",
            "Confidence: 0.3130590339892665\n",
            "Lift: 3.151460942158616\n",
            "=====================================\n",
            "Rule: 98.0 -> 103154.0\n",
            "Support: 0.005612302166348636\n",
            "Confidence: 0.46082949308755755\n",
            "Lift: 4.639016897081413\n",
            "=====================================\n",
            "Rule: 87.0 -> 103103.0\n",
            "Support: 0.004770456841396341\n",
            "Confidence: 1.0\n",
            "Lift: 3.3373290878441657\n",
            "=====================================\n",
            "Rule: 103119.0 -> 86.0\n",
            "Support: 0.004994948928050286\n",
            "Confidence: 1.0\n",
            "Lift: 6.4348140122788005\n",
            "=====================================\n",
            "Rule: 103119.0 -> 4.0\n",
            "Support: 0.005724548209675609\n",
            "Confidence: 1.0\n",
            "Lift: 6.4348140122788005\n",
            "=====================================\n",
            "Rule: 90.0 -> 103119.0\n",
            "Support: 0.007295992816253227\n",
            "Confidence: 1.0\n",
            "Lift: 6.4348140122788005\n",
            "=====================================\n",
            "Rule: 103119.0 -> 92.0\n",
            "Support: 0.005836794253002582\n",
            "Confidence: 1.0\n",
            "Lift: 6.4348140122788005\n",
            "=====================================\n",
            "Rule: 103120.0 -> 86.0\n",
            "Support: 0.005949040296329555\n",
            "Confidence: 1.0\n",
            "Lift: 3.3373290878441657\n",
            "=====================================\n",
            "Rule: 103120.0 -> 88.0\n",
            "Support: 0.006734762599618364\n",
            "Confidence: 1.0\n",
            "Lift: 3.3373290878441657\n",
            "=====================================\n",
            "Rule: 90.0 -> 103120.0\n",
            "Support: 0.01094398922437984\n",
            "Confidence: 1.0\n",
            "Lift: 3.3373290878441657\n",
            "=====================================\n",
            "Rule: 92.0 -> 103120.0\n",
            "Support: 0.008418453249522954\n",
            "Confidence: 1.0\n",
            "Lift: 3.3373290878441657\n",
            "=====================================\n",
            "Rule: 94.0 -> 103120.0\n",
            "Support: 0.004770456841396341\n",
            "Confidence: 1.0\n",
            "Lift: 3.3373290878441657\n",
            "=====================================\n",
            "Rule: 96.0 -> 103120.0\n",
            "Support: 0.0049388259063868\n",
            "Confidence: 1.0\n",
            "Lift: 3.3373290878441657\n",
            "=====================================\n",
            "Rule: 90.0 -> 3.0\n",
            "Support: 0.005219441014704232\n",
            "Confidence: 1.0\n",
            "Lift: 3.3373290878441657\n",
            "=====================================\n",
            "Rule: 103144.0 -> 2.0\n",
            "Support: 0.004545964754742396\n",
            "Confidence: 1.0\n",
            "Lift: 6.64107342527022\n",
            "=====================================\n",
            "Rule: 90.0 -> 103144.0\n",
            "Support: 0.007520484902907173\n",
            "Confidence: 1.0\n",
            "Lift: 6.64107342527022\n",
            "=====================================\n",
            "Rule: 103144.0 -> 2.0\n",
            "Support: 0.006510270512964418\n",
            "Confidence: 1.0\n",
            "Lift: 6.64107342527022\n",
            "=====================================\n",
            "Rule: 94.0 -> 103144.0\n",
            "Support: 0.007239869794589741\n",
            "Confidence: 1.0\n",
            "Lift: 6.64107342527022\n",
            "=====================================\n",
            "Rule: 103144.0 -> 2.0\n",
            "Support: 0.005387810079694691\n",
            "Confidence: 1.0\n",
            "Lift: 6.64107342527022\n",
            "=====================================\n"
          ],
          "name": "stdout"
        }
      ]
    }
  ]
}